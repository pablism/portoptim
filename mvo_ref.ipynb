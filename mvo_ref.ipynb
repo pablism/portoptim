{
 "cells": [
  {
   "cell_type": "code",
   "execution_count": 2,
   "id": "936a145c",
   "metadata": {},
   "outputs": [],
   "source": [
    "import pandas as pd\n",
    "import numpy as np\n",
    "from scipy.optimize import minimize\n",
    "from itertools import product\n",
    "from numpy.linalg import cholesky, inv\n",
    "import plotly.graph_objs as go\n",
    "import plotly.offline as po"
   ]
  },
  {
   "cell_type": "code",
   "execution_count": 10,
   "id": "4d92c7d9",
   "metadata": {},
   "outputs": [],
   "source": [
    "df =[]\n",
    "for c in ['USDCOP','SPX','USTTEN','XAU','EEM']:\n",
    "    df.append(pd.read_csv(f'{c}_prob.csv',index_col=0))\n",
    "\n",
    "df = pd.concat(df,axis=1)\n",
    "df.columns = ['USDCOP','SPX','USTTEN','XAU','EEM']\n",
    "df.to_csv('probs.csv')"
   ]
  },
  {
   "cell_type": "code",
   "execution_count": 31,
   "id": "439bf096",
   "metadata": {},
   "outputs": [],
   "source": [
    "r_ = pd.read_csv('m_returns.csv',index_col=0)\n",
    "m_ = r_.loc[:'2020',:].add(1).apply(np.log).mean().mul(12)\n",
    "corr_ = r_.loc[:'2020',:].add(1).apply(np.log).corr()\n",
    "vol_ = r_.loc[:'2020',:].add(1).apply(np.log).std().mul(np.sqrt(12))"
   ]
  },
  {
   "cell_type": "code",
   "execution_count": 30,
   "id": "aef6a251",
   "metadata": {},
   "outputs": [],
   "source": [
    "prs = pd.read_csv('probs.csv',index_col=0)\n"
   ]
  },
  {
   "cell_type": "code",
   "execution_count": 45,
   "id": "ddbe3cf2",
   "metadata": {},
   "outputs": [],
   "source": [
    "\n",
    "expret = [5,8,12,15]\n",
    "expvol = [3,7,12,18]\n",
    "corr = pd.DataFrame([[1,0.5,0.1,-0.6],[0.5,1.0,0.2,0.1],[0.1,0.2,1.0,0.5],[-0.6,0.1,0.5,1.0]],columns=expvol,index=expvol)\n",
    "covar = corr.copy()\n",
    "for i,j in product(expvol,repeat=2):\n",
    "    covar.loc[i,j] = corr.loc[i,j]*i*j\n",
    "\n",
    "\n",
    "    \n",
    "x0 = [0.25,0.25,0.25,0.25]\n",
    "bnds = ((0, 1), (0, 1),(0, 1),(-0.5, 1.5))\n",
    "\n",
    "#minimize variance for each level of return\n",
    "def por_var(x):\n",
    "    return np.dot(np.matmul(x,covar),x)\n",
    "def w(x):\n",
    "    return np.sum(x[:3])-1\n",
    "\n",
    "eff={}\n",
    "ws={}\n",
    "for i in range(min(expret)*2,max(expret)*2+1):\n",
    "    r = i/2\n",
    "\n",
    "    def port_ret(x):\n",
    "        return np.dot(x,expret)-r\n",
    "    cons= [{'type': 'eq', 'fun': port_ret},{'type': 'eq', 'fun': w}]\n",
    "    res = minimize(por_var,x0,bounds=bnds,constraints=cons)\n",
    "    eff[r] = np.sqrt(por_var(res.x))\n",
    "    ws[r] = res.x\n",
    "\n",
    "eff = pd.Series(eff)\n",
    "\n",
    "\n",
    "\n"
   ]
  },
  {
   "cell_type": "code",
   "execution_count": 120,
   "id": "cfb8a032",
   "metadata": {},
   "outputs": [],
   "source": [
    "#maximize return for each level of variance \n",
    "cons= [{'type': 'eq', 'fun': w}] #constraints for global minimum variance portfolio\n",
    "gmvp = minimize(por_var,x0,bounds=bnds,constraints=cons) # weights of GMVP\n",
    "min_v = np.sqrt(por_var(gmvp.x)) # minimum volatility possible\n",
    "max_v = np.max(expvol)\n",
    "\n",
    "\n",
    "def mvo(rr,covar):\n",
    "    eff_v={}\n",
    "    eff_x={}\n",
    "    for q in range(int(np.ceil(min_v)),max_v+1,3):\n",
    "        def varp(x):\n",
    "            return np.dot(np.matmul(x,covar),x)-q**2\n",
    "        def rfun(x):\n",
    "            return -np.dot(x,rr)\n",
    "        cons  = [{'type': 'eq', 'fun': varp},{'type': 'eq', 'fun': w}]\n",
    "        res = minimize(rfun,x0,bounds=bnds,constraints=cons)\n",
    "\n",
    "        eff_v[q] = -rfun(res.x)\n",
    "        eff_x[q] = res.x\n",
    "\n",
    "    return pd.Series(eff_v),pd.DataFrame(eff_x)\n",
    "\n",
    "eff_v,xxx= mvo(expret,covar)"
   ]
  },
  {
   "cell_type": "code",
   "execution_count": 121,
   "id": "1093129c",
   "metadata": {},
   "outputs": [
    {
     "data": {
      "text/html": [
       "        <script type=\"text/javascript\">\n",
       "        window.PlotlyConfig = {MathJaxConfig: 'local'};\n",
       "        if (window.MathJax && window.MathJax.Hub && window.MathJax.Hub.Config) {window.MathJax.Hub.Config({SVG: {font: \"STIX-Web\"}});}\n",
       "        if (typeof require !== 'undefined') {\n",
       "        require.undef(\"plotly\");\n",
       "        requirejs.config({\n",
       "            paths: {\n",
       "                'plotly': ['https://cdn.plot.ly/plotly-2.27.0.min']\n",
       "            }\n",
       "        });\n",
       "        require(['plotly'], function(Plotly) {\n",
       "            window._Plotly = Plotly;\n",
       "        });\n",
       "        }\n",
       "        </script>\n",
       "        "
      ]
     },
     "metadata": {},
     "output_type": "display_data"
    },
    {
     "data": {
      "application/vnd.plotly.v1+json": {
       "config": {
        "linkText": "Export to plot.ly",
        "plotlyServerURL": "https://plot.ly",
        "showLink": false
       },
       "data": [
        {
         "line": {
          "color": "dodgerblue"
         },
         "marker": {
          "color": "blue",
          "size": 6
         },
         "mode": "lines+markers",
         "type": "scatter",
         "x": [
          2.4738633753709802,
          2.4000000000173674,
          2.473863375375825,
          2.683281573023276,
          3.0000000000193987,
          3.3941125497535722,
          3.8418745424659058,
          4.326661530558785,
          4.837354648983056,
          5.366563146022736,
          5.909314681087113,
          6.461326172588029,
          7.0192823997098355,
          7.581863607594258,
          8.148111876939547,
          8.71731262628903,
          9.288923107760903,
          9.862524359084434,
          10.437788165013488
         ],
         "y": [
          6,
          6.5,
          7,
          7.5,
          8,
          8.5,
          9,
          9.5,
          10,
          10.5,
          11,
          11.5,
          12,
          12.5,
          13,
          13.5,
          14,
          14.5,
          15
         ]
        },
        {
         "line": {
          "color": "purple"
         },
         "marker": {
          "color": "purple",
          "size": 6
         },
         "mode": "lines+markers",
         "type": "scatter",
         "x": [
          3,
          6,
          9,
          12,
          15,
          18
         ],
         "y": [
          8.000000010095341,
          11.082581403813306,
          13.74751121135482,
          16.35221809622986,
          18.936450959675277,
          21.512563023722308
         ]
        },
        {
         "marker": {
          "color": "red",
          "size": 7
         },
         "mode": "markers",
         "opacity": 0.7,
         "type": "scatter",
         "x": [
          3,
          7,
          12,
          18
         ],
         "y": [
          5,
          8,
          12,
          15
         ]
        }
       ],
       "layout": {
        "annotations": [
         {
          "font": {
           "color": "blue",
           "size": 8
          },
          "showarrow": false,
          "text": "(2.5,6.0)",
          "x": 3.9738633753709802,
          "y": 6
         },
         {
          "font": {
           "color": "blue",
           "size": 8
          },
          "showarrow": false,
          "text": "(2.4,6.5)",
          "x": 3.9000000000173674,
          "y": 6.5
         },
         {
          "font": {
           "color": "blue",
           "size": 8
          },
          "showarrow": false,
          "text": "(2.5,7.0)",
          "x": 3.973863375375825,
          "y": 7
         },
         {
          "font": {
           "color": "blue",
           "size": 8
          },
          "showarrow": false,
          "text": "(2.7,7.5)",
          "x": 4.183281573023276,
          "y": 7.5
         },
         {
          "font": {
           "color": "blue",
           "size": 8
          },
          "showarrow": false,
          "text": "(3.0,8.0)",
          "x": 4.500000000019399,
          "y": 8
         },
         {
          "font": {
           "color": "blue",
           "size": 8
          },
          "showarrow": false,
          "text": "(3.4,8.5)",
          "x": 4.894112549753572,
          "y": 8.5
         },
         {
          "font": {
           "color": "blue",
           "size": 8
          },
          "showarrow": false,
          "text": "(3.8,9.0)",
          "x": 5.341874542465906,
          "y": 9
         },
         {
          "font": {
           "color": "blue",
           "size": 8
          },
          "showarrow": false,
          "text": "(4.3,9.5)",
          "x": 5.826661530558785,
          "y": 9.5
         },
         {
          "font": {
           "color": "blue",
           "size": 8
          },
          "showarrow": false,
          "text": "(4.8,10.0)",
          "x": 6.337354648983056,
          "y": 10
         },
         {
          "font": {
           "color": "blue",
           "size": 8
          },
          "showarrow": false,
          "text": "(5.4,10.5)",
          "x": 6.866563146022736,
          "y": 10.5
         },
         {
          "font": {
           "color": "blue",
           "size": 8
          },
          "showarrow": false,
          "text": "(5.9,11.0)",
          "x": 7.409314681087113,
          "y": 11
         },
         {
          "font": {
           "color": "blue",
           "size": 8
          },
          "showarrow": false,
          "text": "(6.5,11.5)",
          "x": 7.961326172588029,
          "y": 11.5
         },
         {
          "font": {
           "color": "blue",
           "size": 8
          },
          "showarrow": false,
          "text": "(7.0,12.0)",
          "x": 8.519282399709835,
          "y": 12
         },
         {
          "font": {
           "color": "blue",
           "size": 8
          },
          "showarrow": false,
          "text": "(7.6,12.5)",
          "x": 9.081863607594258,
          "y": 12.5
         },
         {
          "font": {
           "color": "blue",
           "size": 8
          },
          "showarrow": false,
          "text": "(8.1,13.0)",
          "x": 9.648111876939547,
          "y": 13
         },
         {
          "font": {
           "color": "blue",
           "size": 8
          },
          "showarrow": false,
          "text": "(8.7,13.5)",
          "x": 10.21731262628903,
          "y": 13.5
         },
         {
          "font": {
           "color": "blue",
           "size": 8
          },
          "showarrow": false,
          "text": "(9.3,14.0)",
          "x": 10.788923107760903,
          "y": 14
         },
         {
          "font": {
           "color": "blue",
           "size": 8
          },
          "showarrow": false,
          "text": "(9.9,14.5)",
          "x": 11.362524359084434,
          "y": 14.5
         },
         {
          "font": {
           "color": "blue",
           "size": 8
          },
          "showarrow": false,
          "text": "(10.4,15.0)",
          "x": 11.937788165013488,
          "y": 15
         }
        ],
        "height": 400,
        "margin": {
         "b": 30,
         "l": 50,
         "r": 20,
         "t": 50
        },
        "showlegend": false,
        "template": {
         "data": {
          "bar": [
           {
            "error_x": {
             "color": "#2a3f5f"
            },
            "error_y": {
             "color": "#2a3f5f"
            },
            "marker": {
             "line": {
              "color": "white",
              "width": 0.5
             },
             "pattern": {
              "fillmode": "overlay",
              "size": 10,
              "solidity": 0.2
             }
            },
            "type": "bar"
           }
          ],
          "barpolar": [
           {
            "marker": {
             "line": {
              "color": "white",
              "width": 0.5
             },
             "pattern": {
              "fillmode": "overlay",
              "size": 10,
              "solidity": 0.2
             }
            },
            "type": "barpolar"
           }
          ],
          "carpet": [
           {
            "aaxis": {
             "endlinecolor": "#2a3f5f",
             "gridcolor": "#C8D4E3",
             "linecolor": "#C8D4E3",
             "minorgridcolor": "#C8D4E3",
             "startlinecolor": "#2a3f5f"
            },
            "baxis": {
             "endlinecolor": "#2a3f5f",
             "gridcolor": "#C8D4E3",
             "linecolor": "#C8D4E3",
             "minorgridcolor": "#C8D4E3",
             "startlinecolor": "#2a3f5f"
            },
            "type": "carpet"
           }
          ],
          "choropleth": [
           {
            "colorbar": {
             "outlinewidth": 0,
             "ticks": ""
            },
            "type": "choropleth"
           }
          ],
          "contour": [
           {
            "colorbar": {
             "outlinewidth": 0,
             "ticks": ""
            },
            "colorscale": [
             [
              0,
              "#0d0887"
             ],
             [
              0.1111111111111111,
              "#46039f"
             ],
             [
              0.2222222222222222,
              "#7201a8"
             ],
             [
              0.3333333333333333,
              "#9c179e"
             ],
             [
              0.4444444444444444,
              "#bd3786"
             ],
             [
              0.5555555555555556,
              "#d8576b"
             ],
             [
              0.6666666666666666,
              "#ed7953"
             ],
             [
              0.7777777777777778,
              "#fb9f3a"
             ],
             [
              0.8888888888888888,
              "#fdca26"
             ],
             [
              1,
              "#f0f921"
             ]
            ],
            "type": "contour"
           }
          ],
          "contourcarpet": [
           {
            "colorbar": {
             "outlinewidth": 0,
             "ticks": ""
            },
            "type": "contourcarpet"
           }
          ],
          "heatmap": [
           {
            "colorbar": {
             "outlinewidth": 0,
             "ticks": ""
            },
            "colorscale": [
             [
              0,
              "#0d0887"
             ],
             [
              0.1111111111111111,
              "#46039f"
             ],
             [
              0.2222222222222222,
              "#7201a8"
             ],
             [
              0.3333333333333333,
              "#9c179e"
             ],
             [
              0.4444444444444444,
              "#bd3786"
             ],
             [
              0.5555555555555556,
              "#d8576b"
             ],
             [
              0.6666666666666666,
              "#ed7953"
             ],
             [
              0.7777777777777778,
              "#fb9f3a"
             ],
             [
              0.8888888888888888,
              "#fdca26"
             ],
             [
              1,
              "#f0f921"
             ]
            ],
            "type": "heatmap"
           }
          ],
          "heatmapgl": [
           {
            "colorbar": {
             "outlinewidth": 0,
             "ticks": ""
            },
            "colorscale": [
             [
              0,
              "#0d0887"
             ],
             [
              0.1111111111111111,
              "#46039f"
             ],
             [
              0.2222222222222222,
              "#7201a8"
             ],
             [
              0.3333333333333333,
              "#9c179e"
             ],
             [
              0.4444444444444444,
              "#bd3786"
             ],
             [
              0.5555555555555556,
              "#d8576b"
             ],
             [
              0.6666666666666666,
              "#ed7953"
             ],
             [
              0.7777777777777778,
              "#fb9f3a"
             ],
             [
              0.8888888888888888,
              "#fdca26"
             ],
             [
              1,
              "#f0f921"
             ]
            ],
            "type": "heatmapgl"
           }
          ],
          "histogram": [
           {
            "marker": {
             "pattern": {
              "fillmode": "overlay",
              "size": 10,
              "solidity": 0.2
             }
            },
            "type": "histogram"
           }
          ],
          "histogram2d": [
           {
            "colorbar": {
             "outlinewidth": 0,
             "ticks": ""
            },
            "colorscale": [
             [
              0,
              "#0d0887"
             ],
             [
              0.1111111111111111,
              "#46039f"
             ],
             [
              0.2222222222222222,
              "#7201a8"
             ],
             [
              0.3333333333333333,
              "#9c179e"
             ],
             [
              0.4444444444444444,
              "#bd3786"
             ],
             [
              0.5555555555555556,
              "#d8576b"
             ],
             [
              0.6666666666666666,
              "#ed7953"
             ],
             [
              0.7777777777777778,
              "#fb9f3a"
             ],
             [
              0.8888888888888888,
              "#fdca26"
             ],
             [
              1,
              "#f0f921"
             ]
            ],
            "type": "histogram2d"
           }
          ],
          "histogram2dcontour": [
           {
            "colorbar": {
             "outlinewidth": 0,
             "ticks": ""
            },
            "colorscale": [
             [
              0,
              "#0d0887"
             ],
             [
              0.1111111111111111,
              "#46039f"
             ],
             [
              0.2222222222222222,
              "#7201a8"
             ],
             [
              0.3333333333333333,
              "#9c179e"
             ],
             [
              0.4444444444444444,
              "#bd3786"
             ],
             [
              0.5555555555555556,
              "#d8576b"
             ],
             [
              0.6666666666666666,
              "#ed7953"
             ],
             [
              0.7777777777777778,
              "#fb9f3a"
             ],
             [
              0.8888888888888888,
              "#fdca26"
             ],
             [
              1,
              "#f0f921"
             ]
            ],
            "type": "histogram2dcontour"
           }
          ],
          "mesh3d": [
           {
            "colorbar": {
             "outlinewidth": 0,
             "ticks": ""
            },
            "type": "mesh3d"
           }
          ],
          "parcoords": [
           {
            "line": {
             "colorbar": {
              "outlinewidth": 0,
              "ticks": ""
             }
            },
            "type": "parcoords"
           }
          ],
          "pie": [
           {
            "automargin": true,
            "type": "pie"
           }
          ],
          "scatter": [
           {
            "fillpattern": {
             "fillmode": "overlay",
             "size": 10,
             "solidity": 0.2
            },
            "type": "scatter"
           }
          ],
          "scatter3d": [
           {
            "line": {
             "colorbar": {
              "outlinewidth": 0,
              "ticks": ""
             }
            },
            "marker": {
             "colorbar": {
              "outlinewidth": 0,
              "ticks": ""
             }
            },
            "type": "scatter3d"
           }
          ],
          "scattercarpet": [
           {
            "marker": {
             "colorbar": {
              "outlinewidth": 0,
              "ticks": ""
             }
            },
            "type": "scattercarpet"
           }
          ],
          "scattergeo": [
           {
            "marker": {
             "colorbar": {
              "outlinewidth": 0,
              "ticks": ""
             }
            },
            "type": "scattergeo"
           }
          ],
          "scattergl": [
           {
            "marker": {
             "colorbar": {
              "outlinewidth": 0,
              "ticks": ""
             }
            },
            "type": "scattergl"
           }
          ],
          "scattermapbox": [
           {
            "marker": {
             "colorbar": {
              "outlinewidth": 0,
              "ticks": ""
             }
            },
            "type": "scattermapbox"
           }
          ],
          "scatterpolar": [
           {
            "marker": {
             "colorbar": {
              "outlinewidth": 0,
              "ticks": ""
             }
            },
            "type": "scatterpolar"
           }
          ],
          "scatterpolargl": [
           {
            "marker": {
             "colorbar": {
              "outlinewidth": 0,
              "ticks": ""
             }
            },
            "type": "scatterpolargl"
           }
          ],
          "scatterternary": [
           {
            "marker": {
             "colorbar": {
              "outlinewidth": 0,
              "ticks": ""
             }
            },
            "type": "scatterternary"
           }
          ],
          "surface": [
           {
            "colorbar": {
             "outlinewidth": 0,
             "ticks": ""
            },
            "colorscale": [
             [
              0,
              "#0d0887"
             ],
             [
              0.1111111111111111,
              "#46039f"
             ],
             [
              0.2222222222222222,
              "#7201a8"
             ],
             [
              0.3333333333333333,
              "#9c179e"
             ],
             [
              0.4444444444444444,
              "#bd3786"
             ],
             [
              0.5555555555555556,
              "#d8576b"
             ],
             [
              0.6666666666666666,
              "#ed7953"
             ],
             [
              0.7777777777777778,
              "#fb9f3a"
             ],
             [
              0.8888888888888888,
              "#fdca26"
             ],
             [
              1,
              "#f0f921"
             ]
            ],
            "type": "surface"
           }
          ],
          "table": [
           {
            "cells": {
             "fill": {
              "color": "#EBF0F8"
             },
             "line": {
              "color": "white"
             }
            },
            "header": {
             "fill": {
              "color": "#C8D4E3"
             },
             "line": {
              "color": "white"
             }
            },
            "type": "table"
           }
          ]
         },
         "layout": {
          "annotationdefaults": {
           "arrowcolor": "#2a3f5f",
           "arrowhead": 0,
           "arrowwidth": 1
          },
          "autotypenumbers": "strict",
          "coloraxis": {
           "colorbar": {
            "outlinewidth": 0,
            "ticks": ""
           }
          },
          "colorscale": {
           "diverging": [
            [
             0,
             "#8e0152"
            ],
            [
             0.1,
             "#c51b7d"
            ],
            [
             0.2,
             "#de77ae"
            ],
            [
             0.3,
             "#f1b6da"
            ],
            [
             0.4,
             "#fde0ef"
            ],
            [
             0.5,
             "#f7f7f7"
            ],
            [
             0.6,
             "#e6f5d0"
            ],
            [
             0.7,
             "#b8e186"
            ],
            [
             0.8,
             "#7fbc41"
            ],
            [
             0.9,
             "#4d9221"
            ],
            [
             1,
             "#276419"
            ]
           ],
           "sequential": [
            [
             0,
             "#0d0887"
            ],
            [
             0.1111111111111111,
             "#46039f"
            ],
            [
             0.2222222222222222,
             "#7201a8"
            ],
            [
             0.3333333333333333,
             "#9c179e"
            ],
            [
             0.4444444444444444,
             "#bd3786"
            ],
            [
             0.5555555555555556,
             "#d8576b"
            ],
            [
             0.6666666666666666,
             "#ed7953"
            ],
            [
             0.7777777777777778,
             "#fb9f3a"
            ],
            [
             0.8888888888888888,
             "#fdca26"
            ],
            [
             1,
             "#f0f921"
            ]
           ],
           "sequentialminus": [
            [
             0,
             "#0d0887"
            ],
            [
             0.1111111111111111,
             "#46039f"
            ],
            [
             0.2222222222222222,
             "#7201a8"
            ],
            [
             0.3333333333333333,
             "#9c179e"
            ],
            [
             0.4444444444444444,
             "#bd3786"
            ],
            [
             0.5555555555555556,
             "#d8576b"
            ],
            [
             0.6666666666666666,
             "#ed7953"
            ],
            [
             0.7777777777777778,
             "#fb9f3a"
            ],
            [
             0.8888888888888888,
             "#fdca26"
            ],
            [
             1,
             "#f0f921"
            ]
           ]
          },
          "colorway": [
           "#636efa",
           "#EF553B",
           "#00cc96",
           "#ab63fa",
           "#FFA15A",
           "#19d3f3",
           "#FF6692",
           "#B6E880",
           "#FF97FF",
           "#FECB52"
          ],
          "font": {
           "color": "#2a3f5f"
          },
          "geo": {
           "bgcolor": "white",
           "lakecolor": "white",
           "landcolor": "white",
           "showlakes": true,
           "showland": true,
           "subunitcolor": "#C8D4E3"
          },
          "hoverlabel": {
           "align": "left"
          },
          "hovermode": "closest",
          "mapbox": {
           "style": "light"
          },
          "paper_bgcolor": "white",
          "plot_bgcolor": "white",
          "polar": {
           "angularaxis": {
            "gridcolor": "#EBF0F8",
            "linecolor": "#EBF0F8",
            "ticks": ""
           },
           "bgcolor": "white",
           "radialaxis": {
            "gridcolor": "#EBF0F8",
            "linecolor": "#EBF0F8",
            "ticks": ""
           }
          },
          "scene": {
           "xaxis": {
            "backgroundcolor": "white",
            "gridcolor": "#DFE8F3",
            "gridwidth": 2,
            "linecolor": "#EBF0F8",
            "showbackground": true,
            "ticks": "",
            "zerolinecolor": "#EBF0F8"
           },
           "yaxis": {
            "backgroundcolor": "white",
            "gridcolor": "#DFE8F3",
            "gridwidth": 2,
            "linecolor": "#EBF0F8",
            "showbackground": true,
            "ticks": "",
            "zerolinecolor": "#EBF0F8"
           },
           "zaxis": {
            "backgroundcolor": "white",
            "gridcolor": "#DFE8F3",
            "gridwidth": 2,
            "linecolor": "#EBF0F8",
            "showbackground": true,
            "ticks": "",
            "zerolinecolor": "#EBF0F8"
           }
          },
          "shapedefaults": {
           "line": {
            "color": "#2a3f5f"
           }
          },
          "ternary": {
           "aaxis": {
            "gridcolor": "#DFE8F3",
            "linecolor": "#A2B1C6",
            "ticks": ""
           },
           "baxis": {
            "gridcolor": "#DFE8F3",
            "linecolor": "#A2B1C6",
            "ticks": ""
           },
           "bgcolor": "white",
           "caxis": {
            "gridcolor": "#DFE8F3",
            "linecolor": "#A2B1C6",
            "ticks": ""
           }
          },
          "title": {
           "x": 0.05
          },
          "xaxis": {
           "automargin": true,
           "gridcolor": "#EBF0F8",
           "linecolor": "#EBF0F8",
           "ticks": "",
           "title": {
            "standoff": 15
           },
           "zerolinecolor": "#EBF0F8",
           "zerolinewidth": 2
          },
          "yaxis": {
           "automargin": true,
           "gridcolor": "#EBF0F8",
           "linecolor": "#EBF0F8",
           "ticks": "",
           "title": {
            "standoff": 15
           },
           "zerolinecolor": "#EBF0F8",
           "zerolinewidth": 2
          }
         }
        },
        "title": {
         "font": {
          "size": 10
         },
         "text": "<b>Efficient Frontier </b> ",
         "xanchor": "left"
        },
        "width": 550
       }
      },
      "text/html": [
       "<div>                            <div id=\"f1d70f66-58c9-4fc0-97a8-04832b381a22\" class=\"plotly-graph-div\" style=\"height:400px; width:550px;\"></div>            <script type=\"text/javascript\">                require([\"plotly\"], function(Plotly) {                    window.PLOTLYENV=window.PLOTLYENV || {};                                    if (document.getElementById(\"f1d70f66-58c9-4fc0-97a8-04832b381a22\")) {                    Plotly.newPlot(                        \"f1d70f66-58c9-4fc0-97a8-04832b381a22\",                        [{\"line\":{\"color\":\"dodgerblue\"},\"marker\":{\"color\":\"blue\",\"size\":6},\"mode\":\"lines+markers\",\"x\":[2.4738633753709802,2.4000000000173674,2.473863375375825,2.683281573023276,3.0000000000193987,3.3941125497535722,3.8418745424659058,4.326661530558785,4.837354648983056,5.366563146022736,5.909314681087113,6.461326172588029,7.0192823997098355,7.581863607594258,8.148111876939547,8.71731262628903,9.288923107760903,9.862524359084434,10.437788165013488],\"y\":[6.0,6.5,7.0,7.5,8.0,8.5,9.0,9.5,10.0,10.5,11.0,11.5,12.0,12.5,13.0,13.5,14.0,14.5,15.0],\"type\":\"scatter\"},{\"line\":{\"color\":\"purple\"},\"marker\":{\"color\":\"purple\",\"size\":6},\"mode\":\"lines+markers\",\"x\":[3,6,9,12,15,18],\"y\":[8.000000010095341,11.082581403813306,13.74751121135482,16.35221809622986,18.936450959675277,21.512563023722308],\"type\":\"scatter\"},{\"marker\":{\"color\":\"red\",\"size\":7},\"mode\":\"markers\",\"opacity\":0.7,\"x\":[3,7,12,18],\"y\":[5,8,12,15],\"type\":\"scatter\"}],                        {\"annotations\":[{\"font\":{\"color\":\"blue\",\"size\":8},\"showarrow\":false,\"text\":\"(2.5,6.0)\",\"x\":3.9738633753709802,\"y\":6.0},{\"font\":{\"color\":\"blue\",\"size\":8},\"showarrow\":false,\"text\":\"(2.4,6.5)\",\"x\":3.9000000000173674,\"y\":6.5},{\"font\":{\"color\":\"blue\",\"size\":8},\"showarrow\":false,\"text\":\"(2.5,7.0)\",\"x\":3.973863375375825,\"y\":7.0},{\"font\":{\"color\":\"blue\",\"size\":8},\"showarrow\":false,\"text\":\"(2.7,7.5)\",\"x\":4.183281573023276,\"y\":7.5},{\"font\":{\"color\":\"blue\",\"size\":8},\"showarrow\":false,\"text\":\"(3.0,8.0)\",\"x\":4.500000000019399,\"y\":8.0},{\"font\":{\"color\":\"blue\",\"size\":8},\"showarrow\":false,\"text\":\"(3.4,8.5)\",\"x\":4.894112549753572,\"y\":8.5},{\"font\":{\"color\":\"blue\",\"size\":8},\"showarrow\":false,\"text\":\"(3.8,9.0)\",\"x\":5.341874542465906,\"y\":9.0},{\"font\":{\"color\":\"blue\",\"size\":8},\"showarrow\":false,\"text\":\"(4.3,9.5)\",\"x\":5.826661530558785,\"y\":9.5},{\"font\":{\"color\":\"blue\",\"size\":8},\"showarrow\":false,\"text\":\"(4.8,10.0)\",\"x\":6.337354648983056,\"y\":10.0},{\"font\":{\"color\":\"blue\",\"size\":8},\"showarrow\":false,\"text\":\"(5.4,10.5)\",\"x\":6.866563146022736,\"y\":10.5},{\"font\":{\"color\":\"blue\",\"size\":8},\"showarrow\":false,\"text\":\"(5.9,11.0)\",\"x\":7.409314681087113,\"y\":11.0},{\"font\":{\"color\":\"blue\",\"size\":8},\"showarrow\":false,\"text\":\"(6.5,11.5)\",\"x\":7.961326172588029,\"y\":11.5},{\"font\":{\"color\":\"blue\",\"size\":8},\"showarrow\":false,\"text\":\"(7.0,12.0)\",\"x\":8.519282399709835,\"y\":12.0},{\"font\":{\"color\":\"blue\",\"size\":8},\"showarrow\":false,\"text\":\"(7.6,12.5)\",\"x\":9.081863607594258,\"y\":12.5},{\"font\":{\"color\":\"blue\",\"size\":8},\"showarrow\":false,\"text\":\"(8.1,13.0)\",\"x\":9.648111876939547,\"y\":13.0},{\"font\":{\"color\":\"blue\",\"size\":8},\"showarrow\":false,\"text\":\"(8.7,13.5)\",\"x\":10.21731262628903,\"y\":13.5},{\"font\":{\"color\":\"blue\",\"size\":8},\"showarrow\":false,\"text\":\"(9.3,14.0)\",\"x\":10.788923107760903,\"y\":14.0},{\"font\":{\"color\":\"blue\",\"size\":8},\"showarrow\":false,\"text\":\"(9.9,14.5)\",\"x\":11.362524359084434,\"y\":14.5},{\"font\":{\"color\":\"blue\",\"size\":8},\"showarrow\":false,\"text\":\"(10.4,15.0)\",\"x\":11.937788165013488,\"y\":15.0}],\"height\":400,\"margin\":{\"b\":30,\"l\":50,\"r\":20,\"t\":50},\"showlegend\":false,\"template\":{\"data\":{\"barpolar\":[{\"marker\":{\"line\":{\"color\":\"white\",\"width\":0.5},\"pattern\":{\"fillmode\":\"overlay\",\"size\":10,\"solidity\":0.2}},\"type\":\"barpolar\"}],\"bar\":[{\"error_x\":{\"color\":\"#2a3f5f\"},\"error_y\":{\"color\":\"#2a3f5f\"},\"marker\":{\"line\":{\"color\":\"white\",\"width\":0.5},\"pattern\":{\"fillmode\":\"overlay\",\"size\":10,\"solidity\":0.2}},\"type\":\"bar\"}],\"carpet\":[{\"aaxis\":{\"endlinecolor\":\"#2a3f5f\",\"gridcolor\":\"#C8D4E3\",\"linecolor\":\"#C8D4E3\",\"minorgridcolor\":\"#C8D4E3\",\"startlinecolor\":\"#2a3f5f\"},\"baxis\":{\"endlinecolor\":\"#2a3f5f\",\"gridcolor\":\"#C8D4E3\",\"linecolor\":\"#C8D4E3\",\"minorgridcolor\":\"#C8D4E3\",\"startlinecolor\":\"#2a3f5f\"},\"type\":\"carpet\"}],\"choropleth\":[{\"colorbar\":{\"outlinewidth\":0,\"ticks\":\"\"},\"type\":\"choropleth\"}],\"contourcarpet\":[{\"colorbar\":{\"outlinewidth\":0,\"ticks\":\"\"},\"type\":\"contourcarpet\"}],\"contour\":[{\"colorbar\":{\"outlinewidth\":0,\"ticks\":\"\"},\"colorscale\":[[0.0,\"#0d0887\"],[0.1111111111111111,\"#46039f\"],[0.2222222222222222,\"#7201a8\"],[0.3333333333333333,\"#9c179e\"],[0.4444444444444444,\"#bd3786\"],[0.5555555555555556,\"#d8576b\"],[0.6666666666666666,\"#ed7953\"],[0.7777777777777778,\"#fb9f3a\"],[0.8888888888888888,\"#fdca26\"],[1.0,\"#f0f921\"]],\"type\":\"contour\"}],\"heatmapgl\":[{\"colorbar\":{\"outlinewidth\":0,\"ticks\":\"\"},\"colorscale\":[[0.0,\"#0d0887\"],[0.1111111111111111,\"#46039f\"],[0.2222222222222222,\"#7201a8\"],[0.3333333333333333,\"#9c179e\"],[0.4444444444444444,\"#bd3786\"],[0.5555555555555556,\"#d8576b\"],[0.6666666666666666,\"#ed7953\"],[0.7777777777777778,\"#fb9f3a\"],[0.8888888888888888,\"#fdca26\"],[1.0,\"#f0f921\"]],\"type\":\"heatmapgl\"}],\"heatmap\":[{\"colorbar\":{\"outlinewidth\":0,\"ticks\":\"\"},\"colorscale\":[[0.0,\"#0d0887\"],[0.1111111111111111,\"#46039f\"],[0.2222222222222222,\"#7201a8\"],[0.3333333333333333,\"#9c179e\"],[0.4444444444444444,\"#bd3786\"],[0.5555555555555556,\"#d8576b\"],[0.6666666666666666,\"#ed7953\"],[0.7777777777777778,\"#fb9f3a\"],[0.8888888888888888,\"#fdca26\"],[1.0,\"#f0f921\"]],\"type\":\"heatmap\"}],\"histogram2dcontour\":[{\"colorbar\":{\"outlinewidth\":0,\"ticks\":\"\"},\"colorscale\":[[0.0,\"#0d0887\"],[0.1111111111111111,\"#46039f\"],[0.2222222222222222,\"#7201a8\"],[0.3333333333333333,\"#9c179e\"],[0.4444444444444444,\"#bd3786\"],[0.5555555555555556,\"#d8576b\"],[0.6666666666666666,\"#ed7953\"],[0.7777777777777778,\"#fb9f3a\"],[0.8888888888888888,\"#fdca26\"],[1.0,\"#f0f921\"]],\"type\":\"histogram2dcontour\"}],\"histogram2d\":[{\"colorbar\":{\"outlinewidth\":0,\"ticks\":\"\"},\"colorscale\":[[0.0,\"#0d0887\"],[0.1111111111111111,\"#46039f\"],[0.2222222222222222,\"#7201a8\"],[0.3333333333333333,\"#9c179e\"],[0.4444444444444444,\"#bd3786\"],[0.5555555555555556,\"#d8576b\"],[0.6666666666666666,\"#ed7953\"],[0.7777777777777778,\"#fb9f3a\"],[0.8888888888888888,\"#fdca26\"],[1.0,\"#f0f921\"]],\"type\":\"histogram2d\"}],\"histogram\":[{\"marker\":{\"pattern\":{\"fillmode\":\"overlay\",\"size\":10,\"solidity\":0.2}},\"type\":\"histogram\"}],\"mesh3d\":[{\"colorbar\":{\"outlinewidth\":0,\"ticks\":\"\"},\"type\":\"mesh3d\"}],\"parcoords\":[{\"line\":{\"colorbar\":{\"outlinewidth\":0,\"ticks\":\"\"}},\"type\":\"parcoords\"}],\"pie\":[{\"automargin\":true,\"type\":\"pie\"}],\"scatter3d\":[{\"line\":{\"colorbar\":{\"outlinewidth\":0,\"ticks\":\"\"}},\"marker\":{\"colorbar\":{\"outlinewidth\":0,\"ticks\":\"\"}},\"type\":\"scatter3d\"}],\"scattercarpet\":[{\"marker\":{\"colorbar\":{\"outlinewidth\":0,\"ticks\":\"\"}},\"type\":\"scattercarpet\"}],\"scattergeo\":[{\"marker\":{\"colorbar\":{\"outlinewidth\":0,\"ticks\":\"\"}},\"type\":\"scattergeo\"}],\"scattergl\":[{\"marker\":{\"colorbar\":{\"outlinewidth\":0,\"ticks\":\"\"}},\"type\":\"scattergl\"}],\"scattermapbox\":[{\"marker\":{\"colorbar\":{\"outlinewidth\":0,\"ticks\":\"\"}},\"type\":\"scattermapbox\"}],\"scatterpolargl\":[{\"marker\":{\"colorbar\":{\"outlinewidth\":0,\"ticks\":\"\"}},\"type\":\"scatterpolargl\"}],\"scatterpolar\":[{\"marker\":{\"colorbar\":{\"outlinewidth\":0,\"ticks\":\"\"}},\"type\":\"scatterpolar\"}],\"scatter\":[{\"fillpattern\":{\"fillmode\":\"overlay\",\"size\":10,\"solidity\":0.2},\"type\":\"scatter\"}],\"scatterternary\":[{\"marker\":{\"colorbar\":{\"outlinewidth\":0,\"ticks\":\"\"}},\"type\":\"scatterternary\"}],\"surface\":[{\"colorbar\":{\"outlinewidth\":0,\"ticks\":\"\"},\"colorscale\":[[0.0,\"#0d0887\"],[0.1111111111111111,\"#46039f\"],[0.2222222222222222,\"#7201a8\"],[0.3333333333333333,\"#9c179e\"],[0.4444444444444444,\"#bd3786\"],[0.5555555555555556,\"#d8576b\"],[0.6666666666666666,\"#ed7953\"],[0.7777777777777778,\"#fb9f3a\"],[0.8888888888888888,\"#fdca26\"],[1.0,\"#f0f921\"]],\"type\":\"surface\"}],\"table\":[{\"cells\":{\"fill\":{\"color\":\"#EBF0F8\"},\"line\":{\"color\":\"white\"}},\"header\":{\"fill\":{\"color\":\"#C8D4E3\"},\"line\":{\"color\":\"white\"}},\"type\":\"table\"}]},\"layout\":{\"annotationdefaults\":{\"arrowcolor\":\"#2a3f5f\",\"arrowhead\":0,\"arrowwidth\":1},\"autotypenumbers\":\"strict\",\"coloraxis\":{\"colorbar\":{\"outlinewidth\":0,\"ticks\":\"\"}},\"colorscale\":{\"diverging\":[[0,\"#8e0152\"],[0.1,\"#c51b7d\"],[0.2,\"#de77ae\"],[0.3,\"#f1b6da\"],[0.4,\"#fde0ef\"],[0.5,\"#f7f7f7\"],[0.6,\"#e6f5d0\"],[0.7,\"#b8e186\"],[0.8,\"#7fbc41\"],[0.9,\"#4d9221\"],[1,\"#276419\"]],\"sequential\":[[0.0,\"#0d0887\"],[0.1111111111111111,\"#46039f\"],[0.2222222222222222,\"#7201a8\"],[0.3333333333333333,\"#9c179e\"],[0.4444444444444444,\"#bd3786\"],[0.5555555555555556,\"#d8576b\"],[0.6666666666666666,\"#ed7953\"],[0.7777777777777778,\"#fb9f3a\"],[0.8888888888888888,\"#fdca26\"],[1.0,\"#f0f921\"]],\"sequentialminus\":[[0.0,\"#0d0887\"],[0.1111111111111111,\"#46039f\"],[0.2222222222222222,\"#7201a8\"],[0.3333333333333333,\"#9c179e\"],[0.4444444444444444,\"#bd3786\"],[0.5555555555555556,\"#d8576b\"],[0.6666666666666666,\"#ed7953\"],[0.7777777777777778,\"#fb9f3a\"],[0.8888888888888888,\"#fdca26\"],[1.0,\"#f0f921\"]]},\"colorway\":[\"#636efa\",\"#EF553B\",\"#00cc96\",\"#ab63fa\",\"#FFA15A\",\"#19d3f3\",\"#FF6692\",\"#B6E880\",\"#FF97FF\",\"#FECB52\"],\"font\":{\"color\":\"#2a3f5f\"},\"geo\":{\"bgcolor\":\"white\",\"lakecolor\":\"white\",\"landcolor\":\"white\",\"showlakes\":true,\"showland\":true,\"subunitcolor\":\"#C8D4E3\"},\"hoverlabel\":{\"align\":\"left\"},\"hovermode\":\"closest\",\"mapbox\":{\"style\":\"light\"},\"paper_bgcolor\":\"white\",\"plot_bgcolor\":\"white\",\"polar\":{\"angularaxis\":{\"gridcolor\":\"#EBF0F8\",\"linecolor\":\"#EBF0F8\",\"ticks\":\"\"},\"bgcolor\":\"white\",\"radialaxis\":{\"gridcolor\":\"#EBF0F8\",\"linecolor\":\"#EBF0F8\",\"ticks\":\"\"}},\"scene\":{\"xaxis\":{\"backgroundcolor\":\"white\",\"gridcolor\":\"#DFE8F3\",\"gridwidth\":2,\"linecolor\":\"#EBF0F8\",\"showbackground\":true,\"ticks\":\"\",\"zerolinecolor\":\"#EBF0F8\"},\"yaxis\":{\"backgroundcolor\":\"white\",\"gridcolor\":\"#DFE8F3\",\"gridwidth\":2,\"linecolor\":\"#EBF0F8\",\"showbackground\":true,\"ticks\":\"\",\"zerolinecolor\":\"#EBF0F8\"},\"zaxis\":{\"backgroundcolor\":\"white\",\"gridcolor\":\"#DFE8F3\",\"gridwidth\":2,\"linecolor\":\"#EBF0F8\",\"showbackground\":true,\"ticks\":\"\",\"zerolinecolor\":\"#EBF0F8\"}},\"shapedefaults\":{\"line\":{\"color\":\"#2a3f5f\"}},\"ternary\":{\"aaxis\":{\"gridcolor\":\"#DFE8F3\",\"linecolor\":\"#A2B1C6\",\"ticks\":\"\"},\"baxis\":{\"gridcolor\":\"#DFE8F3\",\"linecolor\":\"#A2B1C6\",\"ticks\":\"\"},\"bgcolor\":\"white\",\"caxis\":{\"gridcolor\":\"#DFE8F3\",\"linecolor\":\"#A2B1C6\",\"ticks\":\"\"}},\"title\":{\"x\":0.05},\"xaxis\":{\"automargin\":true,\"gridcolor\":\"#EBF0F8\",\"linecolor\":\"#EBF0F8\",\"ticks\":\"\",\"title\":{\"standoff\":15},\"zerolinecolor\":\"#EBF0F8\",\"zerolinewidth\":2},\"yaxis\":{\"automargin\":true,\"gridcolor\":\"#EBF0F8\",\"linecolor\":\"#EBF0F8\",\"ticks\":\"\",\"title\":{\"standoff\":15},\"zerolinecolor\":\"#EBF0F8\",\"zerolinewidth\":2}}},\"title\":{\"font\":{\"size\":10},\"text\":\"\\u003cb\\u003eEfficient Frontier \\u003c\\u002fb\\u003e \",\"xanchor\":\"left\"},\"width\":550},                        {\"responsive\": true}                    ).then(function(){\n",
       "                            \n",
       "var gd = document.getElementById('f1d70f66-58c9-4fc0-97a8-04832b381a22');\n",
       "var x = new MutationObserver(function (mutations, observer) {{\n",
       "        var display = window.getComputedStyle(gd).display;\n",
       "        if (!display || display === 'none') {{\n",
       "            console.log([gd, 'removed!']);\n",
       "            Plotly.purge(gd);\n",
       "            observer.disconnect();\n",
       "        }}\n",
       "}});\n",
       "\n",
       "// Listen for the removal of the full notebook cells\n",
       "var notebookContainer = gd.closest('#notebook-container');\n",
       "if (notebookContainer) {{\n",
       "    x.observe(notebookContainer, {childList: true});\n",
       "}}\n",
       "\n",
       "// Listen for the clearing of the current output cell\n",
       "var outputEl = gd.closest('.output');\n",
       "if (outputEl) {{\n",
       "    x.observe(outputEl, {childList: true});\n",
       "}}\n",
       "\n",
       "                        })                };                });            </script>        </div>"
      ]
     },
     "metadata": {},
     "output_type": "display_data"
    }
   ],
   "source": [
    "def scat(traces,annots=[]):\n",
    "  layout = go.Layout(width=550,height=400,margin=dict(l=50,r=20,b=30,t=50),template='plotly_white',\n",
    "                    annotations=annots,\n",
    "                    showlegend=False,\n",
    "                    title={'text':'<b>Efficient Frontier </b> ','xanchor':'left','font':{'size':10}},\n",
    "                  )\n",
    "  fig = go.Figure(data=traces, layout=layout)\n",
    "  po.init_notebook_mode(connected=True)\n",
    "  config = {'showLink':False}\n",
    "  po.iplot(fig,config=config)\n",
    "\n",
    "     \n",
    "\n",
    "traces=[]\n",
    "temp = eff.iloc[2:]\n",
    "traces.append(go.Scatter(x=temp,y=temp.index,mode='lines+markers',line={'color':'dodgerblue'},marker={'size':6,'color':'blue'}))\n",
    "traces.append(go.Scatter(x=eff_v.index,y=eff_v,mode='lines+markers',line={'color':'purple'},marker={'size':6,'color':'purple'}))\n",
    "traces.append(go.Scatter(x=expvol,y=expret,mode='markers',marker={'size':7,'color':'red'},opacity=0.7))\n",
    "annots = [{'x':temp.loc[i]+1.5,'y':i,'text':'('+str(temp.round(1).loc[i])+','+str(i)+')','showarrow':False,'font':{'size':8,'color':'blue'}} for i in temp.index]\n",
    "\n",
    "scat(traces,annots)\n"
   ]
  },
  {
   "cell_type": "code",
   "execution_count": 23,
   "id": "7de63b1e",
   "metadata": {},
   "outputs": [],
   "source": [
    "#Resample eficient frontier:\n",
    "# 1. 10k observations of uncorrelated random variables Z~N(0,1)\n",
    "# 2. chelosky decompose correlation matrix to generate correlated random variables by transforming Z. \n",
    "# 3. correlated returns rij =  Mui + Zij*voli for each asset class i for each iteration j.\n",
    "# 4. find eficient frontier at each iteration using correlated random returns found in 3. \n",
    "# 5. find the mean of the optimized weights at each pair r,vol on the EF. \n",
    "from numpy.linalg import cholesky\n",
    "n = 200\n",
    "C = cholesky(corr)\n",
    "Zu = np.random.normal(size=(len(expret),n))\n",
    "Zc = np.matmul(C,Zu).transpose()\n",
    "\n",
    "Mu = np.tile(expret,(n,1))\n",
    "S = np.tile(expvol,(n,1)) \n",
    "R = Mu + -(S**2/2)/100 +np.multiply(Zc,S)\n",
    "\n"
   ]
  },
  {
   "cell_type": "code",
   "execution_count": 24,
   "id": "108b5c02",
   "metadata": {},
   "outputs": [],
   "source": [
    "ref_=[]\n",
    "ws_=[]\n",
    "for i in R:\n",
    "    ri,wi =mvo(i)\n",
    "    ref_.append(ri)\n",
    "    ws_.append(wi)\n"
   ]
  },
  {
   "cell_type": "code",
   "execution_count": 59,
   "id": "32f679f6",
   "metadata": {},
   "outputs": [
    {
     "data": {
      "text/plain": [
       "0    0.228867\n",
       "1    0.146917\n",
       "2    0.149958\n",
       "3    0.474292\n",
       "dtype: float64"
      ]
     },
     "execution_count": 59,
     "metadata": {},
     "output_type": "execute_result"
    }
   ],
   "source": [
    "wsdf = pd.concat(ws_,axis=1).transpose()\n",
    "wsdf.round(2).mean()"
   ]
  },
  {
   "cell_type": "code",
   "execution_count": 52,
   "id": "f183a836",
   "metadata": {},
   "outputs": [
    {
     "data": {
      "text/html": [
       "        <script type=\"text/javascript\">\n",
       "        window.PlotlyConfig = {MathJaxConfig: 'local'};\n",
       "        if (window.MathJax && window.MathJax.Hub && window.MathJax.Hub.Config) {window.MathJax.Hub.Config({SVG: {font: \"STIX-Web\"}});}\n",
       "        if (typeof require !== 'undefined') {\n",
       "        require.undef(\"plotly\");\n",
       "        requirejs.config({\n",
       "            paths: {\n",
       "                'plotly': ['https://cdn.plot.ly/plotly-2.27.0.min']\n",
       "            }\n",
       "        });\n",
       "        require(['plotly'], function(Plotly) {\n",
       "            window._Plotly = Plotly;\n",
       "        });\n",
       "        }\n",
       "        </script>\n",
       "        "
      ]
     },
     "metadata": {},
     "output_type": "display_data"
    },
    {
     "data": {
      "application/vnd.plotly.v1+json": {
       "config": {
        "linkText": "Export to plot.ly",
        "plotlyServerURL": "https://plot.ly",
        "showLink": false
       },
       "data": [
        {
         "line": {
          "color": "purple"
         },
         "mode": "lines",
         "type": "scatter",
         "x": [
          3,
          6,
          9,
          12,
          15,
          18
         ],
         "y": [
          8.000000010095341,
          11.082581403813306,
          13.74751121135482,
          16.35221809622986,
          18.936450959675277,
          21.512563023722308
         ]
        },
        {
         "marker": {
          "color": "red",
          "size": 7
         },
         "mode": "markers",
         "opacity": 0.7,
         "type": "scatter",
         "x": [
          3,
          7,
          12,
          18
         ],
         "y": [
          5,
          8,
          12,
          15
         ]
        },
        {
         "line": {
          "color": "black"
         },
         "mode": "lines",
         "type": "scatter",
         "x": [
          3,
          6,
          9,
          12,
          15,
          18
         ],
         "y": [
          8.25630506375336,
          12.57020581453727,
          14.514516896501673,
          15.22863187036757,
          14.589354275449885,
          14.440778523988563
         ]
        },
        {
         "jitter": 0.2,
         "line": {
          "color": "gray",
          "width": 0.5
         },
         "marker": {
          "color": "black",
          "opacity": 0.4,
          "size": 2
         },
         "meanline": {
          "visible": true
         },
         "name": "3",
         "pointpos": -0.5,
         "points": "outliers",
         "side": "negative",
         "type": "violin",
         "y": [
          5.4054749156324,
          10.146134847530725,
          7.68625945277619,
          11.443183354172325,
          5.945030033687345,
          12.599223152851536,
          9.34651293548247,
          5.620769661675486,
          11.31814965135331,
          10.067616741176009,
          5.21861097461204,
          7.694436084521683,
          7.759217794334339,
          11.18128102294542,
          7.620214275253561,
          12.77589896066313,
          10.255329339094931,
          9.44269439268905,
          7.759803737441766,
          6.620745103731297,
          5.882825448292724,
          9.749636351923922,
          9.509430296455164,
          8.064395362645259,
          7.314934246829665,
          6.5789744850984215,
          13.407123521238546,
          9.684750024632466,
          11.97447157966031,
          5.089753289587459,
          9.768755050117724,
          7.261874005862157,
          5.679219419672969,
          15.560624285158228,
          8.167105945507751,
          8.298574338769049,
          13.262842042624097,
          5.730831699346404,
          6.666445666019227,
          6.590419963491329,
          6.819650032753654,
          6.231255143961357,
          10.503406823272933,
          7.940685677756054,
          1.022006469752709,
          10.801301598401206,
          4.338430495522953,
          5.827577873739507,
          8.643938118016234,
          6.2355946659875805,
          7.369810129558131,
          7.806048081839864,
          6.669550262938739,
          14.166377361050339,
          6.722054153996912,
          2.827861339032498,
          8.985968566897931,
          8.93529891468846,
          6.963003684396901,
          10.939835484908475,
          8.95018844457807,
          8.54811220370266,
          7.390923863186747,
          7.108678489286591,
          11.039218927087244,
          8.341826352195836,
          10.927595019474479,
          8.128542423949664,
          8.709459030652045,
          6.660673523817318,
          14.46343095978423,
          10.524609075406072,
          9.47270699308777,
          13.460665691259091,
          8.593502998725816,
          11.114067220398494,
          4.350040874376495,
          3.7354574457721625,
          8.177798445645816,
          5.166697836782929,
          11.519741762207422,
          9.063146606925786,
          10.701590176221057,
          3.544434440020236,
          6.615960721982875,
          7.763884167695405,
          11.35720165709538,
          9.04800279331549,
          6.8448409080019115,
          2.377628918274506,
          7.267781464236092,
          13.412296080054361,
          11.801223980848437,
          9.208859815763592,
          5.762278241548852,
          6.931180504687912,
          5.966596243636166,
          3.809956378906337,
          3.1770045541773446,
          5.231256514074466,
          11.836852494440707,
          5.879548458112152,
          14.423837704696439,
          11.209749967445813,
          6.864353138628276,
          4.131216914607824,
          6.325984273231356,
          7.491754011688149,
          10.012954627750068,
          7.5591969274814605,
          7.416114485052748,
          9.619654279839823,
          7.971334015804211,
          11.472960675760854,
          3.2896515860133966,
          9.778550001447986,
          9.001568307294992,
          11.344268660662886,
          8.553915646735275,
          3.8726086308819574,
          11.517197806501116,
          9.01804784245467,
          4.257011807770809,
          12.932224288797375,
          4.962692044653659,
          12.743419255047318,
          9.396102668693851,
          11.438029698510958,
          8.953913565171149,
          4.759760386498678,
          9.051030993237248,
          7.0584444575366065,
          11.949281480196369,
          9.92521563493144,
          6.897939282085401,
          4.478425955884675,
          7.771930819608231,
          10.117207554709395,
          2.3997673094069794,
          11.705135531961341,
          13.629466344425213,
          8.38371076474729,
          9.952348939111541,
          3.4691776151281264,
          9.417483594210358,
          1.585920009543653,
          10.877585817162943,
          6.64365887686438,
          11.515475736629375,
          9.56422582200941,
          7.973583973322901,
          2.523537022654393,
          5.556704221598889,
          15.922954281714386,
          12.417230626834336,
          8.133999793119386,
          8.070302027369104,
          7.968545384498533,
          8.665484627833909,
          8.971179605093841,
          7.332073753793727,
          4.758037851593915,
          8.067058104791501,
          7.694703624163275,
          8.362800487401215,
          5.077473561228536,
          2.901152027106944,
          10.037721429325137,
          7.684994195481285,
          5.123190014145496,
          10.286072590842831,
          15.414393090583317,
          5.669770034487525,
          2.2195212521074525,
          8.601430652334281,
          4.43419422141106,
          9.952592901399733,
          8.278694648466011,
          7.440417827725712,
          4.515732989302389,
          13.491889981017426,
          9.867211741684798,
          7.015765429027092,
          6.814336117039004,
          7.910367048145592,
          8.428657055705333,
          4.444813466676715,
          4.6030946961821435,
          6.876013225002107,
          7.132013691729698,
          6.461014323741275,
          10.991879425766854,
          7.0221194413366455,
          7.657205632369744,
          11.483123312018828,
          7.743192179291,
          9.540749223136899,
          7.826635476316492,
          10.88444246955036,
          14.414745200262665
         ]
        },
        {
         "jitter": 0.2,
         "line": {
          "color": "gray",
          "width": 0.5
         },
         "marker": {
          "color": "black",
          "opacity": 0.4,
          "size": 2
         },
         "meanline": {
          "visible": true
         },
         "name": "6",
         "pointpos": -0.5,
         "points": "outliers",
         "side": "negative",
         "type": "violin",
         "y": [
          7.042237592420552,
          15.508251114222528,
          9.584177098661877,
          15.151960696814214,
          10.612490792479848,
          21.017532631820373,
          13.388939657835664,
          6.981533239951565,
          18.947839595342813,
          13.616880566202278,
          8.756581690489138,
          10.863018413808707,
          3.917610447722727,
          17.87790460089611,
          11.560107717193876,
          19.501350157018535,
          15.217561386752486,
          11.829547323826517,
          14.322006775493474,
          12.254297451490014,
          8.787240470752684,
          15.601141601820132,
          12.615482088736657,
          12.733791243265467,
          9.177336412968915,
          8.978374986496746,
          20.944251861761515,
          15.43223216363078,
          17.65033741549847,
          2.159669642867432,
          14.613472727471196,
          12.561280610132998,
          6.718228399133821,
          20.99877282244525,
          10.303480453866438,
          15.346429213310259,
          24.945740211691486,
          7.7439024782387955,
          12.436306612885925,
          8.976851766101351,
          7.420752724992178,
          9.946920373811517,
          13.882120724370225,
          11.736935060977817,
          1.3492468269034255,
          17.06381482838542,
          4.730549165775653,
          9.898188705057834,
          14.064000165377541,
          12.654562242983788,
          12.874545551742,
          15.515695296636551,
          11.581197986285936,
          22.214590006227734,
          10.303816088250176,
          1.4839478251336067,
          15.716385296134217,
          12.41186268236764,
          11.687863366303073,
          18.71323568874327,
          15.024553860386916,
          7.754000947892429,
          15.97742054264181,
          11.028579197128776,
          19.56877697273767,
          13.604350022111298,
          17.709570532766023,
          15.541203252849847,
          10.681054287534868,
          9.332026910779586,
          24.24094609543056,
          17.556504963876424,
          10.925951478044155,
          25.08767519992149,
          14.32896042181401,
          17.201275224080458,
          6.782313582992839,
          4.276377056959074,
          13.650011445092947,
          8.81473659341103,
          19.38557256179683,
          15.281221716702365,
          18.0295285527618,
          8.844336805916358,
          9.972626095266437,
          10.85222378755773,
          16.05437744965688,
          14.973446340240741,
          10.533515394093051,
          4.357504710978149,
          10.596580877862639,
          22.861759214499187,
          19.687520802566727,
          12.128211858685082,
          6.7990928129500965,
          11.762152534906264,
          10.306998660219758,
          3.9799960846728393,
          4.463924280901611,
          8.0044240168205,
          19.75459164447375,
          10.913345885812314,
          25.978861496412,
          18.584242277879444,
          9.25276999746104,
          6.101084898645613,
          9.23033934340593,
          10.946089293676613,
          19.049089033337797,
          8.381900763888131,
          13.457428425366315,
          6.1916694815132765,
          12.94127442083946,
          18.823161590589642,
          5.547094557468179,
          19.00034111477556,
          12.442925035452687,
          19.81619347928492,
          12.03502279897527,
          4.109091916556859,
          16.69893544722427,
          9.883650922323419,
          5.991835580551963,
          19.893717534136574,
          6.274373189615245,
          19.817681931047403,
          13.09596134943196,
          19.22767788583103,
          13.16127822653403,
          5.865037996268331,
          12.949960803876,
          13.110084184916726,
          22.253306694356578,
          15.601494051917275,
          2.4067338518740367,
          7.485734135225039,
          14.955979906789018,
          13.288428502452016,
          1.8952997955722306,
          16.66653103976412,
          21.71030439754441,
          14.069798284089885,
          15.87912819227427,
          3.3914605022379702,
          15.025568339323733,
          1.8040834235193999,
          19.25695571539955,
          8.523064236794028,
          23.498728392613884,
          12.47739681299214,
          5.385052863169714,
          5.426795527764829,
          10.191799994523873,
          25.543125564964523,
          20.63936986817953,
          6.007645892451753,
          9.228694297521947,
          7.1855015316869295,
          12.397362876816683,
          14.2181851041213,
          12.598169891384577,
          2.566159274344944,
          11.893822390030774,
          14.769642685468249,
          14.95722947580715,
          5.405847408669716,
          5.141140827822513,
          15.922627657981936,
          11.92108028658026,
          4.988651175643911,
          17.644668759283153,
          23.6973899519528,
          6.743689162678581,
          1.6263986375987207,
          13.98305994905374,
          8.038160228273226,
          13.620771798922489,
          16.99900239589567,
          11.685647495024815,
          6.227538802587143,
          23.41958551559127,
          14.808621911508995,
          6.483097730227067,
          12.16127774280167,
          13.28439494287532,
          6.449642107643907,
          9.230815612281567,
          1.4885987070933253,
          8.977088262395363,
          15.64944498757716,
          11.381576658260526,
          15.198725148260518,
          11.188132407284439,
          11.12630371177443,
          19.38142351740849,
          11.195002550199957,
          13.794663279178414,
          15.59446915194876,
          15.145293206539321,
          22.82437931059824
         ]
        },
        {
         "jitter": 0.2,
         "line": {
          "color": "gray",
          "width": 0.5
         },
         "marker": {
          "color": "black",
          "opacity": 0.4,
          "size": 2
         },
         "meanline": {
          "visible": true
         },
         "name": "9",
         "pointpos": -0.5,
         "points": "outliers",
         "side": "negative",
         "type": "violin",
         "y": [
          8.502464704563117,
          12.361952314416044,
          11.112641858433701,
          18.566050912443593,
          9.633994829062823,
          12.725418580638927,
          9.965590808809022,
          8.195446509230642,
          23.867026844105872,
          7.514594953529306,
          11.998076449565202,
          12.307591884810144,
          1.2736094444920245,
          24.194801968418243,
          15.185523254853326,
          25.746169777856842,
          19.797223421801043,
          13.633241474713238,
          13.03425908368379,
          17.280234316594605,
          11.378395328504396,
          20.9251029788884,
          15.344244421929744,
          16.774593793910924,
          10.879796452342335,
          10.656299184889978,
          27.990489807678294,
          19.788936933025706,
          20.743976407633383,
          -3.260332565719057,
          17.58035102918689,
          8.6839173773278,
          7.439036308031701,
          9.602151893932838,
          8.273292353484393,
          21.653423663039163,
          35.7003541114528,
          8.040685618563174,
          17.74771371403501,
          11.173665609923582,
          3.8014515490107037,
          13.329522270351402,
          16.280000654734184,
          15.231547057661286,
          1.6411921702061545,
          20.961353308876788,
          5.001486908026482,
          13.529757522965836,
          19.053402058143988,
          18.38120216566257,
          15.96925768578578,
          12.549373076206388,
          16.02045434088575,
          29.623318295103875,
          13.577396084183192,
          -0.8690362800515965,
          15.69146106955992,
          0.5576337072262643,
          13.082634946852696,
          25.062012686704776,
          20.291311538712677,
          7.2937806555244125,
          23.637807371355727,
          14.473791173283612,
          27.438369850595656,
          10.136094553387153,
          23.95267278694943,
          14.242104439561249,
          -2.1853924618583704,
          11.715257355404326,
          33.491833690319325,
          24.008981482763787,
          11.908822436914274,
          35.30556640732796,
          16.423420628046415,
          20.63560734017993,
          6.587473102611391,
          4.758954948557991,
          7.869044294151391,
          9.228118334960865,
          13.038172003541616,
          19.38921757543949,
          24.964151288889244,
          13.57261002282938,
          12.97833040284808,
          13.607465771416466,
          0.9362029543771987,
          20.442119165485657,
          13.86547215188813,
          5.878312233997584,
          12.295250963645344,
          31.559396873726193,
          26.72322890981213,
          14.864055343796093,
          7.780701064203118,
          16.22041880769725,
          14.25737672797047,
          4.131695895487633,
          4.829226957391932,
          3.6678455435126884,
          27.029476489006175,
          15.404215323307342,
          36.64160893349212,
          20.52232419619132,
          11.38358046984175,
          6.0790044763019555,
          6.8257586753481085,
          13.130906235602806,
          27.34825741343519,
          6.773597573202704,
          18.85446867326446,
          -1.805850593609028,
          17.516319876885,
          25.323705154779816,
          7.5610575332214935,
          23.72863468289156,
          15.142204889084747,
          24.902590989458044,
          14.69506832286434,
          4.271852448287802,
          20.51059378219536,
          10.655893045991856,
          7.539547257843721,
          21.813097881372045,
          7.444580940236854,
          24.145908606902577,
          16.511190456136468,
          26.45523957879204,
          16.995613278628017,
          6.72665462521475,
          16.539094669897285,
          10.805627679127443,
          27.932695011213074,
          20.94153709327343,
          -0.19610539455215092,
          10.227247468861226,
          21.238329136992565,
          10.02583331699342,
          1.4452424031713593,
          21.112873784834104,
          28.074099973424687,
          18.50920952279983,
          21.334985209627142,
          2.4555551982611403,
          20.201146914259713,
          1.998716485715901,
          27.085385907564905,
          9.853747462757923,
          32.92793822271864,
          13.365499377138768,
          -8.845413046688414,
          8.098506331759635,
          14.4585282046332,
          32.769381331855875,
          26.906735644564247,
          1.9218095684567167,
          10.025962164434215,
          6.646568594258129,
          15.06121115529157,
          18.36353176334759,
          17.29628310291948,
          1.2958751086803781,
          14.488841288210734,
          8.84459792763566,
          20.222259940941292,
          -1.9106121588206686,
          6.876349770478979,
          15.868739015370924,
          12.174375003579682,
          4.868623230972805,
          24.418575274506836,
          31.47465236094542,
          7.5302635931528865,
          1.2181797213808934,
          18.784245312543035,
          10.640713289827781,
          14.179454888645324,
          17.061638888918758,
          14.761037631016084,
          3.3011987939061784,
          32.558459268392646,
          12.309873542424803,
          -2.129414121116394,
          16.77870720782003,
          9.212372500264701,
          1.475316719537229,
          13.413669869071363,
          0.21372205796179022,
          10.477528550234418,
          23.248215586247884,
          15.911167419094376,
          19.072106936750615,
          11.65611752334725,
          13.901493829124249,
          18.988707739854647,
          13.77491903408407,
          17.51947480196612,
          22.524491138549617,
          18.360053619448628,
          30.126222041413136
         ]
        },
        {
         "jitter": 0.2,
         "line": {
          "color": "gray",
          "width": 0.5
         },
         "marker": {
          "color": "black",
          "opacity": 0.4,
          "size": 2
         },
         "meanline": {
          "visible": true
         },
         "name": "12",
         "pointpos": -0.5,
         "points": "outliers",
         "side": "negative",
         "type": "violin",
         "y": [
          9.928910384450486,
          9.983957476723031,
          12.077213932085114,
          21.899303507263152,
          8.435761098524905,
          7.400733816113662,
          5.796855637813787,
          9.091314141953257,
          26.597652316523934,
          4.0092730052688825,
          15.160592097150923,
          12.847947445945312,
          -6.62743114600776,
          29.36181434619475,
          17.249385199519025,
          30.61613232427745,
          23.753023824685798,
          12.276377757630817,
          11.39659534769946,
          22.1989077707057,
          13.909605454671466,
          26.156868830167703,
          16.150410481989848,
          19.587160790496686,
          11.792799413930885,
          5.761816202130833,
          32.55747933128888,
          16.679820451833844,
          22.131581093825144,
          -8.925968008081142,
          18.094207250580652,
          5.971153208739571,
          4.808169968220081,
          -6.99061729571655,
          4.164338799595275,
          27.86947483611303,
          46.263782649454654,
          7.939865303338461,
          21.4759656736308,
          13.33142656981343,
          1.2793328355810458,
          16.65330694769763,
          11.163968251257298,
          18.664035152771177,
          1.9263835423244497,
          22.881422016759483,
          3.846813279171314,
          17.07731228923583,
          23.288424841858205,
          23.97535988950818,
          17.359503453859162,
          9.876321409650119,
          20.380793797322262,
          36.512329200561794,
          16.814261258189966,
          -1.9179456383228424,
          14.736502990426835,
          -5.770282892988217,
          13.307040993565682,
          25.830491552479145,
          23.619871139979598,
          1.8301910504915493,
          31.120975987613832,
          16.924371444679004,
          34.15001697752933,
          7.622929156416226,
          30.07049961194393,
          12.475899181558583,
          -8.826876933560133,
          14.043353268459041,
          41.04939639463576,
          27.3553719430779,
          7.904701696127759,
          37.89309737032855,
          16.980041744990356,
          22.259618849950723,
          6.1356926214967045,
          5.230368705332422,
          4.220626583498392,
          8.967490420544287,
          8.730674339414184,
          21.523805205164287,
          29.530249337439926,
          18.191497624292705,
          15.944620372564703,
          16.29896697163194,
          -10.967309020565267,
          25.38358492391386,
          16.40464348213805,
          5.022208178431506,
          12.990335951512467,
          37.62483388933311,
          33.596170352322254,
          17.051685198884705,
          8.419135373614953,
          20.288356241400752,
          18.137528716687385,
          4.279886226965092,
          4.8802986042652154,
          1.1391152121433525,
          34.12374819023065,
          19.791191331895376,
          46.47265452390368,
          20.709204442604914,
          13.465095987333507,
          5.790879082006659,
          2.909253000465814,
          13.64461713508829,
          35.381913893385516,
          3.0281679823318997,
          24.150316007006186,
          -14.772850751006693,
          22.00929709759866,
          30.032196187918828,
          9.528428747142224,
          25.67268768107585,
          14.159987161821102,
          24.919340064670585,
          12.793272566693208,
          1.9092824519278824,
          16.06866789917855,
          11.410269835721195,
          9.051453602703186,
          20.17029170020966,
          8.587716673414356,
          24.391069100486693,
          19.882367811897105,
          29.624079231886395,
          20.004769948489894,
          7.251008909494147,
          19.025019835954016,
          8.719318077131595,
          30.437380759659632,
          25.8560012129752,
          -5.543525349562559,
          12.919809218661703,
          25.58393743830058,
          -0.47806128115166047,
          1.0055968043554468,
          25.481858182292527,
          31.98981884906456,
          21.238629472236624,
          26.583287050998134,
          1.9978042383215635,
          24.660482412506266,
          2.18884683490614,
          34.58507935695289,
          6.883361480757326,
          38.93919697606428,
          13.523373110149493,
          -19.077803729576946,
          10.656807457906128,
          18.649406564411944,
          37.21359842857646,
          30.633524358068264,
          -4.920113603677474,
          4.960114641853318,
          2.655996296407851,
          8.935091801629367,
          20.923213538118794,
          21.88570843168373,
          -2.938212036594204,
          15.440967055294072,
          4.867584484370965,
          19.05018499094577,
          -5.5952368739799505,
          6.047753855744924,
          11.73217105785657,
          11.733042419455765,
          4.751372057016311,
          31.072061747888988,
          37.989485707883674,
          6.5483485029541715,
          0.049110655201627496,
          23.474358284105723,
          12.107906264255941,
          9.940581397127541,
          15.879977239516759,
          16.603929925578385,
          1.61877337951193,
          41.5348707780529,
          10.306988848690919,
          -6.362489887913405,
          18.684601614009654,
          5.064943125208456,
          -3.2291976619959515,
          14.560151743397448,
          -1.0316611301418435,
          7.621797444555831,
          30.671193424960396,
          20.36023540913115,
          22.882161660499605,
          11.386666625284342,
          15.695202510423655,
          17.657909039640543,
          15.278553646979462,
          18.328721444956777,
          29.294191442090618,
          15.87654183311692,
          34.93073482677607
         ]
        },
        {
         "jitter": 0.2,
         "line": {
          "color": "gray",
          "width": 0.5
         },
         "marker": {
          "color": "black",
          "opacity": 0.4,
          "size": 2
         },
         "meanline": {
          "visible": true
         },
         "name": "15",
         "pointpos": -0.5,
         "points": "outliers",
         "side": "negative",
         "type": "violin",
         "y": [
          11.342550417470617,
          7.8987990313811505,
          12.923004500502957,
          22.95148772908069,
          7.385082962748298,
          2.7317534311167257,
          2.87680892789595,
          9.876860826339303,
          29.025930726511966,
          0.9356113014233158,
          18.073297644953463,
          13.321761326405465,
          -14.944967126686349,
          30.790955502481722,
          15.006936792207469,
          34.907748779351785,
          27.221690151133654,
          7.517592760158544,
          9.960600485189673,
          27.084293844913013,
          16.418092119665488,
          31.13910151035345,
          13.371840238081944,
          22.05337633181035,
          11.218830965336902,
          -4.281802054295125,
          29.315733609064434,
          5.445534418152765,
          23.348310240708187,
          -12.616421197756374,
          16.463037802511618,
          3.592450372295281,
          -0.32329616821094875,
          -24.44933772172176,
          -0.4389664555150252,
          34.01837866590111,
          53.19649517159245,
          7.851460430285082,
          19.173885499385705,
          14.435748533127434,
          -0.55266372826025,
          19.810190723804062,
          -0.28424129213425164,
          21.41062751204185,
          2.209014662725272,
          24.565045302359263,
          1.6616393190384187,
          20.593019552148608,
          22.470216890160305,
          29.51929711821233,
          18.578548448566302,
          7.532440687768588,
          24.710841734364095,
          36.95828288888337,
          19.929364091457877,
          -2.957438599408829,
          13.899142508371435,
          -11.318952945132999,
          13.503812725808139,
          20.216817720041377,
          23.31184489856056,
          -5.939498933520583,
          38.53696586989583,
          19.09591374118708,
          40.0351633482124,
          5.4192456298257925,
          32.287084023693545,
          10.927191946441338,
          -14.650500776651471,
          16.35054913985366,
          41.73545083281927,
          22.92150794643015,
          0.5881611863465634,
          27.316788861625987,
          17.468118171591698,
          23.683642679265027,
          5.739546309159846,
          5.697550434077823,
          1.021490569093545,
          8.738957335354574,
          4.953620266946549,
          23.395530640722313,
          27.225701868866622,
          22.768920034071485,
          18.880919060412513,
          18.966305727810155,
          -19.177684633595433,
          29.72930528947873,
          18.63113046159599,
          1.4550507307162914,
          13.599825219395996,
          37.21482329517198,
          40.407411260221664,
          18.521752023009913,
          8.096289875677705,
          23.872188860902817,
          21.98446025906265,
          4.426746207706186,
          4.9250810714113955,
          -1.0782165138285171,
          40.640242774898844,
          24.138784091345492,
          55.15745767695312,
          20.873071461263837,
          15.527925092123382,
          5.538234673491086,
          -1.0250570606757883,
          12.614623917691917,
          42.68818773438713,
          -1.5342426072587614,
          29.40937278723035,
          -28.640525246805094,
          23.892724933526964,
          34.16086362096495,
          11.478138257307275,
          27.37734172962773,
          8.659460201612031,
          20.770479795630486,
          6.549694455043609,
          -1.9841364090421683,
          3.5774016023212023,
          12.157874350200288,
          10.549787093706867,
          16.822827344310152,
          9.720590121299862,
          21.19478804980085,
          23.059619033998118,
          25.763924919357272,
          22.643366275073642,
          7.710791978346994,
          17.41827480745771,
          6.889925507832333,
          32.63362885841451,
          28.126650882767827,
          -9.730298609692182,
          15.460707859133144,
          26.379898795465927,
          -13.978118577387246,
          0.5698980409233518,
          29.805652045438222,
          35.423339457898045,
          21.62830156528775,
          27.68347470541318,
          1.5964226773623804,
          28.57067638230611,
          2.377270324773315,
          39.672155150389315,
          0.3272600429161523,
          44.08774037972012,
          13.66180560062354,
          -26.04200343104471,
          12.958220455236791,
          22.398315493072655,
          40.45883470112208,
          33.90138046801882,
          -12.137889263696078,
          -4.049442035416305,
          -2.719802370336061,
          -3.969399457213961,
          23.167685218768362,
          26.43393306075579,
          -7.611756633082988,
          14.626661251619844,
          1.3803173811613885,
          9.471356231314648,
          -8.826121199050725,
          2.2068714777419594,
          6.179397035812092,
          11.346057405702773,
          4.635173483344298,
          34.08543223927906,
          43.78296758289345,
          3.8697060505641563,
          -1.1565050044994138,
          28.122366651667164,
          13.394422859251364,
          3.3247959622258363,
          14.843830428483866,
          18.235845313179045,
          0.14352899291810717,
          48.35642603026609,
          8.550747889603246,
          -10.07428671171557,
          16.69181285783832,
          2.2185393777388835,
          -6.275929613021752,
          10.162905410466074,
          -2.2658641142535316,
          0.9925839873873725,
          38.02753288113212,
          24.095060735561443,
          25.273011726038646,
          11.1503970561575,
          17.241412875179517,
          16.49099054816765,
          16.597024302178056,
          14.402984762027991,
          36.003677453214905,
          7.294125337216597,
          35.02565153903785
         ]
        },
        {
         "jitter": 0.2,
         "line": {
          "color": "gray",
          "width": 0.5
         },
         "marker": {
          "color": "black",
          "opacity": 0.4,
          "size": 2
         },
         "meanline": {
          "visible": true
         },
         "name": "18",
         "pointpos": -0.5,
         "points": "outliers",
         "side": "negative",
         "type": "violin",
         "y": [
          12.74992282291337,
          5.922271861588595,
          13.7247316030396,
          23.600393583520443,
          6.38914239673002,
          -1.6939853776497993,
          0.38812317413637615,
          10.62148259286004,
          31.14397739950677,
          -1.9779207049655179,
          20.834258888433975,
          13.770890748897092,
          -20.074580059666093,
          31.67233924107843,
          13.623968040671171,
          38.379113126300794,
          30.509648077781595,
          4.582742186930566,
          8.59941718146578,
          31.89950563257827,
          18.91545695745674,
          35.86177296097526,
          11.658233000213743,
          24.391108524602476,
          10.864851615728654,
          -10.475929128294737,
          27.316475557198554,
          -1.4829044332015704,
          24.50165099669444,
          -15.78373148317195,
          15.457058638023991,
          1.3376716916452775,
          -3.487987665731333,
          -34.45441042018115,
          -3.2779291272166637,
          39.92356415702456,
          57.61706023568811,
          7.767661218830697,
          17.75414048654973,
          15.119608708474042,
          -2.2892180855643303,
          22.802609153783788,
          -7.344611648235982,
          23.266317881730004,
          2.4903926871805555,
          26.160956239361646,
          0.31399299736663794,
          24.093139294054605,
          21.96560950447067,
          35.03865430167387,
          19.7340844028394,
          5.310669991973428,
          28.675611653504422,
          37.23331263478933,
          22.722281563388176,
          -3.9923227870372506,
          13.105406306409678,
          -16.578551869244233,
          13.690333167963699,
          16.754737834914447,
          23.12187813495218,
          -10.73124282491232,
          45.920075622468445,
          20.895990616384818,
          45.61370905877424,
          3.3303682233640024,
          33.654101863265915,
          9.459168288500074,
          -20.17072912171324,
          18.647515643037202,
          42.158556152245765,
          20.18704353868499,
          -3.9241152679666462,
          20.794139682889444,
          17.93076709905217,
          25.033478609504044,
          5.364038178671511,
          6.162660828453527,
          -2.010978881607896,
          8.522330223203195,
          1.373340777804452,
          25.16974410003947,
          25.80443521891811,
          27.326047617592447,
          21.677920728292246,
          21.621818357471323,
          -26.96032125377708,
          33.84862504457526,
          20.741623318618668,
          -0.7448961149067134,
          14.177561697839657,
          36.961960470101914,
          47.188453303505014,
          19.482891180886615,
          7.89718374073116,
          27.269313218747033,
          25.303121497793455,
          4.57295505824845,
          4.967530489726885,
          -3.180031085865981,
          46.844994638962056,
          28.46710101483357,
          63.389805409089156,
          21.028401438009407,
          17.581608272528467,
          5.298752373809207,
          -3.3834457790629706,
          11.979403758679911,
          49.613823909927405,
          -4.347984612056709,
          34.524574470676946,
          -37.19303437938245,
          25.054277562546698,
          38.07443833089099,
          13.41920337932857,
          28.993187779075168,
          5.267160555144464,
          18.21178363658798,
          2.6991383105738533,
          -4.385296083799869,
          -4.126245459692282,
          12.902164225505356,
          12.041477453357118,
          14.758370207617158,
          10.848440770830578,
          19.22356909196307,
          25.784699000449184,
          23.38328027567923,
          25.144498667228675,
          8.146621557619678,
          16.42735873622115,
          5.155839483968086,
          34.7154582032286,
          29.53063664897193,
          -12.704785845425965,
          17.869232358089068,
          26.870786202696294,
          -22.303909852860375,
          0.13613102639458155,
          33.96780767977259,
          38.67798266634324,
          21.86862117590558,
          28.361985364635473,
          1.2159520408901212,
          32.27715952227922,
          2.5648584050718295,
          42.990790467099664,
          -3.7160363306238064,
          48.00259917714135,
          13.793026122334679,
          -32.64338662951929,
          15.139735883544374,
          25.100064791605327,
          42.64505386086301,
          36.998989862587635,
          -16.589255083778557,
          -9.605839903045105,
          -6.0351792354459874,
          -11.927891800888268,
          25.29522582321938,
          30.961992316935333,
          -10.494037498483582,
          14.12446040854991,
          -1.9252722701410998,
          3.5638754434832727,
          -11.888684962060063,
          -0.16188773736311166,
          2.754875382936678,
          10.979233294235211,
          4.519490096965839,
          35.94411445054111,
          49.27472060160124,
          2.2177265366845886,
          -1.9000355064477097,
          32.74976723733898,
          14.61391532049521,
          -0.7553089460403609,
          13.861664143985912,
          19.583345202444793,
          -1.2548590435095663,
          52.875080740455154,
          6.8860024692430315,
          -13.592708675418569,
          15.462814870995821,
          -0.4795742438115423,
          -8.90631081930025,
          7.451023945766568,
          -3.4945950430105017,
          -3.095802220984199,
          45.35125668135196,
          26.677254724827137,
          26.79112848724505,
          10.926436510682866,
          18.429310830392403,
          15.384865444459066,
          17.846806101162336,
          11.981893975726228,
          42.68229940149672,
          2.0011545526244343,
          35.08418882708447
         ]
        }
       ],
       "layout": {
        "height": 400,
        "margin": {
         "b": 30,
         "l": 50,
         "r": 20,
         "t": 50
        },
        "showlegend": false,
        "template": {
         "data": {
          "bar": [
           {
            "error_x": {
             "color": "#2a3f5f"
            },
            "error_y": {
             "color": "#2a3f5f"
            },
            "marker": {
             "line": {
              "color": "white",
              "width": 0.5
             },
             "pattern": {
              "fillmode": "overlay",
              "size": 10,
              "solidity": 0.2
             }
            },
            "type": "bar"
           }
          ],
          "barpolar": [
           {
            "marker": {
             "line": {
              "color": "white",
              "width": 0.5
             },
             "pattern": {
              "fillmode": "overlay",
              "size": 10,
              "solidity": 0.2
             }
            },
            "type": "barpolar"
           }
          ],
          "carpet": [
           {
            "aaxis": {
             "endlinecolor": "#2a3f5f",
             "gridcolor": "#C8D4E3",
             "linecolor": "#C8D4E3",
             "minorgridcolor": "#C8D4E3",
             "startlinecolor": "#2a3f5f"
            },
            "baxis": {
             "endlinecolor": "#2a3f5f",
             "gridcolor": "#C8D4E3",
             "linecolor": "#C8D4E3",
             "minorgridcolor": "#C8D4E3",
             "startlinecolor": "#2a3f5f"
            },
            "type": "carpet"
           }
          ],
          "choropleth": [
           {
            "colorbar": {
             "outlinewidth": 0,
             "ticks": ""
            },
            "type": "choropleth"
           }
          ],
          "contour": [
           {
            "colorbar": {
             "outlinewidth": 0,
             "ticks": ""
            },
            "colorscale": [
             [
              0,
              "#0d0887"
             ],
             [
              0.1111111111111111,
              "#46039f"
             ],
             [
              0.2222222222222222,
              "#7201a8"
             ],
             [
              0.3333333333333333,
              "#9c179e"
             ],
             [
              0.4444444444444444,
              "#bd3786"
             ],
             [
              0.5555555555555556,
              "#d8576b"
             ],
             [
              0.6666666666666666,
              "#ed7953"
             ],
             [
              0.7777777777777778,
              "#fb9f3a"
             ],
             [
              0.8888888888888888,
              "#fdca26"
             ],
             [
              1,
              "#f0f921"
             ]
            ],
            "type": "contour"
           }
          ],
          "contourcarpet": [
           {
            "colorbar": {
             "outlinewidth": 0,
             "ticks": ""
            },
            "type": "contourcarpet"
           }
          ],
          "heatmap": [
           {
            "colorbar": {
             "outlinewidth": 0,
             "ticks": ""
            },
            "colorscale": [
             [
              0,
              "#0d0887"
             ],
             [
              0.1111111111111111,
              "#46039f"
             ],
             [
              0.2222222222222222,
              "#7201a8"
             ],
             [
              0.3333333333333333,
              "#9c179e"
             ],
             [
              0.4444444444444444,
              "#bd3786"
             ],
             [
              0.5555555555555556,
              "#d8576b"
             ],
             [
              0.6666666666666666,
              "#ed7953"
             ],
             [
              0.7777777777777778,
              "#fb9f3a"
             ],
             [
              0.8888888888888888,
              "#fdca26"
             ],
             [
              1,
              "#f0f921"
             ]
            ],
            "type": "heatmap"
           }
          ],
          "heatmapgl": [
           {
            "colorbar": {
             "outlinewidth": 0,
             "ticks": ""
            },
            "colorscale": [
             [
              0,
              "#0d0887"
             ],
             [
              0.1111111111111111,
              "#46039f"
             ],
             [
              0.2222222222222222,
              "#7201a8"
             ],
             [
              0.3333333333333333,
              "#9c179e"
             ],
             [
              0.4444444444444444,
              "#bd3786"
             ],
             [
              0.5555555555555556,
              "#d8576b"
             ],
             [
              0.6666666666666666,
              "#ed7953"
             ],
             [
              0.7777777777777778,
              "#fb9f3a"
             ],
             [
              0.8888888888888888,
              "#fdca26"
             ],
             [
              1,
              "#f0f921"
             ]
            ],
            "type": "heatmapgl"
           }
          ],
          "histogram": [
           {
            "marker": {
             "pattern": {
              "fillmode": "overlay",
              "size": 10,
              "solidity": 0.2
             }
            },
            "type": "histogram"
           }
          ],
          "histogram2d": [
           {
            "colorbar": {
             "outlinewidth": 0,
             "ticks": ""
            },
            "colorscale": [
             [
              0,
              "#0d0887"
             ],
             [
              0.1111111111111111,
              "#46039f"
             ],
             [
              0.2222222222222222,
              "#7201a8"
             ],
             [
              0.3333333333333333,
              "#9c179e"
             ],
             [
              0.4444444444444444,
              "#bd3786"
             ],
             [
              0.5555555555555556,
              "#d8576b"
             ],
             [
              0.6666666666666666,
              "#ed7953"
             ],
             [
              0.7777777777777778,
              "#fb9f3a"
             ],
             [
              0.8888888888888888,
              "#fdca26"
             ],
             [
              1,
              "#f0f921"
             ]
            ],
            "type": "histogram2d"
           }
          ],
          "histogram2dcontour": [
           {
            "colorbar": {
             "outlinewidth": 0,
             "ticks": ""
            },
            "colorscale": [
             [
              0,
              "#0d0887"
             ],
             [
              0.1111111111111111,
              "#46039f"
             ],
             [
              0.2222222222222222,
              "#7201a8"
             ],
             [
              0.3333333333333333,
              "#9c179e"
             ],
             [
              0.4444444444444444,
              "#bd3786"
             ],
             [
              0.5555555555555556,
              "#d8576b"
             ],
             [
              0.6666666666666666,
              "#ed7953"
             ],
             [
              0.7777777777777778,
              "#fb9f3a"
             ],
             [
              0.8888888888888888,
              "#fdca26"
             ],
             [
              1,
              "#f0f921"
             ]
            ],
            "type": "histogram2dcontour"
           }
          ],
          "mesh3d": [
           {
            "colorbar": {
             "outlinewidth": 0,
             "ticks": ""
            },
            "type": "mesh3d"
           }
          ],
          "parcoords": [
           {
            "line": {
             "colorbar": {
              "outlinewidth": 0,
              "ticks": ""
             }
            },
            "type": "parcoords"
           }
          ],
          "pie": [
           {
            "automargin": true,
            "type": "pie"
           }
          ],
          "scatter": [
           {
            "fillpattern": {
             "fillmode": "overlay",
             "size": 10,
             "solidity": 0.2
            },
            "type": "scatter"
           }
          ],
          "scatter3d": [
           {
            "line": {
             "colorbar": {
              "outlinewidth": 0,
              "ticks": ""
             }
            },
            "marker": {
             "colorbar": {
              "outlinewidth": 0,
              "ticks": ""
             }
            },
            "type": "scatter3d"
           }
          ],
          "scattercarpet": [
           {
            "marker": {
             "colorbar": {
              "outlinewidth": 0,
              "ticks": ""
             }
            },
            "type": "scattercarpet"
           }
          ],
          "scattergeo": [
           {
            "marker": {
             "colorbar": {
              "outlinewidth": 0,
              "ticks": ""
             }
            },
            "type": "scattergeo"
           }
          ],
          "scattergl": [
           {
            "marker": {
             "colorbar": {
              "outlinewidth": 0,
              "ticks": ""
             }
            },
            "type": "scattergl"
           }
          ],
          "scattermapbox": [
           {
            "marker": {
             "colorbar": {
              "outlinewidth": 0,
              "ticks": ""
             }
            },
            "type": "scattermapbox"
           }
          ],
          "scatterpolar": [
           {
            "marker": {
             "colorbar": {
              "outlinewidth": 0,
              "ticks": ""
             }
            },
            "type": "scatterpolar"
           }
          ],
          "scatterpolargl": [
           {
            "marker": {
             "colorbar": {
              "outlinewidth": 0,
              "ticks": ""
             }
            },
            "type": "scatterpolargl"
           }
          ],
          "scatterternary": [
           {
            "marker": {
             "colorbar": {
              "outlinewidth": 0,
              "ticks": ""
             }
            },
            "type": "scatterternary"
           }
          ],
          "surface": [
           {
            "colorbar": {
             "outlinewidth": 0,
             "ticks": ""
            },
            "colorscale": [
             [
              0,
              "#0d0887"
             ],
             [
              0.1111111111111111,
              "#46039f"
             ],
             [
              0.2222222222222222,
              "#7201a8"
             ],
             [
              0.3333333333333333,
              "#9c179e"
             ],
             [
              0.4444444444444444,
              "#bd3786"
             ],
             [
              0.5555555555555556,
              "#d8576b"
             ],
             [
              0.6666666666666666,
              "#ed7953"
             ],
             [
              0.7777777777777778,
              "#fb9f3a"
             ],
             [
              0.8888888888888888,
              "#fdca26"
             ],
             [
              1,
              "#f0f921"
             ]
            ],
            "type": "surface"
           }
          ],
          "table": [
           {
            "cells": {
             "fill": {
              "color": "#EBF0F8"
             },
             "line": {
              "color": "white"
             }
            },
            "header": {
             "fill": {
              "color": "#C8D4E3"
             },
             "line": {
              "color": "white"
             }
            },
            "type": "table"
           }
          ]
         },
         "layout": {
          "annotationdefaults": {
           "arrowcolor": "#2a3f5f",
           "arrowhead": 0,
           "arrowwidth": 1
          },
          "autotypenumbers": "strict",
          "coloraxis": {
           "colorbar": {
            "outlinewidth": 0,
            "ticks": ""
           }
          },
          "colorscale": {
           "diverging": [
            [
             0,
             "#8e0152"
            ],
            [
             0.1,
             "#c51b7d"
            ],
            [
             0.2,
             "#de77ae"
            ],
            [
             0.3,
             "#f1b6da"
            ],
            [
             0.4,
             "#fde0ef"
            ],
            [
             0.5,
             "#f7f7f7"
            ],
            [
             0.6,
             "#e6f5d0"
            ],
            [
             0.7,
             "#b8e186"
            ],
            [
             0.8,
             "#7fbc41"
            ],
            [
             0.9,
             "#4d9221"
            ],
            [
             1,
             "#276419"
            ]
           ],
           "sequential": [
            [
             0,
             "#0d0887"
            ],
            [
             0.1111111111111111,
             "#46039f"
            ],
            [
             0.2222222222222222,
             "#7201a8"
            ],
            [
             0.3333333333333333,
             "#9c179e"
            ],
            [
             0.4444444444444444,
             "#bd3786"
            ],
            [
             0.5555555555555556,
             "#d8576b"
            ],
            [
             0.6666666666666666,
             "#ed7953"
            ],
            [
             0.7777777777777778,
             "#fb9f3a"
            ],
            [
             0.8888888888888888,
             "#fdca26"
            ],
            [
             1,
             "#f0f921"
            ]
           ],
           "sequentialminus": [
            [
             0,
             "#0d0887"
            ],
            [
             0.1111111111111111,
             "#46039f"
            ],
            [
             0.2222222222222222,
             "#7201a8"
            ],
            [
             0.3333333333333333,
             "#9c179e"
            ],
            [
             0.4444444444444444,
             "#bd3786"
            ],
            [
             0.5555555555555556,
             "#d8576b"
            ],
            [
             0.6666666666666666,
             "#ed7953"
            ],
            [
             0.7777777777777778,
             "#fb9f3a"
            ],
            [
             0.8888888888888888,
             "#fdca26"
            ],
            [
             1,
             "#f0f921"
            ]
           ]
          },
          "colorway": [
           "#636efa",
           "#EF553B",
           "#00cc96",
           "#ab63fa",
           "#FFA15A",
           "#19d3f3",
           "#FF6692",
           "#B6E880",
           "#FF97FF",
           "#FECB52"
          ],
          "font": {
           "color": "#2a3f5f"
          },
          "geo": {
           "bgcolor": "white",
           "lakecolor": "white",
           "landcolor": "white",
           "showlakes": true,
           "showland": true,
           "subunitcolor": "#C8D4E3"
          },
          "hoverlabel": {
           "align": "left"
          },
          "hovermode": "closest",
          "mapbox": {
           "style": "light"
          },
          "paper_bgcolor": "white",
          "plot_bgcolor": "white",
          "polar": {
           "angularaxis": {
            "gridcolor": "#EBF0F8",
            "linecolor": "#EBF0F8",
            "ticks": ""
           },
           "bgcolor": "white",
           "radialaxis": {
            "gridcolor": "#EBF0F8",
            "linecolor": "#EBF0F8",
            "ticks": ""
           }
          },
          "scene": {
           "xaxis": {
            "backgroundcolor": "white",
            "gridcolor": "#DFE8F3",
            "gridwidth": 2,
            "linecolor": "#EBF0F8",
            "showbackground": true,
            "ticks": "",
            "zerolinecolor": "#EBF0F8"
           },
           "yaxis": {
            "backgroundcolor": "white",
            "gridcolor": "#DFE8F3",
            "gridwidth": 2,
            "linecolor": "#EBF0F8",
            "showbackground": true,
            "ticks": "",
            "zerolinecolor": "#EBF0F8"
           },
           "zaxis": {
            "backgroundcolor": "white",
            "gridcolor": "#DFE8F3",
            "gridwidth": 2,
            "linecolor": "#EBF0F8",
            "showbackground": true,
            "ticks": "",
            "zerolinecolor": "#EBF0F8"
           }
          },
          "shapedefaults": {
           "line": {
            "color": "#2a3f5f"
           }
          },
          "ternary": {
           "aaxis": {
            "gridcolor": "#DFE8F3",
            "linecolor": "#A2B1C6",
            "ticks": ""
           },
           "baxis": {
            "gridcolor": "#DFE8F3",
            "linecolor": "#A2B1C6",
            "ticks": ""
           },
           "bgcolor": "white",
           "caxis": {
            "gridcolor": "#DFE8F3",
            "linecolor": "#A2B1C6",
            "ticks": ""
           }
          },
          "title": {
           "x": 0.05
          },
          "xaxis": {
           "automargin": true,
           "gridcolor": "#EBF0F8",
           "linecolor": "#EBF0F8",
           "ticks": "",
           "title": {
            "standoff": 15
           },
           "zerolinecolor": "#EBF0F8",
           "zerolinewidth": 2
          },
          "yaxis": {
           "automargin": true,
           "gridcolor": "#EBF0F8",
           "linecolor": "#EBF0F8",
           "ticks": "",
           "title": {
            "standoff": 15
           },
           "zerolinecolor": "#EBF0F8",
           "zerolinewidth": 2
          }
         }
        },
        "title": {
         "font": {
          "size": 10
         },
         "text": "<b>Efficient Frontier </b> ",
         "xanchor": "left"
        },
        "width": 550
       }
      },
      "text/html": [
       "<div>                            <div id=\"c8650fa9-a775-4fc8-9b8d-dcbd4e0d5826\" class=\"plotly-graph-div\" style=\"height:400px; width:550px;\"></div>            <script type=\"text/javascript\">                require([\"plotly\"], function(Plotly) {                    window.PLOTLYENV=window.PLOTLYENV || {};                                    if (document.getElementById(\"c8650fa9-a775-4fc8-9b8d-dcbd4e0d5826\")) {                    Plotly.newPlot(                        \"c8650fa9-a775-4fc8-9b8d-dcbd4e0d5826\",                        [{\"line\":{\"color\":\"purple\"},\"mode\":\"lines\",\"x\":[3,6,9,12,15,18],\"y\":[8.000000010095341,11.082581403813306,13.74751121135482,16.35221809622986,18.936450959675277,21.512563023722308],\"type\":\"scatter\"},{\"marker\":{\"color\":\"red\",\"size\":7},\"mode\":\"markers\",\"opacity\":0.7,\"x\":[3,7,12,18],\"y\":[5,8,12,15],\"type\":\"scatter\"},{\"line\":{\"color\":\"black\"},\"mode\":\"lines\",\"x\":[3,6,9,12,15,18],\"y\":[8.25630506375336,12.57020581453727,14.514516896501673,15.22863187036757,14.589354275449885,14.440778523988563],\"type\":\"scatter\"},{\"jitter\":0.2,\"line\":{\"color\":\"gray\",\"width\":0.5},\"marker\":{\"color\":\"black\",\"opacity\":0.4,\"size\":2},\"meanline\":{\"visible\":true},\"name\":\"3\",\"pointpos\":-0.5,\"points\":\"outliers\",\"side\":\"negative\",\"y\":[5.4054749156324,10.146134847530725,7.68625945277619,11.443183354172325,5.945030033687345,12.599223152851536,9.34651293548247,5.620769661675486,11.31814965135331,10.067616741176009,5.21861097461204,7.694436084521683,7.759217794334339,11.18128102294542,7.620214275253561,12.77589896066313,10.255329339094931,9.44269439268905,7.759803737441766,6.620745103731297,5.882825448292724,9.749636351923922,9.509430296455164,8.064395362645259,7.314934246829665,6.5789744850984215,13.407123521238546,9.684750024632466,11.97447157966031,5.089753289587459,9.768755050117724,7.261874005862157,5.679219419672969,15.560624285158228,8.167105945507751,8.298574338769049,13.262842042624097,5.730831699346404,6.666445666019227,6.590419963491329,6.819650032753654,6.231255143961357,10.503406823272933,7.940685677756054,1.022006469752709,10.801301598401206,4.338430495522953,5.827577873739507,8.643938118016234,6.2355946659875805,7.369810129558131,7.806048081839864,6.669550262938739,14.166377361050339,6.722054153996912,2.827861339032498,8.985968566897931,8.93529891468846,6.963003684396901,10.939835484908475,8.95018844457807,8.54811220370266,7.390923863186747,7.108678489286591,11.039218927087244,8.341826352195836,10.927595019474479,8.128542423949664,8.709459030652045,6.660673523817318,14.46343095978423,10.524609075406072,9.47270699308777,13.460665691259091,8.593502998725816,11.114067220398494,4.350040874376495,3.7354574457721625,8.177798445645816,5.166697836782929,11.519741762207422,9.063146606925786,10.701590176221057,3.544434440020236,6.615960721982875,7.763884167695405,11.35720165709538,9.04800279331549,6.8448409080019115,2.377628918274506,7.267781464236092,13.412296080054361,11.801223980848437,9.208859815763592,5.762278241548852,6.931180504687912,5.966596243636166,3.809956378906337,3.1770045541773446,5.231256514074466,11.836852494440707,5.879548458112152,14.423837704696439,11.209749967445813,6.864353138628276,4.131216914607824,6.325984273231356,7.491754011688149,10.012954627750068,7.5591969274814605,7.416114485052748,9.619654279839823,7.971334015804211,11.472960675760854,3.2896515860133966,9.778550001447986,9.001568307294992,11.344268660662886,8.553915646735275,3.8726086308819574,11.517197806501116,9.01804784245467,4.257011807770809,12.932224288797375,4.962692044653659,12.743419255047318,9.396102668693851,11.438029698510958,8.953913565171149,4.759760386498678,9.051030993237248,7.0584444575366065,11.949281480196369,9.92521563493144,6.897939282085401,4.478425955884675,7.771930819608231,10.117207554709395,2.3997673094069794,11.705135531961341,13.629466344425213,8.38371076474729,9.952348939111541,3.4691776151281264,9.417483594210358,1.585920009543653,10.877585817162943,6.64365887686438,11.515475736629375,9.56422582200941,7.973583973322901,2.523537022654393,5.556704221598889,15.922954281714386,12.417230626834336,8.133999793119386,8.070302027369104,7.968545384498533,8.665484627833909,8.971179605093841,7.332073753793727,4.758037851593915,8.067058104791501,7.694703624163275,8.362800487401215,5.077473561228536,2.901152027106944,10.037721429325137,7.684994195481285,5.123190014145496,10.286072590842831,15.414393090583317,5.669770034487525,2.2195212521074525,8.601430652334281,4.43419422141106,9.952592901399733,8.278694648466011,7.440417827725712,4.515732989302389,13.491889981017426,9.867211741684798,7.015765429027092,6.814336117039004,7.910367048145592,8.428657055705333,4.444813466676715,4.6030946961821435,6.876013225002107,7.132013691729698,6.461014323741275,10.991879425766854,7.0221194413366455,7.657205632369744,11.483123312018828,7.743192179291,9.540749223136899,7.826635476316492,10.88444246955036,14.414745200262665],\"type\":\"violin\"},{\"jitter\":0.2,\"line\":{\"color\":\"gray\",\"width\":0.5},\"marker\":{\"color\":\"black\",\"opacity\":0.4,\"size\":2},\"meanline\":{\"visible\":true},\"name\":\"6\",\"pointpos\":-0.5,\"points\":\"outliers\",\"side\":\"negative\",\"y\":[7.042237592420552,15.508251114222528,9.584177098661877,15.151960696814214,10.612490792479848,21.017532631820373,13.388939657835664,6.981533239951565,18.947839595342813,13.616880566202278,8.756581690489138,10.863018413808707,3.917610447722727,17.87790460089611,11.560107717193876,19.501350157018535,15.217561386752486,11.829547323826517,14.322006775493474,12.254297451490014,8.787240470752684,15.601141601820132,12.615482088736657,12.733791243265467,9.177336412968915,8.978374986496746,20.944251861761515,15.43223216363078,17.65033741549847,2.159669642867432,14.613472727471196,12.561280610132998,6.718228399133821,20.99877282244525,10.303480453866438,15.346429213310259,24.945740211691486,7.7439024782387955,12.436306612885925,8.976851766101351,7.420752724992178,9.946920373811517,13.882120724370225,11.736935060977817,1.3492468269034255,17.06381482838542,4.730549165775653,9.898188705057834,14.064000165377541,12.654562242983788,12.874545551742,15.515695296636551,11.581197986285936,22.214590006227734,10.303816088250176,1.4839478251336067,15.716385296134217,12.41186268236764,11.687863366303073,18.71323568874327,15.024553860386916,7.754000947892429,15.97742054264181,11.028579197128776,19.56877697273767,13.604350022111298,17.709570532766023,15.541203252849847,10.681054287534868,9.332026910779586,24.24094609543056,17.556504963876424,10.925951478044155,25.08767519992149,14.32896042181401,17.201275224080458,6.782313582992839,4.276377056959074,13.650011445092947,8.81473659341103,19.38557256179683,15.281221716702365,18.0295285527618,8.844336805916358,9.972626095266437,10.85222378755773,16.05437744965688,14.973446340240741,10.533515394093051,4.357504710978149,10.596580877862639,22.861759214499187,19.687520802566727,12.128211858685082,6.7990928129500965,11.762152534906264,10.306998660219758,3.9799960846728393,4.463924280901611,8.0044240168205,19.75459164447375,10.913345885812314,25.978861496412,18.584242277879444,9.25276999746104,6.101084898645613,9.23033934340593,10.946089293676613,19.049089033337797,8.381900763888131,13.457428425366315,6.1916694815132765,12.94127442083946,18.823161590589642,5.547094557468179,19.00034111477556,12.442925035452687,19.81619347928492,12.03502279897527,4.109091916556859,16.69893544722427,9.883650922323419,5.991835580551963,19.893717534136574,6.274373189615245,19.817681931047403,13.09596134943196,19.22767788583103,13.16127822653403,5.865037996268331,12.949960803876,13.110084184916726,22.253306694356578,15.601494051917275,2.4067338518740367,7.485734135225039,14.955979906789018,13.288428502452016,1.8952997955722306,16.66653103976412,21.71030439754441,14.069798284089885,15.87912819227427,3.3914605022379702,15.025568339323733,1.8040834235193999,19.25695571539955,8.523064236794028,23.498728392613884,12.47739681299214,5.385052863169714,5.426795527764829,10.191799994523873,25.543125564964523,20.63936986817953,6.007645892451753,9.228694297521947,7.1855015316869295,12.397362876816683,14.2181851041213,12.598169891384577,2.566159274344944,11.893822390030774,14.769642685468249,14.95722947580715,5.405847408669716,5.141140827822513,15.922627657981936,11.92108028658026,4.988651175643911,17.644668759283153,23.6973899519528,6.743689162678581,1.6263986375987207,13.98305994905374,8.038160228273226,13.620771798922489,16.99900239589567,11.685647495024815,6.227538802587143,23.41958551559127,14.808621911508995,6.483097730227067,12.16127774280167,13.28439494287532,6.449642107643907,9.230815612281567,1.4885987070933253,8.977088262395363,15.64944498757716,11.381576658260526,15.198725148260518,11.188132407284439,11.12630371177443,19.38142351740849,11.195002550199957,13.794663279178414,15.59446915194876,15.145293206539321,22.82437931059824],\"type\":\"violin\"},{\"jitter\":0.2,\"line\":{\"color\":\"gray\",\"width\":0.5},\"marker\":{\"color\":\"black\",\"opacity\":0.4,\"size\":2},\"meanline\":{\"visible\":true},\"name\":\"9\",\"pointpos\":-0.5,\"points\":\"outliers\",\"side\":\"negative\",\"y\":[8.502464704563117,12.361952314416044,11.112641858433701,18.566050912443593,9.633994829062823,12.725418580638927,9.965590808809022,8.195446509230642,23.867026844105872,7.514594953529306,11.998076449565202,12.307591884810144,1.2736094444920245,24.194801968418243,15.185523254853326,25.746169777856842,19.797223421801043,13.633241474713238,13.03425908368379,17.280234316594605,11.378395328504396,20.9251029788884,15.344244421929744,16.774593793910924,10.879796452342335,10.656299184889978,27.990489807678294,19.788936933025706,20.743976407633383,-3.260332565719057,17.58035102918689,8.6839173773278,7.439036308031701,9.602151893932838,8.273292353484393,21.653423663039163,35.7003541114528,8.040685618563174,17.74771371403501,11.173665609923582,3.8014515490107037,13.329522270351402,16.280000654734184,15.231547057661286,1.6411921702061545,20.961353308876788,5.001486908026482,13.529757522965836,19.053402058143988,18.38120216566257,15.96925768578578,12.549373076206388,16.02045434088575,29.623318295103875,13.577396084183192,-0.8690362800515965,15.69146106955992,0.5576337072262643,13.082634946852696,25.062012686704776,20.291311538712677,7.2937806555244125,23.637807371355727,14.473791173283612,27.438369850595656,10.136094553387153,23.95267278694943,14.242104439561249,-2.1853924618583704,11.715257355404326,33.491833690319325,24.008981482763787,11.908822436914274,35.30556640732796,16.423420628046415,20.63560734017993,6.587473102611391,4.758954948557991,7.869044294151391,9.228118334960865,13.038172003541616,19.38921757543949,24.964151288889244,13.57261002282938,12.97833040284808,13.607465771416466,0.9362029543771987,20.442119165485657,13.86547215188813,5.878312233997584,12.295250963645344,31.559396873726193,26.72322890981213,14.864055343796093,7.780701064203118,16.22041880769725,14.25737672797047,4.131695895487633,4.829226957391932,3.6678455435126884,27.029476489006175,15.404215323307342,36.64160893349212,20.52232419619132,11.38358046984175,6.0790044763019555,6.8257586753481085,13.130906235602806,27.34825741343519,6.773597573202704,18.85446867326446,-1.805850593609028,17.516319876885,25.323705154779816,7.5610575332214935,23.72863468289156,15.142204889084747,24.902590989458044,14.69506832286434,4.271852448287802,20.51059378219536,10.655893045991856,7.539547257843721,21.813097881372045,7.444580940236854,24.145908606902577,16.511190456136468,26.45523957879204,16.995613278628017,6.72665462521475,16.539094669897285,10.805627679127443,27.932695011213074,20.94153709327343,-0.19610539455215092,10.227247468861226,21.238329136992565,10.02583331699342,1.4452424031713593,21.112873784834104,28.074099973424687,18.50920952279983,21.334985209627142,2.4555551982611403,20.201146914259713,1.998716485715901,27.085385907564905,9.853747462757923,32.92793822271864,13.365499377138768,-8.845413046688414,8.098506331759635,14.4585282046332,32.769381331855875,26.906735644564247,1.9218095684567167,10.025962164434215,6.646568594258129,15.06121115529157,18.36353176334759,17.29628310291948,1.2958751086803781,14.488841288210734,8.84459792763566,20.222259940941292,-1.9106121588206686,6.876349770478979,15.868739015370924,12.174375003579682,4.868623230972805,24.418575274506836,31.47465236094542,7.5302635931528865,1.2181797213808934,18.784245312543035,10.640713289827781,14.179454888645324,17.061638888918758,14.761037631016084,3.3011987939061784,32.558459268392646,12.309873542424803,-2.129414121116394,16.77870720782003,9.212372500264701,1.475316719537229,13.413669869071363,0.21372205796179022,10.477528550234418,23.248215586247884,15.911167419094376,19.072106936750615,11.65611752334725,13.901493829124249,18.988707739854647,13.77491903408407,17.51947480196612,22.524491138549617,18.360053619448628,30.126222041413136],\"type\":\"violin\"},{\"jitter\":0.2,\"line\":{\"color\":\"gray\",\"width\":0.5},\"marker\":{\"color\":\"black\",\"opacity\":0.4,\"size\":2},\"meanline\":{\"visible\":true},\"name\":\"12\",\"pointpos\":-0.5,\"points\":\"outliers\",\"side\":\"negative\",\"y\":[9.928910384450486,9.983957476723031,12.077213932085114,21.899303507263152,8.435761098524905,7.400733816113662,5.796855637813787,9.091314141953257,26.597652316523934,4.0092730052688825,15.160592097150923,12.847947445945312,-6.62743114600776,29.36181434619475,17.249385199519025,30.61613232427745,23.753023824685798,12.276377757630817,11.39659534769946,22.1989077707057,13.909605454671466,26.156868830167703,16.150410481989848,19.587160790496686,11.792799413930885,5.761816202130833,32.55747933128888,16.679820451833844,22.131581093825144,-8.925968008081142,18.094207250580652,5.971153208739571,4.808169968220081,-6.99061729571655,4.164338799595275,27.86947483611303,46.263782649454654,7.939865303338461,21.4759656736308,13.33142656981343,1.2793328355810458,16.65330694769763,11.163968251257298,18.664035152771177,1.9263835423244497,22.881422016759483,3.846813279171314,17.07731228923583,23.288424841858205,23.97535988950818,17.359503453859162,9.876321409650119,20.380793797322262,36.512329200561794,16.814261258189966,-1.9179456383228424,14.736502990426835,-5.770282892988217,13.307040993565682,25.830491552479145,23.619871139979598,1.8301910504915493,31.120975987613832,16.924371444679004,34.15001697752933,7.622929156416226,30.07049961194393,12.475899181558583,-8.826876933560133,14.043353268459041,41.04939639463576,27.3553719430779,7.904701696127759,37.89309737032855,16.980041744990356,22.259618849950723,6.1356926214967045,5.230368705332422,4.220626583498392,8.967490420544287,8.730674339414184,21.523805205164287,29.530249337439926,18.191497624292705,15.944620372564703,16.29896697163194,-10.967309020565267,25.38358492391386,16.40464348213805,5.022208178431506,12.990335951512467,37.62483388933311,33.596170352322254,17.051685198884705,8.419135373614953,20.288356241400752,18.137528716687385,4.279886226965092,4.8802986042652154,1.1391152121433525,34.12374819023065,19.791191331895376,46.47265452390368,20.709204442604914,13.465095987333507,5.790879082006659,2.909253000465814,13.64461713508829,35.381913893385516,3.0281679823318997,24.150316007006186,-14.772850751006693,22.00929709759866,30.032196187918828,9.528428747142224,25.67268768107585,14.159987161821102,24.919340064670585,12.793272566693208,1.9092824519278824,16.06866789917855,11.410269835721195,9.051453602703186,20.17029170020966,8.587716673414356,24.391069100486693,19.882367811897105,29.624079231886395,20.004769948489894,7.251008909494147,19.025019835954016,8.719318077131595,30.437380759659632,25.8560012129752,-5.543525349562559,12.919809218661703,25.58393743830058,-0.47806128115166047,1.0055968043554468,25.481858182292527,31.98981884906456,21.238629472236624,26.583287050998134,1.9978042383215635,24.660482412506266,2.18884683490614,34.58507935695289,6.883361480757326,38.93919697606428,13.523373110149493,-19.077803729576946,10.656807457906128,18.649406564411944,37.21359842857646,30.633524358068264,-4.920113603677474,4.960114641853318,2.655996296407851,8.935091801629367,20.923213538118794,21.88570843168373,-2.938212036594204,15.440967055294072,4.867584484370965,19.05018499094577,-5.5952368739799505,6.047753855744924,11.73217105785657,11.733042419455765,4.751372057016311,31.072061747888988,37.989485707883674,6.5483485029541715,0.049110655201627496,23.474358284105723,12.107906264255941,9.940581397127541,15.879977239516759,16.603929925578385,1.61877337951193,41.5348707780529,10.306988848690919,-6.362489887913405,18.684601614009654,5.064943125208456,-3.2291976619959515,14.560151743397448,-1.0316611301418435,7.621797444555831,30.671193424960396,20.36023540913115,22.882161660499605,11.386666625284342,15.695202510423655,17.657909039640543,15.278553646979462,18.328721444956777,29.294191442090618,15.87654183311692,34.93073482677607],\"type\":\"violin\"},{\"jitter\":0.2,\"line\":{\"color\":\"gray\",\"width\":0.5},\"marker\":{\"color\":\"black\",\"opacity\":0.4,\"size\":2},\"meanline\":{\"visible\":true},\"name\":\"15\",\"pointpos\":-0.5,\"points\":\"outliers\",\"side\":\"negative\",\"y\":[11.342550417470617,7.8987990313811505,12.923004500502957,22.95148772908069,7.385082962748298,2.7317534311167257,2.87680892789595,9.876860826339303,29.025930726511966,0.9356113014233158,18.073297644953463,13.321761326405465,-14.944967126686349,30.790955502481722,15.006936792207469,34.907748779351785,27.221690151133654,7.517592760158544,9.960600485189673,27.084293844913013,16.418092119665488,31.13910151035345,13.371840238081944,22.05337633181035,11.218830965336902,-4.281802054295125,29.315733609064434,5.445534418152765,23.348310240708187,-12.616421197756374,16.463037802511618,3.592450372295281,-0.32329616821094875,-24.44933772172176,-0.4389664555150252,34.01837866590111,53.19649517159245,7.851460430285082,19.173885499385705,14.435748533127434,-0.55266372826025,19.810190723804062,-0.28424129213425164,21.41062751204185,2.209014662725272,24.565045302359263,1.6616393190384187,20.593019552148608,22.470216890160305,29.51929711821233,18.578548448566302,7.532440687768588,24.710841734364095,36.95828288888337,19.929364091457877,-2.957438599408829,13.899142508371435,-11.318952945132999,13.503812725808139,20.216817720041377,23.31184489856056,-5.939498933520583,38.53696586989583,19.09591374118708,40.0351633482124,5.4192456298257925,32.287084023693545,10.927191946441338,-14.650500776651471,16.35054913985366,41.73545083281927,22.92150794643015,0.5881611863465634,27.316788861625987,17.468118171591698,23.683642679265027,5.739546309159846,5.697550434077823,1.021490569093545,8.738957335354574,4.953620266946549,23.395530640722313,27.225701868866622,22.768920034071485,18.880919060412513,18.966305727810155,-19.177684633595433,29.72930528947873,18.63113046159599,1.4550507307162914,13.599825219395996,37.21482329517198,40.407411260221664,18.521752023009913,8.096289875677705,23.872188860902817,21.98446025906265,4.426746207706186,4.9250810714113955,-1.0782165138285171,40.640242774898844,24.138784091345492,55.15745767695312,20.873071461263837,15.527925092123382,5.538234673491086,-1.0250570606757883,12.614623917691917,42.68818773438713,-1.5342426072587614,29.40937278723035,-28.640525246805094,23.892724933526964,34.16086362096495,11.478138257307275,27.37734172962773,8.659460201612031,20.770479795630486,6.549694455043609,-1.9841364090421683,3.5774016023212023,12.157874350200288,10.549787093706867,16.822827344310152,9.720590121299862,21.19478804980085,23.059619033998118,25.763924919357272,22.643366275073642,7.710791978346994,17.41827480745771,6.889925507832333,32.63362885841451,28.126650882767827,-9.730298609692182,15.460707859133144,26.379898795465927,-13.978118577387246,0.5698980409233518,29.805652045438222,35.423339457898045,21.62830156528775,27.68347470541318,1.5964226773623804,28.57067638230611,2.377270324773315,39.672155150389315,0.3272600429161523,44.08774037972012,13.66180560062354,-26.04200343104471,12.958220455236791,22.398315493072655,40.45883470112208,33.90138046801882,-12.137889263696078,-4.049442035416305,-2.719802370336061,-3.969399457213961,23.167685218768362,26.43393306075579,-7.611756633082988,14.626661251619844,1.3803173811613885,9.471356231314648,-8.826121199050725,2.2068714777419594,6.179397035812092,11.346057405702773,4.635173483344298,34.08543223927906,43.78296758289345,3.8697060505641563,-1.1565050044994138,28.122366651667164,13.394422859251364,3.3247959622258363,14.843830428483866,18.235845313179045,0.14352899291810717,48.35642603026609,8.550747889603246,-10.07428671171557,16.69181285783832,2.2185393777388835,-6.275929613021752,10.162905410466074,-2.2658641142535316,0.9925839873873725,38.02753288113212,24.095060735561443,25.273011726038646,11.1503970561575,17.241412875179517,16.49099054816765,16.597024302178056,14.402984762027991,36.003677453214905,7.294125337216597,35.02565153903785],\"type\":\"violin\"},{\"jitter\":0.2,\"line\":{\"color\":\"gray\",\"width\":0.5},\"marker\":{\"color\":\"black\",\"opacity\":0.4,\"size\":2},\"meanline\":{\"visible\":true},\"name\":\"18\",\"pointpos\":-0.5,\"points\":\"outliers\",\"side\":\"negative\",\"y\":[12.74992282291337,5.922271861588595,13.7247316030396,23.600393583520443,6.38914239673002,-1.6939853776497993,0.38812317413637615,10.62148259286004,31.14397739950677,-1.9779207049655179,20.834258888433975,13.770890748897092,-20.074580059666093,31.67233924107843,13.623968040671171,38.379113126300794,30.509648077781595,4.582742186930566,8.59941718146578,31.89950563257827,18.91545695745674,35.86177296097526,11.658233000213743,24.391108524602476,10.864851615728654,-10.475929128294737,27.316475557198554,-1.4829044332015704,24.50165099669444,-15.78373148317195,15.457058638023991,1.3376716916452775,-3.487987665731333,-34.45441042018115,-3.2779291272166637,39.92356415702456,57.61706023568811,7.767661218830697,17.75414048654973,15.119608708474042,-2.2892180855643303,22.802609153783788,-7.344611648235982,23.266317881730004,2.4903926871805555,26.160956239361646,0.31399299736663794,24.093139294054605,21.96560950447067,35.03865430167387,19.7340844028394,5.310669991973428,28.675611653504422,37.23331263478933,22.722281563388176,-3.9923227870372506,13.105406306409678,-16.578551869244233,13.690333167963699,16.754737834914447,23.12187813495218,-10.73124282491232,45.920075622468445,20.895990616384818,45.61370905877424,3.3303682233640024,33.654101863265915,9.459168288500074,-20.17072912171324,18.647515643037202,42.158556152245765,20.18704353868499,-3.9241152679666462,20.794139682889444,17.93076709905217,25.033478609504044,5.364038178671511,6.162660828453527,-2.010978881607896,8.522330223203195,1.373340777804452,25.16974410003947,25.80443521891811,27.326047617592447,21.677920728292246,21.621818357471323,-26.96032125377708,33.84862504457526,20.741623318618668,-0.7448961149067134,14.177561697839657,36.961960470101914,47.188453303505014,19.482891180886615,7.89718374073116,27.269313218747033,25.303121497793455,4.57295505824845,4.967530489726885,-3.180031085865981,46.844994638962056,28.46710101483357,63.389805409089156,21.028401438009407,17.581608272528467,5.298752373809207,-3.3834457790629706,11.979403758679911,49.613823909927405,-4.347984612056709,34.524574470676946,-37.19303437938245,25.054277562546698,38.07443833089099,13.41920337932857,28.993187779075168,5.267160555144464,18.21178363658798,2.6991383105738533,-4.385296083799869,-4.126245459692282,12.902164225505356,12.041477453357118,14.758370207617158,10.848440770830578,19.22356909196307,25.784699000449184,23.38328027567923,25.144498667228675,8.146621557619678,16.42735873622115,5.155839483968086,34.7154582032286,29.53063664897193,-12.704785845425965,17.869232358089068,26.870786202696294,-22.303909852860375,0.13613102639458155,33.96780767977259,38.67798266634324,21.86862117590558,28.361985364635473,1.2159520408901212,32.27715952227922,2.5648584050718295,42.990790467099664,-3.7160363306238064,48.00259917714135,13.793026122334679,-32.64338662951929,15.139735883544374,25.100064791605327,42.64505386086301,36.998989862587635,-16.589255083778557,-9.605839903045105,-6.0351792354459874,-11.927891800888268,25.29522582321938,30.961992316935333,-10.494037498483582,14.12446040854991,-1.9252722701410998,3.5638754434832727,-11.888684962060063,-0.16188773736311166,2.754875382936678,10.979233294235211,4.519490096965839,35.94411445054111,49.27472060160124,2.2177265366845886,-1.9000355064477097,32.74976723733898,14.61391532049521,-0.7553089460403609,13.861664143985912,19.583345202444793,-1.2548590435095663,52.875080740455154,6.8860024692430315,-13.592708675418569,15.462814870995821,-0.4795742438115423,-8.90631081930025,7.451023945766568,-3.4945950430105017,-3.095802220984199,45.35125668135196,26.677254724827137,26.79112848724505,10.926436510682866,18.429310830392403,15.384865444459066,17.846806101162336,11.981893975726228,42.68229940149672,2.0011545526244343,35.08418882708447],\"type\":\"violin\"}],                        {\"height\":400,\"margin\":{\"b\":30,\"l\":50,\"r\":20,\"t\":50},\"showlegend\":false,\"template\":{\"data\":{\"barpolar\":[{\"marker\":{\"line\":{\"color\":\"white\",\"width\":0.5},\"pattern\":{\"fillmode\":\"overlay\",\"size\":10,\"solidity\":0.2}},\"type\":\"barpolar\"}],\"bar\":[{\"error_x\":{\"color\":\"#2a3f5f\"},\"error_y\":{\"color\":\"#2a3f5f\"},\"marker\":{\"line\":{\"color\":\"white\",\"width\":0.5},\"pattern\":{\"fillmode\":\"overlay\",\"size\":10,\"solidity\":0.2}},\"type\":\"bar\"}],\"carpet\":[{\"aaxis\":{\"endlinecolor\":\"#2a3f5f\",\"gridcolor\":\"#C8D4E3\",\"linecolor\":\"#C8D4E3\",\"minorgridcolor\":\"#C8D4E3\",\"startlinecolor\":\"#2a3f5f\"},\"baxis\":{\"endlinecolor\":\"#2a3f5f\",\"gridcolor\":\"#C8D4E3\",\"linecolor\":\"#C8D4E3\",\"minorgridcolor\":\"#C8D4E3\",\"startlinecolor\":\"#2a3f5f\"},\"type\":\"carpet\"}],\"choropleth\":[{\"colorbar\":{\"outlinewidth\":0,\"ticks\":\"\"},\"type\":\"choropleth\"}],\"contourcarpet\":[{\"colorbar\":{\"outlinewidth\":0,\"ticks\":\"\"},\"type\":\"contourcarpet\"}],\"contour\":[{\"colorbar\":{\"outlinewidth\":0,\"ticks\":\"\"},\"colorscale\":[[0.0,\"#0d0887\"],[0.1111111111111111,\"#46039f\"],[0.2222222222222222,\"#7201a8\"],[0.3333333333333333,\"#9c179e\"],[0.4444444444444444,\"#bd3786\"],[0.5555555555555556,\"#d8576b\"],[0.6666666666666666,\"#ed7953\"],[0.7777777777777778,\"#fb9f3a\"],[0.8888888888888888,\"#fdca26\"],[1.0,\"#f0f921\"]],\"type\":\"contour\"}],\"heatmapgl\":[{\"colorbar\":{\"outlinewidth\":0,\"ticks\":\"\"},\"colorscale\":[[0.0,\"#0d0887\"],[0.1111111111111111,\"#46039f\"],[0.2222222222222222,\"#7201a8\"],[0.3333333333333333,\"#9c179e\"],[0.4444444444444444,\"#bd3786\"],[0.5555555555555556,\"#d8576b\"],[0.6666666666666666,\"#ed7953\"],[0.7777777777777778,\"#fb9f3a\"],[0.8888888888888888,\"#fdca26\"],[1.0,\"#f0f921\"]],\"type\":\"heatmapgl\"}],\"heatmap\":[{\"colorbar\":{\"outlinewidth\":0,\"ticks\":\"\"},\"colorscale\":[[0.0,\"#0d0887\"],[0.1111111111111111,\"#46039f\"],[0.2222222222222222,\"#7201a8\"],[0.3333333333333333,\"#9c179e\"],[0.4444444444444444,\"#bd3786\"],[0.5555555555555556,\"#d8576b\"],[0.6666666666666666,\"#ed7953\"],[0.7777777777777778,\"#fb9f3a\"],[0.8888888888888888,\"#fdca26\"],[1.0,\"#f0f921\"]],\"type\":\"heatmap\"}],\"histogram2dcontour\":[{\"colorbar\":{\"outlinewidth\":0,\"ticks\":\"\"},\"colorscale\":[[0.0,\"#0d0887\"],[0.1111111111111111,\"#46039f\"],[0.2222222222222222,\"#7201a8\"],[0.3333333333333333,\"#9c179e\"],[0.4444444444444444,\"#bd3786\"],[0.5555555555555556,\"#d8576b\"],[0.6666666666666666,\"#ed7953\"],[0.7777777777777778,\"#fb9f3a\"],[0.8888888888888888,\"#fdca26\"],[1.0,\"#f0f921\"]],\"type\":\"histogram2dcontour\"}],\"histogram2d\":[{\"colorbar\":{\"outlinewidth\":0,\"ticks\":\"\"},\"colorscale\":[[0.0,\"#0d0887\"],[0.1111111111111111,\"#46039f\"],[0.2222222222222222,\"#7201a8\"],[0.3333333333333333,\"#9c179e\"],[0.4444444444444444,\"#bd3786\"],[0.5555555555555556,\"#d8576b\"],[0.6666666666666666,\"#ed7953\"],[0.7777777777777778,\"#fb9f3a\"],[0.8888888888888888,\"#fdca26\"],[1.0,\"#f0f921\"]],\"type\":\"histogram2d\"}],\"histogram\":[{\"marker\":{\"pattern\":{\"fillmode\":\"overlay\",\"size\":10,\"solidity\":0.2}},\"type\":\"histogram\"}],\"mesh3d\":[{\"colorbar\":{\"outlinewidth\":0,\"ticks\":\"\"},\"type\":\"mesh3d\"}],\"parcoords\":[{\"line\":{\"colorbar\":{\"outlinewidth\":0,\"ticks\":\"\"}},\"type\":\"parcoords\"}],\"pie\":[{\"automargin\":true,\"type\":\"pie\"}],\"scatter3d\":[{\"line\":{\"colorbar\":{\"outlinewidth\":0,\"ticks\":\"\"}},\"marker\":{\"colorbar\":{\"outlinewidth\":0,\"ticks\":\"\"}},\"type\":\"scatter3d\"}],\"scattercarpet\":[{\"marker\":{\"colorbar\":{\"outlinewidth\":0,\"ticks\":\"\"}},\"type\":\"scattercarpet\"}],\"scattergeo\":[{\"marker\":{\"colorbar\":{\"outlinewidth\":0,\"ticks\":\"\"}},\"type\":\"scattergeo\"}],\"scattergl\":[{\"marker\":{\"colorbar\":{\"outlinewidth\":0,\"ticks\":\"\"}},\"type\":\"scattergl\"}],\"scattermapbox\":[{\"marker\":{\"colorbar\":{\"outlinewidth\":0,\"ticks\":\"\"}},\"type\":\"scattermapbox\"}],\"scatterpolargl\":[{\"marker\":{\"colorbar\":{\"outlinewidth\":0,\"ticks\":\"\"}},\"type\":\"scatterpolargl\"}],\"scatterpolar\":[{\"marker\":{\"colorbar\":{\"outlinewidth\":0,\"ticks\":\"\"}},\"type\":\"scatterpolar\"}],\"scatter\":[{\"fillpattern\":{\"fillmode\":\"overlay\",\"size\":10,\"solidity\":0.2},\"type\":\"scatter\"}],\"scatterternary\":[{\"marker\":{\"colorbar\":{\"outlinewidth\":0,\"ticks\":\"\"}},\"type\":\"scatterternary\"}],\"surface\":[{\"colorbar\":{\"outlinewidth\":0,\"ticks\":\"\"},\"colorscale\":[[0.0,\"#0d0887\"],[0.1111111111111111,\"#46039f\"],[0.2222222222222222,\"#7201a8\"],[0.3333333333333333,\"#9c179e\"],[0.4444444444444444,\"#bd3786\"],[0.5555555555555556,\"#d8576b\"],[0.6666666666666666,\"#ed7953\"],[0.7777777777777778,\"#fb9f3a\"],[0.8888888888888888,\"#fdca26\"],[1.0,\"#f0f921\"]],\"type\":\"surface\"}],\"table\":[{\"cells\":{\"fill\":{\"color\":\"#EBF0F8\"},\"line\":{\"color\":\"white\"}},\"header\":{\"fill\":{\"color\":\"#C8D4E3\"},\"line\":{\"color\":\"white\"}},\"type\":\"table\"}]},\"layout\":{\"annotationdefaults\":{\"arrowcolor\":\"#2a3f5f\",\"arrowhead\":0,\"arrowwidth\":1},\"autotypenumbers\":\"strict\",\"coloraxis\":{\"colorbar\":{\"outlinewidth\":0,\"ticks\":\"\"}},\"colorscale\":{\"diverging\":[[0,\"#8e0152\"],[0.1,\"#c51b7d\"],[0.2,\"#de77ae\"],[0.3,\"#f1b6da\"],[0.4,\"#fde0ef\"],[0.5,\"#f7f7f7\"],[0.6,\"#e6f5d0\"],[0.7,\"#b8e186\"],[0.8,\"#7fbc41\"],[0.9,\"#4d9221\"],[1,\"#276419\"]],\"sequential\":[[0.0,\"#0d0887\"],[0.1111111111111111,\"#46039f\"],[0.2222222222222222,\"#7201a8\"],[0.3333333333333333,\"#9c179e\"],[0.4444444444444444,\"#bd3786\"],[0.5555555555555556,\"#d8576b\"],[0.6666666666666666,\"#ed7953\"],[0.7777777777777778,\"#fb9f3a\"],[0.8888888888888888,\"#fdca26\"],[1.0,\"#f0f921\"]],\"sequentialminus\":[[0.0,\"#0d0887\"],[0.1111111111111111,\"#46039f\"],[0.2222222222222222,\"#7201a8\"],[0.3333333333333333,\"#9c179e\"],[0.4444444444444444,\"#bd3786\"],[0.5555555555555556,\"#d8576b\"],[0.6666666666666666,\"#ed7953\"],[0.7777777777777778,\"#fb9f3a\"],[0.8888888888888888,\"#fdca26\"],[1.0,\"#f0f921\"]]},\"colorway\":[\"#636efa\",\"#EF553B\",\"#00cc96\",\"#ab63fa\",\"#FFA15A\",\"#19d3f3\",\"#FF6692\",\"#B6E880\",\"#FF97FF\",\"#FECB52\"],\"font\":{\"color\":\"#2a3f5f\"},\"geo\":{\"bgcolor\":\"white\",\"lakecolor\":\"white\",\"landcolor\":\"white\",\"showlakes\":true,\"showland\":true,\"subunitcolor\":\"#C8D4E3\"},\"hoverlabel\":{\"align\":\"left\"},\"hovermode\":\"closest\",\"mapbox\":{\"style\":\"light\"},\"paper_bgcolor\":\"white\",\"plot_bgcolor\":\"white\",\"polar\":{\"angularaxis\":{\"gridcolor\":\"#EBF0F8\",\"linecolor\":\"#EBF0F8\",\"ticks\":\"\"},\"bgcolor\":\"white\",\"radialaxis\":{\"gridcolor\":\"#EBF0F8\",\"linecolor\":\"#EBF0F8\",\"ticks\":\"\"}},\"scene\":{\"xaxis\":{\"backgroundcolor\":\"white\",\"gridcolor\":\"#DFE8F3\",\"gridwidth\":2,\"linecolor\":\"#EBF0F8\",\"showbackground\":true,\"ticks\":\"\",\"zerolinecolor\":\"#EBF0F8\"},\"yaxis\":{\"backgroundcolor\":\"white\",\"gridcolor\":\"#DFE8F3\",\"gridwidth\":2,\"linecolor\":\"#EBF0F8\",\"showbackground\":true,\"ticks\":\"\",\"zerolinecolor\":\"#EBF0F8\"},\"zaxis\":{\"backgroundcolor\":\"white\",\"gridcolor\":\"#DFE8F3\",\"gridwidth\":2,\"linecolor\":\"#EBF0F8\",\"showbackground\":true,\"ticks\":\"\",\"zerolinecolor\":\"#EBF0F8\"}},\"shapedefaults\":{\"line\":{\"color\":\"#2a3f5f\"}},\"ternary\":{\"aaxis\":{\"gridcolor\":\"#DFE8F3\",\"linecolor\":\"#A2B1C6\",\"ticks\":\"\"},\"baxis\":{\"gridcolor\":\"#DFE8F3\",\"linecolor\":\"#A2B1C6\",\"ticks\":\"\"},\"bgcolor\":\"white\",\"caxis\":{\"gridcolor\":\"#DFE8F3\",\"linecolor\":\"#A2B1C6\",\"ticks\":\"\"}},\"title\":{\"x\":0.05},\"xaxis\":{\"automargin\":true,\"gridcolor\":\"#EBF0F8\",\"linecolor\":\"#EBF0F8\",\"ticks\":\"\",\"title\":{\"standoff\":15},\"zerolinecolor\":\"#EBF0F8\",\"zerolinewidth\":2},\"yaxis\":{\"automargin\":true,\"gridcolor\":\"#EBF0F8\",\"linecolor\":\"#EBF0F8\",\"ticks\":\"\",\"title\":{\"standoff\":15},\"zerolinecolor\":\"#EBF0F8\",\"zerolinewidth\":2}}},\"title\":{\"font\":{\"size\":10},\"text\":\"\\u003cb\\u003eEfficient Frontier \\u003c\\u002fb\\u003e \",\"xanchor\":\"left\"},\"width\":550},                        {\"responsive\": true}                    ).then(function(){\n",
       "                            \n",
       "var gd = document.getElementById('c8650fa9-a775-4fc8-9b8d-dcbd4e0d5826');\n",
       "var x = new MutationObserver(function (mutations, observer) {{\n",
       "        var display = window.getComputedStyle(gd).display;\n",
       "        if (!display || display === 'none') {{\n",
       "            console.log([gd, 'removed!']);\n",
       "            Plotly.purge(gd);\n",
       "            observer.disconnect();\n",
       "        }}\n",
       "}});\n",
       "\n",
       "// Listen for the removal of the full notebook cells\n",
       "var notebookContainer = gd.closest('#notebook-container');\n",
       "if (notebookContainer) {{\n",
       "    x.observe(notebookContainer, {childList: true});\n",
       "}}\n",
       "\n",
       "// Listen for the clearing of the current output cell\n",
       "var outputEl = gd.closest('.output');\n",
       "if (outputEl) {{\n",
       "    x.observe(outputEl, {childList: true});\n",
       "}}\n",
       "\n",
       "                        })                };                });            </script>        </div>"
      ]
     },
     "metadata": {},
     "output_type": "display_data"
    }
   ],
   "source": [
    "ref_df = pd.concat(ref_,axis=1).transpose()\n",
    "\n",
    "mean_ref = ref_df.mean(axis=0)\n",
    "traces=[]\n",
    "temp = eff.iloc[2:]\n",
    "traces.append(go.Scatter(x=eff_v.index,y=eff_v,mode='lines',line={'color':'purple'}))\n",
    "traces.append(go.Scatter(x=expvol,y=expret,mode='markers',marker={'size':7,'color':'red'},opacity=0.7))\n",
    "traces.append(go.Scatter(x=mean_ref.index,y=mean_ref,mode='lines',line={'color':'black'}))\n",
    "for c in [3,6,9,12,15,18]:\n",
    "     traces.append(go.Violin(y=ref_df.loc[:,c],jitter=0.2,pointpos=-0.5,\n",
    "            points='outliers',name=c,side='negative',meanline_visible=True,\n",
    "            marker={'size':2,'color':'black','opacity':0.4},line={'width':0.5,'color':'gray'}))\n",
    "scat(traces)"
   ]
  },
  {
   "cell_type": "code",
   "execution_count": 51,
   "id": "cb4bf0fe",
   "metadata": {},
   "outputs": [
    {
     "name": "stdout",
     "output_type": "stream",
     "text": [
      "     3    7    12   18\n",
      "3   1.0  0.5  0.1 -0.6\n",
      "7   0.5  1.0  0.2  0.1\n",
      "12  0.1  0.2  1.0  0.5\n",
      "18 -0.6  0.1  0.5  1.0\n"
     ]
    },
    {
     "data": {
      "text/html": [
       "        <script type=\"text/javascript\">\n",
       "        window.PlotlyConfig = {MathJaxConfig: 'local'};\n",
       "        if (window.MathJax && window.MathJax.Hub && window.MathJax.Hub.Config) {window.MathJax.Hub.Config({SVG: {font: \"STIX-Web\"}});}\n",
       "        if (typeof require !== 'undefined') {\n",
       "        require.undef(\"plotly\");\n",
       "        requirejs.config({\n",
       "            paths: {\n",
       "                'plotly': ['https://cdn.plot.ly/plotly-2.27.0.min']\n",
       "            }\n",
       "        });\n",
       "        require(['plotly'], function(Plotly) {\n",
       "            window._Plotly = Plotly;\n",
       "        });\n",
       "        }\n",
       "        </script>\n",
       "        "
      ]
     },
     "metadata": {},
     "output_type": "display_data"
    },
    {
     "data": {
      "application/vnd.plotly.v1+json": {
       "config": {
        "linkText": "Export to plot.ly",
        "plotlyServerURL": "https://plot.ly",
        "showLink": false
       },
       "data": [
        {
         "marker": {
          "color": "red",
          "size": 3.5
         },
         "mode": "markers",
         "opacity": 0.8,
         "type": "scatter",
         "x": [
          -0.49335522594066183,
          1.1385185687875725,
          0.3492925816767362,
          1.0405400406309235,
          -0.34495844271140197,
          1.8539395412929185,
          1.1795428346596952,
          -0.22372725062926668,
          0.17322772603647682,
          1.5258250621381484,
          -1.2803578734306054,
          0.1974436681868738,
          1.174946981397256,
          0.16161375891082289,
          0.06348031521349717,
          0.3594545515034519,
          -0.009283785993864797,
          1.2540894835558534,
          -0.022812039871914096,
          -1.6596525558991817,
          -0.8326316118427831,
          -0.6897084270761357,
          0.9839985665603863,
          -0.43676236186119166,
          0.381200184994587,
          0.37603749607088127,
          1.1246539140802692,
          0.98657553723457,
          0.9748515057786417,
          0.04491776331832931,
          0.7646819682031282,
          0.24342480387315324,
          0.17315765656568394,
          3.457408553823855,
          1.0045640777008475,
          -1.6564267105371975,
          -1.1628347915858797,
          -0.11137164170525514,
          -0.7484341666885166,
          -0.22179844550298633,
          0.6184831844558472,
          -1.0265478759709274,
          1.5965242560510735,
          -0.350547024747468,
          -1.4396564453338065,
          0.3569266296008058,
          -0.23065153394358515,
          -1.3095518053245712,
          -0.1580240461180796,
          -2.096831766427178,
          -0.5343029365895826,
          -0.035964471783814525,
          -1.356633388338926,
          0.8300896165927528,
          -0.8129066384683417,
          -0.7090462201852105,
          0.2248122357885952,
          1.2559694857925776,
          -0.28838899367238024,
          0.7599424837901332,
          -0.10586012993668426,
          1.1977040800533512,
          -2.5639129635580655,
          -0.5073967760528763,
          -1.0051815354811933,
          0.5783336452628622,
          -0.09180512205374118,
          -0.03967820427027358,
          1.240520255133973,
          -0.4817178495969058,
          0.49153469865823635,
          0.4334968541645869,
          1.419297203590535,
          0.8767233683053419,
          -0.005381426524374997,
          0.5677525980570636,
          -0.5857897432833046,
          -0.6191834335534483,
          0.645502191543049,
          -0.5849326888666625,
          1.4501875944342313,
          -0.25747598517912934,
          0.20642634878134075,
          -2.553910818395678,
          -0.7660610175913605,
          -0.27792427361452376,
          2.0524908190852726,
          -0.808672767279886,
          -0.6020216562855927,
          -1.0738841872883955,
          -0.00977813617356208,
          0.45941984101842664,
          -0.818520672462825,
          0.5035402206481232,
          0.02779850095276798,
          -1.1232809839033557,
          -1.357049182580825,
          -0.44853442465390825,
          -0.8515624298573207,
          -0.06179431019820776,
          -0.7734292422432805,
          -1.6709170246550342,
          -1.1340722211457401,
          0.6219413075664013,
          -0.3025846421017479,
          -0.6004211681676154,
          0.30900917995986626,
          0.22593405073271863,
          -1.7838055758073466,
          0.8633513249736999,
          -1.5548459524249079,
          1.5548847599465478,
          -0.5477441643519186,
          -0.20647209168309177,
          -1.4426578192830974,
          -0.5586259289510832,
          0.9434369134426007,
          0.8051670016967203,
          0.8491741566355825,
          -0.37558393248877936,
          1.7223030786241733,
          1.0140267024088336,
          -0.9147301970860028,
          1.712089494058171,
          -0.5131396831932298,
          1.4563287502907392,
          0.044414351379508575,
          0.5880688330550005,
          -0.09680422740070052,
          -0.3840665133507987,
          0.4798262180707074,
          -0.07523968620233154,
          -0.15581737307336097,
          -0.11966510094346702,
          0.6476465436651649,
          -1.3321477200849376,
          -0.8949858634126491,
          1.6785764377710146,
          -0.653406574429598,
          0.29941104540362123,
          0.5422517081782727,
          -0.20166705623221948,
          -0.06627647582552808,
          -0.4952741282803914,
          -0.5171983898004384,
          -1.208800313391465,
          -0.8666877973530952,
          0.4239889293658104,
          -1.1646292316708402,
          0.9421032663449186,
          1.0061946594105664,
          -1.9159069965406952,
          -1.511802566849881,
          1.1393265947332012,
          0.15067916450268132,
          1.0596665978050293,
          0.9660021517029335,
          1.0534772315102148,
          0.9719741600193766,
          -0.1902395555551614,
          -1.2780730428414357,
          -0.06565404899444761,
          0.2968741674925765,
          0.26403798453351096,
          0.3058019781888145,
          0.04082452036959366,
          -0.9359888810928698,
          1.168035651544099,
          0.17538538474705856,
          0.10895894997136689,
          -0.5460026577224817,
          0.5188131561885615,
          0.14381765666180854,
          -0.874739525935931,
          -0.9003773700133014,
          -1.1635719444686548,
          1.4390845719937069,
          -0.35231138543658763,
          -0.31665365237059495,
          -0.23298540651438066,
          -0.6199056529673125,
          1.0582492667900179,
          0.6869218097991208,
          -0.4446437175892718,
          0.5225572622689527,
          1.1578856862171232,
          -0.9805700373609186,
          -0.11730173294989248,
          0.4776915686593525,
          -2.6230624425313445,
          -1.2706337732487594,
          0.6085035671861007,
          -0.057162467717478606,
          -0.083253902476552,
          0.9028859667443274,
          -0.039051727483706396,
          0.8262879513837449,
          -2.096808253271212,
          1.5477386290738462,
          1.1044845087355344
         ],
         "y": [
          -0.0350042876147264,
          -0.41431822992923023,
          0.0191517557245868,
          0.5677996435264101,
          -0.3883809779596521,
          -0.8374436321262587,
          -0.7217709347702782,
          -0.1532509670620194,
          0.9868876333016374,
          -0.8532178169489688,
          0.4141254938063998,
          0.021716152715329663,
          -1.8585877810911307,
          1.0162410689462886,
          0.01355378003470441,
          1.3888396181267544,
          0.9516471154232875,
          -0.48873654517081927,
          -0.2655879343720941,
          1.0288614242083312,
          0.3075253865265278,
          1.248987386720163,
          -0.09565372221248925,
          0.6117282513684162,
          -0.1397304657940818,
          -1.3253293960530803,
          0.7742486420615713,
          -0.825716912986886,
          0.6178694998103357,
          -1.6202073046208092,
          0.11539214655630585,
          -0.6690182393541643,
          -0.9371104258805925,
          -2.657467245643,
          -0.9254405070734899,
          1.4746424531731808,
          2.4576144575262853,
          -0.311796598956113,
          0.24300780476340825,
          0.09664492824684857,
          -0.870512115865127,
          0.5234782863209215,
          -1.1513673138226084,
          0.5492398823165141,
          -0.6049781840456325,
          0.7100531244079852,
          -0.7258892779245741,
          0.5951744052249481,
          0.4769783057757929,
          1.2032585724035156,
          0.3530046890388361,
          -0.4482961115725739,
          0.8497562029723187,
          1.3251840352648143,
          0.5190156424103528,
          -0.9651290437237791,
          -0.015255205175074416,
          -1.664363992746482,
          0.017240731550996726,
          0.1874854352629923,
          0.541215451940445,
          -1.3395134902747259,
          1.8077819792282668,
          0.41755503424410595,
          1.7907616143964078,
          -0.5583128764822849,
          1.126338992393283,
          -0.21782398398051284,
          -1.8639293956563774,
          0.2926397579463369,
          1.5988086751241208,
          0.3781690854792822,
          -0.9613397371120085,
          0.4118966489552341,
          0.2528203943889555,
          0.6474154782998105,
          -0.4453312122975636,
          -0.40096328730372477,
          -0.8550543823332301,
          -0.2698705431488214,
          -0.6670366235719184,
          0.6549857833322777,
          0.6902464010501689,
          0.7747804232007505,
          0.4609955960160807,
          0.45787879763695316,
          -2.2411289585662106,
          1.137145835807875,
          0.40897907336824396,
          -0.7847164507988535,
          0.04430898323123527,
          1.3101089150008163,
          1.8782474058590402,
          0.339049510048964,
          -0.30460090329369266,
          0.7716285121797349,
          0.6623956387902467,
          -0.4892802745394872,
          -0.467359417237947,
          -0.9200017269904692,
          1.859166368830667,
          0.8381722786496897,
          2.77832252274298,
          0.4249111910358095,
          0.2334226818195381,
          -0.44895820140480097,
          -0.9313025432835355,
          -0.07781090229884433,
          2.0129902172053398,
          -0.9848880340041885,
          1.174698581704235,
          -2.8096130211241377,
          0.6485709756970371,
          1.3719132406044459,
          0.002177965521764059,
          0.8673993212161503,
          -0.45071330249351343,
          0.26843242421736696,
          -0.5933812049723574,
          -0.9869608935537157,
          -0.9725691922186198,
          -0.026546431917354292,
          -0.07436236369664768,
          0.07657612254764318,
          -0.1406421793985608,
          0.3246427272839999,
          0.6891499444693752,
          0.5557377930703659,
          0.6535832592926859,
          -0.2907432467988006,
          0.16929770755679627,
          -0.4568978064603761,
          1.1853032334999005,
          0.8972575916073791,
          -1.4491547691926583,
          0.24940179767226306,
          0.7494881223691706,
          -1.982439436273457,
          -0.7357704985338005,
          1.1437670933205217,
          1.4054434814611187,
          0.47159006532803255,
          0.832332520253084,
          -0.6757804421728715,
          1.0498421956810473,
          -0.600841199712242,
          1.6450439148383718,
          -0.9497797961467296,
          1.923477732058277,
          0.022945895673841178,
          -2.5568548127567565,
          0.09776310464088324,
          0.6511147106446403,
          1.6258363255950075,
          1.3121661034756011,
          -1.6649586157688228,
          -1.27699110576776,
          -1.078621068638166,
          -1.4059939889551587,
          0.6619569901843503,
          0.976777350956125,
          -1.3263354165830996,
          0.04135891158558139,
          -0.8502929039070748,
          -0.5453402531456518,
          -1.4038158312218556,
          -0.7523270965221065,
          -0.5902847009628088,
          -0.13337592810163784,
          -0.49225055016857966,
          1.253561913919778,
          1.9941511445336757,
          -0.6201263035183769,
          -0.8488908614712609,
          1.0760981798579383,
          0.06855085114501883,
          -0.7852949414900143,
          0.026759119073295725,
          0.3446302890246352,
          -0.8130477246411713,
          2.1941711522471645,
          -0.36077764060195816,
          -1.498483815300455,
          0.11571193727490436,
          -0.7699763469353806,
          -1.2381283788514255,
          -0.3293875585716009,
          -0.9374775023890197,
          -0.9153223456378814,
          1.7761809267834383,
          0.7387363736005156,
          0.7450626937353886,
          -0.13630908274076647,
          0.28051726835448554,
          0.11138141352426237,
          0.24815589451002637,
          -0.077672556922888,
          1.627905522326483,
          -0.6321580804197682,
          1.205788268127995
         ]
        },
        {
         "marker": {
          "color": "black",
          "size": 3
         },
         "mode": "markers",
         "opacity": 0.8,
         "type": "scatter",
         "x": [
          -0.49335522594066183,
          1.1385185687875725,
          0.3492925816767362,
          1.0405400406309235,
          -0.34495844271140197,
          1.8539395412929185,
          1.1795428346596952,
          -0.22372725062926668,
          0.17322772603647682,
          1.5258250621381484,
          -1.2803578734306054,
          0.1974436681868738,
          1.174946981397256,
          0.16161375891082289,
          0.06348031521349717,
          0.3594545515034519,
          -0.009283785993864797,
          1.2540894835558534,
          -0.022812039871914096,
          -1.6596525558991817,
          -0.8326316118427831,
          -0.6897084270761357,
          0.9839985665603863,
          -0.43676236186119166,
          0.381200184994587,
          0.37603749607088127,
          1.1246539140802692,
          0.98657553723457,
          0.9748515057786417,
          0.04491776331832931,
          0.7646819682031282,
          0.24342480387315324,
          0.17315765656568394,
          3.457408553823855,
          1.0045640777008475,
          -1.6564267105371975,
          -1.1628347915858797,
          -0.11137164170525514,
          -0.7484341666885166,
          -0.22179844550298633,
          0.6184831844558472,
          -1.0265478759709274,
          1.5965242560510735,
          -0.350547024747468,
          -1.4396564453338065,
          0.3569266296008058,
          -0.23065153394358515,
          -1.3095518053245712,
          -0.1580240461180796,
          -2.096831766427178,
          -0.5343029365895826,
          -0.035964471783814525,
          -1.356633388338926,
          0.8300896165927528,
          -0.8129066384683417,
          -0.7090462201852105,
          0.2248122357885952,
          1.2559694857925776,
          -0.28838899367238024,
          0.7599424837901332,
          -0.10586012993668426,
          1.1977040800533512,
          -2.5639129635580655,
          -0.5073967760528763,
          -1.0051815354811933,
          0.5783336452628622,
          -0.09180512205374118,
          -0.03967820427027358,
          1.240520255133973,
          -0.4817178495969058,
          0.49153469865823635,
          0.4334968541645869,
          1.419297203590535,
          0.8767233683053419,
          -0.005381426524374997,
          0.5677525980570636,
          -0.5857897432833046,
          -0.6191834335534483,
          0.645502191543049,
          -0.5849326888666625,
          1.4501875944342313,
          -0.25747598517912934,
          0.20642634878134075,
          -2.553910818395678,
          -0.7660610175913605,
          -0.27792427361452376,
          2.0524908190852726,
          -0.808672767279886,
          -0.6020216562855927,
          -1.0738841872883955,
          -0.00977813617356208,
          0.45941984101842664,
          -0.818520672462825,
          0.5035402206481232,
          0.02779850095276798,
          -1.1232809839033557,
          -1.357049182580825,
          -0.44853442465390825,
          -0.8515624298573207,
          -0.06179431019820776,
          -0.7734292422432805,
          -1.6709170246550342,
          -1.1340722211457401,
          0.6219413075664013,
          -0.3025846421017479,
          -0.6004211681676154,
          0.30900917995986626,
          0.22593405073271863,
          -1.7838055758073466,
          0.8633513249736999,
          -1.5548459524249079,
          1.5548847599465478,
          -0.5477441643519186,
          -0.20647209168309177,
          -1.4426578192830974,
          -0.5586259289510832,
          0.9434369134426007,
          0.8051670016967203,
          0.8491741566355825,
          -0.37558393248877936,
          1.7223030786241733,
          1.0140267024088336,
          -0.9147301970860028,
          1.712089494058171,
          -0.5131396831932298,
          1.4563287502907392,
          0.044414351379508575,
          0.5880688330550005,
          -0.09680422740070052,
          -0.3840665133507987,
          0.4798262180707074,
          -0.07523968620233154,
          -0.15581737307336097,
          -0.11966510094346702,
          0.6476465436651649,
          -1.3321477200849376,
          -0.8949858634126491,
          1.6785764377710146,
          -0.653406574429598,
          0.29941104540362123,
          0.5422517081782727,
          -0.20166705623221948,
          -0.06627647582552808,
          -0.4952741282803914,
          -0.5171983898004384,
          -1.208800313391465,
          -0.8666877973530952,
          0.4239889293658104,
          -1.1646292316708402,
          0.9421032663449186,
          1.0061946594105664,
          -1.9159069965406952,
          -1.511802566849881,
          1.1393265947332012,
          0.15067916450268132,
          1.0596665978050293,
          0.9660021517029335,
          1.0534772315102148,
          0.9719741600193766,
          -0.1902395555551614,
          -1.2780730428414357,
          -0.06565404899444761,
          0.2968741674925765,
          0.26403798453351096,
          0.3058019781888145,
          0.04082452036959366,
          -0.9359888810928698,
          1.168035651544099,
          0.17538538474705856,
          0.10895894997136689,
          -0.5460026577224817,
          0.5188131561885615,
          0.14381765666180854,
          -0.874739525935931,
          -0.9003773700133014,
          -1.1635719444686548,
          1.4390845719937069,
          -0.35231138543658763,
          -0.31665365237059495,
          -0.23298540651438066,
          -0.6199056529673125,
          1.0582492667900179,
          0.6869218097991208,
          -0.4446437175892718,
          0.5225572622689527,
          1.1578856862171232,
          -0.9805700373609186,
          -0.11730173294989248,
          0.4776915686593525,
          -2.6230624425313445,
          -1.2706337732487594,
          0.6085035671861007,
          -0.057162467717478606,
          -0.083253902476552,
          0.9028859667443274,
          -0.039051727483706396,
          0.8262879513837449,
          -2.096808253271212,
          1.5477386290738462,
          1.1044845087355344
         ],
         "y": [
          0.476905144405763,
          0.8137153220472254,
          1.1941811178362018,
          2.4874897649269387,
          -1.1367776070770719,
          0.5625044616757574,
          0.04885540750754513,
          0.17706924333386181,
          0.0016621559557519418,
          0.7326328390799053,
          -0.14167430819780227,
          0.03343399362063519,
          0.6755471188415798,
          0.38342841218852625,
          -0.13812056105897602,
          1.500043742692279,
          2.14707052612781,
          0.9058255015629157,
          -0.93867088144412,
          0.9742867731699337,
          0.19225292405027697,
          2.3505018829908377,
          1.3454894348127024,
          0.04233093062244249,
          0.32478748308376637,
          -1.3001960688156138,
          1.0903538982009016,
          -0.07532191497166368,
          1.3326492854781746,
          -1.0786177501289034,
          0.14286541111463766,
          -1.2814861684629912,
          -0.707575229212945,
          -0.5953671474070826,
          -0.1689970804635423,
          -0.25101896755756575,
          0.7700618104472048,
          -0.2818491818843807,
          -0.6382883491347718,
          0.18723800196010915,
          0.13520966436337226,
          0.20779644141011835,
          -0.04688408796172448,
          0.4111660632227555,
          -1.434493227169344,
          0.8322592341158349,
          -0.9449093730943406,
          0.3882137966592625,
          0.324993105136423,
          0.6727171872187024,
          -0.9801558106942224,
          -2.0658561559004123,
          0.4273634360858357,
          2.6142152840085657,
          -0.2604254115187402,
          -1.0026169254554949,
          0.3525012884050089,
          -0.4075781032444096,
          -0.9861215700193607,
          -0.8487502865402501,
          -0.7529724485409386,
          -0.2799530441229896,
          1.0851648740019777,
          -0.5393156909207578,
          0.5774250730687236,
          -0.27271505234619714,
          0.8391651664358205,
          -1.303851801375959,
          0.06794924759930338,
          0.4010195192132552,
          0.7724695358358018,
          0.46986969771060416,
          0.13181617458576134,
          -1.3493651809877747,
          -0.47665725220245625,
          0.648021518999399,
          -1.5444509373904005,
          0.10527365436273689,
          -0.5201404870209224,
          -0.6585682493519539,
          0.20049001779105033,
          -0.19982260208596403,
          -0.3868517476801391,
          -0.4271484431145321,
          -0.13419422562755517,
          1.2758502813582397,
          -0.730400480955551,
          0.3039389810479682,
          1.006860580946782,
          -0.9854182648281606,
          0.8089678203007449,
          0.1667099970301471,
          3.0971638546494806,
          1.0376175846878934,
          -0.1214644279793167,
          1.5057242086487674,
          0.20937753074281068,
          0.5054562852119486,
          -0.13494903036638212,
          -0.6113742647376647,
          1.1390630399943442,
          0.6047903867316675,
          1.304624815834293,
          1.7179785443653774,
          1.426911232251422,
          0.06066557434312066,
          -1.2916994893072458,
          -0.4069596726417765,
          1.0100415301861476,
          -0.15357865537882964,
          0.17327366379492865,
          -1.4005926361066783,
          0.5940868868512097,
          0.8869337523953184,
          -0.6694101284369889,
          0.29781612402740454,
          0.4744344895378952,
          -0.9194055273972978,
          -0.5073104193320084,
          -1.0301155351306603,
          -0.08865494169362804,
          2.723055022103222,
          0.40279564788270966,
          0.7003944325249547,
          0.6132386207832642,
          0.6100049775246204,
          1.132747366393757,
          -0.38675150853325474,
          0.631404674951976,
          -0.5201453768869864,
          1.2607968223065262,
          -1.7070837064085362,
          -0.5173168459509053,
          0.30731300842785314,
          0.0059387515698995615,
          -1.229251160233973,
          -1.8567784357089538,
          -1.829667122989773,
          0.2798537631237879,
          2.723615570004752,
          2.395060297586012,
          -0.8618706612052128,
          0.35070122920324676,
          0.04303784376955493,
          1.1503956712951207,
          -0.6001822433961104,
          -0.08170962846970403,
          -0.5491532258466674,
          -1.7405740227372768,
          2.4651518380608612,
          -0.9533124540844751,
          -1.6640633913121174,
          -1.2274016599330748,
          1.6531697797793234,
          0.7908384172572217,
          -0.2961374373418109,
          0.029740575552040988,
          0.36619546054403,
          -2.2106335324166864,
          0.5726815085465372,
          0.9356339361836927,
          -1.4180015307650387,
          -0.24627801993517232,
          -2.0434317586723996,
          -1.583598189233123,
          0.049890977586477925,
          -1.0126160647194768,
          -0.7525868688661091,
          -0.182544420049127,
          0.6876735931601825,
          1.2316071450636439,
          2.578775910798953,
          -0.10204429074659531,
          -0.5517596234289723,
          0.9564523864975323,
          -1.145149007126853,
          -0.12201899868055198,
          -1.1536850076346916,
          -0.5895177832236455,
          -0.8917096811136757,
          1.255322973772664,
          0.8787404887882231,
          0.46303849624154336,
          -1.719768533080493,
          -1.3080667798909362,
          0.8887480714185952,
          -2.293426976226019,
          0.09325392122107216,
          -0.33186631383757687,
          0.9597017635549537,
          -0.8297427389460603,
          1.715607144230258,
          -0.9164012698428533,
          -0.09967758063479251,
          0.651621398899822,
          0.5146694379738812,
          0.24551717253582894,
          0.45807304716253433,
          0.6833019296085918,
          1.2127635346908336
         ]
        }
       ],
       "layout": {
        "height": 400,
        "margin": {
         "b": 30,
         "l": 50,
         "r": 20,
         "t": 50
        },
        "showlegend": false,
        "template": {
         "data": {
          "bar": [
           {
            "error_x": {
             "color": "#2a3f5f"
            },
            "error_y": {
             "color": "#2a3f5f"
            },
            "marker": {
             "line": {
              "color": "white",
              "width": 0.5
             },
             "pattern": {
              "fillmode": "overlay",
              "size": 10,
              "solidity": 0.2
             }
            },
            "type": "bar"
           }
          ],
          "barpolar": [
           {
            "marker": {
             "line": {
              "color": "white",
              "width": 0.5
             },
             "pattern": {
              "fillmode": "overlay",
              "size": 10,
              "solidity": 0.2
             }
            },
            "type": "barpolar"
           }
          ],
          "carpet": [
           {
            "aaxis": {
             "endlinecolor": "#2a3f5f",
             "gridcolor": "#C8D4E3",
             "linecolor": "#C8D4E3",
             "minorgridcolor": "#C8D4E3",
             "startlinecolor": "#2a3f5f"
            },
            "baxis": {
             "endlinecolor": "#2a3f5f",
             "gridcolor": "#C8D4E3",
             "linecolor": "#C8D4E3",
             "minorgridcolor": "#C8D4E3",
             "startlinecolor": "#2a3f5f"
            },
            "type": "carpet"
           }
          ],
          "choropleth": [
           {
            "colorbar": {
             "outlinewidth": 0,
             "ticks": ""
            },
            "type": "choropleth"
           }
          ],
          "contour": [
           {
            "colorbar": {
             "outlinewidth": 0,
             "ticks": ""
            },
            "colorscale": [
             [
              0,
              "#0d0887"
             ],
             [
              0.1111111111111111,
              "#46039f"
             ],
             [
              0.2222222222222222,
              "#7201a8"
             ],
             [
              0.3333333333333333,
              "#9c179e"
             ],
             [
              0.4444444444444444,
              "#bd3786"
             ],
             [
              0.5555555555555556,
              "#d8576b"
             ],
             [
              0.6666666666666666,
              "#ed7953"
             ],
             [
              0.7777777777777778,
              "#fb9f3a"
             ],
             [
              0.8888888888888888,
              "#fdca26"
             ],
             [
              1,
              "#f0f921"
             ]
            ],
            "type": "contour"
           }
          ],
          "contourcarpet": [
           {
            "colorbar": {
             "outlinewidth": 0,
             "ticks": ""
            },
            "type": "contourcarpet"
           }
          ],
          "heatmap": [
           {
            "colorbar": {
             "outlinewidth": 0,
             "ticks": ""
            },
            "colorscale": [
             [
              0,
              "#0d0887"
             ],
             [
              0.1111111111111111,
              "#46039f"
             ],
             [
              0.2222222222222222,
              "#7201a8"
             ],
             [
              0.3333333333333333,
              "#9c179e"
             ],
             [
              0.4444444444444444,
              "#bd3786"
             ],
             [
              0.5555555555555556,
              "#d8576b"
             ],
             [
              0.6666666666666666,
              "#ed7953"
             ],
             [
              0.7777777777777778,
              "#fb9f3a"
             ],
             [
              0.8888888888888888,
              "#fdca26"
             ],
             [
              1,
              "#f0f921"
             ]
            ],
            "type": "heatmap"
           }
          ],
          "heatmapgl": [
           {
            "colorbar": {
             "outlinewidth": 0,
             "ticks": ""
            },
            "colorscale": [
             [
              0,
              "#0d0887"
             ],
             [
              0.1111111111111111,
              "#46039f"
             ],
             [
              0.2222222222222222,
              "#7201a8"
             ],
             [
              0.3333333333333333,
              "#9c179e"
             ],
             [
              0.4444444444444444,
              "#bd3786"
             ],
             [
              0.5555555555555556,
              "#d8576b"
             ],
             [
              0.6666666666666666,
              "#ed7953"
             ],
             [
              0.7777777777777778,
              "#fb9f3a"
             ],
             [
              0.8888888888888888,
              "#fdca26"
             ],
             [
              1,
              "#f0f921"
             ]
            ],
            "type": "heatmapgl"
           }
          ],
          "histogram": [
           {
            "marker": {
             "pattern": {
              "fillmode": "overlay",
              "size": 10,
              "solidity": 0.2
             }
            },
            "type": "histogram"
           }
          ],
          "histogram2d": [
           {
            "colorbar": {
             "outlinewidth": 0,
             "ticks": ""
            },
            "colorscale": [
             [
              0,
              "#0d0887"
             ],
             [
              0.1111111111111111,
              "#46039f"
             ],
             [
              0.2222222222222222,
              "#7201a8"
             ],
             [
              0.3333333333333333,
              "#9c179e"
             ],
             [
              0.4444444444444444,
              "#bd3786"
             ],
             [
              0.5555555555555556,
              "#d8576b"
             ],
             [
              0.6666666666666666,
              "#ed7953"
             ],
             [
              0.7777777777777778,
              "#fb9f3a"
             ],
             [
              0.8888888888888888,
              "#fdca26"
             ],
             [
              1,
              "#f0f921"
             ]
            ],
            "type": "histogram2d"
           }
          ],
          "histogram2dcontour": [
           {
            "colorbar": {
             "outlinewidth": 0,
             "ticks": ""
            },
            "colorscale": [
             [
              0,
              "#0d0887"
             ],
             [
              0.1111111111111111,
              "#46039f"
             ],
             [
              0.2222222222222222,
              "#7201a8"
             ],
             [
              0.3333333333333333,
              "#9c179e"
             ],
             [
              0.4444444444444444,
              "#bd3786"
             ],
             [
              0.5555555555555556,
              "#d8576b"
             ],
             [
              0.6666666666666666,
              "#ed7953"
             ],
             [
              0.7777777777777778,
              "#fb9f3a"
             ],
             [
              0.8888888888888888,
              "#fdca26"
             ],
             [
              1,
              "#f0f921"
             ]
            ],
            "type": "histogram2dcontour"
           }
          ],
          "mesh3d": [
           {
            "colorbar": {
             "outlinewidth": 0,
             "ticks": ""
            },
            "type": "mesh3d"
           }
          ],
          "parcoords": [
           {
            "line": {
             "colorbar": {
              "outlinewidth": 0,
              "ticks": ""
             }
            },
            "type": "parcoords"
           }
          ],
          "pie": [
           {
            "automargin": true,
            "type": "pie"
           }
          ],
          "scatter": [
           {
            "fillpattern": {
             "fillmode": "overlay",
             "size": 10,
             "solidity": 0.2
            },
            "type": "scatter"
           }
          ],
          "scatter3d": [
           {
            "line": {
             "colorbar": {
              "outlinewidth": 0,
              "ticks": ""
             }
            },
            "marker": {
             "colorbar": {
              "outlinewidth": 0,
              "ticks": ""
             }
            },
            "type": "scatter3d"
           }
          ],
          "scattercarpet": [
           {
            "marker": {
             "colorbar": {
              "outlinewidth": 0,
              "ticks": ""
             }
            },
            "type": "scattercarpet"
           }
          ],
          "scattergeo": [
           {
            "marker": {
             "colorbar": {
              "outlinewidth": 0,
              "ticks": ""
             }
            },
            "type": "scattergeo"
           }
          ],
          "scattergl": [
           {
            "marker": {
             "colorbar": {
              "outlinewidth": 0,
              "ticks": ""
             }
            },
            "type": "scattergl"
           }
          ],
          "scattermapbox": [
           {
            "marker": {
             "colorbar": {
              "outlinewidth": 0,
              "ticks": ""
             }
            },
            "type": "scattermapbox"
           }
          ],
          "scatterpolar": [
           {
            "marker": {
             "colorbar": {
              "outlinewidth": 0,
              "ticks": ""
             }
            },
            "type": "scatterpolar"
           }
          ],
          "scatterpolargl": [
           {
            "marker": {
             "colorbar": {
              "outlinewidth": 0,
              "ticks": ""
             }
            },
            "type": "scatterpolargl"
           }
          ],
          "scatterternary": [
           {
            "marker": {
             "colorbar": {
              "outlinewidth": 0,
              "ticks": ""
             }
            },
            "type": "scatterternary"
           }
          ],
          "surface": [
           {
            "colorbar": {
             "outlinewidth": 0,
             "ticks": ""
            },
            "colorscale": [
             [
              0,
              "#0d0887"
             ],
             [
              0.1111111111111111,
              "#46039f"
             ],
             [
              0.2222222222222222,
              "#7201a8"
             ],
             [
              0.3333333333333333,
              "#9c179e"
             ],
             [
              0.4444444444444444,
              "#bd3786"
             ],
             [
              0.5555555555555556,
              "#d8576b"
             ],
             [
              0.6666666666666666,
              "#ed7953"
             ],
             [
              0.7777777777777778,
              "#fb9f3a"
             ],
             [
              0.8888888888888888,
              "#fdca26"
             ],
             [
              1,
              "#f0f921"
             ]
            ],
            "type": "surface"
           }
          ],
          "table": [
           {
            "cells": {
             "fill": {
              "color": "#EBF0F8"
             },
             "line": {
              "color": "white"
             }
            },
            "header": {
             "fill": {
              "color": "#C8D4E3"
             },
             "line": {
              "color": "white"
             }
            },
            "type": "table"
           }
          ]
         },
         "layout": {
          "annotationdefaults": {
           "arrowcolor": "#2a3f5f",
           "arrowhead": 0,
           "arrowwidth": 1
          },
          "autotypenumbers": "strict",
          "coloraxis": {
           "colorbar": {
            "outlinewidth": 0,
            "ticks": ""
           }
          },
          "colorscale": {
           "diverging": [
            [
             0,
             "#8e0152"
            ],
            [
             0.1,
             "#c51b7d"
            ],
            [
             0.2,
             "#de77ae"
            ],
            [
             0.3,
             "#f1b6da"
            ],
            [
             0.4,
             "#fde0ef"
            ],
            [
             0.5,
             "#f7f7f7"
            ],
            [
             0.6,
             "#e6f5d0"
            ],
            [
             0.7,
             "#b8e186"
            ],
            [
             0.8,
             "#7fbc41"
            ],
            [
             0.9,
             "#4d9221"
            ],
            [
             1,
             "#276419"
            ]
           ],
           "sequential": [
            [
             0,
             "#0d0887"
            ],
            [
             0.1111111111111111,
             "#46039f"
            ],
            [
             0.2222222222222222,
             "#7201a8"
            ],
            [
             0.3333333333333333,
             "#9c179e"
            ],
            [
             0.4444444444444444,
             "#bd3786"
            ],
            [
             0.5555555555555556,
             "#d8576b"
            ],
            [
             0.6666666666666666,
             "#ed7953"
            ],
            [
             0.7777777777777778,
             "#fb9f3a"
            ],
            [
             0.8888888888888888,
             "#fdca26"
            ],
            [
             1,
             "#f0f921"
            ]
           ],
           "sequentialminus": [
            [
             0,
             "#0d0887"
            ],
            [
             0.1111111111111111,
             "#46039f"
            ],
            [
             0.2222222222222222,
             "#7201a8"
            ],
            [
             0.3333333333333333,
             "#9c179e"
            ],
            [
             0.4444444444444444,
             "#bd3786"
            ],
            [
             0.5555555555555556,
             "#d8576b"
            ],
            [
             0.6666666666666666,
             "#ed7953"
            ],
            [
             0.7777777777777778,
             "#fb9f3a"
            ],
            [
             0.8888888888888888,
             "#fdca26"
            ],
            [
             1,
             "#f0f921"
            ]
           ]
          },
          "colorway": [
           "#636efa",
           "#EF553B",
           "#00cc96",
           "#ab63fa",
           "#FFA15A",
           "#19d3f3",
           "#FF6692",
           "#B6E880",
           "#FF97FF",
           "#FECB52"
          ],
          "font": {
           "color": "#2a3f5f"
          },
          "geo": {
           "bgcolor": "white",
           "lakecolor": "white",
           "landcolor": "white",
           "showlakes": true,
           "showland": true,
           "subunitcolor": "#C8D4E3"
          },
          "hoverlabel": {
           "align": "left"
          },
          "hovermode": "closest",
          "mapbox": {
           "style": "light"
          },
          "paper_bgcolor": "white",
          "plot_bgcolor": "white",
          "polar": {
           "angularaxis": {
            "gridcolor": "#EBF0F8",
            "linecolor": "#EBF0F8",
            "ticks": ""
           },
           "bgcolor": "white",
           "radialaxis": {
            "gridcolor": "#EBF0F8",
            "linecolor": "#EBF0F8",
            "ticks": ""
           }
          },
          "scene": {
           "xaxis": {
            "backgroundcolor": "white",
            "gridcolor": "#DFE8F3",
            "gridwidth": 2,
            "linecolor": "#EBF0F8",
            "showbackground": true,
            "ticks": "",
            "zerolinecolor": "#EBF0F8"
           },
           "yaxis": {
            "backgroundcolor": "white",
            "gridcolor": "#DFE8F3",
            "gridwidth": 2,
            "linecolor": "#EBF0F8",
            "showbackground": true,
            "ticks": "",
            "zerolinecolor": "#EBF0F8"
           },
           "zaxis": {
            "backgroundcolor": "white",
            "gridcolor": "#DFE8F3",
            "gridwidth": 2,
            "linecolor": "#EBF0F8",
            "showbackground": true,
            "ticks": "",
            "zerolinecolor": "#EBF0F8"
           }
          },
          "shapedefaults": {
           "line": {
            "color": "#2a3f5f"
           }
          },
          "ternary": {
           "aaxis": {
            "gridcolor": "#DFE8F3",
            "linecolor": "#A2B1C6",
            "ticks": ""
           },
           "baxis": {
            "gridcolor": "#DFE8F3",
            "linecolor": "#A2B1C6",
            "ticks": ""
           },
           "bgcolor": "white",
           "caxis": {
            "gridcolor": "#DFE8F3",
            "linecolor": "#A2B1C6",
            "ticks": ""
           }
          },
          "title": {
           "x": 0.05
          },
          "xaxis": {
           "automargin": true,
           "gridcolor": "#EBF0F8",
           "linecolor": "#EBF0F8",
           "ticks": "",
           "title": {
            "standoff": 15
           },
           "zerolinecolor": "#EBF0F8",
           "zerolinewidth": 2
          },
          "yaxis": {
           "automargin": true,
           "gridcolor": "#EBF0F8",
           "linecolor": "#EBF0F8",
           "ticks": "",
           "title": {
            "standoff": 15
           },
           "zerolinecolor": "#EBF0F8",
           "zerolinewidth": 2
          }
         }
        },
        "title": {
         "font": {
          "size": 10
         },
         "text": "<b>Efficient Frontier </b> ",
         "xanchor": "left"
        },
        "width": 550
       }
      },
      "text/html": [
       "<div>                            <div id=\"b5175bf3-a9f3-424c-a945-ca2f262f0e6d\" class=\"plotly-graph-div\" style=\"height:400px; width:550px;\"></div>            <script type=\"text/javascript\">                require([\"plotly\"], function(Plotly) {                    window.PLOTLYENV=window.PLOTLYENV || {};                                    if (document.getElementById(\"b5175bf3-a9f3-424c-a945-ca2f262f0e6d\")) {                    Plotly.newPlot(                        \"b5175bf3-a9f3-424c-a945-ca2f262f0e6d\",                        [{\"marker\":{\"color\":\"red\",\"size\":3.5},\"mode\":\"markers\",\"opacity\":0.8,\"x\":[-0.49335522594066183,1.1385185687875725,0.3492925816767362,1.0405400406309235,-0.34495844271140197,1.8539395412929185,1.1795428346596952,-0.22372725062926668,0.17322772603647682,1.5258250621381484,-1.2803578734306054,0.1974436681868738,1.174946981397256,0.16161375891082289,0.06348031521349717,0.3594545515034519,-0.009283785993864797,1.2540894835558534,-0.022812039871914096,-1.6596525558991817,-0.8326316118427831,-0.6897084270761357,0.9839985665603863,-0.43676236186119166,0.381200184994587,0.37603749607088127,1.1246539140802692,0.98657553723457,0.9748515057786417,0.04491776331832931,0.7646819682031282,0.24342480387315324,0.17315765656568394,3.457408553823855,1.0045640777008475,-1.6564267105371975,-1.1628347915858797,-0.11137164170525514,-0.7484341666885166,-0.22179844550298633,0.6184831844558472,-1.0265478759709274,1.5965242560510735,-0.350547024747468,-1.4396564453338065,0.3569266296008058,-0.23065153394358515,-1.3095518053245712,-0.1580240461180796,-2.096831766427178,-0.5343029365895826,-0.035964471783814525,-1.356633388338926,0.8300896165927528,-0.8129066384683417,-0.7090462201852105,0.2248122357885952,1.2559694857925776,-0.28838899367238024,0.7599424837901332,-0.10586012993668426,1.1977040800533512,-2.5639129635580655,-0.5073967760528763,-1.0051815354811933,0.5783336452628622,-0.09180512205374118,-0.03967820427027358,1.240520255133973,-0.4817178495969058,0.49153469865823635,0.4334968541645869,1.419297203590535,0.8767233683053419,-0.005381426524374997,0.5677525980570636,-0.5857897432833046,-0.6191834335534483,0.645502191543049,-0.5849326888666625,1.4501875944342313,-0.25747598517912934,0.20642634878134075,-2.553910818395678,-0.7660610175913605,-0.27792427361452376,2.0524908190852726,-0.808672767279886,-0.6020216562855927,-1.0738841872883955,-0.00977813617356208,0.45941984101842664,-0.818520672462825,0.5035402206481232,0.02779850095276798,-1.1232809839033557,-1.357049182580825,-0.44853442465390825,-0.8515624298573207,-0.06179431019820776,-0.7734292422432805,-1.6709170246550342,-1.1340722211457401,0.6219413075664013,-0.3025846421017479,-0.6004211681676154,0.30900917995986626,0.22593405073271863,-1.7838055758073466,0.8633513249736999,-1.5548459524249079,1.5548847599465478,-0.5477441643519186,-0.20647209168309177,-1.4426578192830974,-0.5586259289510832,0.9434369134426007,0.8051670016967203,0.8491741566355825,-0.37558393248877936,1.7223030786241733,1.0140267024088336,-0.9147301970860028,1.712089494058171,-0.5131396831932298,1.4563287502907392,0.044414351379508575,0.5880688330550005,-0.09680422740070052,-0.3840665133507987,0.4798262180707074,-0.07523968620233154,-0.15581737307336097,-0.11966510094346702,0.6476465436651649,-1.3321477200849376,-0.8949858634126491,1.6785764377710146,-0.653406574429598,0.29941104540362123,0.5422517081782727,-0.20166705623221948,-0.06627647582552808,-0.4952741282803914,-0.5171983898004384,-1.208800313391465,-0.8666877973530952,0.4239889293658104,-1.1646292316708402,0.9421032663449186,1.0061946594105664,-1.9159069965406952,-1.511802566849881,1.1393265947332012,0.15067916450268132,1.0596665978050293,0.9660021517029335,1.0534772315102148,0.9719741600193766,-0.1902395555551614,-1.2780730428414357,-0.06565404899444761,0.2968741674925765,0.26403798453351096,0.3058019781888145,0.04082452036959366,-0.9359888810928698,1.168035651544099,0.17538538474705856,0.10895894997136689,-0.5460026577224817,0.5188131561885615,0.14381765666180854,-0.874739525935931,-0.9003773700133014,-1.1635719444686548,1.4390845719937069,-0.35231138543658763,-0.31665365237059495,-0.23298540651438066,-0.6199056529673125,1.0582492667900179,0.6869218097991208,-0.4446437175892718,0.5225572622689527,1.1578856862171232,-0.9805700373609186,-0.11730173294989248,0.4776915686593525,-2.6230624425313445,-1.2706337732487594,0.6085035671861007,-0.057162467717478606,-0.083253902476552,0.9028859667443274,-0.039051727483706396,0.8262879513837449,-2.096808253271212,1.5477386290738462,1.1044845087355344],\"y\":[-0.0350042876147264,-0.41431822992923023,0.0191517557245868,0.5677996435264101,-0.3883809779596521,-0.8374436321262587,-0.7217709347702782,-0.1532509670620194,0.9868876333016374,-0.8532178169489688,0.4141254938063998,0.021716152715329663,-1.8585877810911307,1.0162410689462886,0.01355378003470441,1.3888396181267544,0.9516471154232875,-0.48873654517081927,-0.2655879343720941,1.0288614242083312,0.3075253865265278,1.248987386720163,-0.09565372221248925,0.6117282513684162,-0.1397304657940818,-1.3253293960530803,0.7742486420615713,-0.825716912986886,0.6178694998103357,-1.6202073046208092,0.11539214655630585,-0.6690182393541643,-0.9371104258805925,-2.657467245643,-0.9254405070734899,1.4746424531731808,2.4576144575262853,-0.311796598956113,0.24300780476340825,0.09664492824684857,-0.870512115865127,0.5234782863209215,-1.1513673138226084,0.5492398823165141,-0.6049781840456325,0.7100531244079852,-0.7258892779245741,0.5951744052249481,0.4769783057757929,1.2032585724035156,0.3530046890388361,-0.4482961115725739,0.8497562029723187,1.3251840352648143,0.5190156424103528,-0.9651290437237791,-0.015255205175074416,-1.664363992746482,0.017240731550996726,0.1874854352629923,0.541215451940445,-1.3395134902747259,1.8077819792282668,0.41755503424410595,1.7907616143964078,-0.5583128764822849,1.126338992393283,-0.21782398398051284,-1.8639293956563774,0.2926397579463369,1.5988086751241208,0.3781690854792822,-0.9613397371120085,0.4118966489552341,0.2528203943889555,0.6474154782998105,-0.4453312122975636,-0.40096328730372477,-0.8550543823332301,-0.2698705431488214,-0.6670366235719184,0.6549857833322777,0.6902464010501689,0.7747804232007505,0.4609955960160807,0.45787879763695316,-2.2411289585662106,1.137145835807875,0.40897907336824396,-0.7847164507988535,0.04430898323123527,1.3101089150008163,1.8782474058590402,0.339049510048964,-0.30460090329369266,0.7716285121797349,0.6623956387902467,-0.4892802745394872,-0.467359417237947,-0.9200017269904692,1.859166368830667,0.8381722786496897,2.77832252274298,0.4249111910358095,0.2334226818195381,-0.44895820140480097,-0.9313025432835355,-0.07781090229884433,2.0129902172053398,-0.9848880340041885,1.174698581704235,-2.8096130211241377,0.6485709756970371,1.3719132406044459,0.002177965521764059,0.8673993212161503,-0.45071330249351343,0.26843242421736696,-0.5933812049723574,-0.9869608935537157,-0.9725691922186198,-0.026546431917354292,-0.07436236369664768,0.07657612254764318,-0.1406421793985608,0.3246427272839999,0.6891499444693752,0.5557377930703659,0.6535832592926859,-0.2907432467988006,0.16929770755679627,-0.4568978064603761,1.1853032334999005,0.8972575916073791,-1.4491547691926583,0.24940179767226306,0.7494881223691706,-1.982439436273457,-0.7357704985338005,1.1437670933205217,1.4054434814611187,0.47159006532803255,0.832332520253084,-0.6757804421728715,1.0498421956810473,-0.600841199712242,1.6450439148383718,-0.9497797961467296,1.923477732058277,0.022945895673841178,-2.5568548127567565,0.09776310464088324,0.6511147106446403,1.6258363255950075,1.3121661034756011,-1.6649586157688228,-1.27699110576776,-1.078621068638166,-1.4059939889551587,0.6619569901843503,0.976777350956125,-1.3263354165830996,0.04135891158558139,-0.8502929039070748,-0.5453402531456518,-1.4038158312218556,-0.7523270965221065,-0.5902847009628088,-0.13337592810163784,-0.49225055016857966,1.253561913919778,1.9941511445336757,-0.6201263035183769,-0.8488908614712609,1.0760981798579383,0.06855085114501883,-0.7852949414900143,0.026759119073295725,0.3446302890246352,-0.8130477246411713,2.1941711522471645,-0.36077764060195816,-1.498483815300455,0.11571193727490436,-0.7699763469353806,-1.2381283788514255,-0.3293875585716009,-0.9374775023890197,-0.9153223456378814,1.7761809267834383,0.7387363736005156,0.7450626937353886,-0.13630908274076647,0.28051726835448554,0.11138141352426237,0.24815589451002637,-0.077672556922888,1.627905522326483,-0.6321580804197682,1.205788268127995],\"type\":\"scatter\"},{\"marker\":{\"color\":\"black\",\"size\":3},\"mode\":\"markers\",\"opacity\":0.8,\"x\":[-0.49335522594066183,1.1385185687875725,0.3492925816767362,1.0405400406309235,-0.34495844271140197,1.8539395412929185,1.1795428346596952,-0.22372725062926668,0.17322772603647682,1.5258250621381484,-1.2803578734306054,0.1974436681868738,1.174946981397256,0.16161375891082289,0.06348031521349717,0.3594545515034519,-0.009283785993864797,1.2540894835558534,-0.022812039871914096,-1.6596525558991817,-0.8326316118427831,-0.6897084270761357,0.9839985665603863,-0.43676236186119166,0.381200184994587,0.37603749607088127,1.1246539140802692,0.98657553723457,0.9748515057786417,0.04491776331832931,0.7646819682031282,0.24342480387315324,0.17315765656568394,3.457408553823855,1.0045640777008475,-1.6564267105371975,-1.1628347915858797,-0.11137164170525514,-0.7484341666885166,-0.22179844550298633,0.6184831844558472,-1.0265478759709274,1.5965242560510735,-0.350547024747468,-1.4396564453338065,0.3569266296008058,-0.23065153394358515,-1.3095518053245712,-0.1580240461180796,-2.096831766427178,-0.5343029365895826,-0.035964471783814525,-1.356633388338926,0.8300896165927528,-0.8129066384683417,-0.7090462201852105,0.2248122357885952,1.2559694857925776,-0.28838899367238024,0.7599424837901332,-0.10586012993668426,1.1977040800533512,-2.5639129635580655,-0.5073967760528763,-1.0051815354811933,0.5783336452628622,-0.09180512205374118,-0.03967820427027358,1.240520255133973,-0.4817178495969058,0.49153469865823635,0.4334968541645869,1.419297203590535,0.8767233683053419,-0.005381426524374997,0.5677525980570636,-0.5857897432833046,-0.6191834335534483,0.645502191543049,-0.5849326888666625,1.4501875944342313,-0.25747598517912934,0.20642634878134075,-2.553910818395678,-0.7660610175913605,-0.27792427361452376,2.0524908190852726,-0.808672767279886,-0.6020216562855927,-1.0738841872883955,-0.00977813617356208,0.45941984101842664,-0.818520672462825,0.5035402206481232,0.02779850095276798,-1.1232809839033557,-1.357049182580825,-0.44853442465390825,-0.8515624298573207,-0.06179431019820776,-0.7734292422432805,-1.6709170246550342,-1.1340722211457401,0.6219413075664013,-0.3025846421017479,-0.6004211681676154,0.30900917995986626,0.22593405073271863,-1.7838055758073466,0.8633513249736999,-1.5548459524249079,1.5548847599465478,-0.5477441643519186,-0.20647209168309177,-1.4426578192830974,-0.5586259289510832,0.9434369134426007,0.8051670016967203,0.8491741566355825,-0.37558393248877936,1.7223030786241733,1.0140267024088336,-0.9147301970860028,1.712089494058171,-0.5131396831932298,1.4563287502907392,0.044414351379508575,0.5880688330550005,-0.09680422740070052,-0.3840665133507987,0.4798262180707074,-0.07523968620233154,-0.15581737307336097,-0.11966510094346702,0.6476465436651649,-1.3321477200849376,-0.8949858634126491,1.6785764377710146,-0.653406574429598,0.29941104540362123,0.5422517081782727,-0.20166705623221948,-0.06627647582552808,-0.4952741282803914,-0.5171983898004384,-1.208800313391465,-0.8666877973530952,0.4239889293658104,-1.1646292316708402,0.9421032663449186,1.0061946594105664,-1.9159069965406952,-1.511802566849881,1.1393265947332012,0.15067916450268132,1.0596665978050293,0.9660021517029335,1.0534772315102148,0.9719741600193766,-0.1902395555551614,-1.2780730428414357,-0.06565404899444761,0.2968741674925765,0.26403798453351096,0.3058019781888145,0.04082452036959366,-0.9359888810928698,1.168035651544099,0.17538538474705856,0.10895894997136689,-0.5460026577224817,0.5188131561885615,0.14381765666180854,-0.874739525935931,-0.9003773700133014,-1.1635719444686548,1.4390845719937069,-0.35231138543658763,-0.31665365237059495,-0.23298540651438066,-0.6199056529673125,1.0582492667900179,0.6869218097991208,-0.4446437175892718,0.5225572622689527,1.1578856862171232,-0.9805700373609186,-0.11730173294989248,0.4776915686593525,-2.6230624425313445,-1.2706337732487594,0.6085035671861007,-0.057162467717478606,-0.083253902476552,0.9028859667443274,-0.039051727483706396,0.8262879513837449,-2.096808253271212,1.5477386290738462,1.1044845087355344],\"y\":[0.476905144405763,0.8137153220472254,1.1941811178362018,2.4874897649269387,-1.1367776070770719,0.5625044616757574,0.04885540750754513,0.17706924333386181,0.0016621559557519418,0.7326328390799053,-0.14167430819780227,0.03343399362063519,0.6755471188415798,0.38342841218852625,-0.13812056105897602,1.500043742692279,2.14707052612781,0.9058255015629157,-0.93867088144412,0.9742867731699337,0.19225292405027697,2.3505018829908377,1.3454894348127024,0.04233093062244249,0.32478748308376637,-1.3001960688156138,1.0903538982009016,-0.07532191497166368,1.3326492854781746,-1.0786177501289034,0.14286541111463766,-1.2814861684629912,-0.707575229212945,-0.5953671474070826,-0.1689970804635423,-0.25101896755756575,0.7700618104472048,-0.2818491818843807,-0.6382883491347718,0.18723800196010915,0.13520966436337226,0.20779644141011835,-0.04688408796172448,0.4111660632227555,-1.434493227169344,0.8322592341158349,-0.9449093730943406,0.3882137966592625,0.324993105136423,0.6727171872187024,-0.9801558106942224,-2.0658561559004123,0.4273634360858357,2.6142152840085657,-0.2604254115187402,-1.0026169254554949,0.3525012884050089,-0.4075781032444096,-0.9861215700193607,-0.8487502865402501,-0.7529724485409386,-0.2799530441229896,1.0851648740019777,-0.5393156909207578,0.5774250730687236,-0.27271505234619714,0.8391651664358205,-1.303851801375959,0.06794924759930338,0.4010195192132552,0.7724695358358018,0.46986969771060416,0.13181617458576134,-1.3493651809877747,-0.47665725220245625,0.648021518999399,-1.5444509373904005,0.10527365436273689,-0.5201404870209224,-0.6585682493519539,0.20049001779105033,-0.19982260208596403,-0.3868517476801391,-0.4271484431145321,-0.13419422562755517,1.2758502813582397,-0.730400480955551,0.3039389810479682,1.006860580946782,-0.9854182648281606,0.8089678203007449,0.1667099970301471,3.0971638546494806,1.0376175846878934,-0.1214644279793167,1.5057242086487674,0.20937753074281068,0.5054562852119486,-0.13494903036638212,-0.6113742647376647,1.1390630399943442,0.6047903867316675,1.304624815834293,1.7179785443653774,1.426911232251422,0.06066557434312066,-1.2916994893072458,-0.4069596726417765,1.0100415301861476,-0.15357865537882964,0.17327366379492865,-1.4005926361066783,0.5940868868512097,0.8869337523953184,-0.6694101284369889,0.29781612402740454,0.4744344895378952,-0.9194055273972978,-0.5073104193320084,-1.0301155351306603,-0.08865494169362804,2.723055022103222,0.40279564788270966,0.7003944325249547,0.6132386207832642,0.6100049775246204,1.132747366393757,-0.38675150853325474,0.631404674951976,-0.5201453768869864,1.2607968223065262,-1.7070837064085362,-0.5173168459509053,0.30731300842785314,0.0059387515698995615,-1.229251160233973,-1.8567784357089538,-1.829667122989773,0.2798537631237879,2.723615570004752,2.395060297586012,-0.8618706612052128,0.35070122920324676,0.04303784376955493,1.1503956712951207,-0.6001822433961104,-0.08170962846970403,-0.5491532258466674,-1.7405740227372768,2.4651518380608612,-0.9533124540844751,-1.6640633913121174,-1.2274016599330748,1.6531697797793234,0.7908384172572217,-0.2961374373418109,0.029740575552040988,0.36619546054403,-2.2106335324166864,0.5726815085465372,0.9356339361836927,-1.4180015307650387,-0.24627801993517232,-2.0434317586723996,-1.583598189233123,0.049890977586477925,-1.0126160647194768,-0.7525868688661091,-0.182544420049127,0.6876735931601825,1.2316071450636439,2.578775910798953,-0.10204429074659531,-0.5517596234289723,0.9564523864975323,-1.145149007126853,-0.12201899868055198,-1.1536850076346916,-0.5895177832236455,-0.8917096811136757,1.255322973772664,0.8787404887882231,0.46303849624154336,-1.719768533080493,-1.3080667798909362,0.8887480714185952,-2.293426976226019,0.09325392122107216,-0.33186631383757687,0.9597017635549537,-0.8297427389460603,1.715607144230258,-0.9164012698428533,-0.09967758063479251,0.651621398899822,0.5146694379738812,0.24551717253582894,0.45807304716253433,0.6833019296085918,1.2127635346908336],\"type\":\"scatter\"}],                        {\"height\":400,\"margin\":{\"b\":30,\"l\":50,\"r\":20,\"t\":50},\"showlegend\":false,\"template\":{\"data\":{\"barpolar\":[{\"marker\":{\"line\":{\"color\":\"white\",\"width\":0.5},\"pattern\":{\"fillmode\":\"overlay\",\"size\":10,\"solidity\":0.2}},\"type\":\"barpolar\"}],\"bar\":[{\"error_x\":{\"color\":\"#2a3f5f\"},\"error_y\":{\"color\":\"#2a3f5f\"},\"marker\":{\"line\":{\"color\":\"white\",\"width\":0.5},\"pattern\":{\"fillmode\":\"overlay\",\"size\":10,\"solidity\":0.2}},\"type\":\"bar\"}],\"carpet\":[{\"aaxis\":{\"endlinecolor\":\"#2a3f5f\",\"gridcolor\":\"#C8D4E3\",\"linecolor\":\"#C8D4E3\",\"minorgridcolor\":\"#C8D4E3\",\"startlinecolor\":\"#2a3f5f\"},\"baxis\":{\"endlinecolor\":\"#2a3f5f\",\"gridcolor\":\"#C8D4E3\",\"linecolor\":\"#C8D4E3\",\"minorgridcolor\":\"#C8D4E3\",\"startlinecolor\":\"#2a3f5f\"},\"type\":\"carpet\"}],\"choropleth\":[{\"colorbar\":{\"outlinewidth\":0,\"ticks\":\"\"},\"type\":\"choropleth\"}],\"contourcarpet\":[{\"colorbar\":{\"outlinewidth\":0,\"ticks\":\"\"},\"type\":\"contourcarpet\"}],\"contour\":[{\"colorbar\":{\"outlinewidth\":0,\"ticks\":\"\"},\"colorscale\":[[0.0,\"#0d0887\"],[0.1111111111111111,\"#46039f\"],[0.2222222222222222,\"#7201a8\"],[0.3333333333333333,\"#9c179e\"],[0.4444444444444444,\"#bd3786\"],[0.5555555555555556,\"#d8576b\"],[0.6666666666666666,\"#ed7953\"],[0.7777777777777778,\"#fb9f3a\"],[0.8888888888888888,\"#fdca26\"],[1.0,\"#f0f921\"]],\"type\":\"contour\"}],\"heatmapgl\":[{\"colorbar\":{\"outlinewidth\":0,\"ticks\":\"\"},\"colorscale\":[[0.0,\"#0d0887\"],[0.1111111111111111,\"#46039f\"],[0.2222222222222222,\"#7201a8\"],[0.3333333333333333,\"#9c179e\"],[0.4444444444444444,\"#bd3786\"],[0.5555555555555556,\"#d8576b\"],[0.6666666666666666,\"#ed7953\"],[0.7777777777777778,\"#fb9f3a\"],[0.8888888888888888,\"#fdca26\"],[1.0,\"#f0f921\"]],\"type\":\"heatmapgl\"}],\"heatmap\":[{\"colorbar\":{\"outlinewidth\":0,\"ticks\":\"\"},\"colorscale\":[[0.0,\"#0d0887\"],[0.1111111111111111,\"#46039f\"],[0.2222222222222222,\"#7201a8\"],[0.3333333333333333,\"#9c179e\"],[0.4444444444444444,\"#bd3786\"],[0.5555555555555556,\"#d8576b\"],[0.6666666666666666,\"#ed7953\"],[0.7777777777777778,\"#fb9f3a\"],[0.8888888888888888,\"#fdca26\"],[1.0,\"#f0f921\"]],\"type\":\"heatmap\"}],\"histogram2dcontour\":[{\"colorbar\":{\"outlinewidth\":0,\"ticks\":\"\"},\"colorscale\":[[0.0,\"#0d0887\"],[0.1111111111111111,\"#46039f\"],[0.2222222222222222,\"#7201a8\"],[0.3333333333333333,\"#9c179e\"],[0.4444444444444444,\"#bd3786\"],[0.5555555555555556,\"#d8576b\"],[0.6666666666666666,\"#ed7953\"],[0.7777777777777778,\"#fb9f3a\"],[0.8888888888888888,\"#fdca26\"],[1.0,\"#f0f921\"]],\"type\":\"histogram2dcontour\"}],\"histogram2d\":[{\"colorbar\":{\"outlinewidth\":0,\"ticks\":\"\"},\"colorscale\":[[0.0,\"#0d0887\"],[0.1111111111111111,\"#46039f\"],[0.2222222222222222,\"#7201a8\"],[0.3333333333333333,\"#9c179e\"],[0.4444444444444444,\"#bd3786\"],[0.5555555555555556,\"#d8576b\"],[0.6666666666666666,\"#ed7953\"],[0.7777777777777778,\"#fb9f3a\"],[0.8888888888888888,\"#fdca26\"],[1.0,\"#f0f921\"]],\"type\":\"histogram2d\"}],\"histogram\":[{\"marker\":{\"pattern\":{\"fillmode\":\"overlay\",\"size\":10,\"solidity\":0.2}},\"type\":\"histogram\"}],\"mesh3d\":[{\"colorbar\":{\"outlinewidth\":0,\"ticks\":\"\"},\"type\":\"mesh3d\"}],\"parcoords\":[{\"line\":{\"colorbar\":{\"outlinewidth\":0,\"ticks\":\"\"}},\"type\":\"parcoords\"}],\"pie\":[{\"automargin\":true,\"type\":\"pie\"}],\"scatter3d\":[{\"line\":{\"colorbar\":{\"outlinewidth\":0,\"ticks\":\"\"}},\"marker\":{\"colorbar\":{\"outlinewidth\":0,\"ticks\":\"\"}},\"type\":\"scatter3d\"}],\"scattercarpet\":[{\"marker\":{\"colorbar\":{\"outlinewidth\":0,\"ticks\":\"\"}},\"type\":\"scattercarpet\"}],\"scattergeo\":[{\"marker\":{\"colorbar\":{\"outlinewidth\":0,\"ticks\":\"\"}},\"type\":\"scattergeo\"}],\"scattergl\":[{\"marker\":{\"colorbar\":{\"outlinewidth\":0,\"ticks\":\"\"}},\"type\":\"scattergl\"}],\"scattermapbox\":[{\"marker\":{\"colorbar\":{\"outlinewidth\":0,\"ticks\":\"\"}},\"type\":\"scattermapbox\"}],\"scatterpolargl\":[{\"marker\":{\"colorbar\":{\"outlinewidth\":0,\"ticks\":\"\"}},\"type\":\"scatterpolargl\"}],\"scatterpolar\":[{\"marker\":{\"colorbar\":{\"outlinewidth\":0,\"ticks\":\"\"}},\"type\":\"scatterpolar\"}],\"scatter\":[{\"fillpattern\":{\"fillmode\":\"overlay\",\"size\":10,\"solidity\":0.2},\"type\":\"scatter\"}],\"scatterternary\":[{\"marker\":{\"colorbar\":{\"outlinewidth\":0,\"ticks\":\"\"}},\"type\":\"scatterternary\"}],\"surface\":[{\"colorbar\":{\"outlinewidth\":0,\"ticks\":\"\"},\"colorscale\":[[0.0,\"#0d0887\"],[0.1111111111111111,\"#46039f\"],[0.2222222222222222,\"#7201a8\"],[0.3333333333333333,\"#9c179e\"],[0.4444444444444444,\"#bd3786\"],[0.5555555555555556,\"#d8576b\"],[0.6666666666666666,\"#ed7953\"],[0.7777777777777778,\"#fb9f3a\"],[0.8888888888888888,\"#fdca26\"],[1.0,\"#f0f921\"]],\"type\":\"surface\"}],\"table\":[{\"cells\":{\"fill\":{\"color\":\"#EBF0F8\"},\"line\":{\"color\":\"white\"}},\"header\":{\"fill\":{\"color\":\"#C8D4E3\"},\"line\":{\"color\":\"white\"}},\"type\":\"table\"}]},\"layout\":{\"annotationdefaults\":{\"arrowcolor\":\"#2a3f5f\",\"arrowhead\":0,\"arrowwidth\":1},\"autotypenumbers\":\"strict\",\"coloraxis\":{\"colorbar\":{\"outlinewidth\":0,\"ticks\":\"\"}},\"colorscale\":{\"diverging\":[[0,\"#8e0152\"],[0.1,\"#c51b7d\"],[0.2,\"#de77ae\"],[0.3,\"#f1b6da\"],[0.4,\"#fde0ef\"],[0.5,\"#f7f7f7\"],[0.6,\"#e6f5d0\"],[0.7,\"#b8e186\"],[0.8,\"#7fbc41\"],[0.9,\"#4d9221\"],[1,\"#276419\"]],\"sequential\":[[0.0,\"#0d0887\"],[0.1111111111111111,\"#46039f\"],[0.2222222222222222,\"#7201a8\"],[0.3333333333333333,\"#9c179e\"],[0.4444444444444444,\"#bd3786\"],[0.5555555555555556,\"#d8576b\"],[0.6666666666666666,\"#ed7953\"],[0.7777777777777778,\"#fb9f3a\"],[0.8888888888888888,\"#fdca26\"],[1.0,\"#f0f921\"]],\"sequentialminus\":[[0.0,\"#0d0887\"],[0.1111111111111111,\"#46039f\"],[0.2222222222222222,\"#7201a8\"],[0.3333333333333333,\"#9c179e\"],[0.4444444444444444,\"#bd3786\"],[0.5555555555555556,\"#d8576b\"],[0.6666666666666666,\"#ed7953\"],[0.7777777777777778,\"#fb9f3a\"],[0.8888888888888888,\"#fdca26\"],[1.0,\"#f0f921\"]]},\"colorway\":[\"#636efa\",\"#EF553B\",\"#00cc96\",\"#ab63fa\",\"#FFA15A\",\"#19d3f3\",\"#FF6692\",\"#B6E880\",\"#FF97FF\",\"#FECB52\"],\"font\":{\"color\":\"#2a3f5f\"},\"geo\":{\"bgcolor\":\"white\",\"lakecolor\":\"white\",\"landcolor\":\"white\",\"showlakes\":true,\"showland\":true,\"subunitcolor\":\"#C8D4E3\"},\"hoverlabel\":{\"align\":\"left\"},\"hovermode\":\"closest\",\"mapbox\":{\"style\":\"light\"},\"paper_bgcolor\":\"white\",\"plot_bgcolor\":\"white\",\"polar\":{\"angularaxis\":{\"gridcolor\":\"#EBF0F8\",\"linecolor\":\"#EBF0F8\",\"ticks\":\"\"},\"bgcolor\":\"white\",\"radialaxis\":{\"gridcolor\":\"#EBF0F8\",\"linecolor\":\"#EBF0F8\",\"ticks\":\"\"}},\"scene\":{\"xaxis\":{\"backgroundcolor\":\"white\",\"gridcolor\":\"#DFE8F3\",\"gridwidth\":2,\"linecolor\":\"#EBF0F8\",\"showbackground\":true,\"ticks\":\"\",\"zerolinecolor\":\"#EBF0F8\"},\"yaxis\":{\"backgroundcolor\":\"white\",\"gridcolor\":\"#DFE8F3\",\"gridwidth\":2,\"linecolor\":\"#EBF0F8\",\"showbackground\":true,\"ticks\":\"\",\"zerolinecolor\":\"#EBF0F8\"},\"zaxis\":{\"backgroundcolor\":\"white\",\"gridcolor\":\"#DFE8F3\",\"gridwidth\":2,\"linecolor\":\"#EBF0F8\",\"showbackground\":true,\"ticks\":\"\",\"zerolinecolor\":\"#EBF0F8\"}},\"shapedefaults\":{\"line\":{\"color\":\"#2a3f5f\"}},\"ternary\":{\"aaxis\":{\"gridcolor\":\"#DFE8F3\",\"linecolor\":\"#A2B1C6\",\"ticks\":\"\"},\"baxis\":{\"gridcolor\":\"#DFE8F3\",\"linecolor\":\"#A2B1C6\",\"ticks\":\"\"},\"bgcolor\":\"white\",\"caxis\":{\"gridcolor\":\"#DFE8F3\",\"linecolor\":\"#A2B1C6\",\"ticks\":\"\"}},\"title\":{\"x\":0.05},\"xaxis\":{\"automargin\":true,\"gridcolor\":\"#EBF0F8\",\"linecolor\":\"#EBF0F8\",\"ticks\":\"\",\"title\":{\"standoff\":15},\"zerolinecolor\":\"#EBF0F8\",\"zerolinewidth\":2},\"yaxis\":{\"automargin\":true,\"gridcolor\":\"#EBF0F8\",\"linecolor\":\"#EBF0F8\",\"ticks\":\"\",\"title\":{\"standoff\":15},\"zerolinecolor\":\"#EBF0F8\",\"zerolinewidth\":2}}},\"title\":{\"font\":{\"size\":10},\"text\":\"\\u003cb\\u003eEfficient Frontier \\u003c\\u002fb\\u003e \",\"xanchor\":\"left\"},\"width\":550},                        {\"responsive\": true}                    ).then(function(){\n",
       "                            \n",
       "var gd = document.getElementById('b5175bf3-a9f3-424c-a945-ca2f262f0e6d');\n",
       "var x = new MutationObserver(function (mutations, observer) {{\n",
       "        var display = window.getComputedStyle(gd).display;\n",
       "        if (!display || display === 'none') {{\n",
       "            console.log([gd, 'removed!']);\n",
       "            Plotly.purge(gd);\n",
       "            observer.disconnect();\n",
       "        }}\n",
       "}});\n",
       "\n",
       "// Listen for the removal of the full notebook cells\n",
       "var notebookContainer = gd.closest('#notebook-container');\n",
       "if (notebookContainer) {{\n",
       "    x.observe(notebookContainer, {childList: true});\n",
       "}}\n",
       "\n",
       "// Listen for the clearing of the current output cell\n",
       "var outputEl = gd.closest('.output');\n",
       "if (outputEl) {{\n",
       "    x.observe(outputEl, {childList: true});\n",
       "}}\n",
       "\n",
       "                        })                };                });            </script>        </div>"
      ]
     },
     "metadata": {},
     "output_type": "display_data"
    }
   ],
   "source": [
    "traces=[]\n",
    "traces.append(go.Scatter(x=Zc[:,0],y=Zc[:,3],mode='markers',marker={'color':'red','size':3.5},opacity=0.8))\n",
    "traces.append(go.Scatter(x=Zu.T[:,0],y=Zu.T[:,3],mode='markers',marker={'color':'black','size':3},opacity=0.8))\n",
    "print(corr)\n",
    "scat(traces)"
   ]
  },
  {
   "cell_type": "code",
   "execution_count": 4,
   "id": "5e065ade",
   "metadata": {},
   "outputs": [
    {
     "data": {
      "text/plain": [
       "<function matplotlib.pyplot.show(close=None, block=None)>"
      ]
     },
     "execution_count": 4,
     "metadata": {},
     "output_type": "execute_result"
    },
    {
     "data": {
      "image/png": "[encoded data removed]",
      "text/plain": [
       "<Figure size 640x480 with 1 Axes>"
      ]
     },
     "metadata": {},
     "output_type": "display_data"
    }
   ],
   "source": [
    "import math\n",
    "import matplotlib.pyplot as plt\n",
    "def birthday(k):\n",
    "    return 1- math.factorial(365)/((365**k)*math.factorial(365-k))\n",
    "    \n",
    "x = [birthday(i) for i in range(1,365)]\n",
    "plt.plot(x)\n",
    "plt.show"
   ]
  },
  {
   "cell_type": "code",
   "execution_count": 104,
   "id": "edfb77c0",
   "metadata": {},
   "outputs": [
    {
     "data": {
      "text/plain": [
       "array([0.01 , 0.009, 0.006])"
      ]
     },
     "execution_count": 104,
     "metadata": {},
     "output_type": "execute_result"
    }
   ],
   "source": [
    "\n",
    "corr = pd.DataFrame([[1,0.9,0.6],[0.9,1,0.7],[0.6,0.7,1]])\n",
    "vol = [0.01,0.01,0.01]\n",
    "C = cholesky(corr)\n",
    "k = pd.Series([1,0,0])\n",
    "r = np.multiply(np.matmul(C,k).transpose(),vol)\n",
    "r"
   ]
  },
  {
   "cell_type": "code",
   "execution_count": 32,
   "id": "e02162d3",
   "metadata": {},
   "outputs": [],
   "source": [
    "#BLACK LITTERMAN \n",
    "'''\n",
    "insumos:\n",
    "* retornos y covar (los mismos del mvo tradicional)\n",
    "* un vector de recomendaciones q. en esta funcion esta pensado como  un numero de desviaciones. (ej +2 si es un view muy positivo en ese activo)\n",
    "* un nivel de conviccion en el modelo.. entre mas alto c menos incertidumbre alrededor de los views. (puede estar en funcion del accuarcy del modelo por ejemplo) \n",
    "notas adicionales:\n",
    "tau se puede sensiblizar pero el paper dice que usualmente es algo entre 0.025 y 0.05.. \n",
    "pick es una matriz de identidad porque tu siempre tienes views sobre todos los activos. (si tuvieras views sobre solo algunos pick deberia ser una matriz de 0s con 1s unicamente en \n",
    "los activos sobre los que se tiene un view...)\n",
    "resultado:\n",
    "la funcion devuelve un vector de retornos y covar posterior (osea ya ponderados usando los views y la conviccion que se tiene sobre ellos.)\n",
    "'''\n",
    "\n",
    "#BL optim\n",
    "def BLopt(r,sigma,q,c,tau=0.025):\n",
    "    pick = pick = np.eye(len(r))\n",
    "    PEP = np.matmul(np.matmul(pick,sigma),pick.T)\n",
    "    v = r + np.diag(sigma**(1/2))*q*np.sqrt(1/12) # r + 2(pr-0.5)*vol\n",
    "    omega = PEP/c\n",
    "    mu_bl = r + tau*np.matmul(np.matmul(sigma*pick.T,inv(tau*PEP+omega)),v-np.matmul(pick,r))\n",
    "    sigma_bl = (1+tau)*sigma - tau**2*np.matmul(np.matmul(np.matmul(sigma,pick.T),inv(tau*PEP+omega)),np.matmul(pick,sigma))\n",
    "\n",
    "    return mu_bl,sigma_bl\n"
   ]
  },
  {
   "cell_type": "code",
   "execution_count": 163,
   "id": "03518985",
   "metadata": {},
   "outputs": [],
   "source": [
    "#EJEMPLO\n",
    "\n",
    "expret = [5,8,12,15]\n",
    "expvol = [3,7,12,18]\n",
    "corr = pd.DataFrame([[1,0.5,0.1,-0.6],[0.5,1.0,0.2,0.1],[0.1,0.2,1.0,0.5],[-0.6,0.1,0.5,1.0]],columns=expvol,index=expvol)\n",
    "sigma = corr.copy()\n",
    "for i,j in product(expvol,repeat=2):\n",
    "    sigma.loc[i,j] = corr.loc[i,j]*i*j\n",
    "\n",
    "\n",
    " #retornos \n"
   ]
  },
  {
   "cell_type": "code",
   "execution_count": 164,
   "id": "9e8e0a26",
   "metadata": {},
   "outputs": [],
   "source": [
    "# aqui es un ejemplo de REF tanto para el modelo tradicional como el que usa BL.\n",
    "\n",
    "ref_=[]\n",
    "ws_=[]\n",
    "ws_bl=[]\n",
    "ref_bl=[]\n",
    "q = [1,-1,-2,-0.5]\n",
    "c = 5\n",
    "for i in R:\n",
    "    mu_bl,sigma_bl = BLopt(i,sigma,q,c)\n",
    "    ri,wi =mvo(i,sigma)\n",
    "    rbl,wbl = mvo(mu_bl,sigma_bl)\n",
    "    ref_.append(ri)\n",
    "    ws_.append(wi)\n",
    "    ws_bl.append(wbl)\n",
    "    ref_bl.append(rbl)\n"
   ]
  },
  {
   "cell_type": "code",
   "execution_count": 165,
   "id": "6076ef6c",
   "metadata": {},
   "outputs": [
    {
     "name": "stdout",
     "output_type": "stream",
     "text": [
      "Comparativo de pesoos objetivos bajo los dos modelos\n",
      "prior w\n",
      "           0         1         2         3\n",
      "3   0.944436  0.038441  0.017123  0.140037\n",
      "6   0.655986  0.241961  0.102053  0.173015\n",
      "9   0.437970  0.382821  0.179209  0.287928\n",
      "12  0.331984  0.403959  0.264056  0.473786\n",
      "15  0.301754  0.410869  0.287377  0.653655\n",
      "18  0.275253  0.422014  0.302734  0.826643\n",
      "posterior w\n",
      "           0         1         2         3\n",
      "3   0.978091  0.017404  0.004505  0.174881\n",
      "6   0.842644  0.122406  0.034950  0.307586\n",
      "9   0.720173  0.210788  0.069039  0.451468\n",
      "12  0.654350  0.239987  0.105663  0.618025\n",
      "15  0.615783  0.261807  0.122410  0.782262\n",
      "18  0.587265  0.275619  0.137116  0.944778\n"
     ]
    }
   ],
   "source": [
    "print('Comparativo de pesoos objetivos bajo los dos modelos')\n",
    "w_ = pd.concat(ws_,axis=1).T\n",
    "wbl_ =pd.concat(ws_bl,axis=1).T\n",
    "print('prior w')\n",
    "print(w_.groupby(w_.index).mean())\n",
    "print('posterior w')\n",
    "print(wbl_.groupby(wbl_.index).mean())\n"
   ]
  },
  {
   "cell_type": "code",
   "execution_count": 204,
   "id": "f9f47c5c",
   "metadata": {},
   "outputs": [],
   "source": [
    "#ejemplo de solucion de minimos locales usando basinhopping\n",
    "from scipy.optimize import basinhopping\n",
    "\n",
    "\n",
    "\n",
    "\n",
    "expret = [0,6,10,25]\n",
    "expvol = [2,10,15,28]\n",
    "corr = pd.DataFrame([[1,0.5,0.1,-0.4],[0.5,1.0,0.2,0.1],[0.1,0.2,1.0,0.5],[-0.4,0.1,0.5,1.0]],columns=expvol,index=expvol)\n",
    "covar = corr.copy()\n",
    "for i,j in product(expvol,repeat=2):\n",
    "    covar.loc[i,j] = corr.loc[i,j]*i*j\n",
    "\n",
    "\n",
    "cons= [{'type': 'eq', 'fun': w}] #constraints for global minimum variance portfolio\n",
    "gmvp = minimize(por_var,x0,bounds=bnds,constraints=cons) # weights of GMVP\n",
    "min_v = np.sqrt(por_var(gmvp.x)) # minimum volatility possible\n",
    "max_v = np.max(expvol)\n",
    "\n",
    "\n",
    "\n",
    "def mvo(rr,covar):\n",
    "    r_={}\n",
    "    r_bh={}\n",
    "    for q in range(int(np.ceil(min_v)),max_v+1,3):\n",
    "        def varp(x):\n",
    "            return np.dot(np.matmul(x,covar),x)-q**2\n",
    "        def rfun(x):\n",
    "            return -np.dot(x,rr)\n",
    "        cons  = [{'type': 'eq', 'fun': varp},{'type': 'eq', 'fun': w}]\n",
    "        res = minimize(rfun,x0,bounds=bnds,constraints=cons)\n",
    "        res_ = basinhopping(rfun, x0, minimizer_kwargs={'bounds':bnds,'constraints':cons},niter=200)\n",
    "        r_[q] = -rfun(res.x)\n",
    "        r_bh[q] = -rfun(res_.x)\n",
    "\n",
    "    return pd.Series(r_),pd.Series(r_bh)\n",
    "\n",
    "r_,r_bh= mvo(expret,covar)\n",
    "\n",
    "\n"
   ]
  },
  {
   "cell_type": "code",
   "execution_count": 205,
   "id": "258e317d",
   "metadata": {},
   "outputs": [
    {
     "data": {
      "text/html": [
       "        <script type=\"text/javascript\">\n",
       "        window.PlotlyConfig = {MathJaxConfig: 'local'};\n",
       "        if (window.MathJax && window.MathJax.Hub && window.MathJax.Hub.Config) {window.MathJax.Hub.Config({SVG: {font: \"STIX-Web\"}});}\n",
       "        if (typeof require !== 'undefined') {\n",
       "        require.undef(\"plotly\");\n",
       "        requirejs.config({\n",
       "            paths: {\n",
       "                'plotly': ['https://cdn.plot.ly/plotly-2.27.0.min']\n",
       "            }\n",
       "        });\n",
       "        require(['plotly'], function(Plotly) {\n",
       "            window._Plotly = Plotly;\n",
       "        });\n",
       "        }\n",
       "        </script>\n",
       "        "
      ]
     },
     "metadata": {},
     "output_type": "display_data"
    },
    {
     "data": {
      "application/vnd.plotly.v1+json": {
       "config": {
        "linkText": "Export to plot.ly",
        "plotlyServerURL": "https://plot.ly",
        "showLink": false
       },
       "data": [
        {
         "line": {
          "color": "purple"
         },
         "marker": {
          "color": "purple",
          "size": 6
         },
         "mode": "lines+markers",
         "type": "scatter",
         "x": [
          2,
          5,
          8,
          11,
          14,
          17,
          20,
          23,
          26
         ],
         "y": [
          1.4285719153032874,
          5.139333291034885,
          8.344069710292846,
          11.491562678531512,
          14.619437768652961,
          17.73821537391864,
          20.787398741049508,
          23.733536156714532,
          26.617692846898514
         ]
        },
        {
         "line": {
          "color": "blue"
         },
         "marker": {
          "color": "blue",
          "size": 6
         },
         "mode": "lines+markers",
         "type": "scatter",
         "x": [
          2,
          5,
          8,
          11,
          14,
          17,
          20,
          23,
          26
         ],
         "y": [
          1.4285714285723732,
          5.139333185414001,
          8.344069661784374,
          11.491562639544028,
          14.619437731852493,
          17.738215344141754,
          20.787398717149188,
          23.733536138550164,
          26.617692829365126
         ]
        },
        {
         "marker": {
          "color": "red",
          "size": 7
         },
         "mode": "markers",
         "opacity": 0.7,
         "type": "scatter",
         "x": [
          2,
          10,
          15,
          28
         ],
         "y": [
          0,
          6,
          10,
          25
         ]
        }
       ],
       "layout": {
        "height": 400,
        "margin": {
         "b": 30,
         "l": 50,
         "r": 20,
         "t": 50
        },
        "showlegend": false,
        "template": {
         "data": {
          "bar": [
           {
            "error_x": {
             "color": "#2a3f5f"
            },
            "error_y": {
             "color": "#2a3f5f"
            },
            "marker": {
             "line": {
              "color": "white",
              "width": 0.5
             },
             "pattern": {
              "fillmode": "overlay",
              "size": 10,
              "solidity": 0.2
             }
            },
            "type": "bar"
           }
          ],
          "barpolar": [
           {
            "marker": {
             "line": {
              "color": "white",
              "width": 0.5
             },
             "pattern": {
              "fillmode": "overlay",
              "size": 10,
              "solidity": 0.2
             }
            },
            "type": "barpolar"
           }
          ],
          "carpet": [
           {
            "aaxis": {
             "endlinecolor": "#2a3f5f",
             "gridcolor": "#C8D4E3",
             "linecolor": "#C8D4E3",
             "minorgridcolor": "#C8D4E3",
             "startlinecolor": "#2a3f5f"
            },
            "baxis": {
             "endlinecolor": "#2a3f5f",
             "gridcolor": "#C8D4E3",
             "linecolor": "#C8D4E3",
             "minorgridcolor": "#C8D4E3",
             "startlinecolor": "#2a3f5f"
            },
            "type": "carpet"
           }
          ],
          "choropleth": [
           {
            "colorbar": {
             "outlinewidth": 0,
             "ticks": ""
            },
            "type": "choropleth"
           }
          ],
          "contour": [
           {
            "colorbar": {
             "outlinewidth": 0,
             "ticks": ""
            },
            "colorscale": [
             [
              0,
              "#0d0887"
             ],
             [
              0.1111111111111111,
              "#46039f"
             ],
             [
              0.2222222222222222,
              "#7201a8"
             ],
             [
              0.3333333333333333,
              "#9c179e"
             ],
             [
              0.4444444444444444,
              "#bd3786"
             ],
             [
              0.5555555555555556,
              "#d8576b"
             ],
             [
              0.6666666666666666,
              "#ed7953"
             ],
             [
              0.7777777777777778,
              "#fb9f3a"
             ],
             [
              0.8888888888888888,
              "#fdca26"
             ],
             [
              1,
              "#f0f921"
             ]
            ],
            "type": "contour"
           }
          ],
          "contourcarpet": [
           {
            "colorbar": {
             "outlinewidth": 0,
             "ticks": ""
            },
            "type": "contourcarpet"
           }
          ],
          "heatmap": [
           {
            "colorbar": {
             "outlinewidth": 0,
             "ticks": ""
            },
            "colorscale": [
             [
              0,
              "#0d0887"
             ],
             [
              0.1111111111111111,
              "#46039f"
             ],
             [
              0.2222222222222222,
              "#7201a8"
             ],
             [
              0.3333333333333333,
              "#9c179e"
             ],
             [
              0.4444444444444444,
              "#bd3786"
             ],
             [
              0.5555555555555556,
              "#d8576b"
             ],
             [
              0.6666666666666666,
              "#ed7953"
             ],
             [
              0.7777777777777778,
              "#fb9f3a"
             ],
             [
              0.8888888888888888,
              "#fdca26"
             ],
             [
              1,
              "#f0f921"
             ]
            ],
            "type": "heatmap"
           }
          ],
          "heatmapgl": [
           {
            "colorbar": {
             "outlinewidth": 0,
             "ticks": ""
            },
            "colorscale": [
             [
              0,
              "#0d0887"
             ],
             [
              0.1111111111111111,
              "#46039f"
             ],
             [
              0.2222222222222222,
              "#7201a8"
             ],
             [
              0.3333333333333333,
              "#9c179e"
             ],
             [
              0.4444444444444444,
              "#bd3786"
             ],
             [
              0.5555555555555556,
              "#d8576b"
             ],
             [
              0.6666666666666666,
              "#ed7953"
             ],
             [
              0.7777777777777778,
              "#fb9f3a"
             ],
             [
              0.8888888888888888,
              "#fdca26"
             ],
             [
              1,
              "#f0f921"
             ]
            ],
            "type": "heatmapgl"
           }
          ],
          "histogram": [
           {
            "marker": {
             "pattern": {
              "fillmode": "overlay",
              "size": 10,
              "solidity": 0.2
             }
            },
            "type": "histogram"
           }
          ],
          "histogram2d": [
           {
            "colorbar": {
             "outlinewidth": 0,
             "ticks": ""
            },
            "colorscale": [
             [
              0,
              "#0d0887"
             ],
             [
              0.1111111111111111,
              "#46039f"
             ],
             [
              0.2222222222222222,
              "#7201a8"
             ],
             [
              0.3333333333333333,
              "#9c179e"
             ],
             [
              0.4444444444444444,
              "#bd3786"
             ],
             [
              0.5555555555555556,
              "#d8576b"
             ],
             [
              0.6666666666666666,
              "#ed7953"
             ],
             [
              0.7777777777777778,
              "#fb9f3a"
             ],
             [
              0.8888888888888888,
              "#fdca26"
             ],
             [
              1,
              "#f0f921"
             ]
            ],
            "type": "histogram2d"
           }
          ],
          "histogram2dcontour": [
           {
            "colorbar": {
             "outlinewidth": 0,
             "ticks": ""
            },
            "colorscale": [
             [
              0,
              "#0d0887"
             ],
             [
              0.1111111111111111,
              "#46039f"
             ],
             [
              0.2222222222222222,
              "#7201a8"
             ],
             [
              0.3333333333333333,
              "#9c179e"
             ],
             [
              0.4444444444444444,
              "#bd3786"
             ],
             [
              0.5555555555555556,
              "#d8576b"
             ],
             [
              0.6666666666666666,
              "#ed7953"
             ],
             [
              0.7777777777777778,
              "#fb9f3a"
             ],
             [
              0.8888888888888888,
              "#fdca26"
             ],
             [
              1,
              "#f0f921"
             ]
            ],
            "type": "histogram2dcontour"
           }
          ],
          "mesh3d": [
           {
            "colorbar": {
             "outlinewidth": 0,
             "ticks": ""
            },
            "type": "mesh3d"
           }
          ],
          "parcoords": [
           {
            "line": {
             "colorbar": {
              "outlinewidth": 0,
              "ticks": ""
             }
            },
            "type": "parcoords"
           }
          ],
          "pie": [
           {
            "automargin": true,
            "type": "pie"
           }
          ],
          "scatter": [
           {
            "fillpattern": {
             "fillmode": "overlay",
             "size": 10,
             "solidity": 0.2
            },
            "type": "scatter"
           }
          ],
          "scatter3d": [
           {
            "line": {
             "colorbar": {
              "outlinewidth": 0,
              "ticks": ""
             }
            },
            "marker": {
             "colorbar": {
              "outlinewidth": 0,
              "ticks": ""
             }
            },
            "type": "scatter3d"
           }
          ],
          "scattercarpet": [
           {
            "marker": {
             "colorbar": {
              "outlinewidth": 0,
              "ticks": ""
             }
            },
            "type": "scattercarpet"
           }
          ],
          "scattergeo": [
           {
            "marker": {
             "colorbar": {
              "outlinewidth": 0,
              "ticks": ""
             }
            },
            "type": "scattergeo"
           }
          ],
          "scattergl": [
           {
            "marker": {
             "colorbar": {
              "outlinewidth": 0,
              "ticks": ""
             }
            },
            "type": "scattergl"
           }
          ],
          "scattermapbox": [
           {
            "marker": {
             "colorbar": {
              "outlinewidth": 0,
              "ticks": ""
             }
            },
            "type": "scattermapbox"
           }
          ],
          "scatterpolar": [
           {
            "marker": {
             "colorbar": {
              "outlinewidth": 0,
              "ticks": ""
             }
            },
            "type": "scatterpolar"
           }
          ],
          "scatterpolargl": [
           {
            "marker": {
             "colorbar": {
              "outlinewidth": 0,
              "ticks": ""
             }
            },
            "type": "scatterpolargl"
           }
          ],
          "scatterternary": [
           {
            "marker": {
             "colorbar": {
              "outlinewidth": 0,
              "ticks": ""
             }
            },
            "type": "scatterternary"
           }
          ],
          "surface": [
           {
            "colorbar": {
             "outlinewidth": 0,
             "ticks": ""
            },
            "colorscale": [
             [
              0,
              "#0d0887"
             ],
             [
              0.1111111111111111,
              "#46039f"
             ],
             [
              0.2222222222222222,
              "#7201a8"
             ],
             [
              0.3333333333333333,
              "#9c179e"
             ],
             [
              0.4444444444444444,
              "#bd3786"
             ],
             [
              0.5555555555555556,
              "#d8576b"
             ],
             [
              0.6666666666666666,
              "#ed7953"
             ],
             [
              0.7777777777777778,
              "#fb9f3a"
             ],
             [
              0.8888888888888888,
              "#fdca26"
             ],
             [
              1,
              "#f0f921"
             ]
            ],
            "type": "surface"
           }
          ],
          "table": [
           {
            "cells": {
             "fill": {
              "color": "#EBF0F8"
             },
             "line": {
              "color": "white"
             }
            },
            "header": {
             "fill": {
              "color": "#C8D4E3"
             },
             "line": {
              "color": "white"
             }
            },
            "type": "table"
           }
          ]
         },
         "layout": {
          "annotationdefaults": {
           "arrowcolor": "#2a3f5f",
           "arrowhead": 0,
           "arrowwidth": 1
          },
          "autotypenumbers": "strict",
          "coloraxis": {
           "colorbar": {
            "outlinewidth": 0,
            "ticks": ""
           }
          },
          "colorscale": {
           "diverging": [
            [
             0,
             "#8e0152"
            ],
            [
             0.1,
             "#c51b7d"
            ],
            [
             0.2,
             "#de77ae"
            ],
            [
             0.3,
             "#f1b6da"
            ],
            [
             0.4,
             "#fde0ef"
            ],
            [
             0.5,
             "#f7f7f7"
            ],
            [
             0.6,
             "#e6f5d0"
            ],
            [
             0.7,
             "#b8e186"
            ],
            [
             0.8,
             "#7fbc41"
            ],
            [
             0.9,
             "#4d9221"
            ],
            [
             1,
             "#276419"
            ]
           ],
           "sequential": [
            [
             0,
             "#0d0887"
            ],
            [
             0.1111111111111111,
             "#46039f"
            ],
            [
             0.2222222222222222,
             "#7201a8"
            ],
            [
             0.3333333333333333,
             "#9c179e"
            ],
            [
             0.4444444444444444,
             "#bd3786"
            ],
            [
             0.5555555555555556,
             "#d8576b"
            ],
            [
             0.6666666666666666,
             "#ed7953"
            ],
            [
             0.7777777777777778,
             "#fb9f3a"
            ],
            [
             0.8888888888888888,
             "#fdca26"
            ],
            [
             1,
             "#f0f921"
            ]
           ],
           "sequentialminus": [
            [
             0,
             "#0d0887"
            ],
            [
             0.1111111111111111,
             "#46039f"
            ],
            [
             0.2222222222222222,
             "#7201a8"
            ],
            [
             0.3333333333333333,
             "#9c179e"
            ],
            [
             0.4444444444444444,
             "#bd3786"
            ],
            [
             0.5555555555555556,
             "#d8576b"
            ],
            [
             0.6666666666666666,
             "#ed7953"
            ],
            [
             0.7777777777777778,
             "#fb9f3a"
            ],
            [
             0.8888888888888888,
             "#fdca26"
            ],
            [
             1,
             "#f0f921"
            ]
           ]
          },
          "colorway": [
           "#636efa",
           "#EF553B",
           "#00cc96",
           "#ab63fa",
           "#FFA15A",
           "#19d3f3",
           "#FF6692",
           "#B6E880",
           "#FF97FF",
           "#FECB52"
          ],
          "font": {
           "color": "#2a3f5f"
          },
          "geo": {
           "bgcolor": "white",
           "lakecolor": "white",
           "landcolor": "white",
           "showlakes": true,
           "showland": true,
           "subunitcolor": "#C8D4E3"
          },
          "hoverlabel": {
           "align": "left"
          },
          "hovermode": "closest",
          "mapbox": {
           "style": "light"
          },
          "paper_bgcolor": "white",
          "plot_bgcolor": "white",
          "polar": {
           "angularaxis": {
            "gridcolor": "#EBF0F8",
            "linecolor": "#EBF0F8",
            "ticks": ""
           },
           "bgcolor": "white",
           "radialaxis": {
            "gridcolor": "#EBF0F8",
            "linecolor": "#EBF0F8",
            "ticks": ""
           }
          },
          "scene": {
           "xaxis": {
            "backgroundcolor": "white",
            "gridcolor": "#DFE8F3",
            "gridwidth": 2,
            "linecolor": "#EBF0F8",
            "showbackground": true,
            "ticks": "",
            "zerolinecolor": "#EBF0F8"
           },
           "yaxis": {
            "backgroundcolor": "white",
            "gridcolor": "#DFE8F3",
            "gridwidth": 2,
            "linecolor": "#EBF0F8",
            "showbackground": true,
            "ticks": "",
            "zerolinecolor": "#EBF0F8"
           },
           "zaxis": {
            "backgroundcolor": "white",
            "gridcolor": "#DFE8F3",
            "gridwidth": 2,
            "linecolor": "#EBF0F8",
            "showbackground": true,
            "ticks": "",
            "zerolinecolor": "#EBF0F8"
           }
          },
          "shapedefaults": {
           "line": {
            "color": "#2a3f5f"
           }
          },
          "ternary": {
           "aaxis": {
            "gridcolor": "#DFE8F3",
            "linecolor": "#A2B1C6",
            "ticks": ""
           },
           "baxis": {
            "gridcolor": "#DFE8F3",
            "linecolor": "#A2B1C6",
            "ticks": ""
           },
           "bgcolor": "white",
           "caxis": {
            "gridcolor": "#DFE8F3",
            "linecolor": "#A2B1C6",
            "ticks": ""
           }
          },
          "title": {
           "x": 0.05
          },
          "xaxis": {
           "automargin": true,
           "gridcolor": "#EBF0F8",
           "linecolor": "#EBF0F8",
           "ticks": "",
           "title": {
            "standoff": 15
           },
           "zerolinecolor": "#EBF0F8",
           "zerolinewidth": 2
          },
          "yaxis": {
           "automargin": true,
           "gridcolor": "#EBF0F8",
           "linecolor": "#EBF0F8",
           "ticks": "",
           "title": {
            "standoff": 15
           },
           "zerolinecolor": "#EBF0F8",
           "zerolinewidth": 2
          }
         }
        },
        "title": {
         "font": {
          "size": 10
         },
         "text": "<b>Comparativo minimize vs basinhopping </b> ",
         "xanchor": "left"
        },
        "width": 550
       }
      },
      "text/html": [
       "<div>                            <div id=\"7591ecfa-4c31-49a5-a6d4-a4cd658f1ccb\" class=\"plotly-graph-div\" style=\"height:400px; width:550px;\"></div>            <script type=\"text/javascript\">                require([\"plotly\"], function(Plotly) {                    window.PLOTLYENV=window.PLOTLYENV || {};                                    if (document.getElementById(\"7591ecfa-4c31-49a5-a6d4-a4cd658f1ccb\")) {                    Plotly.newPlot(                        \"7591ecfa-4c31-49a5-a6d4-a4cd658f1ccb\",                        [{\"line\":{\"color\":\"purple\"},\"marker\":{\"color\":\"purple\",\"size\":6},\"mode\":\"lines+markers\",\"x\":[2,5,8,11,14,17,20,23,26],\"y\":[1.4285719153032874,5.139333291034885,8.344069710292846,11.491562678531512,14.619437768652961,17.73821537391864,20.787398741049508,23.733536156714532,26.617692846898514],\"type\":\"scatter\"},{\"line\":{\"color\":\"blue\"},\"marker\":{\"color\":\"blue\",\"size\":6},\"mode\":\"lines+markers\",\"x\":[2,5,8,11,14,17,20,23,26],\"y\":[1.4285714285723732,5.139333185414001,8.344069661784374,11.491562639544028,14.619437731852493,17.738215344141754,20.787398717149188,23.733536138550164,26.617692829365126],\"type\":\"scatter\"},{\"marker\":{\"color\":\"red\",\"size\":7},\"mode\":\"markers\",\"opacity\":0.7,\"x\":[2,10,15,28],\"y\":[0,6,10,25],\"type\":\"scatter\"}],                        {\"height\":400,\"margin\":{\"b\":30,\"l\":50,\"r\":20,\"t\":50},\"showlegend\":false,\"template\":{\"data\":{\"barpolar\":[{\"marker\":{\"line\":{\"color\":\"white\",\"width\":0.5},\"pattern\":{\"fillmode\":\"overlay\",\"size\":10,\"solidity\":0.2}},\"type\":\"barpolar\"}],\"bar\":[{\"error_x\":{\"color\":\"#2a3f5f\"},\"error_y\":{\"color\":\"#2a3f5f\"},\"marker\":{\"line\":{\"color\":\"white\",\"width\":0.5},\"pattern\":{\"fillmode\":\"overlay\",\"size\":10,\"solidity\":0.2}},\"type\":\"bar\"}],\"carpet\":[{\"aaxis\":{\"endlinecolor\":\"#2a3f5f\",\"gridcolor\":\"#C8D4E3\",\"linecolor\":\"#C8D4E3\",\"minorgridcolor\":\"#C8D4E3\",\"startlinecolor\":\"#2a3f5f\"},\"baxis\":{\"endlinecolor\":\"#2a3f5f\",\"gridcolor\":\"#C8D4E3\",\"linecolor\":\"#C8D4E3\",\"minorgridcolor\":\"#C8D4E3\",\"startlinecolor\":\"#2a3f5f\"},\"type\":\"carpet\"}],\"choropleth\":[{\"colorbar\":{\"outlinewidth\":0,\"ticks\":\"\"},\"type\":\"choropleth\"}],\"contourcarpet\":[{\"colorbar\":{\"outlinewidth\":0,\"ticks\":\"\"},\"type\":\"contourcarpet\"}],\"contour\":[{\"colorbar\":{\"outlinewidth\":0,\"ticks\":\"\"},\"colorscale\":[[0.0,\"#0d0887\"],[0.1111111111111111,\"#46039f\"],[0.2222222222222222,\"#7201a8\"],[0.3333333333333333,\"#9c179e\"],[0.4444444444444444,\"#bd3786\"],[0.5555555555555556,\"#d8576b\"],[0.6666666666666666,\"#ed7953\"],[0.7777777777777778,\"#fb9f3a\"],[0.8888888888888888,\"#fdca26\"],[1.0,\"#f0f921\"]],\"type\":\"contour\"}],\"heatmapgl\":[{\"colorbar\":{\"outlinewidth\":0,\"ticks\":\"\"},\"colorscale\":[[0.0,\"#0d0887\"],[0.1111111111111111,\"#46039f\"],[0.2222222222222222,\"#7201a8\"],[0.3333333333333333,\"#9c179e\"],[0.4444444444444444,\"#bd3786\"],[0.5555555555555556,\"#d8576b\"],[0.6666666666666666,\"#ed7953\"],[0.7777777777777778,\"#fb9f3a\"],[0.8888888888888888,\"#fdca26\"],[1.0,\"#f0f921\"]],\"type\":\"heatmapgl\"}],\"heatmap\":[{\"colorbar\":{\"outlinewidth\":0,\"ticks\":\"\"},\"colorscale\":[[0.0,\"#0d0887\"],[0.1111111111111111,\"#46039f\"],[0.2222222222222222,\"#7201a8\"],[0.3333333333333333,\"#9c179e\"],[0.4444444444444444,\"#bd3786\"],[0.5555555555555556,\"#d8576b\"],[0.6666666666666666,\"#ed7953\"],[0.7777777777777778,\"#fb9f3a\"],[0.8888888888888888,\"#fdca26\"],[1.0,\"#f0f921\"]],\"type\":\"heatmap\"}],\"histogram2dcontour\":[{\"colorbar\":{\"outlinewidth\":0,\"ticks\":\"\"},\"colorscale\":[[0.0,\"#0d0887\"],[0.1111111111111111,\"#46039f\"],[0.2222222222222222,\"#7201a8\"],[0.3333333333333333,\"#9c179e\"],[0.4444444444444444,\"#bd3786\"],[0.5555555555555556,\"#d8576b\"],[0.6666666666666666,\"#ed7953\"],[0.7777777777777778,\"#fb9f3a\"],[0.8888888888888888,\"#fdca26\"],[1.0,\"#f0f921\"]],\"type\":\"histogram2dcontour\"}],\"histogram2d\":[{\"colorbar\":{\"outlinewidth\":0,\"ticks\":\"\"},\"colorscale\":[[0.0,\"#0d0887\"],[0.1111111111111111,\"#46039f\"],[0.2222222222222222,\"#7201a8\"],[0.3333333333333333,\"#9c179e\"],[0.4444444444444444,\"#bd3786\"],[0.5555555555555556,\"#d8576b\"],[0.6666666666666666,\"#ed7953\"],[0.7777777777777778,\"#fb9f3a\"],[0.8888888888888888,\"#fdca26\"],[1.0,\"#f0f921\"]],\"type\":\"histogram2d\"}],\"histogram\":[{\"marker\":{\"pattern\":{\"fillmode\":\"overlay\",\"size\":10,\"solidity\":0.2}},\"type\":\"histogram\"}],\"mesh3d\":[{\"colorbar\":{\"outlinewidth\":0,\"ticks\":\"\"},\"type\":\"mesh3d\"}],\"parcoords\":[{\"line\":{\"colorbar\":{\"outlinewidth\":0,\"ticks\":\"\"}},\"type\":\"parcoords\"}],\"pie\":[{\"automargin\":true,\"type\":\"pie\"}],\"scatter3d\":[{\"line\":{\"colorbar\":{\"outlinewidth\":0,\"ticks\":\"\"}},\"marker\":{\"colorbar\":{\"outlinewidth\":0,\"ticks\":\"\"}},\"type\":\"scatter3d\"}],\"scattercarpet\":[{\"marker\":{\"colorbar\":{\"outlinewidth\":0,\"ticks\":\"\"}},\"type\":\"scattercarpet\"}],\"scattergeo\":[{\"marker\":{\"colorbar\":{\"outlinewidth\":0,\"ticks\":\"\"}},\"type\":\"scattergeo\"}],\"scattergl\":[{\"marker\":{\"colorbar\":{\"outlinewidth\":0,\"ticks\":\"\"}},\"type\":\"scattergl\"}],\"scattermapbox\":[{\"marker\":{\"colorbar\":{\"outlinewidth\":0,\"ticks\":\"\"}},\"type\":\"scattermapbox\"}],\"scatterpolargl\":[{\"marker\":{\"colorbar\":{\"outlinewidth\":0,\"ticks\":\"\"}},\"type\":\"scatterpolargl\"}],\"scatterpolar\":[{\"marker\":{\"colorbar\":{\"outlinewidth\":0,\"ticks\":\"\"}},\"type\":\"scatterpolar\"}],\"scatter\":[{\"fillpattern\":{\"fillmode\":\"overlay\",\"size\":10,\"solidity\":0.2},\"type\":\"scatter\"}],\"scatterternary\":[{\"marker\":{\"colorbar\":{\"outlinewidth\":0,\"ticks\":\"\"}},\"type\":\"scatterternary\"}],\"surface\":[{\"colorbar\":{\"outlinewidth\":0,\"ticks\":\"\"},\"colorscale\":[[0.0,\"#0d0887\"],[0.1111111111111111,\"#46039f\"],[0.2222222222222222,\"#7201a8\"],[0.3333333333333333,\"#9c179e\"],[0.4444444444444444,\"#bd3786\"],[0.5555555555555556,\"#d8576b\"],[0.6666666666666666,\"#ed7953\"],[0.7777777777777778,\"#fb9f3a\"],[0.8888888888888888,\"#fdca26\"],[1.0,\"#f0f921\"]],\"type\":\"surface\"}],\"table\":[{\"cells\":{\"fill\":{\"color\":\"#EBF0F8\"},\"line\":{\"color\":\"white\"}},\"header\":{\"fill\":{\"color\":\"#C8D4E3\"},\"line\":{\"color\":\"white\"}},\"type\":\"table\"}]},\"layout\":{\"annotationdefaults\":{\"arrowcolor\":\"#2a3f5f\",\"arrowhead\":0,\"arrowwidth\":1},\"autotypenumbers\":\"strict\",\"coloraxis\":{\"colorbar\":{\"outlinewidth\":0,\"ticks\":\"\"}},\"colorscale\":{\"diverging\":[[0,\"#8e0152\"],[0.1,\"#c51b7d\"],[0.2,\"#de77ae\"],[0.3,\"#f1b6da\"],[0.4,\"#fde0ef\"],[0.5,\"#f7f7f7\"],[0.6,\"#e6f5d0\"],[0.7,\"#b8e186\"],[0.8,\"#7fbc41\"],[0.9,\"#4d9221\"],[1,\"#276419\"]],\"sequential\":[[0.0,\"#0d0887\"],[0.1111111111111111,\"#46039f\"],[0.2222222222222222,\"#7201a8\"],[0.3333333333333333,\"#9c179e\"],[0.4444444444444444,\"#bd3786\"],[0.5555555555555556,\"#d8576b\"],[0.6666666666666666,\"#ed7953\"],[0.7777777777777778,\"#fb9f3a\"],[0.8888888888888888,\"#fdca26\"],[1.0,\"#f0f921\"]],\"sequentialminus\":[[0.0,\"#0d0887\"],[0.1111111111111111,\"#46039f\"],[0.2222222222222222,\"#7201a8\"],[0.3333333333333333,\"#9c179e\"],[0.4444444444444444,\"#bd3786\"],[0.5555555555555556,\"#d8576b\"],[0.6666666666666666,\"#ed7953\"],[0.7777777777777778,\"#fb9f3a\"],[0.8888888888888888,\"#fdca26\"],[1.0,\"#f0f921\"]]},\"colorway\":[\"#636efa\",\"#EF553B\",\"#00cc96\",\"#ab63fa\",\"#FFA15A\",\"#19d3f3\",\"#FF6692\",\"#B6E880\",\"#FF97FF\",\"#FECB52\"],\"font\":{\"color\":\"#2a3f5f\"},\"geo\":{\"bgcolor\":\"white\",\"lakecolor\":\"white\",\"landcolor\":\"white\",\"showlakes\":true,\"showland\":true,\"subunitcolor\":\"#C8D4E3\"},\"hoverlabel\":{\"align\":\"left\"},\"hovermode\":\"closest\",\"mapbox\":{\"style\":\"light\"},\"paper_bgcolor\":\"white\",\"plot_bgcolor\":\"white\",\"polar\":{\"angularaxis\":{\"gridcolor\":\"#EBF0F8\",\"linecolor\":\"#EBF0F8\",\"ticks\":\"\"},\"bgcolor\":\"white\",\"radialaxis\":{\"gridcolor\":\"#EBF0F8\",\"linecolor\":\"#EBF0F8\",\"ticks\":\"\"}},\"scene\":{\"xaxis\":{\"backgroundcolor\":\"white\",\"gridcolor\":\"#DFE8F3\",\"gridwidth\":2,\"linecolor\":\"#EBF0F8\",\"showbackground\":true,\"ticks\":\"\",\"zerolinecolor\":\"#EBF0F8\"},\"yaxis\":{\"backgroundcolor\":\"white\",\"gridcolor\":\"#DFE8F3\",\"gridwidth\":2,\"linecolor\":\"#EBF0F8\",\"showbackground\":true,\"ticks\":\"\",\"zerolinecolor\":\"#EBF0F8\"},\"zaxis\":{\"backgroundcolor\":\"white\",\"gridcolor\":\"#DFE8F3\",\"gridwidth\":2,\"linecolor\":\"#EBF0F8\",\"showbackground\":true,\"ticks\":\"\",\"zerolinecolor\":\"#EBF0F8\"}},\"shapedefaults\":{\"line\":{\"color\":\"#2a3f5f\"}},\"ternary\":{\"aaxis\":{\"gridcolor\":\"#DFE8F3\",\"linecolor\":\"#A2B1C6\",\"ticks\":\"\"},\"baxis\":{\"gridcolor\":\"#DFE8F3\",\"linecolor\":\"#A2B1C6\",\"ticks\":\"\"},\"bgcolor\":\"white\",\"caxis\":{\"gridcolor\":\"#DFE8F3\",\"linecolor\":\"#A2B1C6\",\"ticks\":\"\"}},\"title\":{\"x\":0.05},\"xaxis\":{\"automargin\":true,\"gridcolor\":\"#EBF0F8\",\"linecolor\":\"#EBF0F8\",\"ticks\":\"\",\"title\":{\"standoff\":15},\"zerolinecolor\":\"#EBF0F8\",\"zerolinewidth\":2},\"yaxis\":{\"automargin\":true,\"gridcolor\":\"#EBF0F8\",\"linecolor\":\"#EBF0F8\",\"ticks\":\"\",\"title\":{\"standoff\":15},\"zerolinecolor\":\"#EBF0F8\",\"zerolinewidth\":2}}},\"title\":{\"font\":{\"size\":10},\"text\":\"\\u003cb\\u003eComparativo minimize vs basinhopping \\u003c\\u002fb\\u003e \",\"xanchor\":\"left\"},\"width\":550},                        {\"responsive\": true}                    ).then(function(){\n",
       "                            \n",
       "var gd = document.getElementById('7591ecfa-4c31-49a5-a6d4-a4cd658f1ccb');\n",
       "var x = new MutationObserver(function (mutations, observer) {{\n",
       "        var display = window.getComputedStyle(gd).display;\n",
       "        if (!display || display === 'none') {{\n",
       "            console.log([gd, 'removed!']);\n",
       "            Plotly.purge(gd);\n",
       "            observer.disconnect();\n",
       "        }}\n",
       "}});\n",
       "\n",
       "// Listen for the removal of the full notebook cells\n",
       "var notebookContainer = gd.closest('#notebook-container');\n",
       "if (notebookContainer) {{\n",
       "    x.observe(notebookContainer, {childList: true});\n",
       "}}\n",
       "\n",
       "// Listen for the clearing of the current output cell\n",
       "var outputEl = gd.closest('.output');\n",
       "if (outputEl) {{\n",
       "    x.observe(outputEl, {childList: true});\n",
       "}}\n",
       "\n",
       "                        })                };                });            </script>        </div>"
      ]
     },
     "metadata": {},
     "output_type": "display_data"
    }
   ],
   "source": [
    "def scat(traces,annots=[]):\n",
    "  layout = go.Layout(width=550,height=400,margin=dict(l=50,r=20,b=30,t=50),template='plotly_white',\n",
    "                    annotations=annots,\n",
    "                    showlegend=False,\n",
    "                    title={'text':'<b>Comparativo minimize vs basinhopping </b> ','xanchor':'left','font':{'size':10}},\n",
    "                  )\n",
    "  fig = go.Figure(data=traces, layout=layout)\n",
    "  po.init_notebook_mode(connected=True)\n",
    "  config = {'showLink':False}\n",
    "  po.iplot(fig,config=config)\n",
    "\n",
    "     \n",
    "\n",
    "traces=[]\n",
    "temp = eff.iloc[2:]\n",
    "traces.append(go.Scatter(x=r_bh.index,y=r_bh,mode='lines+markers',line={'color':'purple'},marker={'size':6,'color':'purple'}))\n",
    "traces.append(go.Scatter(x=r_.index,y=r_,mode='lines+markers',line={'color':'blue'},marker={'size':6,'color':'blue'}))\n",
    "traces.append(go.Scatter(x=expvol,y=expret,mode='markers',marker={'size':7,'color':'red'},opacity=0.7))\n",
    "\n",
    "scat(traces)"
   ]
  },
  {
   "cell_type": "code",
   "execution_count": null,
   "id": "7d0c1d97",
   "metadata": {},
   "outputs": [],
   "source": [
    "# BL usando probabilidades del modelo\n",
    "prtest = prs.loc['2020-10':,:]\n",
    "prtest\n",
    "ref_=[]\n",
    "ws_=[]\n",
    "ws_bl=[]\n",
    "ref_bl=[]\n",
    "\n",
    "for i in R:\n",
    "    mu_bl,sigma_bl = BLopt(i,sigma,q,c)\n",
    "    ri,wi =mvo(i,sigma)\n",
    "    rbl,wbl = mvo(mu_bl,sigma_bl)\n",
    "    ref_.append(ri)\n",
    "    ws_.append(wi)\n",
    "    ws_bl.append(wbl)\n",
    "    ref_bl.append(rbl)"
   ]
  },
  {
   "cell_type": "code",
   "execution_count": 37,
   "id": "8004d163",
   "metadata": {},
   "outputs": [
    {
     "data": {
      "text/html": [
       "<div>\n",
       "<style scoped>\n",
       "    .dataframe tbody tr th:only-of-type {\n",
       "        vertical-align: middle;\n",
       "    }\n",
       "\n",
       "    .dataframe tbody tr th {\n",
       "        vertical-align: top;\n",
       "    }\n",
       "\n",
       "    .dataframe thead th {\n",
       "        text-align: right;\n",
       "    }\n",
       "</style>\n",
       "<table border=\"1\" class=\"dataframe\">\n",
       "  <thead>\n",
       "    <tr style=\"text-align: right;\">\n",
       "      <th></th>\n",
       "      <th>USDCOP</th>\n",
       "      <th>SPX</th>\n",
       "      <th>USTTEN</th>\n",
       "      <th>XAU</th>\n",
       "      <th>EEM</th>\n",
       "    </tr>\n",
       "    <tr>\n",
       "      <th>date</th>\n",
       "      <th></th>\n",
       "      <th></th>\n",
       "      <th></th>\n",
       "      <th></th>\n",
       "      <th></th>\n",
       "    </tr>\n",
       "  </thead>\n",
       "  <tbody>\n",
       "    <tr>\n",
       "      <th>2020-10-07</th>\n",
       "      <td>0.001410</td>\n",
       "      <td>0.006640</td>\n",
       "      <td>0.350663</td>\n",
       "      <td>0.077552</td>\n",
       "      <td>0.018273</td>\n",
       "    </tr>\n",
       "    <tr>\n",
       "      <th>2020-10-14</th>\n",
       "      <td>0.016871</td>\n",
       "      <td>0.002660</td>\n",
       "      <td>0.697250</td>\n",
       "      <td>0.990426</td>\n",
       "      <td>0.038311</td>\n",
       "    </tr>\n",
       "    <tr>\n",
       "      <th>2020-10-21</th>\n",
       "      <td>0.001314</td>\n",
       "      <td>0.007935</td>\n",
       "      <td>0.757681</td>\n",
       "      <td>0.961983</td>\n",
       "      <td>0.019321</td>\n",
       "    </tr>\n",
       "    <tr>\n",
       "      <th>2020-10-28</th>\n",
       "      <td>0.014559</td>\n",
       "      <td>0.000034</td>\n",
       "      <td>0.688108</td>\n",
       "      <td>0.925482</td>\n",
       "      <td>0.024267</td>\n",
       "    </tr>\n",
       "    <tr>\n",
       "      <th>2020-11-04</th>\n",
       "      <td>0.018835</td>\n",
       "      <td>0.002423</td>\n",
       "      <td>0.659116</td>\n",
       "      <td>0.967437</td>\n",
       "      <td>0.048562</td>\n",
       "    </tr>\n",
       "    <tr>\n",
       "      <th>...</th>\n",
       "      <td>...</td>\n",
       "      <td>...</td>\n",
       "      <td>...</td>\n",
       "      <td>...</td>\n",
       "      <td>...</td>\n",
       "    </tr>\n",
       "    <tr>\n",
       "      <th>2023-09-27</th>\n",
       "      <td>0.793741</td>\n",
       "      <td>0.000185</td>\n",
       "      <td>0.371877</td>\n",
       "      <td>0.707647</td>\n",
       "      <td>0.290332</td>\n",
       "    </tr>\n",
       "    <tr>\n",
       "      <th>2023-10-04</th>\n",
       "      <td>0.887781</td>\n",
       "      <td>0.030870</td>\n",
       "      <td>0.326329</td>\n",
       "      <td>0.137116</td>\n",
       "      <td>0.668805</td>\n",
       "    </tr>\n",
       "    <tr>\n",
       "      <th>2023-10-11</th>\n",
       "      <td>0.003558</td>\n",
       "      <td>0.456493</td>\n",
       "      <td>0.266860</td>\n",
       "      <td>0.121377</td>\n",
       "      <td>0.743038</td>\n",
       "    </tr>\n",
       "    <tr>\n",
       "      <th>2023-10-18</th>\n",
       "      <td>0.108806</td>\n",
       "      <td>0.245055</td>\n",
       "      <td>0.372002</td>\n",
       "      <td>0.258651</td>\n",
       "      <td>0.962804</td>\n",
       "    </tr>\n",
       "    <tr>\n",
       "      <th>2023-10-25</th>\n",
       "      <td>0.834437</td>\n",
       "      <td>0.417845</td>\n",
       "      <td>0.681015</td>\n",
       "      <td>0.870427</td>\n",
       "      <td>0.019068</td>\n",
       "    </tr>\n",
       "  </tbody>\n",
       "</table>\n",
       "<p>157 rows × 5 columns</p>\n",
       "</div>"
      ],
      "text/plain": [
       "              USDCOP       SPX    USTTEN       XAU       EEM\n",
       "date                                                        \n",
       "2020-10-07  0.001410  0.006640  0.350663  0.077552  0.018273\n",
       "2020-10-14  0.016871  0.002660  0.697250  0.990426  0.038311\n",
       "2020-10-21  0.001314  0.007935  0.757681  0.961983  0.019321\n",
       "2020-10-28  0.014559  0.000034  0.688108  0.925482  0.024267\n",
       "2020-11-04  0.018835  0.002423  0.659116  0.967437  0.048562\n",
       "...              ...       ...       ...       ...       ...\n",
       "2023-09-27  0.793741  0.000185  0.371877  0.707647  0.290332\n",
       "2023-10-04  0.887781  0.030870  0.326329  0.137116  0.668805\n",
       "2023-10-11  0.003558  0.456493  0.266860  0.121377  0.743038\n",
       "2023-10-18  0.108806  0.245055  0.372002  0.258651  0.962804\n",
       "2023-10-25  0.834437  0.417845  0.681015  0.870427  0.019068\n",
       "\n",
       "[157 rows x 5 columns]"
      ]
     },
     "execution_count": 37,
     "metadata": {},
     "output_type": "execute_result"
    }
   ],
   "source": []
  }
 ],
 "metadata": {
  "interpreter": {
   "hash": "ae495d51253963d5bfe07d5bb9852f25adcde5dd8b593184b0fe829f5db136e6"
  },
  "kernelspec": {
   "display_name": "env1",
   "language": "python",
   "name": "python3"
  },
  "language_info": {
   "codemirror_mode": {
    "name": "ipython",
    "version": 3
   },
   "file_extension": ".py",
   "mimetype": "text/x-python",
   "name": "python",
   "nbconvert_exporter": "python",
   "pygments_lexer": "ipython3",
   "version": "3.11.7"
  }
 },
 "nbformat": 4,
 "nbformat_minor": 5
}
