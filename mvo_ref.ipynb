{
 "cells": [
  {
   "cell_type": "code",
   "execution_count": 1,
   "id": "936a145c",
   "metadata": {},
   "outputs": [],
   "source": [
    "import pandas as pd\n",
    "import numpy as np\n",
    "from scipy.optimize import minimize\n",
    "from itertools import product\n",
    "from numpy.linalg import cholesky\n",
    "import plotly.graph_objs as go\n",
    "import plotly.offline as po"
   ]
  },
  {
   "cell_type": "code",
   "execution_count": 51,
   "id": "47129c2f",
   "metadata": {},
   "outputs": [
    {
     "name": "stdout",
     "output_type": "stream",
     "text": [
      "     0    1    2\n",
      "0  1.0  0.9  0.6\n",
      "1  0.9  1.0  0.7\n",
      "2  0.6  0.7  1.0\n",
      "[[1.         0.         0.        ]\n",
      " [0.9        0.43588989 0.        ]\n",
      " [0.6        0.36706517 0.71081865]]\n"
     ]
    },
    {
     "data": {
      "text/plain": [
       "array([0.01 , 0.009, 0.006])"
      ]
     },
     "execution_count": 51,
     "metadata": {},
     "output_type": "execute_result"
    }
   ],
   "source": [
    "from numpy.linalg import cholesky\n",
    "import pandas as pd\n",
    "import numpy as np\n",
    "\n",
    "corr = pd.DataFrame([[1,0.9,0.6],[0.9,1,0.7],[0.6,0.7,1]])\n",
    "vol = [0.01,0.01,0.01]\n",
    "C = cholesky(corr)\n",
    "k = pd.Series([1,0,0])\n",
    "r = np.multiply(np.matmul(C,k).transpose(),vol)\n",
    "r"
   ]
  },
  {
   "cell_type": "code",
   "execution_count": 39,
   "id": "ddbe3cf2",
   "metadata": {},
   "outputs": [],
   "source": [
    "\n",
    "expret = [5,8,12,15]\n",
    "expvol = [3,7,12,18]\n",
    "corr = pd.DataFrame([[1,0.5,0.1,-0.6],[0.5,1.0,0.2,0.1],[0.1,0.2,1.0,0.5],[-0.6,0.1,0.5,1.0]],columns=expvol,index=expvol)\n",
    "covar = corr.copy()\n",
    "for i,j in product(expvol,repeat=2):\n",
    "    covar.loc[i,j] = corr.loc[i,j]*i*j\n",
    "\n",
    "\n",
    "    \n",
    "x0 = [0.25,0.25,0.25,0.25]\n",
    "bnds = ((0, 1), (0, 1),(0, 1),(0, 1))\n",
    "\n",
    "#minimize variance for each level of return\n",
    "def por_var(x):\n",
    "    return np.dot(np.matmul(x,covar),x)\n",
    "def w(x):\n",
    "    return np.sum(x)-1\n",
    "\n",
    "eff={}\n",
    "ws={}\n",
    "for i in range(min(expret)*2,max(expret)*2+1):\n",
    "    r = i/2\n",
    "\n",
    "    def port_ret(x):\n",
    "        return np.dot(x,expret)-r\n",
    "    cons= [{'type': 'eq', 'fun': port_ret},{'type': 'eq', 'fun': w}]\n",
    "    res = minimize(por_var,x0,bounds=bnds,constraints=cons)\n",
    "    eff[r] = np.sqrt(por_var(res.x))\n",
    "    ws[r] = res.x\n",
    "\n",
    "eff = pd.Series(eff)\n",
    "\n",
    "\n",
    "\n"
   ]
  },
  {
   "cell_type": "code",
   "execution_count": 75,
   "id": "cfb8a032",
   "metadata": {},
   "outputs": [],
   "source": [
    "#maximize return for each level of variance \n",
    "cons= [{'type': 'eq', 'fun': w}] #constraints for global minimum variance portfolio\n",
    "gmvp = minimize(por_var,x0,bounds=bnds,constraints=cons) # weights of GMVP\n",
    "min_v = np.sqrt(por_var(gmvp.x)) # minimum volatility possible\n",
    "max_v = np.max(expvol)\n",
    "\n",
    "\n",
    "def mvo(rr):\n",
    "    eff_v={}\n",
    "    eff_x={}\n",
    "    for q in range(int(np.ceil(min_v)),max_v+1,3):\n",
    "        def varp(x):\n",
    "            return np.dot(np.matmul(x,covar),x)-q**2\n",
    "        def rfun(x):\n",
    "            return -np.dot(x,rr)\n",
    "        cons  = [{'type': 'eq', 'fun': varp},{'type': 'eq', 'fun': w}]\n",
    "        res = minimize(rfun,x0,bounds=bnds,constraints=cons)\n",
    "\n",
    "        eff_v[q] = -rfun(res.x)\n",
    "        eff_x[q] = res.x\n",
    "\n",
    "    return pd.Series(eff_v),pd.DataFrame(eff_x)\n",
    "\n",
    "eff_v,xxx= mvo(expret)"
   ]
  },
  {
   "cell_type": "code",
   "execution_count": 41,
   "id": "1093129c",
   "metadata": {},
   "outputs": [
    {
     "data": {
      "text/html": [
       "        <script type=\"text/javascript\">\n",
       "        window.PlotlyConfig = {MathJaxConfig: 'local'};\n",
       "        if (window.MathJax) {MathJax.Hub.Config({SVG: {font: \"STIX-Web\"}});}\n",
       "        if (typeof require !== 'undefined') {\n",
       "        require.undef(\"plotly\");\n",
       "        requirejs.config({\n",
       "            paths: {\n",
       "                'plotly': ['https://cdn.plot.ly/plotly-2.9.0.min']\n",
       "            }\n",
       "        });\n",
       "        require(['plotly'], function(Plotly) {\n",
       "            window._Plotly = Plotly;\n",
       "        });\n",
       "        }\n",
       "        </script>\n",
       "        "
      ]
     },
     "metadata": {},
     "output_type": "display_data"
    },
    {
     "data": {
      "application/vnd.plotly.v1+json": {
       "config": {
        "linkText": "Export to plot.ly",
        "plotlyServerURL": "https://plot.ly",
        "showLink": false
       },
       "data": [
        {
         "line": {
          "color": "dodgerblue"
         },
         "marker": {
          "color": "blue",
          "size": 6
         },
         "mode": "lines+markers",
         "type": "scatter",
         "x": [
          2.1674870241826305,
          2.3517015177025384,
          2.8764095129408886,
          3.492536628296895,
          4.136862459827586,
          4.798040013194527,
          5.469961880159441,
          6.14910693051114,
          6.83332182094475,
          7.521223055159798,
          8.238916539098241,
          9.06622318133435,
          9.982776267990696,
          10.966221020351806,
          12.000122796251114,
          13.076696830622573,
          14.422205101853205,
          16.093476939439448,
          18.00000000000002
         ],
         "y": [
          6,
          6.5,
          7,
          7.5,
          8,
          8.5,
          9,
          9.5,
          10,
          10.5,
          11,
          11.5,
          12,
          12.5,
          13,
          13.5,
          14,
          14.5,
          15
         ]
        },
        {
         "line": {
          "color": "purple"
         },
         "marker": {
          "color": "purple",
          "size": 6
         },
         "mode": "lines+markers",
         "type": "scatter",
         "x": [
          3,
          5,
          7,
          9,
          11,
          13,
          15,
          17
         ],
         "y": [
          7.102864336599302,
          8.650981511608364,
          10.121366041561362,
          11.46206427816221,
          12.516692068000339,
          13.466131371035429,
          14.182575593982,
          14.744223582753259
         ]
        },
        {
         "marker": {
          "color": "red",
          "size": 7
         },
         "mode": "markers",
         "opacity": 0.7,
         "type": "scatter",
         "x": [
          3,
          7,
          12,
          18
         ],
         "y": [
          5,
          8,
          12,
          15
         ]
        }
       ],
       "layout": {
        "annotations": [
         {
          "font": {
           "color": "blue",
           "size": 8
          },
          "showarrow": false,
          "text": "(2.2,6.0)",
          "x": 3.6674870241826305,
          "y": 6
         },
         {
          "font": {
           "color": "blue",
           "size": 8
          },
          "showarrow": false,
          "text": "(2.4,6.5)",
          "x": 3.8517015177025384,
          "y": 6.5
         },
         {
          "font": {
           "color": "blue",
           "size": 8
          },
          "showarrow": false,
          "text": "(2.9,7.0)",
          "x": 4.376409512940889,
          "y": 7
         },
         {
          "font": {
           "color": "blue",
           "size": 8
          },
          "showarrow": false,
          "text": "(3.5,7.5)",
          "x": 4.992536628296895,
          "y": 7.5
         },
         {
          "font": {
           "color": "blue",
           "size": 8
          },
          "showarrow": false,
          "text": "(4.1,8.0)",
          "x": 5.636862459827586,
          "y": 8
         },
         {
          "font": {
           "color": "blue",
           "size": 8
          },
          "showarrow": false,
          "text": "(4.8,8.5)",
          "x": 6.298040013194527,
          "y": 8.5
         },
         {
          "font": {
           "color": "blue",
           "size": 8
          },
          "showarrow": false,
          "text": "(5.5,9.0)",
          "x": 6.969961880159441,
          "y": 9
         },
         {
          "font": {
           "color": "blue",
           "size": 8
          },
          "showarrow": false,
          "text": "(6.1,9.5)",
          "x": 7.64910693051114,
          "y": 9.5
         },
         {
          "font": {
           "color": "blue",
           "size": 8
          },
          "showarrow": false,
          "text": "(6.8,10.0)",
          "x": 8.33332182094475,
          "y": 10
         },
         {
          "font": {
           "color": "blue",
           "size": 8
          },
          "showarrow": false,
          "text": "(7.5,10.5)",
          "x": 9.021223055159798,
          "y": 10.5
         },
         {
          "font": {
           "color": "blue",
           "size": 8
          },
          "showarrow": false,
          "text": "(8.2,11.0)",
          "x": 9.738916539098241,
          "y": 11
         },
         {
          "font": {
           "color": "blue",
           "size": 8
          },
          "showarrow": false,
          "text": "(9.1,11.5)",
          "x": 10.56622318133435,
          "y": 11.5
         },
         {
          "font": {
           "color": "blue",
           "size": 8
          },
          "showarrow": false,
          "text": "(10.0,12.0)",
          "x": 11.482776267990696,
          "y": 12
         },
         {
          "font": {
           "color": "blue",
           "size": 8
          },
          "showarrow": false,
          "text": "(11.0,12.5)",
          "x": 12.466221020351806,
          "y": 12.5
         },
         {
          "font": {
           "color": "blue",
           "size": 8
          },
          "showarrow": false,
          "text": "(12.0,13.0)",
          "x": 13.500122796251114,
          "y": 13
         },
         {
          "font": {
           "color": "blue",
           "size": 8
          },
          "showarrow": false,
          "text": "(13.1,13.5)",
          "x": 14.576696830622573,
          "y": 13.5
         },
         {
          "font": {
           "color": "blue",
           "size": 8
          },
          "showarrow": false,
          "text": "(14.4,14.0)",
          "x": 15.922205101853205,
          "y": 14
         },
         {
          "font": {
           "color": "blue",
           "size": 8
          },
          "showarrow": false,
          "text": "(16.1,14.5)",
          "x": 17.593476939439448,
          "y": 14.5
         },
         {
          "font": {
           "color": "blue",
           "size": 8
          },
          "showarrow": false,
          "text": "(18.0,15.0)",
          "x": 19.50000000000002,
          "y": 15
         }
        ],
        "height": 400,
        "margin": {
         "b": 30,
         "l": 50,
         "r": 20,
         "t": 50
        },
        "showlegend": false,
        "template": {
         "data": {
          "bar": [
           {
            "error_x": {
             "color": "#2a3f5f"
            },
            "error_y": {
             "color": "#2a3f5f"
            },
            "marker": {
             "line": {
              "color": "white",
              "width": 0.5
             },
             "pattern": {
              "fillmode": "overlay",
              "size": 10,
              "solidity": 0.2
             }
            },
            "type": "bar"
           }
          ],
          "barpolar": [
           {
            "marker": {
             "line": {
              "color": "white",
              "width": 0.5
             },
             "pattern": {
              "fillmode": "overlay",
              "size": 10,
              "solidity": 0.2
             }
            },
            "type": "barpolar"
           }
          ],
          "carpet": [
           {
            "aaxis": {
             "endlinecolor": "#2a3f5f",
             "gridcolor": "#C8D4E3",
             "linecolor": "#C8D4E3",
             "minorgridcolor": "#C8D4E3",
             "startlinecolor": "#2a3f5f"
            },
            "baxis": {
             "endlinecolor": "#2a3f5f",
             "gridcolor": "#C8D4E3",
             "linecolor": "#C8D4E3",
             "minorgridcolor": "#C8D4E3",
             "startlinecolor": "#2a3f5f"
            },
            "type": "carpet"
           }
          ],
          "choropleth": [
           {
            "colorbar": {
             "outlinewidth": 0,
             "ticks": ""
            },
            "type": "choropleth"
           }
          ],
          "contour": [
           {
            "colorbar": {
             "outlinewidth": 0,
             "ticks": ""
            },
            "colorscale": [
             [
              0,
              "#0d0887"
             ],
             [
              0.1111111111111111,
              "#46039f"
             ],
             [
              0.2222222222222222,
              "#7201a8"
             ],
             [
              0.3333333333333333,
              "#9c179e"
             ],
             [
              0.4444444444444444,
              "#bd3786"
             ],
             [
              0.5555555555555556,
              "#d8576b"
             ],
             [
              0.6666666666666666,
              "#ed7953"
             ],
             [
              0.7777777777777778,
              "#fb9f3a"
             ],
             [
              0.8888888888888888,
              "#fdca26"
             ],
             [
              1,
              "#f0f921"
             ]
            ],
            "type": "contour"
           }
          ],
          "contourcarpet": [
           {
            "colorbar": {
             "outlinewidth": 0,
             "ticks": ""
            },
            "type": "contourcarpet"
           }
          ],
          "heatmap": [
           {
            "colorbar": {
             "outlinewidth": 0,
             "ticks": ""
            },
            "colorscale": [
             [
              0,
              "#0d0887"
             ],
             [
              0.1111111111111111,
              "#46039f"
             ],
             [
              0.2222222222222222,
              "#7201a8"
             ],
             [
              0.3333333333333333,
              "#9c179e"
             ],
             [
              0.4444444444444444,
              "#bd3786"
             ],
             [
              0.5555555555555556,
              "#d8576b"
             ],
             [
              0.6666666666666666,
              "#ed7953"
             ],
             [
              0.7777777777777778,
              "#fb9f3a"
             ],
             [
              0.8888888888888888,
              "#fdca26"
             ],
             [
              1,
              "#f0f921"
             ]
            ],
            "type": "heatmap"
           }
          ],
          "heatmapgl": [
           {
            "colorbar": {
             "outlinewidth": 0,
             "ticks": ""
            },
            "colorscale": [
             [
              0,
              "#0d0887"
             ],
             [
              0.1111111111111111,
              "#46039f"
             ],
             [
              0.2222222222222222,
              "#7201a8"
             ],
             [
              0.3333333333333333,
              "#9c179e"
             ],
             [
              0.4444444444444444,
              "#bd3786"
             ],
             [
              0.5555555555555556,
              "#d8576b"
             ],
             [
              0.6666666666666666,
              "#ed7953"
             ],
             [
              0.7777777777777778,
              "#fb9f3a"
             ],
             [
              0.8888888888888888,
              "#fdca26"
             ],
             [
              1,
              "#f0f921"
             ]
            ],
            "type": "heatmapgl"
           }
          ],
          "histogram": [
           {
            "marker": {
             "pattern": {
              "fillmode": "overlay",
              "size": 10,
              "solidity": 0.2
             }
            },
            "type": "histogram"
           }
          ],
          "histogram2d": [
           {
            "colorbar": {
             "outlinewidth": 0,
             "ticks": ""
            },
            "colorscale": [
             [
              0,
              "#0d0887"
             ],
             [
              0.1111111111111111,
              "#46039f"
             ],
             [
              0.2222222222222222,
              "#7201a8"
             ],
             [
              0.3333333333333333,
              "#9c179e"
             ],
             [
              0.4444444444444444,
              "#bd3786"
             ],
             [
              0.5555555555555556,
              "#d8576b"
             ],
             [
              0.6666666666666666,
              "#ed7953"
             ],
             [
              0.7777777777777778,
              "#fb9f3a"
             ],
             [
              0.8888888888888888,
              "#fdca26"
             ],
             [
              1,
              "#f0f921"
             ]
            ],
            "type": "histogram2d"
           }
          ],
          "histogram2dcontour": [
           {
            "colorbar": {
             "outlinewidth": 0,
             "ticks": ""
            },
            "colorscale": [
             [
              0,
              "#0d0887"
             ],
             [
              0.1111111111111111,
              "#46039f"
             ],
             [
              0.2222222222222222,
              "#7201a8"
             ],
             [
              0.3333333333333333,
              "#9c179e"
             ],
             [
              0.4444444444444444,
              "#bd3786"
             ],
             [
              0.5555555555555556,
              "#d8576b"
             ],
             [
              0.6666666666666666,
              "#ed7953"
             ],
             [
              0.7777777777777778,
              "#fb9f3a"
             ],
             [
              0.8888888888888888,
              "#fdca26"
             ],
             [
              1,
              "#f0f921"
             ]
            ],
            "type": "histogram2dcontour"
           }
          ],
          "mesh3d": [
           {
            "colorbar": {
             "outlinewidth": 0,
             "ticks": ""
            },
            "type": "mesh3d"
           }
          ],
          "parcoords": [
           {
            "line": {
             "colorbar": {
              "outlinewidth": 0,
              "ticks": ""
             }
            },
            "type": "parcoords"
           }
          ],
          "pie": [
           {
            "automargin": true,
            "type": "pie"
           }
          ],
          "scatter": [
           {
            "marker": {
             "colorbar": {
              "outlinewidth": 0,
              "ticks": ""
             }
            },
            "type": "scatter"
           }
          ],
          "scatter3d": [
           {
            "line": {
             "colorbar": {
              "outlinewidth": 0,
              "ticks": ""
             }
            },
            "marker": {
             "colorbar": {
              "outlinewidth": 0,
              "ticks": ""
             }
            },
            "type": "scatter3d"
           }
          ],
          "scattercarpet": [
           {
            "marker": {
             "colorbar": {
              "outlinewidth": 0,
              "ticks": ""
             }
            },
            "type": "scattercarpet"
           }
          ],
          "scattergeo": [
           {
            "marker": {
             "colorbar": {
              "outlinewidth": 0,
              "ticks": ""
             }
            },
            "type": "scattergeo"
           }
          ],
          "scattergl": [
           {
            "marker": {
             "colorbar": {
              "outlinewidth": 0,
              "ticks": ""
             }
            },
            "type": "scattergl"
           }
          ],
          "scattermapbox": [
           {
            "marker": {
             "colorbar": {
              "outlinewidth": 0,
              "ticks": ""
             }
            },
            "type": "scattermapbox"
           }
          ],
          "scatterpolar": [
           {
            "marker": {
             "colorbar": {
              "outlinewidth": 0,
              "ticks": ""
             }
            },
            "type": "scatterpolar"
           }
          ],
          "scatterpolargl": [
           {
            "marker": {
             "colorbar": {
              "outlinewidth": 0,
              "ticks": ""
             }
            },
            "type": "scatterpolargl"
           }
          ],
          "scatterternary": [
           {
            "marker": {
             "colorbar": {
              "outlinewidth": 0,
              "ticks": ""
             }
            },
            "type": "scatterternary"
           }
          ],
          "surface": [
           {
            "colorbar": {
             "outlinewidth": 0,
             "ticks": ""
            },
            "colorscale": [
             [
              0,
              "#0d0887"
             ],
             [
              0.1111111111111111,
              "#46039f"
             ],
             [
              0.2222222222222222,
              "#7201a8"
             ],
             [
              0.3333333333333333,
              "#9c179e"
             ],
             [
              0.4444444444444444,
              "#bd3786"
             ],
             [
              0.5555555555555556,
              "#d8576b"
             ],
             [
              0.6666666666666666,
              "#ed7953"
             ],
             [
              0.7777777777777778,
              "#fb9f3a"
             ],
             [
              0.8888888888888888,
              "#fdca26"
             ],
             [
              1,
              "#f0f921"
             ]
            ],
            "type": "surface"
           }
          ],
          "table": [
           {
            "cells": {
             "fill": {
              "color": "#EBF0F8"
             },
             "line": {
              "color": "white"
             }
            },
            "header": {
             "fill": {
              "color": "#C8D4E3"
             },
             "line": {
              "color": "white"
             }
            },
            "type": "table"
           }
          ]
         },
         "layout": {
          "annotationdefaults": {
           "arrowcolor": "#2a3f5f",
           "arrowhead": 0,
           "arrowwidth": 1
          },
          "autotypenumbers": "strict",
          "coloraxis": {
           "colorbar": {
            "outlinewidth": 0,
            "ticks": ""
           }
          },
          "colorscale": {
           "diverging": [
            [
             0,
             "#8e0152"
            ],
            [
             0.1,
             "#c51b7d"
            ],
            [
             0.2,
             "#de77ae"
            ],
            [
             0.3,
             "#f1b6da"
            ],
            [
             0.4,
             "#fde0ef"
            ],
            [
             0.5,
             "#f7f7f7"
            ],
            [
             0.6,
             "#e6f5d0"
            ],
            [
             0.7,
             "#b8e186"
            ],
            [
             0.8,
             "#7fbc41"
            ],
            [
             0.9,
             "#4d9221"
            ],
            [
             1,
             "#276419"
            ]
           ],
           "sequential": [
            [
             0,
             "#0d0887"
            ],
            [
             0.1111111111111111,
             "#46039f"
            ],
            [
             0.2222222222222222,
             "#7201a8"
            ],
            [
             0.3333333333333333,
             "#9c179e"
            ],
            [
             0.4444444444444444,
             "#bd3786"
            ],
            [
             0.5555555555555556,
             "#d8576b"
            ],
            [
             0.6666666666666666,
             "#ed7953"
            ],
            [
             0.7777777777777778,
             "#fb9f3a"
            ],
            [
             0.8888888888888888,
             "#fdca26"
            ],
            [
             1,
             "#f0f921"
            ]
           ],
           "sequentialminus": [
            [
             0,
             "#0d0887"
            ],
            [
             0.1111111111111111,
             "#46039f"
            ],
            [
             0.2222222222222222,
             "#7201a8"
            ],
            [
             0.3333333333333333,
             "#9c179e"
            ],
            [
             0.4444444444444444,
             "#bd3786"
            ],
            [
             0.5555555555555556,
             "#d8576b"
            ],
            [
             0.6666666666666666,
             "#ed7953"
            ],
            [
             0.7777777777777778,
             "#fb9f3a"
            ],
            [
             0.8888888888888888,
             "#fdca26"
            ],
            [
             1,
             "#f0f921"
            ]
           ]
          },
          "colorway": [
           "#636efa",
           "#EF553B",
           "#00cc96",
           "#ab63fa",
           "#FFA15A",
           "#19d3f3",
           "#FF6692",
           "#B6E880",
           "#FF97FF",
           "#FECB52"
          ],
          "font": {
           "color": "#2a3f5f"
          },
          "geo": {
           "bgcolor": "white",
           "lakecolor": "white",
           "landcolor": "white",
           "showlakes": true,
           "showland": true,
           "subunitcolor": "#C8D4E3"
          },
          "hoverlabel": {
           "align": "left"
          },
          "hovermode": "closest",
          "mapbox": {
           "style": "light"
          },
          "paper_bgcolor": "white",
          "plot_bgcolor": "white",
          "polar": {
           "angularaxis": {
            "gridcolor": "#EBF0F8",
            "linecolor": "#EBF0F8",
            "ticks": ""
           },
           "bgcolor": "white",
           "radialaxis": {
            "gridcolor": "#EBF0F8",
            "linecolor": "#EBF0F8",
            "ticks": ""
           }
          },
          "scene": {
           "xaxis": {
            "backgroundcolor": "white",
            "gridcolor": "#DFE8F3",
            "gridwidth": 2,
            "linecolor": "#EBF0F8",
            "showbackground": true,
            "ticks": "",
            "zerolinecolor": "#EBF0F8"
           },
           "yaxis": {
            "backgroundcolor": "white",
            "gridcolor": "#DFE8F3",
            "gridwidth": 2,
            "linecolor": "#EBF0F8",
            "showbackground": true,
            "ticks": "",
            "zerolinecolor": "#EBF0F8"
           },
           "zaxis": {
            "backgroundcolor": "white",
            "gridcolor": "#DFE8F3",
            "gridwidth": 2,
            "linecolor": "#EBF0F8",
            "showbackground": true,
            "ticks": "",
            "zerolinecolor": "#EBF0F8"
           }
          },
          "shapedefaults": {
           "line": {
            "color": "#2a3f5f"
           }
          },
          "ternary": {
           "aaxis": {
            "gridcolor": "#DFE8F3",
            "linecolor": "#A2B1C6",
            "ticks": ""
           },
           "baxis": {
            "gridcolor": "#DFE8F3",
            "linecolor": "#A2B1C6",
            "ticks": ""
           },
           "bgcolor": "white",
           "caxis": {
            "gridcolor": "#DFE8F3",
            "linecolor": "#A2B1C6",
            "ticks": ""
           }
          },
          "title": {
           "x": 0.05
          },
          "xaxis": {
           "automargin": true,
           "gridcolor": "#EBF0F8",
           "linecolor": "#EBF0F8",
           "ticks": "",
           "title": {
            "standoff": 15
           },
           "zerolinecolor": "#EBF0F8",
           "zerolinewidth": 2
          },
          "yaxis": {
           "automargin": true,
           "gridcolor": "#EBF0F8",
           "linecolor": "#EBF0F8",
           "ticks": "",
           "title": {
            "standoff": 15
           },
           "zerolinecolor": "#EBF0F8",
           "zerolinewidth": 2
          }
         }
        },
        "title": {
         "font": {
          "size": 10
         },
         "text": "<b>Efficient Frontier </b> ",
         "xanchor": "left"
        },
        "width": 550
       }
      },
      "text/html": [
       "<div>                            <div id=\"73603edf-3397-464e-973c-ed32ba4eeba6\" class=\"plotly-graph-div\" style=\"height:400px; width:550px;\"></div>            <script type=\"text/javascript\">                require([\"plotly\"], function(Plotly) {                    window.PLOTLYENV=window.PLOTLYENV || {};                                    if (document.getElementById(\"73603edf-3397-464e-973c-ed32ba4eeba6\")) {                    Plotly.newPlot(                        \"73603edf-3397-464e-973c-ed32ba4eeba6\",                        [{\"line\":{\"color\":\"dodgerblue\"},\"marker\":{\"color\":\"blue\",\"size\":6},\"mode\":\"lines+markers\",\"x\":[2.1674870241826305,2.3517015177025384,2.8764095129408886,3.492536628296895,4.136862459827586,4.798040013194527,5.469961880159441,6.14910693051114,6.83332182094475,7.521223055159798,8.238916539098241,9.06622318133435,9.982776267990696,10.966221020351806,12.000122796251114,13.076696830622573,14.422205101853205,16.093476939439448,18.00000000000002],\"y\":[6.0,6.5,7.0,7.5,8.0,8.5,9.0,9.5,10.0,10.5,11.0,11.5,12.0,12.5,13.0,13.5,14.0,14.5,15.0],\"type\":\"scatter\"},{\"line\":{\"color\":\"purple\"},\"marker\":{\"color\":\"purple\",\"size\":6},\"mode\":\"lines+markers\",\"x\":[3,5,7,9,11,13,15,17],\"y\":[7.102864336599302,8.650981511608364,10.121366041561362,11.46206427816221,12.516692068000339,13.466131371035429,14.182575593982,14.744223582753259],\"type\":\"scatter\"},{\"marker\":{\"color\":\"red\",\"size\":7},\"mode\":\"markers\",\"opacity\":0.7,\"x\":[3,7,12,18],\"y\":[5,8,12,15],\"type\":\"scatter\"}],                        {\"annotations\":[{\"font\":{\"color\":\"blue\",\"size\":8},\"showarrow\":false,\"text\":\"(2.2,6.0)\",\"x\":3.6674870241826305,\"y\":6.0},{\"font\":{\"color\":\"blue\",\"size\":8},\"showarrow\":false,\"text\":\"(2.4,6.5)\",\"x\":3.8517015177025384,\"y\":6.5},{\"font\":{\"color\":\"blue\",\"size\":8},\"showarrow\":false,\"text\":\"(2.9,7.0)\",\"x\":4.376409512940889,\"y\":7.0},{\"font\":{\"color\":\"blue\",\"size\":8},\"showarrow\":false,\"text\":\"(3.5,7.5)\",\"x\":4.992536628296895,\"y\":7.5},{\"font\":{\"color\":\"blue\",\"size\":8},\"showarrow\":false,\"text\":\"(4.1,8.0)\",\"x\":5.636862459827586,\"y\":8.0},{\"font\":{\"color\":\"blue\",\"size\":8},\"showarrow\":false,\"text\":\"(4.8,8.5)\",\"x\":6.298040013194527,\"y\":8.5},{\"font\":{\"color\":\"blue\",\"size\":8},\"showarrow\":false,\"text\":\"(5.5,9.0)\",\"x\":6.969961880159441,\"y\":9.0},{\"font\":{\"color\":\"blue\",\"size\":8},\"showarrow\":false,\"text\":\"(6.1,9.5)\",\"x\":7.64910693051114,\"y\":9.5},{\"font\":{\"color\":\"blue\",\"size\":8},\"showarrow\":false,\"text\":\"(6.8,10.0)\",\"x\":8.33332182094475,\"y\":10.0},{\"font\":{\"color\":\"blue\",\"size\":8},\"showarrow\":false,\"text\":\"(7.5,10.5)\",\"x\":9.021223055159798,\"y\":10.5},{\"font\":{\"color\":\"blue\",\"size\":8},\"showarrow\":false,\"text\":\"(8.2,11.0)\",\"x\":9.738916539098241,\"y\":11.0},{\"font\":{\"color\":\"blue\",\"size\":8},\"showarrow\":false,\"text\":\"(9.1,11.5)\",\"x\":10.56622318133435,\"y\":11.5},{\"font\":{\"color\":\"blue\",\"size\":8},\"showarrow\":false,\"text\":\"(10.0,12.0)\",\"x\":11.482776267990696,\"y\":12.0},{\"font\":{\"color\":\"blue\",\"size\":8},\"showarrow\":false,\"text\":\"(11.0,12.5)\",\"x\":12.466221020351806,\"y\":12.5},{\"font\":{\"color\":\"blue\",\"size\":8},\"showarrow\":false,\"text\":\"(12.0,13.0)\",\"x\":13.500122796251114,\"y\":13.0},{\"font\":{\"color\":\"blue\",\"size\":8},\"showarrow\":false,\"text\":\"(13.1,13.5)\",\"x\":14.576696830622573,\"y\":13.5},{\"font\":{\"color\":\"blue\",\"size\":8},\"showarrow\":false,\"text\":\"(14.4,14.0)\",\"x\":15.922205101853205,\"y\":14.0},{\"font\":{\"color\":\"blue\",\"size\":8},\"showarrow\":false,\"text\":\"(16.1,14.5)\",\"x\":17.593476939439448,\"y\":14.5},{\"font\":{\"color\":\"blue\",\"size\":8},\"showarrow\":false,\"text\":\"(18.0,15.0)\",\"x\":19.50000000000002,\"y\":15.0}],\"height\":400,\"margin\":{\"b\":30,\"l\":50,\"r\":20,\"t\":50},\"showlegend\":false,\"template\":{\"data\":{\"barpolar\":[{\"marker\":{\"line\":{\"color\":\"white\",\"width\":0.5},\"pattern\":{\"fillmode\":\"overlay\",\"size\":10,\"solidity\":0.2}},\"type\":\"barpolar\"}],\"bar\":[{\"error_x\":{\"color\":\"#2a3f5f\"},\"error_y\":{\"color\":\"#2a3f5f\"},\"marker\":{\"line\":{\"color\":\"white\",\"width\":0.5},\"pattern\":{\"fillmode\":\"overlay\",\"size\":10,\"solidity\":0.2}},\"type\":\"bar\"}],\"carpet\":[{\"aaxis\":{\"endlinecolor\":\"#2a3f5f\",\"gridcolor\":\"#C8D4E3\",\"linecolor\":\"#C8D4E3\",\"minorgridcolor\":\"#C8D4E3\",\"startlinecolor\":\"#2a3f5f\"},\"baxis\":{\"endlinecolor\":\"#2a3f5f\",\"gridcolor\":\"#C8D4E3\",\"linecolor\":\"#C8D4E3\",\"minorgridcolor\":\"#C8D4E3\",\"startlinecolor\":\"#2a3f5f\"},\"type\":\"carpet\"}],\"choropleth\":[{\"colorbar\":{\"outlinewidth\":0,\"ticks\":\"\"},\"type\":\"choropleth\"}],\"contourcarpet\":[{\"colorbar\":{\"outlinewidth\":0,\"ticks\":\"\"},\"type\":\"contourcarpet\"}],\"contour\":[{\"colorbar\":{\"outlinewidth\":0,\"ticks\":\"\"},\"colorscale\":[[0.0,\"#0d0887\"],[0.1111111111111111,\"#46039f\"],[0.2222222222222222,\"#7201a8\"],[0.3333333333333333,\"#9c179e\"],[0.4444444444444444,\"#bd3786\"],[0.5555555555555556,\"#d8576b\"],[0.6666666666666666,\"#ed7953\"],[0.7777777777777778,\"#fb9f3a\"],[0.8888888888888888,\"#fdca26\"],[1.0,\"#f0f921\"]],\"type\":\"contour\"}],\"heatmapgl\":[{\"colorbar\":{\"outlinewidth\":0,\"ticks\":\"\"},\"colorscale\":[[0.0,\"#0d0887\"],[0.1111111111111111,\"#46039f\"],[0.2222222222222222,\"#7201a8\"],[0.3333333333333333,\"#9c179e\"],[0.4444444444444444,\"#bd3786\"],[0.5555555555555556,\"#d8576b\"],[0.6666666666666666,\"#ed7953\"],[0.7777777777777778,\"#fb9f3a\"],[0.8888888888888888,\"#fdca26\"],[1.0,\"#f0f921\"]],\"type\":\"heatmapgl\"}],\"heatmap\":[{\"colorbar\":{\"outlinewidth\":0,\"ticks\":\"\"},\"colorscale\":[[0.0,\"#0d0887\"],[0.1111111111111111,\"#46039f\"],[0.2222222222222222,\"#7201a8\"],[0.3333333333333333,\"#9c179e\"],[0.4444444444444444,\"#bd3786\"],[0.5555555555555556,\"#d8576b\"],[0.6666666666666666,\"#ed7953\"],[0.7777777777777778,\"#fb9f3a\"],[0.8888888888888888,\"#fdca26\"],[1.0,\"#f0f921\"]],\"type\":\"heatmap\"}],\"histogram2dcontour\":[{\"colorbar\":{\"outlinewidth\":0,\"ticks\":\"\"},\"colorscale\":[[0.0,\"#0d0887\"],[0.1111111111111111,\"#46039f\"],[0.2222222222222222,\"#7201a8\"],[0.3333333333333333,\"#9c179e\"],[0.4444444444444444,\"#bd3786\"],[0.5555555555555556,\"#d8576b\"],[0.6666666666666666,\"#ed7953\"],[0.7777777777777778,\"#fb9f3a\"],[0.8888888888888888,\"#fdca26\"],[1.0,\"#f0f921\"]],\"type\":\"histogram2dcontour\"}],\"histogram2d\":[{\"colorbar\":{\"outlinewidth\":0,\"ticks\":\"\"},\"colorscale\":[[0.0,\"#0d0887\"],[0.1111111111111111,\"#46039f\"],[0.2222222222222222,\"#7201a8\"],[0.3333333333333333,\"#9c179e\"],[0.4444444444444444,\"#bd3786\"],[0.5555555555555556,\"#d8576b\"],[0.6666666666666666,\"#ed7953\"],[0.7777777777777778,\"#fb9f3a\"],[0.8888888888888888,\"#fdca26\"],[1.0,\"#f0f921\"]],\"type\":\"histogram2d\"}],\"histogram\":[{\"marker\":{\"pattern\":{\"fillmode\":\"overlay\",\"size\":10,\"solidity\":0.2}},\"type\":\"histogram\"}],\"mesh3d\":[{\"colorbar\":{\"outlinewidth\":0,\"ticks\":\"\"},\"type\":\"mesh3d\"}],\"parcoords\":[{\"line\":{\"colorbar\":{\"outlinewidth\":0,\"ticks\":\"\"}},\"type\":\"parcoords\"}],\"pie\":[{\"automargin\":true,\"type\":\"pie\"}],\"scatter3d\":[{\"line\":{\"colorbar\":{\"outlinewidth\":0,\"ticks\":\"\"}},\"marker\":{\"colorbar\":{\"outlinewidth\":0,\"ticks\":\"\"}},\"type\":\"scatter3d\"}],\"scattercarpet\":[{\"marker\":{\"colorbar\":{\"outlinewidth\":0,\"ticks\":\"\"}},\"type\":\"scattercarpet\"}],\"scattergeo\":[{\"marker\":{\"colorbar\":{\"outlinewidth\":0,\"ticks\":\"\"}},\"type\":\"scattergeo\"}],\"scattergl\":[{\"marker\":{\"colorbar\":{\"outlinewidth\":0,\"ticks\":\"\"}},\"type\":\"scattergl\"}],\"scattermapbox\":[{\"marker\":{\"colorbar\":{\"outlinewidth\":0,\"ticks\":\"\"}},\"type\":\"scattermapbox\"}],\"scatterpolargl\":[{\"marker\":{\"colorbar\":{\"outlinewidth\":0,\"ticks\":\"\"}},\"type\":\"scatterpolargl\"}],\"scatterpolar\":[{\"marker\":{\"colorbar\":{\"outlinewidth\":0,\"ticks\":\"\"}},\"type\":\"scatterpolar\"}],\"scatter\":[{\"marker\":{\"colorbar\":{\"outlinewidth\":0,\"ticks\":\"\"}},\"type\":\"scatter\"}],\"scatterternary\":[{\"marker\":{\"colorbar\":{\"outlinewidth\":0,\"ticks\":\"\"}},\"type\":\"scatterternary\"}],\"surface\":[{\"colorbar\":{\"outlinewidth\":0,\"ticks\":\"\"},\"colorscale\":[[0.0,\"#0d0887\"],[0.1111111111111111,\"#46039f\"],[0.2222222222222222,\"#7201a8\"],[0.3333333333333333,\"#9c179e\"],[0.4444444444444444,\"#bd3786\"],[0.5555555555555556,\"#d8576b\"],[0.6666666666666666,\"#ed7953\"],[0.7777777777777778,\"#fb9f3a\"],[0.8888888888888888,\"#fdca26\"],[1.0,\"#f0f921\"]],\"type\":\"surface\"}],\"table\":[{\"cells\":{\"fill\":{\"color\":\"#EBF0F8\"},\"line\":{\"color\":\"white\"}},\"header\":{\"fill\":{\"color\":\"#C8D4E3\"},\"line\":{\"color\":\"white\"}},\"type\":\"table\"}]},\"layout\":{\"annotationdefaults\":{\"arrowcolor\":\"#2a3f5f\",\"arrowhead\":0,\"arrowwidth\":1},\"autotypenumbers\":\"strict\",\"coloraxis\":{\"colorbar\":{\"outlinewidth\":0,\"ticks\":\"\"}},\"colorscale\":{\"diverging\":[[0,\"#8e0152\"],[0.1,\"#c51b7d\"],[0.2,\"#de77ae\"],[0.3,\"#f1b6da\"],[0.4,\"#fde0ef\"],[0.5,\"#f7f7f7\"],[0.6,\"#e6f5d0\"],[0.7,\"#b8e186\"],[0.8,\"#7fbc41\"],[0.9,\"#4d9221\"],[1,\"#276419\"]],\"sequential\":[[0.0,\"#0d0887\"],[0.1111111111111111,\"#46039f\"],[0.2222222222222222,\"#7201a8\"],[0.3333333333333333,\"#9c179e\"],[0.4444444444444444,\"#bd3786\"],[0.5555555555555556,\"#d8576b\"],[0.6666666666666666,\"#ed7953\"],[0.7777777777777778,\"#fb9f3a\"],[0.8888888888888888,\"#fdca26\"],[1.0,\"#f0f921\"]],\"sequentialminus\":[[0.0,\"#0d0887\"],[0.1111111111111111,\"#46039f\"],[0.2222222222222222,\"#7201a8\"],[0.3333333333333333,\"#9c179e\"],[0.4444444444444444,\"#bd3786\"],[0.5555555555555556,\"#d8576b\"],[0.6666666666666666,\"#ed7953\"],[0.7777777777777778,\"#fb9f3a\"],[0.8888888888888888,\"#fdca26\"],[1.0,\"#f0f921\"]]},\"colorway\":[\"#636efa\",\"#EF553B\",\"#00cc96\",\"#ab63fa\",\"#FFA15A\",\"#19d3f3\",\"#FF6692\",\"#B6E880\",\"#FF97FF\",\"#FECB52\"],\"font\":{\"color\":\"#2a3f5f\"},\"geo\":{\"bgcolor\":\"white\",\"lakecolor\":\"white\",\"landcolor\":\"white\",\"showlakes\":true,\"showland\":true,\"subunitcolor\":\"#C8D4E3\"},\"hoverlabel\":{\"align\":\"left\"},\"hovermode\":\"closest\",\"mapbox\":{\"style\":\"light\"},\"paper_bgcolor\":\"white\",\"plot_bgcolor\":\"white\",\"polar\":{\"angularaxis\":{\"gridcolor\":\"#EBF0F8\",\"linecolor\":\"#EBF0F8\",\"ticks\":\"\"},\"bgcolor\":\"white\",\"radialaxis\":{\"gridcolor\":\"#EBF0F8\",\"linecolor\":\"#EBF0F8\",\"ticks\":\"\"}},\"scene\":{\"xaxis\":{\"backgroundcolor\":\"white\",\"gridcolor\":\"#DFE8F3\",\"gridwidth\":2,\"linecolor\":\"#EBF0F8\",\"showbackground\":true,\"ticks\":\"\",\"zerolinecolor\":\"#EBF0F8\"},\"yaxis\":{\"backgroundcolor\":\"white\",\"gridcolor\":\"#DFE8F3\",\"gridwidth\":2,\"linecolor\":\"#EBF0F8\",\"showbackground\":true,\"ticks\":\"\",\"zerolinecolor\":\"#EBF0F8\"},\"zaxis\":{\"backgroundcolor\":\"white\",\"gridcolor\":\"#DFE8F3\",\"gridwidth\":2,\"linecolor\":\"#EBF0F8\",\"showbackground\":true,\"ticks\":\"\",\"zerolinecolor\":\"#EBF0F8\"}},\"shapedefaults\":{\"line\":{\"color\":\"#2a3f5f\"}},\"ternary\":{\"aaxis\":{\"gridcolor\":\"#DFE8F3\",\"linecolor\":\"#A2B1C6\",\"ticks\":\"\"},\"baxis\":{\"gridcolor\":\"#DFE8F3\",\"linecolor\":\"#A2B1C6\",\"ticks\":\"\"},\"bgcolor\":\"white\",\"caxis\":{\"gridcolor\":\"#DFE8F3\",\"linecolor\":\"#A2B1C6\",\"ticks\":\"\"}},\"title\":{\"x\":0.05},\"xaxis\":{\"automargin\":true,\"gridcolor\":\"#EBF0F8\",\"linecolor\":\"#EBF0F8\",\"ticks\":\"\",\"title\":{\"standoff\":15},\"zerolinecolor\":\"#EBF0F8\",\"zerolinewidth\":2},\"yaxis\":{\"automargin\":true,\"gridcolor\":\"#EBF0F8\",\"linecolor\":\"#EBF0F8\",\"ticks\":\"\",\"title\":{\"standoff\":15},\"zerolinecolor\":\"#EBF0F8\",\"zerolinewidth\":2}}},\"title\":{\"font\":{\"size\":10},\"text\":\"<b>Efficient Frontier </b> \",\"xanchor\":\"left\"},\"width\":550},                        {\"responsive\": true}                    ).then(function(){\n",
       "                            \n",
       "var gd = document.getElementById('73603edf-3397-464e-973c-ed32ba4eeba6');\n",
       "var x = new MutationObserver(function (mutations, observer) {{\n",
       "        var display = window.getComputedStyle(gd).display;\n",
       "        if (!display || display === 'none') {{\n",
       "            console.log([gd, 'removed!']);\n",
       "            Plotly.purge(gd);\n",
       "            observer.disconnect();\n",
       "        }}\n",
       "}});\n",
       "\n",
       "// Listen for the removal of the full notebook cells\n",
       "var notebookContainer = gd.closest('#notebook-container');\n",
       "if (notebookContainer) {{\n",
       "    x.observe(notebookContainer, {childList: true});\n",
       "}}\n",
       "\n",
       "// Listen for the clearing of the current output cell\n",
       "var outputEl = gd.closest('.output');\n",
       "if (outputEl) {{\n",
       "    x.observe(outputEl, {childList: true});\n",
       "}}\n",
       "\n",
       "                        })                };                });            </script>        </div>"
      ]
     },
     "metadata": {},
     "output_type": "display_data"
    }
   ],
   "source": [
    "def scat(traces,annots=[]):\n",
    "  layout = go.Layout(width=550,height=400,margin=dict(l=50,r=20,b=30,t=50),template='plotly_white',\n",
    "                    annotations=annots,\n",
    "                    showlegend=False,\n",
    "                    title={'text':'<b>Efficient Frontier </b> ','xanchor':'left','font':{'size':10}},\n",
    "                  )\n",
    "  fig = go.Figure(data=traces, layout=layout)\n",
    "  po.init_notebook_mode(connected=True)\n",
    "  config = {'showLink':False}\n",
    "  po.iplot(fig,config=config)\n",
    "\n",
    "     \n",
    "\n",
    "traces=[]\n",
    "temp = eff.iloc[2:]\n",
    "traces.append(go.Scatter(x=temp,y=temp.index,mode='lines+markers',line={'color':'dodgerblue'},marker={'size':6,'color':'blue'}))\n",
    "traces.append(go.Scatter(x=eff_v.index,y=eff_v,mode='lines+markers',line={'color':'purple'},marker={'size':6,'color':'purple'}))\n",
    "traces.append(go.Scatter(x=expvol,y=expret,mode='markers',marker={'size':7,'color':'red'},opacity=0.7))\n",
    "annots = [{'x':temp.loc[i]+1.5,'y':i,'text':'('+str(temp.round(1).loc[i])+','+str(i)+')','showarrow':False,'font':{'size':8,'color':'blue'}} for i in temp.index]\n",
    "\n",
    "scat(traces,annots)\n"
   ]
  },
  {
   "cell_type": "code",
   "execution_count": 42,
   "id": "7de63b1e",
   "metadata": {},
   "outputs": [],
   "source": [
    "#Resample eficient frontier:\n",
    "# 1. 10k observations of uncorrelated random variables Z~N(0,1)\n",
    "# 2. chelosky decompose correlation matrix to generate correlated random variables by transforming Z. \n",
    "# 3. correlated returns rij =  Mui + Zij*voli for each asset class i for each iteration j.\n",
    "# 4. find eficient frontier at each iteration using correlated random returns found in 3. \n",
    "# 5. find the mean of the optimized weights at each pair r,vol on the EF. \n",
    "from numpy.linalg import cholesky\n",
    "corr = #[4,4]\n",
    "expvol = #[4]\n",
    "expret = #[4]\n",
    "n = 100\n",
    "C = cholesky(corr)\n",
    "Zu = np.random.normal(size=(len(expret),n))\n",
    "Zc = np.matmul(C,Zu).transpose()\n",
    "\n",
    "Mu = np.tile(expret,(n,1))\n",
    "S = np.tile(expvol,(n,1)) \n",
    "R = Mu + -(S**2/2)/100 +np.multiply(Zc,S)\n",
    "\n"
   ]
  },
  {
   "cell_type": "code",
   "execution_count": 51,
   "id": "108b5c02",
   "metadata": {},
   "outputs": [],
   "source": [
    "ref_=[]\n",
    "ws_=[]\n",
    "for i in R:\n",
    "    ri,wi =mvo(i)\n",
    "    ref_.append(ri)\n",
    "    ws_.append(wi)\n"
   ]
  },
  {
   "cell_type": "code",
   "execution_count": 77,
   "id": "f183a836",
   "metadata": {},
   "outputs": [
    {
     "data": {
      "text/html": [
       "        <script type=\"text/javascript\">\n",
       "        window.PlotlyConfig = {MathJaxConfig: 'local'};\n",
       "        if (window.MathJax) {MathJax.Hub.Config({SVG: {font: \"STIX-Web\"}});}\n",
       "        if (typeof require !== 'undefined') {\n",
       "        require.undef(\"plotly\");\n",
       "        requirejs.config({\n",
       "            paths: {\n",
       "                'plotly': ['https://cdn.plot.ly/plotly-2.9.0.min']\n",
       "            }\n",
       "        });\n",
       "        require(['plotly'], function(Plotly) {\n",
       "            window._Plotly = Plotly;\n",
       "        });\n",
       "        }\n",
       "        </script>\n",
       "        "
      ]
     },
     "metadata": {},
     "output_type": "display_data"
    },
    {
     "data": {
      "application/vnd.plotly.v1+json": {
       "config": {
        "linkText": "Export to plot.ly",
        "plotlyServerURL": "https://plot.ly",
        "showLink": false
       },
       "data": [
        {
         "line": {
          "color": "purple"
         },
         "mode": "lines",
         "type": "scatter",
         "x": [
          3,
          6,
          9,
          12,
          15,
          18
         ],
         "y": [
          7.102864336599302,
          9.390587712256812,
          11.46206427816221,
          12.999941793670924,
          14.182575593982,
          15.000000000006937
         ]
        },
        {
         "marker": {
          "color": "red",
          "size": 7
         },
         "mode": "markers",
         "opacity": 0.7,
         "type": "scatter",
         "x": [
          3,
          7,
          12,
          18
         ],
         "y": [
          5,
          8,
          12,
          15
         ]
        },
        {
         "line": {
          "color": "black"
         },
         "mode": "lines",
         "type": "scatter",
         "x": [
          3,
          6,
          9,
          12,
          15,
          18
         ],
         "y": [
          7.863305160087349,
          12.404593046122807,
          14.98260285429522,
          16.128067735012326,
          15.791518436472778,
          15.911038117356116
         ]
        },
        {
         "jitter": 0.2,
         "line": {
          "color": "gray",
          "width": 0.5
         },
         "marker": {
          "color": "black",
          "opacity": 0.4,
          "size": 2
         },
         "meanline": {
          "visible": true
         },
         "name": "3",
         "pointpos": -0.5,
         "points": "outliers",
         "side": "negative",
         "type": "violin",
         "y": [
          6.179288308727154,
          3.717060932727115,
          7.826784236043726,
          8.35448452468833,
          11.332989546565,
          11.106833355456414,
          10.835868761583177,
          11.87681599078926,
          6.0763201335533825,
          6.581710859228017,
          6.706218375681569,
          9.447205121121812,
          8.020041454014892,
          13.223170198620235,
          5.404133261335918,
          2.2288345436657657,
          4.1771631151005835,
          5.435083865282318,
          7.139625525103786,
          3.7134472388897133,
          9.78874337212871,
          10.473912060276056,
          3.1982451853308542,
          9.32169353909967,
          9.828826389764332,
          6.722392833513336,
          8.95932042821995,
          8.915867327471867,
          10.442943665309297,
          5.081850234243937,
          11.530370789851855,
          9.954549177819937,
          13.49431177154302,
          11.105269440890174,
          6.1308898177232924,
          9.37915725149961,
          5.654237697266586,
          9.868609060822502,
          7.835905173218142,
          12.760339953630236,
          8.170023164292731,
          9.32275735165275,
          5.8775264083576495,
          5.427304330040968,
          9.768174028059484,
          10.265347574613724,
          10.048695518940907,
          9.632751959442585,
          5.474691133255851,
          5.473358466705987,
          6.218224453210198,
          5.879168362888211,
          7.7524711036141225,
          6.493870400857645,
          10.652891562951892,
          5.35544397148444,
          10.74349928663195,
          7.530877508434773,
          6.478139084555333,
          8.750718897178865,
          12.51512574603928,
          8.82307702127799,
          8.273750041080545,
          7.810446885181266,
          4.975579693404342,
          5.772620762205316,
          10.65081830686877,
          7.036154064544196,
          5.2267176191931615,
          6.228533636113415,
          12.004957175539914,
          6.641418268851831,
          9.094267975307698,
          11.408347837281037,
          9.238590703668995,
          6.667237408365213,
          7.146900231101809,
          6.851413149907845,
          5.295748778854309,
          11.003253858266838,
          6.936308757852634,
          9.825826052040034,
          10.441533164506437,
          4.679300515190444,
          2.8121425460930984,
          7.657173719921438,
          6.603528125255833,
          4.510597842873856,
          3.20625458341825,
          10.21648649988511,
          5.902980964604007,
          12.824828654230075,
          8.401974980601025,
          7.5748736532210525,
          3.6004908041073604,
          5.816900878918974,
          9.906166619560329,
          6.108877938009781,
          4.9152400595023416,
          6.577621400917452
         ]
        },
        {
         "jitter": 0.2,
         "line": {
          "color": "gray",
          "width": 0.5
         },
         "marker": {
          "color": "black",
          "opacity": 0.4,
          "size": 2
         },
         "meanline": {
          "visible": true
         },
         "name": "6",
         "pointpos": -0.5,
         "points": "outliers",
         "side": "negative",
         "type": "violin",
         "y": [
          9.684569037437075,
          4.368234881547292,
          13.65680107157897,
          11.802974089331654,
          21.493640006216086,
          16.007702269077843,
          19.255447384542112,
          17.6772417801446,
          7.389200880994402,
          9.662588284328306,
          12.126253946418785,
          14.030568465151044,
          11.997133452101902,
          22.75174503824079,
          9.00995037677776,
          3.7945584233123437,
          10.031296922462193,
          11.584110773130838,
          8.044190742487588,
          3.869293672143677,
          16.415480623471222,
          16.48234204121265,
          4.401485025595962,
          17.668110895238616,
          16.24039473142126,
          11.324486248805904,
          13.770273623849327,
          16.13340841448254,
          17.480125280327634,
          2.556551169683169,
          13.407135702431821,
          18.082105064613867,
          22.43074356543925,
          18.610106705729343,
          11.393784641682178,
          16.842312215127173,
          11.992868646163961,
          14.532188844285148,
          13.529509362541411,
          20.450347249310305,
          10.962208214105896,
          13.279115902091048,
          8.290782745637694,
          9.662427775505362,
          13.360514025009246,
          14.962935373023283,
          14.572638237285604,
          16.888039515341774,
          12.101610629674663,
          10.88992188827293,
          12.298131998170046,
          4.185813733653843,
          11.905765509814191,
          9.365956598316869,
          16.976828537649443,
          8.13184381128184,
          16.633109188582335,
          14.13403855289391,
          8.162423522630608,
          15.175028363915057,
          19.696515974045234,
          9.777854165311854,
          12.569021483569106,
          6.3020986645218775,
          11.786419807796873,
          9.647868887311768,
          18.667125803931114,
          12.70579395182282,
          7.399532602990453,
          9.56048209950772,
          18.328410278889287,
          11.02765805764379,
          16.191936556623038,
          19.234419592412863,
          16.92271957158761,
          7.521232808488802,
          9.281723042291432,
          10.238171343352544,
          9.124251184617993,
          19.405551166030524,
          11.776919780425153,
          16.32068273243908,
          10.828264969911682,
          5.61267283608961,
          1.229686399653389,
          17.303732963175992,
          10.93929691452602,
          8.704745072370269,
          3.160817800338497,
          18.65209962746948,
          7.419881506733809,
          22.105577424254452,
          12.19497914039338,
          12.70924106617122,
          7.122706891595549,
          8.270234961194102,
          15.203431078487693,
          7.671731041033635,
          5.251322891775018,
          8.672096799802627
         ]
        },
        {
         "jitter": 0.2,
         "line": {
          "color": "gray",
          "width": 0.5
         },
         "marker": {
          "color": "black",
          "opacity": 0.4,
          "size": 2
         },
         "meanline": {
          "visible": true
         },
         "name": "9",
         "pointpos": -0.5,
         "points": "outliers",
         "side": "negative",
         "type": "violin",
         "y": [
          12.91133166843817,
          4.949175459032535,
          8.818441969550836,
          13.84347210953996,
          30.553273801421884,
          7.619372302967302,
          27.13902273633116,
          20.078464525399625,
          8.560478849113782,
          8.18122951030679,
          17.246189803124885,
          18.245502370471378,
          15.24508011202158,
          31.489693405626376,
          12.329261292398229,
          5.191408737421369,
          15.420280664690601,
          16.802517724536447,
          8.251504365368065,
          2.1635309614961225,
          20.022387283558736,
          21.654108026899088,
          5.27398826286726,
          25.391124226236435,
          22.29045623574918,
          13.041244706151694,
          17.977879911360585,
          14.892939104606846,
          22.884257076329824,
          1.093036058356245,
          12.102950265230788,
          24.16486213989455,
          22.71507268735327,
          21.473947261127343,
          16.089041822205857,
          23.712469653083623,
          17.811662385033696,
          13.880914945032542,
          18.665671794458838,
          24.63647693603117,
          10.837185380239589,
          9.24768931794317,
          10.534607461763919,
          13.569401790460104,
          15.258935712531262,
          18.18872075855763,
          17.249050275204965,
          23.754667924130203,
          18.20197679093639,
          15.871196787551657,
          17.88327785605032,
          3.020355909983702,
          14.99701233391156,
          12.009836350545644,
          22.6946244429688,
          10.688105994627941,
          22.019927868983785,
          20.35632567122711,
          9.354640819842409,
          20.27760856911592,
          24.090477118638503,
          10.434983164855801,
          16.52094182239275,
          5.263972211986176,
          17.895334196949975,
          13.21520263573005,
          25.618535839130047,
          17.832928470531535,
          8.414713328422213,
          12.627684975508831,
          23.528762519524026,
          10.541213375194218,
          22.905057637825564,
          21.782683135966664,
          23.89337605227696,
          -1.3234401687116337,
          10.870763663468324,
          13.351523871625403,
          8.074063610685538,
          27.1571156791334,
          12.26884346210963,
          19.329655827888597,
          11.094434624227073,
          6.263348961822911,
          -4.440691197289393,
          25.9098476719644,
          14.912274916675798,
          12.446526079582185,
          3.1202816715428487,
          26.65260019007503,
          1.8483945556665367,
          30.111948578936364,
          7.5591900467214845,
          13.259790331683327,
          10.265028927080914,
          10.45896090969946,
          17.72882538305516,
          1.573834886298811,
          5.546169220532906,
          8.826256072712686
         ]
        },
        {
         "jitter": 0.2,
         "line": {
          "color": "gray",
          "width": 0.5
         },
         "marker": {
          "color": "black",
          "opacity": 0.4,
          "size": 2
         },
         "meanline": {
          "visible": true
         },
         "name": "12",
         "pointpos": -0.5,
         "points": "outliers",
         "side": "negative",
         "type": "violin",
         "y": [
          16.0316028479589,
          5.516676343057865,
          5.562209140741068,
          14.918506043435027,
          37.138895780496114,
          -0.8512086876194758,
          34.65804430866196,
          21.080328193262627,
          9.704660040988763,
          6.968902389597844,
          21.46002171689048,
          22.299602102409462,
          15.019498618143686,
          40.11313229737085,
          14.440356942679848,
          6.555943801476177,
          20.71346415367023,
          17.54261266775036,
          4.969033559312613,
          -2.2436768602465267,
          21.5942471257343,
          25.242107301106984,
          3.9932915423261592,
          29.47414353494942,
          26.616150235042465,
          13.701678949854665,
          19.14338208501586,
          13.186442070178604,
          26.121493492395548,
          -2.920728168864504,
          2.667776497482926,
          27.71474109750732,
          21.635992766177473,
          22.292298904988126,
          20.675677192434986,
          30.460399070400488,
          23.527015162962307,
          11.621229595114404,
          23.71294778857973,
          26.46095995189688,
          10.374631148539027,
          5.749023996422297,
          12.71796832534908,
          17.19107429462192,
          13.131397563367301,
          17.411217219925433,
          16.050117738677713,
          28.456142740927895,
          23.835890219619042,
          20.763919300638495,
          20.86325371654872,
          -0.8812244582836517,
          12.011689248617397,
          13.72847232277885,
          28.310774740497763,
          13.207641502985991,
          27.29314842645202,
          26.25605805045144,
          6.679636971503151,
          18.94140444582406,
          23.649491406205957,
          2.7119727670343403,
          19.580635598843184,
          0.9192425399205115,
          23.89838352660622,
          15.899197597247454,
          30.473656209142632,
          22.868917637695006,
          8.793146291310894,
          15.343141905270702,
          23.388381950490796,
          9.650850505041472,
          28.543396630228784,
          22.298598031958296,
          29.275630165411844,
          -5.829804170939225,
          9.338002416797774,
          15.902350391385099,
          6.961104536590224,
          33.75559145381893,
          11.95797763752008,
          20.68787291254859,
          1.9797569909578705,
          4.207038491569264,
          -7.08800168914464,
          34.31686535084578,
          18.81462515697231,
          16.101743345744644,
          3.0806833204924544,
          33.46708115805976,
          -1.1104432185459157,
          35.65628623261107,
          2.599479760251927,
          12.873613340884239,
          13.334655326330704,
          12.597052065342698,
          18.6913488274103,
          -1.6519909007077729,
          5.631598522587672,
          8.625554368655287
         ]
        },
        {
         "jitter": 0.2,
         "line": {
          "color": "gray",
          "width": 0.5
         },
         "marker": {
          "color": "black",
          "opacity": 0.4,
          "size": 2
         },
         "meanline": {
          "visible": true
         },
         "name": "15",
         "pointpos": -0.5,
         "points": "outliers",
         "side": "negative",
         "type": "violin",
         "y": [
          16.78198166225998,
          6.079082595009353,
          2.706962667353817,
          15.87188266749758,
          42.995328263661285,
          -6.341044445547647,
          41.441234742767165,
          21.954664818653054,
          10.838569562164594,
          5.90586638373751,
          25.143091900148125,
          25.960952097760558,
          9.879653096452962,
          48.39788223765427,
          12.68243595366679,
          7.908229009533561,
          23.34743040283103,
          10.989419159255322,
          -0.20042515325750898,
          -7.868696833571748,
          22.972541465479434,
          27.93054964235379,
          0.7258787338917091,
          24.426709450114572,
          25.74651385360429,
          14.288986961540857,
          14.739035925635926,
          11.690090334188133,
          28.9600828556955,
          -6.9685455914915515,
          -10.72533977432077,
          30.827472870890237,
          20.689795333314834,
          23.009875248882775,
          25.221136909298878,
          33.387328786905506,
          29.00721321361776,
          9.335674374205006,
          28.657182844178674,
          28.060768373917874,
          9.969037811097454,
          3.233236814319186,
          14.717735698958872,
          20.394943728308565,
          8.271912860310874,
          13.147381867513591,
          11.902483839222946,
          26.725565464835363,
          24.068977940507505,
          25.33651212412983,
          17.139776915796006,
          -5.195229629306748,
          2.835496588376416,
          12.380123882686807,
          33.88790934392702,
          15.34479211213937,
          32.19126915938904,
          31.395542816438727,
          0.7845462930861102,
          9.348405354284173,
          19.2564478937259,
          -10.199738199829694,
          22.3015463749409,
          -4.267846817246709,
          29.83337306095588,
          14.645118452693776,
          34.73089641924784,
          27.869921504898773,
          9.124977410544922,
          15.112446015711567,
          15.500307781910502,
          8.870130703364236,
          30.650422700881588,
          21.770342107379935,
          33.99509062883554,
          -9.781235354275085,
          4.623854068526816,
          18.13905729076343,
          5.985199973705457,
          39.54150287362508,
          11.685393151960508,
          21.895702150904526,
          -12.507240990905322,
          0.06747998234074681,
          -9.42134035937683,
          42.649404277082674,
          22.608198696393924,
          19.72414658877734,
          3.0414404561649064,
          38.587481872880915,
          -3.7049171324655807,
          40.51787058042961,
          -0.49224139574368087,
          12.534991826245466,
          16.376724733935408,
          14.715948911174477,
          19.53534304337029,
          -4.4805747886425955,
          5.328775640879098,
          8.449567925556646
         ]
        },
        {
         "jitter": 0.2,
         "line": {
          "color": "gray",
          "width": 0.5
         },
         "marker": {
          "color": "black",
          "opacity": 0.4,
          "size": 2
         },
         "meanline": {
          "visible": true
         },
         "name": "18",
         "pointpos": -0.5,
         "points": "outliers",
         "side": "negative",
         "type": "violin",
         "y": [
          17.244757282294895,
          6.638995317612953,
          0.00046702996743376395,
          16.775672363827123,
          48.362652480399525,
          -11.390328947995533,
          47.67802236336675,
          22.642867586542046,
          11.967451691302637,
          4.898211759737886,
          28.05257921812092,
          29.431555380496793,
          6.709793873120005,
          55.07752521247605,
          11.59828624148286,
          9.254518615780777,
          24.976225942947323,
          6.947916215017611,
          -3.38854749246797,
          -11.33777412638482,
          24.27903029222868,
          29.763379576515224,
          -1.2892087996477337,
          21.31384246415887,
          25.210189389314493,
          14.823317694981524,
          12.022775827621443,
          10.271694591339909,
          31.650789166298335,
          -9.46492632841001,
          -18.98517809588173,
          33.77803949922082,
          19.79289230037748,
          23.690067751168108,
          29.746443512275953,
          35.19243267356032,
          33.27612691343806,
          7.974701847184504,
          33.36938003025666,
          29.577230981467853,
          9.58457482060098,
          0.848515533054,
          16.55968048044221,
          23.431899983274384,
          5.274958489066282,
          10.517777966703491,
          9.34454400587226,
          25.658279240066463,
          24.212728479652146,
          28.773296356352553,
          14.84342439060042,
          -7.855774383053928,
          -2.823669425046767,
          11.54856684355764,
          38.98166899658979,
          16.84476390530898,
          36.83421067479975,
          35.33713579536864,
          -2.8510897701162743,
          3.432185452237634,
          16.547158394318235,
          -18.162683146521957,
          24.87704427356692,
          -7.466842374593812,
          35.53704174193545,
          13.871699424204403,
          38.76634560248793,
          32.431669219896975,
          9.439521000266474,
          14.970170632566989,
          10.635553666402439,
          8.130084351634997,
          31.949873428519762,
          21.444554707405597,
          38.46867960433638,
          -13.52680735756333,
          1.7165319277602553,
          20.25923763873454,
          5.060137474090766,
          45.02598351387702,
          11.427009601797138,
          23.0226160747525,
          -21.441701171169523,
          -2.485479582356926,
          -11.609686366157261,
          50.94301647386846,
          25.643333171763842,
          23.33048925463866,
          3.0023715821412633,
          42.083172722393655,
          -6.164225773578224,
          45.12617915966051,
          -3.422892003986684,
          12.214011602652644,
          19.405306579146306,
          16.82545124627522,
          20.335367378509652,
          -7.161796889387465,
          5.142017906971103,
          8.282749913905446
         ]
        }
       ],
       "layout": {
        "height": 400,
        "margin": {
         "b": 30,
         "l": 50,
         "r": 20,
         "t": 50
        },
        "showlegend": false,
        "template": {
         "data": {
          "bar": [
           {
            "error_x": {
             "color": "#2a3f5f"
            },
            "error_y": {
             "color": "#2a3f5f"
            },
            "marker": {
             "line": {
              "color": "white",
              "width": 0.5
             },
             "pattern": {
              "fillmode": "overlay",
              "size": 10,
              "solidity": 0.2
             }
            },
            "type": "bar"
           }
          ],
          "barpolar": [
           {
            "marker": {
             "line": {
              "color": "white",
              "width": 0.5
             },
             "pattern": {
              "fillmode": "overlay",
              "size": 10,
              "solidity": 0.2
             }
            },
            "type": "barpolar"
           }
          ],
          "carpet": [
           {
            "aaxis": {
             "endlinecolor": "#2a3f5f",
             "gridcolor": "#C8D4E3",
             "linecolor": "#C8D4E3",
             "minorgridcolor": "#C8D4E3",
             "startlinecolor": "#2a3f5f"
            },
            "baxis": {
             "endlinecolor": "#2a3f5f",
             "gridcolor": "#C8D4E3",
             "linecolor": "#C8D4E3",
             "minorgridcolor": "#C8D4E3",
             "startlinecolor": "#2a3f5f"
            },
            "type": "carpet"
           }
          ],
          "choropleth": [
           {
            "colorbar": {
             "outlinewidth": 0,
             "ticks": ""
            },
            "type": "choropleth"
           }
          ],
          "contour": [
           {
            "colorbar": {
             "outlinewidth": 0,
             "ticks": ""
            },
            "colorscale": [
             [
              0,
              "#0d0887"
             ],
             [
              0.1111111111111111,
              "#46039f"
             ],
             [
              0.2222222222222222,
              "#7201a8"
             ],
             [
              0.3333333333333333,
              "#9c179e"
             ],
             [
              0.4444444444444444,
              "#bd3786"
             ],
             [
              0.5555555555555556,
              "#d8576b"
             ],
             [
              0.6666666666666666,
              "#ed7953"
             ],
             [
              0.7777777777777778,
              "#fb9f3a"
             ],
             [
              0.8888888888888888,
              "#fdca26"
             ],
             [
              1,
              "#f0f921"
             ]
            ],
            "type": "contour"
           }
          ],
          "contourcarpet": [
           {
            "colorbar": {
             "outlinewidth": 0,
             "ticks": ""
            },
            "type": "contourcarpet"
           }
          ],
          "heatmap": [
           {
            "colorbar": {
             "outlinewidth": 0,
             "ticks": ""
            },
            "colorscale": [
             [
              0,
              "#0d0887"
             ],
             [
              0.1111111111111111,
              "#46039f"
             ],
             [
              0.2222222222222222,
              "#7201a8"
             ],
             [
              0.3333333333333333,
              "#9c179e"
             ],
             [
              0.4444444444444444,
              "#bd3786"
             ],
             [
              0.5555555555555556,
              "#d8576b"
             ],
             [
              0.6666666666666666,
              "#ed7953"
             ],
             [
              0.7777777777777778,
              "#fb9f3a"
             ],
             [
              0.8888888888888888,
              "#fdca26"
             ],
             [
              1,
              "#f0f921"
             ]
            ],
            "type": "heatmap"
           }
          ],
          "heatmapgl": [
           {
            "colorbar": {
             "outlinewidth": 0,
             "ticks": ""
            },
            "colorscale": [
             [
              0,
              "#0d0887"
             ],
             [
              0.1111111111111111,
              "#46039f"
             ],
             [
              0.2222222222222222,
              "#7201a8"
             ],
             [
              0.3333333333333333,
              "#9c179e"
             ],
             [
              0.4444444444444444,
              "#bd3786"
             ],
             [
              0.5555555555555556,
              "#d8576b"
             ],
             [
              0.6666666666666666,
              "#ed7953"
             ],
             [
              0.7777777777777778,
              "#fb9f3a"
             ],
             [
              0.8888888888888888,
              "#fdca26"
             ],
             [
              1,
              "#f0f921"
             ]
            ],
            "type": "heatmapgl"
           }
          ],
          "histogram": [
           {
            "marker": {
             "pattern": {
              "fillmode": "overlay",
              "size": 10,
              "solidity": 0.2
             }
            },
            "type": "histogram"
           }
          ],
          "histogram2d": [
           {
            "colorbar": {
             "outlinewidth": 0,
             "ticks": ""
            },
            "colorscale": [
             [
              0,
              "#0d0887"
             ],
             [
              0.1111111111111111,
              "#46039f"
             ],
             [
              0.2222222222222222,
              "#7201a8"
             ],
             [
              0.3333333333333333,
              "#9c179e"
             ],
             [
              0.4444444444444444,
              "#bd3786"
             ],
             [
              0.5555555555555556,
              "#d8576b"
             ],
             [
              0.6666666666666666,
              "#ed7953"
             ],
             [
              0.7777777777777778,
              "#fb9f3a"
             ],
             [
              0.8888888888888888,
              "#fdca26"
             ],
             [
              1,
              "#f0f921"
             ]
            ],
            "type": "histogram2d"
           }
          ],
          "histogram2dcontour": [
           {
            "colorbar": {
             "outlinewidth": 0,
             "ticks": ""
            },
            "colorscale": [
             [
              0,
              "#0d0887"
             ],
             [
              0.1111111111111111,
              "#46039f"
             ],
             [
              0.2222222222222222,
              "#7201a8"
             ],
             [
              0.3333333333333333,
              "#9c179e"
             ],
             [
              0.4444444444444444,
              "#bd3786"
             ],
             [
              0.5555555555555556,
              "#d8576b"
             ],
             [
              0.6666666666666666,
              "#ed7953"
             ],
             [
              0.7777777777777778,
              "#fb9f3a"
             ],
             [
              0.8888888888888888,
              "#fdca26"
             ],
             [
              1,
              "#f0f921"
             ]
            ],
            "type": "histogram2dcontour"
           }
          ],
          "mesh3d": [
           {
            "colorbar": {
             "outlinewidth": 0,
             "ticks": ""
            },
            "type": "mesh3d"
           }
          ],
          "parcoords": [
           {
            "line": {
             "colorbar": {
              "outlinewidth": 0,
              "ticks": ""
             }
            },
            "type": "parcoords"
           }
          ],
          "pie": [
           {
            "automargin": true,
            "type": "pie"
           }
          ],
          "scatter": [
           {
            "marker": {
             "colorbar": {
              "outlinewidth": 0,
              "ticks": ""
             }
            },
            "type": "scatter"
           }
          ],
          "scatter3d": [
           {
            "line": {
             "colorbar": {
              "outlinewidth": 0,
              "ticks": ""
             }
            },
            "marker": {
             "colorbar": {
              "outlinewidth": 0,
              "ticks": ""
             }
            },
            "type": "scatter3d"
           }
          ],
          "scattercarpet": [
           {
            "marker": {
             "colorbar": {
              "outlinewidth": 0,
              "ticks": ""
             }
            },
            "type": "scattercarpet"
           }
          ],
          "scattergeo": [
           {
            "marker": {
             "colorbar": {
              "outlinewidth": 0,
              "ticks": ""
             }
            },
            "type": "scattergeo"
           }
          ],
          "scattergl": [
           {
            "marker": {
             "colorbar": {
              "outlinewidth": 0,
              "ticks": ""
             }
            },
            "type": "scattergl"
           }
          ],
          "scattermapbox": [
           {
            "marker": {
             "colorbar": {
              "outlinewidth": 0,
              "ticks": ""
             }
            },
            "type": "scattermapbox"
           }
          ],
          "scatterpolar": [
           {
            "marker": {
             "colorbar": {
              "outlinewidth": 0,
              "ticks": ""
             }
            },
            "type": "scatterpolar"
           }
          ],
          "scatterpolargl": [
           {
            "marker": {
             "colorbar": {
              "outlinewidth": 0,
              "ticks": ""
             }
            },
            "type": "scatterpolargl"
           }
          ],
          "scatterternary": [
           {
            "marker": {
             "colorbar": {
              "outlinewidth": 0,
              "ticks": ""
             }
            },
            "type": "scatterternary"
           }
          ],
          "surface": [
           {
            "colorbar": {
             "outlinewidth": 0,
             "ticks": ""
            },
            "colorscale": [
             [
              0,
              "#0d0887"
             ],
             [
              0.1111111111111111,
              "#46039f"
             ],
             [
              0.2222222222222222,
              "#7201a8"
             ],
             [
              0.3333333333333333,
              "#9c179e"
             ],
             [
              0.4444444444444444,
              "#bd3786"
             ],
             [
              0.5555555555555556,
              "#d8576b"
             ],
             [
              0.6666666666666666,
              "#ed7953"
             ],
             [
              0.7777777777777778,
              "#fb9f3a"
             ],
             [
              0.8888888888888888,
              "#fdca26"
             ],
             [
              1,
              "#f0f921"
             ]
            ],
            "type": "surface"
           }
          ],
          "table": [
           {
            "cells": {
             "fill": {
              "color": "#EBF0F8"
             },
             "line": {
              "color": "white"
             }
            },
            "header": {
             "fill": {
              "color": "#C8D4E3"
             },
             "line": {
              "color": "white"
             }
            },
            "type": "table"
           }
          ]
         },
         "layout": {
          "annotationdefaults": {
           "arrowcolor": "#2a3f5f",
           "arrowhead": 0,
           "arrowwidth": 1
          },
          "autotypenumbers": "strict",
          "coloraxis": {
           "colorbar": {
            "outlinewidth": 0,
            "ticks": ""
           }
          },
          "colorscale": {
           "diverging": [
            [
             0,
             "#8e0152"
            ],
            [
             0.1,
             "#c51b7d"
            ],
            [
             0.2,
             "#de77ae"
            ],
            [
             0.3,
             "#f1b6da"
            ],
            [
             0.4,
             "#fde0ef"
            ],
            [
             0.5,
             "#f7f7f7"
            ],
            [
             0.6,
             "#e6f5d0"
            ],
            [
             0.7,
             "#b8e186"
            ],
            [
             0.8,
             "#7fbc41"
            ],
            [
             0.9,
             "#4d9221"
            ],
            [
             1,
             "#276419"
            ]
           ],
           "sequential": [
            [
             0,
             "#0d0887"
            ],
            [
             0.1111111111111111,
             "#46039f"
            ],
            [
             0.2222222222222222,
             "#7201a8"
            ],
            [
             0.3333333333333333,
             "#9c179e"
            ],
            [
             0.4444444444444444,
             "#bd3786"
            ],
            [
             0.5555555555555556,
             "#d8576b"
            ],
            [
             0.6666666666666666,
             "#ed7953"
            ],
            [
             0.7777777777777778,
             "#fb9f3a"
            ],
            [
             0.8888888888888888,
             "#fdca26"
            ],
            [
             1,
             "#f0f921"
            ]
           ],
           "sequentialminus": [
            [
             0,
             "#0d0887"
            ],
            [
             0.1111111111111111,
             "#46039f"
            ],
            [
             0.2222222222222222,
             "#7201a8"
            ],
            [
             0.3333333333333333,
             "#9c179e"
            ],
            [
             0.4444444444444444,
             "#bd3786"
            ],
            [
             0.5555555555555556,
             "#d8576b"
            ],
            [
             0.6666666666666666,
             "#ed7953"
            ],
            [
             0.7777777777777778,
             "#fb9f3a"
            ],
            [
             0.8888888888888888,
             "#fdca26"
            ],
            [
             1,
             "#f0f921"
            ]
           ]
          },
          "colorway": [
           "#636efa",
           "#EF553B",
           "#00cc96",
           "#ab63fa",
           "#FFA15A",
           "#19d3f3",
           "#FF6692",
           "#B6E880",
           "#FF97FF",
           "#FECB52"
          ],
          "font": {
           "color": "#2a3f5f"
          },
          "geo": {
           "bgcolor": "white",
           "lakecolor": "white",
           "landcolor": "white",
           "showlakes": true,
           "showland": true,
           "subunitcolor": "#C8D4E3"
          },
          "hoverlabel": {
           "align": "left"
          },
          "hovermode": "closest",
          "mapbox": {
           "style": "light"
          },
          "paper_bgcolor": "white",
          "plot_bgcolor": "white",
          "polar": {
           "angularaxis": {
            "gridcolor": "#EBF0F8",
            "linecolor": "#EBF0F8",
            "ticks": ""
           },
           "bgcolor": "white",
           "radialaxis": {
            "gridcolor": "#EBF0F8",
            "linecolor": "#EBF0F8",
            "ticks": ""
           }
          },
          "scene": {
           "xaxis": {
            "backgroundcolor": "white",
            "gridcolor": "#DFE8F3",
            "gridwidth": 2,
            "linecolor": "#EBF0F8",
            "showbackground": true,
            "ticks": "",
            "zerolinecolor": "#EBF0F8"
           },
           "yaxis": {
            "backgroundcolor": "white",
            "gridcolor": "#DFE8F3",
            "gridwidth": 2,
            "linecolor": "#EBF0F8",
            "showbackground": true,
            "ticks": "",
            "zerolinecolor": "#EBF0F8"
           },
           "zaxis": {
            "backgroundcolor": "white",
            "gridcolor": "#DFE8F3",
            "gridwidth": 2,
            "linecolor": "#EBF0F8",
            "showbackground": true,
            "ticks": "",
            "zerolinecolor": "#EBF0F8"
           }
          },
          "shapedefaults": {
           "line": {
            "color": "#2a3f5f"
           }
          },
          "ternary": {
           "aaxis": {
            "gridcolor": "#DFE8F3",
            "linecolor": "#A2B1C6",
            "ticks": ""
           },
           "baxis": {
            "gridcolor": "#DFE8F3",
            "linecolor": "#A2B1C6",
            "ticks": ""
           },
           "bgcolor": "white",
           "caxis": {
            "gridcolor": "#DFE8F3",
            "linecolor": "#A2B1C6",
            "ticks": ""
           }
          },
          "title": {
           "x": 0.05
          },
          "xaxis": {
           "automargin": true,
           "gridcolor": "#EBF0F8",
           "linecolor": "#EBF0F8",
           "ticks": "",
           "title": {
            "standoff": 15
           },
           "zerolinecolor": "#EBF0F8",
           "zerolinewidth": 2
          },
          "yaxis": {
           "automargin": true,
           "gridcolor": "#EBF0F8",
           "linecolor": "#EBF0F8",
           "ticks": "",
           "title": {
            "standoff": 15
           },
           "zerolinecolor": "#EBF0F8",
           "zerolinewidth": 2
          }
         }
        },
        "title": {
         "font": {
          "size": 10
         },
         "text": "<b>Efficient Frontier </b> ",
         "xanchor": "left"
        },
        "width": 550
       }
      },
      "text/html": [
       "<div>                            <div id=\"9562b252-5951-49c4-88bd-702f22221404\" class=\"plotly-graph-div\" style=\"height:400px; width:550px;\"></div>            <script type=\"text/javascript\">                require([\"plotly\"], function(Plotly) {                    window.PLOTLYENV=window.PLOTLYENV || {};                                    if (document.getElementById(\"9562b252-5951-49c4-88bd-702f22221404\")) {                    Plotly.newPlot(                        \"9562b252-5951-49c4-88bd-702f22221404\",                        [{\"line\":{\"color\":\"purple\"},\"mode\":\"lines\",\"x\":[3,6,9,12,15,18],\"y\":[7.102864336599302,9.390587712256812,11.46206427816221,12.999941793670924,14.182575593982,15.000000000006937],\"type\":\"scatter\"},{\"marker\":{\"color\":\"red\",\"size\":7},\"mode\":\"markers\",\"opacity\":0.7,\"x\":[3,7,12,18],\"y\":[5,8,12,15],\"type\":\"scatter\"},{\"line\":{\"color\":\"black\"},\"mode\":\"lines\",\"x\":[3,6,9,12,15,18],\"y\":[7.863305160087349,12.404593046122807,14.98260285429522,16.128067735012326,15.791518436472778,15.911038117356116],\"type\":\"scatter\"},{\"jitter\":0.2,\"line\":{\"color\":\"gray\",\"width\":0.5},\"marker\":{\"color\":\"black\",\"opacity\":0.4,\"size\":2},\"meanline\":{\"visible\":true},\"name\":\"3\",\"pointpos\":-0.5,\"points\":\"outliers\",\"side\":\"negative\",\"y\":[6.179288308727154,3.717060932727115,7.826784236043726,8.35448452468833,11.332989546565,11.106833355456414,10.835868761583177,11.87681599078926,6.0763201335533825,6.581710859228017,6.706218375681569,9.447205121121812,8.020041454014892,13.223170198620235,5.404133261335918,2.2288345436657657,4.1771631151005835,5.435083865282318,7.139625525103786,3.7134472388897133,9.78874337212871,10.473912060276056,3.1982451853308542,9.32169353909967,9.828826389764332,6.722392833513336,8.95932042821995,8.915867327471867,10.442943665309297,5.081850234243937,11.530370789851855,9.954549177819937,13.49431177154302,11.105269440890174,6.1308898177232924,9.37915725149961,5.654237697266586,9.868609060822502,7.835905173218142,12.760339953630236,8.170023164292731,9.32275735165275,5.8775264083576495,5.427304330040968,9.768174028059484,10.265347574613724,10.048695518940907,9.632751959442585,5.474691133255851,5.473358466705987,6.218224453210198,5.879168362888211,7.7524711036141225,6.493870400857645,10.652891562951892,5.35544397148444,10.74349928663195,7.530877508434773,6.478139084555333,8.750718897178865,12.51512574603928,8.82307702127799,8.273750041080545,7.810446885181266,4.975579693404342,5.772620762205316,10.65081830686877,7.036154064544196,5.2267176191931615,6.228533636113415,12.004957175539914,6.641418268851831,9.094267975307698,11.408347837281037,9.238590703668995,6.667237408365213,7.146900231101809,6.851413149907845,5.295748778854309,11.003253858266838,6.936308757852634,9.825826052040034,10.441533164506437,4.679300515190444,2.8121425460930984,7.657173719921438,6.603528125255833,4.510597842873856,3.20625458341825,10.21648649988511,5.902980964604007,12.824828654230075,8.401974980601025,7.5748736532210525,3.6004908041073604,5.816900878918974,9.906166619560329,6.108877938009781,4.9152400595023416,6.577621400917452],\"type\":\"violin\"},{\"jitter\":0.2,\"line\":{\"color\":\"gray\",\"width\":0.5},\"marker\":{\"color\":\"black\",\"opacity\":0.4,\"size\":2},\"meanline\":{\"visible\":true},\"name\":\"6\",\"pointpos\":-0.5,\"points\":\"outliers\",\"side\":\"negative\",\"y\":[9.684569037437075,4.368234881547292,13.65680107157897,11.802974089331654,21.493640006216086,16.007702269077843,19.255447384542112,17.6772417801446,7.389200880994402,9.662588284328306,12.126253946418785,14.030568465151044,11.997133452101902,22.75174503824079,9.00995037677776,3.7945584233123437,10.031296922462193,11.584110773130838,8.044190742487588,3.869293672143677,16.415480623471222,16.48234204121265,4.401485025595962,17.668110895238616,16.24039473142126,11.324486248805904,13.770273623849327,16.13340841448254,17.480125280327634,2.556551169683169,13.407135702431821,18.082105064613867,22.43074356543925,18.610106705729343,11.393784641682178,16.842312215127173,11.992868646163961,14.532188844285148,13.529509362541411,20.450347249310305,10.962208214105896,13.279115902091048,8.290782745637694,9.662427775505362,13.360514025009246,14.962935373023283,14.572638237285604,16.888039515341774,12.101610629674663,10.88992188827293,12.298131998170046,4.185813733653843,11.905765509814191,9.365956598316869,16.976828537649443,8.13184381128184,16.633109188582335,14.13403855289391,8.162423522630608,15.175028363915057,19.696515974045234,9.777854165311854,12.569021483569106,6.3020986645218775,11.786419807796873,9.647868887311768,18.667125803931114,12.70579395182282,7.399532602990453,9.56048209950772,18.328410278889287,11.02765805764379,16.191936556623038,19.234419592412863,16.92271957158761,7.521232808488802,9.281723042291432,10.238171343352544,9.124251184617993,19.405551166030524,11.776919780425153,16.32068273243908,10.828264969911682,5.61267283608961,1.229686399653389,17.303732963175992,10.93929691452602,8.704745072370269,3.160817800338497,18.65209962746948,7.419881506733809,22.105577424254452,12.19497914039338,12.70924106617122,7.122706891595549,8.270234961194102,15.203431078487693,7.671731041033635,5.251322891775018,8.672096799802627],\"type\":\"violin\"},{\"jitter\":0.2,\"line\":{\"color\":\"gray\",\"width\":0.5},\"marker\":{\"color\":\"black\",\"opacity\":0.4,\"size\":2},\"meanline\":{\"visible\":true},\"name\":\"9\",\"pointpos\":-0.5,\"points\":\"outliers\",\"side\":\"negative\",\"y\":[12.91133166843817,4.949175459032535,8.818441969550836,13.84347210953996,30.553273801421884,7.619372302967302,27.13902273633116,20.078464525399625,8.560478849113782,8.18122951030679,17.246189803124885,18.245502370471378,15.24508011202158,31.489693405626376,12.329261292398229,5.191408737421369,15.420280664690601,16.802517724536447,8.251504365368065,2.1635309614961225,20.022387283558736,21.654108026899088,5.27398826286726,25.391124226236435,22.29045623574918,13.041244706151694,17.977879911360585,14.892939104606846,22.884257076329824,1.093036058356245,12.102950265230788,24.16486213989455,22.71507268735327,21.473947261127343,16.089041822205857,23.712469653083623,17.811662385033696,13.880914945032542,18.665671794458838,24.63647693603117,10.837185380239589,9.24768931794317,10.534607461763919,13.569401790460104,15.258935712531262,18.18872075855763,17.249050275204965,23.754667924130203,18.20197679093639,15.871196787551657,17.88327785605032,3.020355909983702,14.99701233391156,12.009836350545644,22.6946244429688,10.688105994627941,22.019927868983785,20.35632567122711,9.354640819842409,20.27760856911592,24.090477118638503,10.434983164855801,16.52094182239275,5.263972211986176,17.895334196949975,13.21520263573005,25.618535839130047,17.832928470531535,8.414713328422213,12.627684975508831,23.528762519524026,10.541213375194218,22.905057637825564,21.782683135966664,23.89337605227696,-1.3234401687116337,10.870763663468324,13.351523871625403,8.074063610685538,27.1571156791334,12.26884346210963,19.329655827888597,11.094434624227073,6.263348961822911,-4.440691197289393,25.9098476719644,14.912274916675798,12.446526079582185,3.1202816715428487,26.65260019007503,1.8483945556665367,30.111948578936364,7.5591900467214845,13.259790331683327,10.265028927080914,10.45896090969946,17.72882538305516,1.573834886298811,5.546169220532906,8.826256072712686],\"type\":\"violin\"},{\"jitter\":0.2,\"line\":{\"color\":\"gray\",\"width\":0.5},\"marker\":{\"color\":\"black\",\"opacity\":0.4,\"size\":2},\"meanline\":{\"visible\":true},\"name\":\"12\",\"pointpos\":-0.5,\"points\":\"outliers\",\"side\":\"negative\",\"y\":[16.0316028479589,5.516676343057865,5.562209140741068,14.918506043435027,37.138895780496114,-0.8512086876194758,34.65804430866196,21.080328193262627,9.704660040988763,6.968902389597844,21.46002171689048,22.299602102409462,15.019498618143686,40.11313229737085,14.440356942679848,6.555943801476177,20.71346415367023,17.54261266775036,4.969033559312613,-2.2436768602465267,21.5942471257343,25.242107301106984,3.9932915423261592,29.47414353494942,26.616150235042465,13.701678949854665,19.14338208501586,13.186442070178604,26.121493492395548,-2.920728168864504,2.667776497482926,27.71474109750732,21.635992766177473,22.292298904988126,20.675677192434986,30.460399070400488,23.527015162962307,11.621229595114404,23.71294778857973,26.46095995189688,10.374631148539027,5.749023996422297,12.71796832534908,17.19107429462192,13.131397563367301,17.411217219925433,16.050117738677713,28.456142740927895,23.835890219619042,20.763919300638495,20.86325371654872,-0.8812244582836517,12.011689248617397,13.72847232277885,28.310774740497763,13.207641502985991,27.29314842645202,26.25605805045144,6.679636971503151,18.94140444582406,23.649491406205957,2.7119727670343403,19.580635598843184,0.9192425399205115,23.89838352660622,15.899197597247454,30.473656209142632,22.868917637695006,8.793146291310894,15.343141905270702,23.388381950490796,9.650850505041472,28.543396630228784,22.298598031958296,29.275630165411844,-5.829804170939225,9.338002416797774,15.902350391385099,6.961104536590224,33.75559145381893,11.95797763752008,20.68787291254859,1.9797569909578705,4.207038491569264,-7.08800168914464,34.31686535084578,18.81462515697231,16.101743345744644,3.0806833204924544,33.46708115805976,-1.1104432185459157,35.65628623261107,2.599479760251927,12.873613340884239,13.334655326330704,12.597052065342698,18.6913488274103,-1.6519909007077729,5.631598522587672,8.625554368655287],\"type\":\"violin\"},{\"jitter\":0.2,\"line\":{\"color\":\"gray\",\"width\":0.5},\"marker\":{\"color\":\"black\",\"opacity\":0.4,\"size\":2},\"meanline\":{\"visible\":true},\"name\":\"15\",\"pointpos\":-0.5,\"points\":\"outliers\",\"side\":\"negative\",\"y\":[16.78198166225998,6.079082595009353,2.706962667353817,15.87188266749758,42.995328263661285,-6.341044445547647,41.441234742767165,21.954664818653054,10.838569562164594,5.90586638373751,25.143091900148125,25.960952097760558,9.879653096452962,48.39788223765427,12.68243595366679,7.908229009533561,23.34743040283103,10.989419159255322,-0.20042515325750898,-7.868696833571748,22.972541465479434,27.93054964235379,0.7258787338917091,24.426709450114572,25.74651385360429,14.288986961540857,14.739035925635926,11.690090334188133,28.9600828556955,-6.9685455914915515,-10.72533977432077,30.827472870890237,20.689795333314834,23.009875248882775,25.221136909298878,33.387328786905506,29.00721321361776,9.335674374205006,28.657182844178674,28.060768373917874,9.969037811097454,3.233236814319186,14.717735698958872,20.394943728308565,8.271912860310874,13.147381867513591,11.902483839222946,26.725565464835363,24.068977940507505,25.33651212412983,17.139776915796006,-5.195229629306748,2.835496588376416,12.380123882686807,33.88790934392702,15.34479211213937,32.19126915938904,31.395542816438727,0.7845462930861102,9.348405354284173,19.2564478937259,-10.199738199829694,22.3015463749409,-4.267846817246709,29.83337306095588,14.645118452693776,34.73089641924784,27.869921504898773,9.124977410544922,15.112446015711567,15.500307781910502,8.870130703364236,30.650422700881588,21.770342107379935,33.99509062883554,-9.781235354275085,4.623854068526816,18.13905729076343,5.985199973705457,39.54150287362508,11.685393151960508,21.895702150904526,-12.507240990905322,0.06747998234074681,-9.42134035937683,42.649404277082674,22.608198696393924,19.72414658877734,3.0414404561649064,38.587481872880915,-3.7049171324655807,40.51787058042961,-0.49224139574368087,12.534991826245466,16.376724733935408,14.715948911174477,19.53534304337029,-4.4805747886425955,5.328775640879098,8.449567925556646],\"type\":\"violin\"},{\"jitter\":0.2,\"line\":{\"color\":\"gray\",\"width\":0.5},\"marker\":{\"color\":\"black\",\"opacity\":0.4,\"size\":2},\"meanline\":{\"visible\":true},\"name\":\"18\",\"pointpos\":-0.5,\"points\":\"outliers\",\"side\":\"negative\",\"y\":[17.244757282294895,6.638995317612953,0.00046702996743376395,16.775672363827123,48.362652480399525,-11.390328947995533,47.67802236336675,22.642867586542046,11.967451691302637,4.898211759737886,28.05257921812092,29.431555380496793,6.709793873120005,55.07752521247605,11.59828624148286,9.254518615780777,24.976225942947323,6.947916215017611,-3.38854749246797,-11.33777412638482,24.27903029222868,29.763379576515224,-1.2892087996477337,21.31384246415887,25.210189389314493,14.823317694981524,12.022775827621443,10.271694591339909,31.650789166298335,-9.46492632841001,-18.98517809588173,33.77803949922082,19.79289230037748,23.690067751168108,29.746443512275953,35.19243267356032,33.27612691343806,7.974701847184504,33.36938003025666,29.577230981467853,9.58457482060098,0.848515533054,16.55968048044221,23.431899983274384,5.274958489066282,10.517777966703491,9.34454400587226,25.658279240066463,24.212728479652146,28.773296356352553,14.84342439060042,-7.855774383053928,-2.823669425046767,11.54856684355764,38.98166899658979,16.84476390530898,36.83421067479975,35.33713579536864,-2.8510897701162743,3.432185452237634,16.547158394318235,-18.162683146521957,24.87704427356692,-7.466842374593812,35.53704174193545,13.871699424204403,38.76634560248793,32.431669219896975,9.439521000266474,14.970170632566989,10.635553666402439,8.130084351634997,31.949873428519762,21.444554707405597,38.46867960433638,-13.52680735756333,1.7165319277602553,20.25923763873454,5.060137474090766,45.02598351387702,11.427009601797138,23.0226160747525,-21.441701171169523,-2.485479582356926,-11.609686366157261,50.94301647386846,25.643333171763842,23.33048925463866,3.0023715821412633,42.083172722393655,-6.164225773578224,45.12617915966051,-3.422892003986684,12.214011602652644,19.405306579146306,16.82545124627522,20.335367378509652,-7.161796889387465,5.142017906971103,8.282749913905446],\"type\":\"violin\"}],                        {\"height\":400,\"margin\":{\"b\":30,\"l\":50,\"r\":20,\"t\":50},\"showlegend\":false,\"template\":{\"data\":{\"barpolar\":[{\"marker\":{\"line\":{\"color\":\"white\",\"width\":0.5},\"pattern\":{\"fillmode\":\"overlay\",\"size\":10,\"solidity\":0.2}},\"type\":\"barpolar\"}],\"bar\":[{\"error_x\":{\"color\":\"#2a3f5f\"},\"error_y\":{\"color\":\"#2a3f5f\"},\"marker\":{\"line\":{\"color\":\"white\",\"width\":0.5},\"pattern\":{\"fillmode\":\"overlay\",\"size\":10,\"solidity\":0.2}},\"type\":\"bar\"}],\"carpet\":[{\"aaxis\":{\"endlinecolor\":\"#2a3f5f\",\"gridcolor\":\"#C8D4E3\",\"linecolor\":\"#C8D4E3\",\"minorgridcolor\":\"#C8D4E3\",\"startlinecolor\":\"#2a3f5f\"},\"baxis\":{\"endlinecolor\":\"#2a3f5f\",\"gridcolor\":\"#C8D4E3\",\"linecolor\":\"#C8D4E3\",\"minorgridcolor\":\"#C8D4E3\",\"startlinecolor\":\"#2a3f5f\"},\"type\":\"carpet\"}],\"choropleth\":[{\"colorbar\":{\"outlinewidth\":0,\"ticks\":\"\"},\"type\":\"choropleth\"}],\"contourcarpet\":[{\"colorbar\":{\"outlinewidth\":0,\"ticks\":\"\"},\"type\":\"contourcarpet\"}],\"contour\":[{\"colorbar\":{\"outlinewidth\":0,\"ticks\":\"\"},\"colorscale\":[[0.0,\"#0d0887\"],[0.1111111111111111,\"#46039f\"],[0.2222222222222222,\"#7201a8\"],[0.3333333333333333,\"#9c179e\"],[0.4444444444444444,\"#bd3786\"],[0.5555555555555556,\"#d8576b\"],[0.6666666666666666,\"#ed7953\"],[0.7777777777777778,\"#fb9f3a\"],[0.8888888888888888,\"#fdca26\"],[1.0,\"#f0f921\"]],\"type\":\"contour\"}],\"heatmapgl\":[{\"colorbar\":{\"outlinewidth\":0,\"ticks\":\"\"},\"colorscale\":[[0.0,\"#0d0887\"],[0.1111111111111111,\"#46039f\"],[0.2222222222222222,\"#7201a8\"],[0.3333333333333333,\"#9c179e\"],[0.4444444444444444,\"#bd3786\"],[0.5555555555555556,\"#d8576b\"],[0.6666666666666666,\"#ed7953\"],[0.7777777777777778,\"#fb9f3a\"],[0.8888888888888888,\"#fdca26\"],[1.0,\"#f0f921\"]],\"type\":\"heatmapgl\"}],\"heatmap\":[{\"colorbar\":{\"outlinewidth\":0,\"ticks\":\"\"},\"colorscale\":[[0.0,\"#0d0887\"],[0.1111111111111111,\"#46039f\"],[0.2222222222222222,\"#7201a8\"],[0.3333333333333333,\"#9c179e\"],[0.4444444444444444,\"#bd3786\"],[0.5555555555555556,\"#d8576b\"],[0.6666666666666666,\"#ed7953\"],[0.7777777777777778,\"#fb9f3a\"],[0.8888888888888888,\"#fdca26\"],[1.0,\"#f0f921\"]],\"type\":\"heatmap\"}],\"histogram2dcontour\":[{\"colorbar\":{\"outlinewidth\":0,\"ticks\":\"\"},\"colorscale\":[[0.0,\"#0d0887\"],[0.1111111111111111,\"#46039f\"],[0.2222222222222222,\"#7201a8\"],[0.3333333333333333,\"#9c179e\"],[0.4444444444444444,\"#bd3786\"],[0.5555555555555556,\"#d8576b\"],[0.6666666666666666,\"#ed7953\"],[0.7777777777777778,\"#fb9f3a\"],[0.8888888888888888,\"#fdca26\"],[1.0,\"#f0f921\"]],\"type\":\"histogram2dcontour\"}],\"histogram2d\":[{\"colorbar\":{\"outlinewidth\":0,\"ticks\":\"\"},\"colorscale\":[[0.0,\"#0d0887\"],[0.1111111111111111,\"#46039f\"],[0.2222222222222222,\"#7201a8\"],[0.3333333333333333,\"#9c179e\"],[0.4444444444444444,\"#bd3786\"],[0.5555555555555556,\"#d8576b\"],[0.6666666666666666,\"#ed7953\"],[0.7777777777777778,\"#fb9f3a\"],[0.8888888888888888,\"#fdca26\"],[1.0,\"#f0f921\"]],\"type\":\"histogram2d\"}],\"histogram\":[{\"marker\":{\"pattern\":{\"fillmode\":\"overlay\",\"size\":10,\"solidity\":0.2}},\"type\":\"histogram\"}],\"mesh3d\":[{\"colorbar\":{\"outlinewidth\":0,\"ticks\":\"\"},\"type\":\"mesh3d\"}],\"parcoords\":[{\"line\":{\"colorbar\":{\"outlinewidth\":0,\"ticks\":\"\"}},\"type\":\"parcoords\"}],\"pie\":[{\"automargin\":true,\"type\":\"pie\"}],\"scatter3d\":[{\"line\":{\"colorbar\":{\"outlinewidth\":0,\"ticks\":\"\"}},\"marker\":{\"colorbar\":{\"outlinewidth\":0,\"ticks\":\"\"}},\"type\":\"scatter3d\"}],\"scattercarpet\":[{\"marker\":{\"colorbar\":{\"outlinewidth\":0,\"ticks\":\"\"}},\"type\":\"scattercarpet\"}],\"scattergeo\":[{\"marker\":{\"colorbar\":{\"outlinewidth\":0,\"ticks\":\"\"}},\"type\":\"scattergeo\"}],\"scattergl\":[{\"marker\":{\"colorbar\":{\"outlinewidth\":0,\"ticks\":\"\"}},\"type\":\"scattergl\"}],\"scattermapbox\":[{\"marker\":{\"colorbar\":{\"outlinewidth\":0,\"ticks\":\"\"}},\"type\":\"scattermapbox\"}],\"scatterpolargl\":[{\"marker\":{\"colorbar\":{\"outlinewidth\":0,\"ticks\":\"\"}},\"type\":\"scatterpolargl\"}],\"scatterpolar\":[{\"marker\":{\"colorbar\":{\"outlinewidth\":0,\"ticks\":\"\"}},\"type\":\"scatterpolar\"}],\"scatter\":[{\"marker\":{\"colorbar\":{\"outlinewidth\":0,\"ticks\":\"\"}},\"type\":\"scatter\"}],\"scatterternary\":[{\"marker\":{\"colorbar\":{\"outlinewidth\":0,\"ticks\":\"\"}},\"type\":\"scatterternary\"}],\"surface\":[{\"colorbar\":{\"outlinewidth\":0,\"ticks\":\"\"},\"colorscale\":[[0.0,\"#0d0887\"],[0.1111111111111111,\"#46039f\"],[0.2222222222222222,\"#7201a8\"],[0.3333333333333333,\"#9c179e\"],[0.4444444444444444,\"#bd3786\"],[0.5555555555555556,\"#d8576b\"],[0.6666666666666666,\"#ed7953\"],[0.7777777777777778,\"#fb9f3a\"],[0.8888888888888888,\"#fdca26\"],[1.0,\"#f0f921\"]],\"type\":\"surface\"}],\"table\":[{\"cells\":{\"fill\":{\"color\":\"#EBF0F8\"},\"line\":{\"color\":\"white\"}},\"header\":{\"fill\":{\"color\":\"#C8D4E3\"},\"line\":{\"color\":\"white\"}},\"type\":\"table\"}]},\"layout\":{\"annotationdefaults\":{\"arrowcolor\":\"#2a3f5f\",\"arrowhead\":0,\"arrowwidth\":1},\"autotypenumbers\":\"strict\",\"coloraxis\":{\"colorbar\":{\"outlinewidth\":0,\"ticks\":\"\"}},\"colorscale\":{\"diverging\":[[0,\"#8e0152\"],[0.1,\"#c51b7d\"],[0.2,\"#de77ae\"],[0.3,\"#f1b6da\"],[0.4,\"#fde0ef\"],[0.5,\"#f7f7f7\"],[0.6,\"#e6f5d0\"],[0.7,\"#b8e186\"],[0.8,\"#7fbc41\"],[0.9,\"#4d9221\"],[1,\"#276419\"]],\"sequential\":[[0.0,\"#0d0887\"],[0.1111111111111111,\"#46039f\"],[0.2222222222222222,\"#7201a8\"],[0.3333333333333333,\"#9c179e\"],[0.4444444444444444,\"#bd3786\"],[0.5555555555555556,\"#d8576b\"],[0.6666666666666666,\"#ed7953\"],[0.7777777777777778,\"#fb9f3a\"],[0.8888888888888888,\"#fdca26\"],[1.0,\"#f0f921\"]],\"sequentialminus\":[[0.0,\"#0d0887\"],[0.1111111111111111,\"#46039f\"],[0.2222222222222222,\"#7201a8\"],[0.3333333333333333,\"#9c179e\"],[0.4444444444444444,\"#bd3786\"],[0.5555555555555556,\"#d8576b\"],[0.6666666666666666,\"#ed7953\"],[0.7777777777777778,\"#fb9f3a\"],[0.8888888888888888,\"#fdca26\"],[1.0,\"#f0f921\"]]},\"colorway\":[\"#636efa\",\"#EF553B\",\"#00cc96\",\"#ab63fa\",\"#FFA15A\",\"#19d3f3\",\"#FF6692\",\"#B6E880\",\"#FF97FF\",\"#FECB52\"],\"font\":{\"color\":\"#2a3f5f\"},\"geo\":{\"bgcolor\":\"white\",\"lakecolor\":\"white\",\"landcolor\":\"white\",\"showlakes\":true,\"showland\":true,\"subunitcolor\":\"#C8D4E3\"},\"hoverlabel\":{\"align\":\"left\"},\"hovermode\":\"closest\",\"mapbox\":{\"style\":\"light\"},\"paper_bgcolor\":\"white\",\"plot_bgcolor\":\"white\",\"polar\":{\"angularaxis\":{\"gridcolor\":\"#EBF0F8\",\"linecolor\":\"#EBF0F8\",\"ticks\":\"\"},\"bgcolor\":\"white\",\"radialaxis\":{\"gridcolor\":\"#EBF0F8\",\"linecolor\":\"#EBF0F8\",\"ticks\":\"\"}},\"scene\":{\"xaxis\":{\"backgroundcolor\":\"white\",\"gridcolor\":\"#DFE8F3\",\"gridwidth\":2,\"linecolor\":\"#EBF0F8\",\"showbackground\":true,\"ticks\":\"\",\"zerolinecolor\":\"#EBF0F8\"},\"yaxis\":{\"backgroundcolor\":\"white\",\"gridcolor\":\"#DFE8F3\",\"gridwidth\":2,\"linecolor\":\"#EBF0F8\",\"showbackground\":true,\"ticks\":\"\",\"zerolinecolor\":\"#EBF0F8\"},\"zaxis\":{\"backgroundcolor\":\"white\",\"gridcolor\":\"#DFE8F3\",\"gridwidth\":2,\"linecolor\":\"#EBF0F8\",\"showbackground\":true,\"ticks\":\"\",\"zerolinecolor\":\"#EBF0F8\"}},\"shapedefaults\":{\"line\":{\"color\":\"#2a3f5f\"}},\"ternary\":{\"aaxis\":{\"gridcolor\":\"#DFE8F3\",\"linecolor\":\"#A2B1C6\",\"ticks\":\"\"},\"baxis\":{\"gridcolor\":\"#DFE8F3\",\"linecolor\":\"#A2B1C6\",\"ticks\":\"\"},\"bgcolor\":\"white\",\"caxis\":{\"gridcolor\":\"#DFE8F3\",\"linecolor\":\"#A2B1C6\",\"ticks\":\"\"}},\"title\":{\"x\":0.05},\"xaxis\":{\"automargin\":true,\"gridcolor\":\"#EBF0F8\",\"linecolor\":\"#EBF0F8\",\"ticks\":\"\",\"title\":{\"standoff\":15},\"zerolinecolor\":\"#EBF0F8\",\"zerolinewidth\":2},\"yaxis\":{\"automargin\":true,\"gridcolor\":\"#EBF0F8\",\"linecolor\":\"#EBF0F8\",\"ticks\":\"\",\"title\":{\"standoff\":15},\"zerolinecolor\":\"#EBF0F8\",\"zerolinewidth\":2}}},\"title\":{\"font\":{\"size\":10},\"text\":\"<b>Efficient Frontier </b> \",\"xanchor\":\"left\"},\"width\":550},                        {\"responsive\": true}                    ).then(function(){\n",
       "                            \n",
       "var gd = document.getElementById('9562b252-5951-49c4-88bd-702f22221404');\n",
       "var x = new MutationObserver(function (mutations, observer) {{\n",
       "        var display = window.getComputedStyle(gd).display;\n",
       "        if (!display || display === 'none') {{\n",
       "            console.log([gd, 'removed!']);\n",
       "            Plotly.purge(gd);\n",
       "            observer.disconnect();\n",
       "        }}\n",
       "}});\n",
       "\n",
       "// Listen for the removal of the full notebook cells\n",
       "var notebookContainer = gd.closest('#notebook-container');\n",
       "if (notebookContainer) {{\n",
       "    x.observe(notebookContainer, {childList: true});\n",
       "}}\n",
       "\n",
       "// Listen for the clearing of the current output cell\n",
       "var outputEl = gd.closest('.output');\n",
       "if (outputEl) {{\n",
       "    x.observe(outputEl, {childList: true});\n",
       "}}\n",
       "\n",
       "                        })                };                });            </script>        </div>"
      ]
     },
     "metadata": {},
     "output_type": "display_data"
    }
   ],
   "source": [
    "ref_df = pd.concat(ref_,axis=1).transpose()\n",
    "\n",
    "mean_ref = ref_df.mean(axis=0)\n",
    "traces=[]\n",
    "temp = eff.iloc[2:]\n",
    "traces.append(go.Scatter(x=eff_v.index,y=eff_v,mode='lines',line={'color':'purple'}))\n",
    "traces.append(go.Scatter(x=expvol,y=expret,mode='markers',marker={'size':7,'color':'red'},opacity=0.7))\n",
    "traces.append(go.Scatter(x=mean_ref.index,y=mean_ref,mode='lines',line={'color':'black'}))\n",
    "for c in [3,6,9,12,15,18]:\n",
    "     traces.append(go.Violin(y=ref_df.loc[:,c],jitter=0.2,pointpos=-0.5,\n",
    "            points='outliers',name=c,side='negative',meanline_visible=True,\n",
    "            marker={'size':2,'color':'black','opacity':0.4},line={'width':0.5,'color':'gray'}))\n",
    "scat(traces)"
   ]
  },
  {
   "cell_type": "code",
   "execution_count": 63,
   "id": "8a084843",
   "metadata": {},
   "outputs": [
    {
     "data": {
      "text/plain": [
       "0    0.37\n",
       "1    0.32\n",
       "2    0.16\n",
       "3    0.15\n",
       "dtype: float64"
      ]
     },
     "execution_count": 63,
     "metadata": {},
     "output_type": "execute_result"
    }
   ],
   "source": [
    "nueve=[]\n",
    "for i in ws_:\n",
    "    nueve.append(i.loc[:,6])\n",
    "\n",
    "nueve = pd.concat(nueve,axis=1).mean(axis=1).round(2)\n",
    "nueve"
   ]
  },
  {
   "cell_type": "code",
   "execution_count": 36,
   "id": "cb4bf0fe",
   "metadata": {},
   "outputs": [
    {
     "name": "stdout",
     "output_type": "stream",
     "text": [
      "     3    7    12   18\n",
      "3   1.0  0.5  0.1 -0.6\n",
      "7   0.5  1.0  0.2  0.1\n",
      "12  0.1  0.2  1.0  0.5\n",
      "18 -0.6  0.1  0.5  1.0\n"
     ]
    },
    {
     "data": {
      "text/html": [
       "        <script type=\"text/javascript\">\n",
       "        window.PlotlyConfig = {MathJaxConfig: 'local'};\n",
       "        if (window.MathJax) {MathJax.Hub.Config({SVG: {font: \"STIX-Web\"}});}\n",
       "        if (typeof require !== 'undefined') {\n",
       "        require.undef(\"plotly\");\n",
       "        requirejs.config({\n",
       "            paths: {\n",
       "                'plotly': ['https://cdn.plot.ly/plotly-2.9.0.min']\n",
       "            }\n",
       "        });\n",
       "        require(['plotly'], function(Plotly) {\n",
       "            window._Plotly = Plotly;\n",
       "        });\n",
       "        }\n",
       "        </script>\n",
       "        "
      ]
     },
     "metadata": {},
     "output_type": "display_data"
    },
    {
     "data": {
      "application/vnd.plotly.v1+json": {
       "config": {
        "linkText": "Export to plot.ly",
        "plotlyServerURL": "https://plot.ly",
        "showLink": false
       },
       "data": [
        {
         "marker": {
          "color": "blue",
          "size": 2
         },
         "mode": "markers",
         "opacity": 0.8,
         "type": "scatter",
         "x": [
          0.7822650028706619,
          -1.3262876055762856,
          0.509910215867029,
          -1.5219521998424357,
          -0.8052780975043395,
          1.4010168797290992,
          1.4134459035747455,
          0.038381741638087115,
          1.0606894279171082,
          -1.6380934626533308,
          -0.6265837188119202,
          0.9761206219481322,
          -1.8600631838298485,
          -0.5787096077802619,
          -0.6792382656245741,
          0.6235204443136618,
          -2.0297048527916632,
          0.33006679756009105,
          1.4451111557663197,
          0.6892686504602245,
          -1.8876038246431734,
          -1.7130466171008494,
          0.6635440927084899,
          0.2216408606124246,
          0.36101020127758027,
          -1.1555830289080604,
          0.11058587183801058,
          -0.5753368261984351,
          1.0997136960946734,
          -0.4298856179125874,
          1.2735722647261334,
          0.10536271404907478,
          -0.8268159780952596,
          0.29901321533780345,
          1.126076127495532,
          0.483332340210303,
          -1.964078049209661,
          -1.0860763725093296,
          -1.75307807320004,
          -0.797497719654029,
          0.40332965435951945,
          -0.818976262492222,
          -1.5806160308294546,
          -0.5364456500060509,
          -0.3901438602639172,
          -0.48091317438326336,
          0.6646636327098261,
          -1.0431834605604762,
          -0.9855141938770352,
          -0.6753306072617639,
          1.3915704045457347,
          1.6303067822764368,
          1.0809183503894328,
          1.2638612980988495,
          0.10515880651222147,
          0.25386769633124723,
          -0.14861724770559923,
          1.6261523558561006,
          -0.25205813463935683,
          1.1873281026965044,
          -0.25637249179744104,
          0.20511105754096945,
          -0.06716761572826388,
          1.9854359187497614,
          -0.5974831839465037,
          0.22963946016229395,
          1.230123854812675,
          0.7635397710475873,
          1.2145048975273258,
          0.9610007633760892,
          0.7000129332235357,
          0.3877774759954961,
          -1.2270448443073179,
          0.04877118899295382,
          1.5425603182022272,
          1.5398309122488365,
          0.6278944195504543,
          -0.6322642722251424,
          0.7809867029789762,
          -1.5725520590618387,
          0.2485295118388386,
          -1.5741948793733982,
          -0.76493838343497,
          -0.014647365200283516,
          -1.3937885811282273,
          1.4754377036178516,
          -0.9307299768046691,
          0.8561009511461246,
          -0.3733566080180642,
          -0.20932720018952036,
          0.4316779689701213,
          1.4556573068317882,
          1.65333045765609,
          0.3946370438177062,
          0.8778064732675183,
          1.4475174661326558,
          -0.14288215042050034,
          0.5818327720818144,
          1.0160920331606864,
          -0.04537452563521345,
          -1.2054165373375514,
          0.9773495977335248,
          0.7667358699007163,
          0.7820128444094541,
          -0.6784406064938724,
          1.128206421010281,
          0.7896039479417352,
          -0.4498243584584728,
          0.8697131817057008,
          0.6176874849111272,
          -1.036674393414548,
          -0.271894274025389,
          -0.8314777303322111,
          -0.4961608091910542,
          -1.3365836497510135,
          1.3084875893065422,
          0.03133432001819644,
          0.3726749560399944,
          0.48769016395298165,
          1.1693363352784183,
          -1.2752751184540734,
          -0.29428560707973406,
          -1.154928021463245,
          0.6085925151418179,
          -0.11304405811505,
          -0.4967922774972314,
          0.7182716458404507,
          -0.8948213028557533,
          0.13633768459114753,
          0.49319032542441865,
          -2.931241617693828,
          -1.4272036160153012,
          -0.09658665310208035,
          0.1284838420312507,
          -1.1167926832071686,
          0.3297696146370771,
          -1.0908483723992797,
          1.282486699132369,
          1.6920915702056076,
          -0.4476087756500327,
          0.6359173499994337,
          0.30726972040713807,
          1.224084858330145,
          -1.5480867072367714,
          -1.6865845237986705,
          -1.0696373185403814,
          -1.1196676366681304,
          -0.0803530795277114,
          0.08340598720462129,
          -0.9499808787364254,
          -0.3685923308936727,
          -0.5842299144073135,
          -0.3424465421650067,
          -0.2822443042113612,
          -0.7468215715947751,
          1.1954507383068673,
          -0.6339140275038095,
          0.5384591169641276,
          -0.6115582417311815,
          0.08613335975248083,
          0.3203916742828628,
          0.36075864946394515,
          0.002955844066602787,
          0.2984377591372452,
          1.1672408550445748,
          1.433255968213623,
          -1.4114750505013887,
          -1.0635749239687016,
          -1.031364428786452,
          0.07054562770982371,
          0.06136204257735377,
          -0.0365091524515716,
          0.2792713708927117,
          2.3982484201934304,
          -0.3239278709327247,
          0.005144283424791623,
          -0.1534732801493902,
          -0.6538720653815325,
          -0.32055562576193863,
          -0.048044616259854296,
          -0.0740798655328061,
          -0.052475463259845506,
          0.5295819030474516,
          -1.3058650971047063,
          0.7772956866996302,
          -0.6237538926044229,
          1.657747622629937,
          2.403997870064078,
          -0.11737743284157816,
          1.1638914885968008,
          0.5364909439435714,
          1.6623775605693618,
          0.8742719349964619,
          -1.103891032172329,
          -0.08299388208626468,
          -0.23029812136096467,
          0.32403004713924255,
          -1.4759474737521376,
          0.011340654756096507,
          -1.566579070609495,
          -0.8995906902105947,
          -1.5376392141623827,
          -0.30409496628909993,
          -1.772842545377705,
          1.24519374678671,
          -1.2473790577364567,
          -0.3361976871792572,
          1.2979729040411663,
          0.28380599294323566,
          0.3866026771004423,
          0.4150675687599609,
          -0.15272323811538954,
          -1.101965587979914,
          1.6796994604335713,
          0.12168698644197956,
          -0.5054771706247893,
          0.28415571074027546,
          -1.1345268366230752,
          1.3726253308430207,
          -0.27307348856555314,
          0.413409671465931,
          2.5435616609485794,
          0.5037978316278413,
          -1.1436166818510505,
          -0.7634744034745885,
          -0.2230047048327533,
          -0.4057878824609773,
          0.5419653658681048,
          -0.22134015543442126,
          1.4271382180248924,
          0.6208103434928812,
          2.182243500016391,
          0.12706263903941217,
          0.7366399683024875,
          0.6751778707160457,
          -0.22511744098958797,
          -0.4621090456134495,
          0.684235214755849,
          0.13314274057076486,
          0.269027682634397,
          -0.23755487066572156,
          -1.1034887155999806,
          0.40833718597691265,
          -0.19238880667779903,
          0.3585647644169138,
          1.430861907011316,
          -1.3412665812069435,
          1.01362824484552,
          0.4755927163669774,
          0.31249344754483743,
          0.5042945157664638,
          0.6646969924736778,
          -0.13482951207179925,
          -0.02824666250551307,
          -0.7337092251357475,
          0.3716669961799316,
          -0.09671122073631344,
          -1.1801753031251048,
          0.00970859927102302,
          -1.6976236613754025,
          0.7515315347609939,
          1.6091281192624587,
          0.3542919666851225,
          0.22064462365529625,
          0.9819596659192691,
          -0.5558151347370487,
          1.0095079880912368,
          1.370972901136384,
          -0.06000931581808588,
          0.37778104252490663,
          1.1013207846966178,
          -0.8431132366481151,
          1.6884841589179889,
          -0.43747780166558375,
          -1.0658884501164505,
          -0.3564147879688864,
          0.2004910383062657,
          -0.9118456107545618,
          -0.4088107758303749,
          -0.7384651017850796,
          1.2222497878972725,
          2.008017324133708,
          -0.959653585440423,
          -0.6280701748949885,
          0.5876647500378167,
          0.855106894475439,
          0.39553159840836327,
          -0.12767368884746866,
          0.03091275499894645,
          -0.5813533751939653,
          0.8081209199284711,
          -0.13797390948095664,
          0.6161487899212547,
          -0.43527329990493147,
          -0.0235516731173697,
          0.548683591546131,
          -1.7661228786942462,
          1.0421691780241626,
          -0.47059294451500616,
          -0.3634139790357151,
          -0.1839736258414049,
          -1.1581392039984675,
          1.415944104457445,
          -0.5828459059298549,
          -0.06388426956736178,
          2.387637706726043,
          -0.34735296807149857,
          -1.3214870109880057,
          0.972681034375431,
          -0.40092783772686674,
          1.2455280952135053,
          1.1528802081253169,
          0.15245993607515793,
          0.7060614586427538,
          -0.6156505200800986,
          -1.6981373050863782,
          -0.08865251534198329,
          -0.3614450527098396,
          -0.014519368732890876,
          -1.3650616884413858,
          1.260954106327446,
          -0.3116514773167808,
          0.6038867423802831,
          1.1511488330976218,
          -0.27770675795824357,
          -1.2823817994731792,
          -0.5331498466805128,
          -0.9827938927042633,
          -0.24577064028355464,
          0.7822817123924722,
          -0.18677074977076671,
          -0.27511555688288525,
          1.592243923565186,
          0.4831260893570649,
          -0.1966263420656586,
          0.9403962537383965,
          -1.3325879888451635,
          1.3842664935961102,
          -0.010839337559502173,
          -2.5157161443711957,
          -0.2667094962561974,
          0.019990260586004404,
          0.14659890081023416,
          0.09848081001771519,
          0.6316473418667301,
          -1.2379062516258612,
          -1.0917476555084051,
          -0.5034471572851144,
          -2.0199564231774314,
          0.6739880949603081,
          1.5075822160473666,
          0.12046342404590882,
          1.0633879075820152,
          -1.051990168463319,
          0.48506877757441835,
          1.4269406086300682,
          1.2465517782740583,
          0.7450123446016931,
          1.6157978401890685,
          -1.1061743575033616,
          0.6762580277446262,
          1.0144314304274735,
          0.09003236492899457,
          0.20350056893203444,
          -0.27258383259929275,
          -0.9763762451194395,
          -0.26728623192016326,
          -1.426795853867029,
          -0.07778657353737639,
          -0.5888767708417045,
          -0.03631093282659983,
          0.8841068924403788,
          1.7262305591192024,
          0.791492324726682,
          -0.45697816000256747,
          0.8820966436476275,
          -0.878027493745245,
          0.7249749349194835,
          2.093099106806741,
          0.6058821367219818,
          0.9794075311696332,
          0.3300872210079477,
          -2.604025315986433,
          -0.44249400660531013,
          -1.2083713945402905,
          0.7916815167479575,
          1.073719957814244,
          -1.4146315570134171,
          -1.5006037326541548,
          -0.798042997466915,
          0.549358980934581,
          -0.7109585048416085,
          0.3867379227455773,
          -0.6372769961483714,
          1.622070944257768,
          -1.9281263114052865,
          0.08274040412826765,
          0.8689953192380446,
          2.190811783690639,
          0.41954772328234796,
          0.9205429040919597,
          0.8229310683777071,
          -0.24556636749141575,
          0.8277551979159474,
          -0.13378034153927068,
          -1.685438924577043,
          0.3175046260490513,
          -0.7377542007996079,
          0.8151940164512168,
          -0.8112307697704816,
          0.27370490521072377,
          0.018483028816743716,
          0.1752247309061456,
          -0.19387874789750684,
          0.6612254622005267,
          -1.8580741352885422,
          1.2921377195305006,
          0.29130608943331726,
          -0.518552176337297,
          -0.8699938552606656,
          0.6753619616910355,
          2.346649396040275,
          -1.5593865225100896,
          1.816498402646128,
          -0.4939585072421723,
          -1.7116048773878894,
          0.6589510966619769,
          -1.1238906675065616,
          0.03535550477787437,
          -1.193540942420184,
          -0.15345006210390946,
          -0.10136635959074576,
          0.7788058829301141,
          0.9893801889169844,
          -0.44578860436112816,
          -1.7039944337751576,
          -0.8715733608966668,
          -1.0063560085469843,
          1.2446401140002687,
          0.6769944683656275,
          -0.38507611389098856,
          -1.7965145074719784,
          -0.26599700073068916,
          0.13858716706936516,
          0.8162648276681018,
          -0.18160390771404222,
          1.1589570648972047,
          -0.31596189838602395,
          -0.45184622335037833,
          0.7425572914594134,
          -1.066606325151873,
          -2.12108243716865,
          0.44715377631431596,
          -1.025463829994019,
          0.3678490943186298,
          -0.39757717161714873,
          1.4298497060428206,
          0.4324140785005818,
          -0.28828672818028367,
          -2.094711200531898,
          -0.2904855570043622,
          -0.41933820198184235,
          -1.6502043483235174,
          1.0232233997689222,
          -1.3137052465075836,
          1.315884378805093,
          1.5108836371879588,
          -0.25365924494822617,
          -2.2615242396246624,
          -0.06036631356722181,
          1.2162302521666035,
          -0.9597093675748971,
          1.6660150808219665,
          1.063877707244186,
          0.3655291260943603,
          0.3265789207842134,
          0.7279609088507926,
          -1.5054566209705407,
          0.6170552622254075,
          -0.23595229624347838,
          -0.5086526581506992,
          -0.4621480989153001,
          0.0031621709632735796,
          0.9542023228834488,
          0.362368707508517,
          -0.8032839202373938,
          -1.7691466459560303,
          -0.8817315411274254,
          0.9570566941086934,
          -1.5225831736671644,
          -1.8588056723890933,
          -0.9285408442473895,
          -0.4214975417507177,
          -0.1545142097923716,
          -0.5336546855671649,
          -0.6156337032140542,
          2.117917575888316,
          0.2756297215546005,
          -0.4015732835022225,
          0.3221653979360527,
          -2.1373443491373387,
          -1.009465287107361,
          -0.927599634280918,
          0.3174397904505967,
          -0.8981243800486055,
          1.5003319090417877,
          0.32520397941421864,
          -1.6631370521051323,
          0.29822436207336905,
          -1.2685812924765327,
          0.1863646736275028,
          0.9085239519532884,
          1.1874007100152055,
          -0.44969478505108446,
          -0.4450566681883133,
          -0.059612606759669236,
          0.9776815741372537,
          0.2292139129119724,
          0.45191704739766597,
          -0.3513072656584225,
          -1.087913910663353,
          0.7912635346744865,
          -0.9843293245282267,
          -0.0805301153567796,
          1.3853362103931588,
          -0.43199309441314415,
          -0.6169070440875958,
          0.2761544344508064,
          -0.1287560240670437,
          -1.1785978386509885,
          -0.31629222522561595,
          -0.4428346643658109,
          -0.5435146205501797,
          0.6790788505823647,
          0.19220705157404344,
          0.768533870948386,
          -0.7845313389977284,
          2.4743776807445275,
          0.49840287600634814,
          0.5822408316743427,
          -2.2285385671451055,
          1.1521265358713555,
          -1.3693178846687095,
          -0.28301963989102175,
          1.3056225827498404,
          -1.112268538477044,
          -1.6716590672213778,
          0.47001114904181895,
          -1.1599026062742528,
          0.33114078015322757,
          0.3773497792730817,
          -2.0795219564276994,
          1.2749930784555434,
          1.4268723680990607,
          -0.8538655063960398,
          1.4191621325634438,
          -0.3306245457310539,
          -0.808206966442208,
          -0.5686497712445857,
          0.04843463996208191,
          1.4822283372637055,
          0.1798812531027563,
          1.2334677847767965,
          -0.8068911124480725,
          -0.3760709948440613,
          0.8974949639455835,
          0.9663837154856185,
          -0.2007728881085692,
          0.3063813293967068,
          -2.0811679080825303,
          -0.297697586730195,
          0.3997898597125595,
          0.34232075242432414,
          -0.662955478790764,
          1.2176390088528495,
          -0.16548800150134366,
          -0.33534994920664696,
          -1.426304162789948,
          0.6463338834991823,
          -0.7732232141805107,
          -1.872857318164224,
          -0.5732730460631995,
          -0.7571865975857666,
          -1.0509866588794061,
          1.3242478543311385,
          -0.14758028336056717,
          0.21588813458604492,
          -1.213904283183733,
          -0.5892425966854646,
          -2.0536542931134676,
          0.037581767725042715,
          -0.6883327497024918,
          0.21215305729372125,
          0.43042464197437247,
          0.049073418154925934,
          1.1501285693491436,
          0.4491496746307862,
          0.12251200813304505,
          1.1577497163399608,
          0.5116831203252622,
          -0.2120190910019712,
          -1.6761895887446596,
          -2.2659806792733037,
          -0.5510652562217112,
          -0.9067079431102192,
          -1.2986749018214825,
          -0.6670260254146078,
          0.20707400445202317,
          0.8505756520595734,
          0.18728092889996792,
          0.3853293874506954,
          -1.0312657208046359,
          0.6262821890714809,
          0.9573634348136074,
          -1.7788923621544719,
          0.47676081568362993,
          -1.0797771504340459,
          0.4463155275412789,
          -0.8322524487467021,
          -2.5342385253746085,
          -0.14887597403503078,
          0.837941727434752,
          0.0654432491328322,
          -0.4297044682179556,
          1.7749626713484568,
          0.3148326546042335,
          -0.589204219941388,
          0.9945100666229877,
          0.22811355920835857,
          -0.06257555762815009,
          -0.3799389663337271,
          0.03368642711355746,
          -0.1608543107726275,
          -0.7292175682135303,
          -0.8872566188322255,
          -0.4566510883046232,
          0.10860447410637658,
          0.013743131364848818,
          0.20334895539274825,
          1.5863929800897834,
          -0.33384094181004703,
          0.26046970473729963,
          0.33511591040818195,
          1.579761858890103,
          -0.6189650502110451,
          -2.0435652206315917,
          1.1469369435862373,
          0.46504479210640604,
          -0.2138867280631254,
          0.7958433030511589,
          0.8294330449439159,
          0.2058656587648824,
          1.794151979277821,
          -0.19927791134329734,
          -0.6550271969826108,
          -1.6402844220804484,
          -1.6229121507130038,
          -0.2830589580990382,
          0.10900537973078009,
          0.3002260819357395,
          1.033303829956834,
          -0.8210834800827248,
          -0.017731269283784292,
          -0.1697219457908768,
          2.2844327549417014,
          -1.1187603555331533,
          1.9289175067507767,
          -1.7620703479896027,
          1.1121775847681556,
          -1.2187721885068266,
          -0.20946164322961244,
          -0.3646205060077908,
          1.077446546905131,
          0.07627701910569314,
          -1.058645586465694,
          -0.21509394635873266,
          0.6347226070351086,
          -0.8006085190682442,
          -1.6020001722041772,
          0.0022062107086541806,
          -0.20502192960771987,
          -1.2006166276804602,
          0.6267613998141488,
          -0.8438667049577334,
          -0.9946392965719155,
          -1.3474962688736998,
          -0.23389075358312011,
          2.1021725903924975,
          -0.5047351561784869,
          0.6622877683310946,
          -1.492628466430138,
          -1.6899622379309813,
          0.015533013572528717,
          0.2738276142761374,
          -1.2768291086081265,
          1.3090481411720336,
          -0.0018180433624556142,
          -1.208197586820293,
          -0.010064417588745784,
          -0.628679729416286,
          0.36001067464715025,
          0.029207653570193757,
          -0.36452270264108744,
          -0.4290924953633513,
          -0.9653094451002654,
          0.3476815017052816,
          -0.36073046682104487,
          1.7609996537765256,
          2.1207119555550498,
          -1.6556957898616622,
          -1.2777640241934818,
          0.6651105559723101,
          -0.7386112133287076,
          1.322075352124306,
          1.1883351734534986,
          -1.531089748007523,
          0.8574200488601161,
          -2.0656833454892887,
          0.5625831523066136,
          -0.5311528576673985,
          -0.9863282207110067,
          -0.7474656550875683,
          0.24434718264571703,
          -1.0966676586202353,
          -1.5168799723199582,
          0.5132582025166372,
          1.8770351259554598,
          0.5174181473843743,
          -1.2089981908070346,
          0.39928385872101607,
          1.3596666341017178,
          0.15791019557801717,
          -0.019253645560771644,
          -1.0845421142472562,
          -0.4729784090967769,
          -3.0449846208740925,
          -1.939937716128434,
          1.5029956439733634,
          1.612712263439488,
          -0.15012498194969096,
          0.6115833739245495,
          -1.7796635536935026,
          0.39443971101961445,
          -1.012941475606585,
          0.8573607624031512,
          -0.5338176062978588,
          -0.5649890957147244,
          -1.0445470617057382,
          -0.21899653725439505,
          0.4696110220636277,
          0.9904006093922623,
          -1.1596789509933243,
          -2.4210093164558146,
          -0.976063048692361,
          0.3596093783645294,
          -1.493511990405029,
          0.9093812043440894,
          1.18105874718167,
          0.5970423814734253,
          -0.32281427991331474,
          -0.16593505148349552,
          -1.5668265940225745,
          -0.10202517565146624,
          1.1923425075705354,
          -1.1724019097398277,
          0.6306702403762094,
          0.8158728437293138,
          0.15741392024093448,
          -0.7851035275684728,
          -0.8218442418938927,
          1.5793787986172514,
          -0.8662921064945069,
          0.2690692359514737,
          -0.26135450241817665,
          -0.32970002363642004,
          2.7835663593175535,
          -0.46455680970808066,
          -0.6307204898390489,
          0.10888190855541369,
          -1.2206190926567733,
          0.2786284225967108,
          -1.7775687205244237,
          1.2925664007833157,
          -1.409131974004457,
          1.0510885906768157,
          0.5287526502275746,
          -0.38284782167588965,
          -0.45567580708981564,
          2.3169310109206958,
          -0.0605916343039926,
          -0.7888157529612244,
          -0.4339440862904993,
          -0.6889598152703684,
          0.8201997439672329,
          0.44838503375066546,
          -0.7548723776638587,
          0.01189523844205022,
          1.3389851239736945,
          -0.5838898267851694,
          0.2234287030439964,
          1.396349966578292,
          0.41009068657009706,
          0.5438951251523658,
          0.12240211496786868,
          -0.7491616747256092,
          -1.722158688986751,
          0.9141471185822702,
          0.002089792338389069,
          0.26205552776530644,
          1.37395152062324,
          0.2309553347100816,
          -0.6544916691378261,
          0.5155353308573554,
          1.4511784838867723,
          -1.0671543887791926,
          -0.39596300331803946,
          1.8236700619523685,
          0.8416991361201326,
          -0.16928819026763672,
          -0.3055515322334943,
          -0.0463643261439116,
          0.2386523847554548,
          0.18699356065459646,
          0.12969109668465298,
          0.26845914992497444,
          0.7902710311066357,
          -0.9756197444778375,
          -0.6774311675638859,
          -0.38545918788650374,
          -0.7576037033881098,
          1.4164386957255408,
          -0.8616818689078597,
          2.357831232445402,
          -0.45758568810174566,
          0.018558038060311376,
          0.9017129040662796,
          -0.7163559175701145,
          -1.8002325570323676,
          -1.7765431564098983,
          -0.7727295971828946,
          0.10057964348782338,
          -2.015888339856568,
          -1.1264250413380832,
          -1.9952370984894063,
          0.06340472968254755,
          -0.2297806220673693,
          -0.36450683308535764,
          0.9596958993576944,
          0.39172105924985573,
          -1.1414993410174128,
          0.6073416932818979,
          0.061435621329303726,
          0.6479124596408488,
          1.5454331921452582,
          -0.2092649877172178,
          -0.703883548679221,
          1.1684127969447122,
          0.4672823136998249,
          -0.6224843587648937,
          -0.7106885870887282,
          -0.15053007207755237,
          -1.3658177736691925,
          -0.26387140690873573,
          0.4719870375324132,
          0.3299904514972537,
          0.6019307115257714,
          -0.9651909262709575,
          -0.6807076942599286,
          0.30819996142634093,
          1.1115373347318265,
          1.6148221566972343,
          0.7465461984846417,
          0.22334854489660136,
          -1.2415960792665452,
          0.5088602007306127,
          1.3668178531771367,
          -1.5418265863321228,
          0.4725236068749823,
          -1.63934397877917,
          -0.3937066616909387,
          -1.5027533265312047,
          0.692925777774076,
          -0.7276699131720445,
          0.6422106414325772,
          -0.29545502731919465,
          -0.7104412067955319,
          -0.8219040162689645,
          1.213625229836065,
          -1.4769694234958053,
          0.3713528579213989,
          1.9865266451376828,
          -0.42385946660861723,
          -1.44585950629257,
          -0.8054257906792964,
          0.15195072127821974,
          -0.37251334100477856,
          -1.0055118179404208,
          -0.39491707113779406,
          -0.16524053234423197,
          -1.3715163451069627,
          0.343279005640374,
          0.036129622509310635,
          -0.20140353398768374,
          0.6983074200067156,
          -1.359812881084631,
          0.5637668492052024,
          -1.2651921204234633,
          1.4050469255489504,
          1.1916170819495016,
          1.1494395295651982,
          0.008580784375362562,
          -1.217788101012567,
          1.3990673683334223,
          -0.10661739076131271,
          1.2602083159328088,
          1.3969263064842485,
          -1.401445168469318,
          -0.5484997973623104,
          0.04018809151599316,
          -0.30162526290368663,
          0.34675947920429323,
          0.9530162529419469,
          -0.12733439806267557,
          2.789721909697153,
          -0.7633431543557675,
          0.17804418453312187,
          -0.1549953919795142,
          -1.6626191932013308,
          0.8983420260495069,
          0.049605014430463994,
          -1.2628108587192775,
          0.8638436214755006,
          0.6958515015254538,
          -0.8694673508912572,
          0.4232034866428451,
          0.7258285562912716,
          -0.7740930053260049,
          -1.1151280869248732,
          -0.7180970945575943,
          -0.5248929122727053,
          1.0600005523901976,
          -3.1054197950123568,
          -1.4822136772444818,
          0.9550666164791596,
          1.0841987927387988,
          -0.3600311008737897,
          0.24164139046542574,
          -0.4427960103730427,
          -0.03057702641683688,
          -1.2114406945992673,
          1.063566495734,
          -0.42021246825673536,
          0.5913774070472027,
          1.341494849052581,
          -1.9058158512099004,
          -0.7272627333535782,
          0.726183203313959,
          0.13630521659921796,
          0.6417719153421109,
          -1.1290584232046745,
          0.30551840476389514,
          0.6076030048180757,
          -0.19622770863787167,
          0.5770343170493943,
          -0.6349905740824598,
          -0.9662767089133107,
          0.2922456291257556,
          -0.996657223613478,
          -0.014773748491166028,
          2.1801958292513715,
          0.06693367229250075,
          0.5229596210532056,
          1.336270455667381,
          1.5897567712186653,
          0.23816378008545788,
          -0.512240543777445,
          0.37189713073757474,
          1.3389970532955544,
          0.03583132360212251,
          -0.5316381779583577,
          -0.6442410717771176,
          -2.394961668451358,
          -0.5875132017342289,
          -0.8031452988755245,
          0.909430881416175,
          -0.2825466529272656,
          0.6421316187462714,
          2.12724695849451,
          -1.1079296569471464,
          0.963813019103335,
          1.0195038286426903,
          0.12928449889918137,
          -1.1242084618785624,
          1.06028398466594,
          -0.3196919806027757,
          0.6676022976683577,
          -1.4463102612038266,
          -0.5653713567119176,
          -0.6469344590001611,
          0.19925079905145404
         ],
         "y": [
          -0.12055563466977685,
          -0.10331168925894549,
          0.14135117371596911,
          0.6933375628856325,
          2.8627933845110145,
          -1.4862878219311029,
          -0.1219906671397968,
          -0.3070936249590417,
          -0.6771955873440791,
          0.561831190546074,
          0.42802924486676835,
          -0.4448792113911854,
          0.8167680930238281,
          0.357949286382996,
          0.563311244989104,
          -1.3425349235423236,
          0.06309723263142586,
          -0.3516432073964671,
          -1.3321282651344506,
          -1.2785950593670108,
          2.0756763590515774,
          1.1125491372137875,
          -1.26024756643166,
          -0.7039638008833864,
          -1.612780161303565,
          1.0067312037340588,
          -1.169032810773705,
          -0.6190800398392328,
          -0.21762284274313626,
          0.3237916223117394,
          -0.8648352580362888,
          -1.3530027959590023,
          -0.20247432805068452,
          0.23404956381302508,
          -0.9845597442384373,
          0.41176271168919826,
          0.5314461413921713,
          0.3426108961080798,
          0.8931839287263776,
          0.4732153776531326,
          -1.193997763399677,
          2.355560245295832,
          0.0016185504339723622,
          -1.7297564106441148,
          0.5122685301692961,
          0.12287214426170473,
          -0.3569439618635621,
          0.4489274537699334,
          -0.217430797765316,
          0.9436979062259925,
          0.48403882195954767,
          -2.248507646136845,
          -0.5593049487286189,
          -1.2714987805287319,
          -0.06601299714943698,
          -0.7294591634811566,
          -0.5942930590631691,
          -1.2607346017511987,
          -0.10734165632190192,
          0.5838493367312312,
          -0.09900943323621945,
          -0.7848085950010253,
          -1.9041828865936612,
          -0.6259535772369571,
          0.6029877586545329,
          0.8149325527614003,
          -1.0652873173503794,
          -0.06457069997843305,
          -0.7509509889165664,
          -0.8834623575057708,
          -0.9147468209199939,
          -0.2652462195693302,
          -0.25999222312568276,
          -0.41809766702563056,
          -0.21273785706828366,
          0.0802620659442447,
          -0.05591740139961193,
          1.4378641352221597,
          -0.7350172634442461,
          2.0577739120918626,
          -0.40968206264734175,
          2.3213534653026104,
          -0.5859367705847283,
          -0.8646112307216947,
          0.363598739250463,
          -2.332764656566152,
          1.3594345157875913,
          0.5326672442583578,
          0.2510903521873179,
          -0.7074718787768784,
          2.4682463380850264,
          -1.2230123593487774,
          -1.6042499167804793,
          0.43903351313265243,
          -1.3024406163555757,
          0.1265959728664517,
          1.6081078770939405,
          -1.3615154510167928,
          -0.603241309100704,
          -0.05844253561126395,
          1.9213589728404674,
          0.8249356884096162,
          -1.5106703082204291,
          -1.5751979802271763,
          0.40012715655880454,
          -0.9028833365335811,
          0.0553500794230523,
          0.1651981700416173,
          -0.24047822612279063,
          1.4590351390220055,
          1.9237263277611614,
          -0.2667390116941484,
          0.8557186895648018,
          0.5932689466187229,
          0.31900479565689205,
          -0.788838035520178,
          -0.2738010626010714,
          -0.8726283714639848,
          0.027894206928741876,
          -0.8161754690455103,
          1.8691932003554776,
          0.33048920760641465,
          0.19283047240470613,
          0.1790969276958436,
          -1.6688252745181877,
          -0.38768942899554404,
          -0.40970837488870626,
          1.464764187715809,
          -0.9539179266202832,
          0.5458202072230505,
          1.6769658793745235,
          0.89255783607648,
          0.8149345141061564,
          0.30439434158965084,
          -0.23727963529475157,
          0.2750385693077601,
          1.3620616061594228,
          -1.9284919928267754,
          -1.3673031679109602,
          1.2034923401774897,
          -0.045805278107988616,
          -0.803301427985971,
          -1.6746158904284776,
          2.661713974056005,
          0.8594458803480659,
          0.8970234247612736,
          1.3139793518391156,
          0.7438455269256962,
          1.1303949721829967,
          0.5826728373631576,
          1.189265188135659,
          -0.0606019890959432,
          -0.24873937403147578,
          -0.283649313062882,
          1.072778050545576,
          0.4958488043971672,
          -0.06559649132161703,
          -1.7225086337316269,
          1.0970775715895147,
          1.4819850651485584,
          1.482500796026297,
          -1.9199214813445438,
          0.08755291140468276,
          0.20127832420811423,
          -2.107412350257738,
          -1.843366495671235,
          -0.7187884908367986,
          1.5718290203402765,
          0.8258695469058379,
          -0.9565209333637862,
          1.488219774621774,
          -1.5107166338960891,
          -0.4406565913164856,
          -3.037679805986301,
          0.46416237750440037,
          -0.2638627642806437,
          1.158664941380112,
          0.863297764369716,
          -0.4714048277153223,
          -0.33171306806359385,
          1.4187282224257125,
          0.33391417534881623,
          -0.9015455884578686,
          1.1901097975676238,
          0.058223666656065376,
          -0.6319559512168276,
          -0.46257951510864065,
          -2.0164896529312313,
          -0.3271852278208264,
          0.6911918835973483,
          0.10210088739689116,
          -0.9358168829141297,
          -1.4018394890039136,
          -0.9132665485388812,
          0.6942036182534999,
          1.4298825590081299,
          -0.5843806891903576,
          -0.16570255823133698,
          -0.4678929377897436,
          1.86102596450394,
          0.907134598924375,
          0.7985676129164835,
          -0.09087557896025947,
          1.7432875969269588,
          0.41107654766943114,
          0.818429828066321,
          -0.5075818663848058,
          -1.1985340620469778,
          -0.5494135006590145,
          -0.5234424577372159,
          -0.4935188984802437,
          0.6106429821443132,
          -0.38643372277981036,
          -2.0969472962993665,
          -1.411093249220934,
          -1.5505199690640086,
          0.44931223385062674,
          0.14440726323666989,
          -0.4274739917046587,
          0.30300815839109824,
          -0.6033058875065871,
          0.199616086775656,
          0.6882090758998739,
          0.355648539258363,
          1.6173415246839644,
          0.14743548008161575,
          -1.3558698284401276,
          -0.15100199798295683,
          0.8522258630306171,
          -0.10439788331051987,
          -0.40182329234657466,
          -1.1087260281179254,
          -1.0177478452227782,
          -1.8909978966052994,
          -0.2636752820508692,
          0.0812410383420903,
          -0.4267093311780073,
          -1.3986061929899207,
          -0.589622244873821,
          0.35825255346277146,
          1.4945687363205302,
          0.23447960251521205,
          -1.0301432454422037,
          -1.2816484408791038,
          1.7752003494035704,
          -1.390961250197619,
          1.9427441823278884,
          0.8006110530902544,
          -0.3638986243276143,
          0.5974124293946301,
          -0.14089389487213416,
          0.4969891836121818,
          -1.5900197043931084,
          -0.5266680328936408,
          0.6427118281771306,
          -0.9004018676925419,
          0.2552162282600462,
          0.5718868558972748,
          0.5139570995213849,
          0.8734586712945152,
          -0.19070919276370504,
          -0.9174735640582405,
          0.4438189586515096,
          1.5876518745257282,
          -0.7726273412064145,
          -0.21137937930363343,
          -0.10138870972246505,
          -1.0858213725113552,
          -0.7702028187736517,
          -0.2549665017249677,
          0.8277412992741118,
          2.1994318672666724,
          -0.4598647752307542,
          -0.6756271020516764,
          0.8303689203923873,
          1.4980319204199894,
          0.31228765522490964,
          0.45455245908221387,
          1.2957164214714478,
          0.5068430792251857,
          -1.1698236210633348,
          -1.2484000999875853,
          0.41358935253193807,
          -0.7277760850442503,
          -1.453152870697438,
          0.7893544954748009,
          0.49802085546064895,
          -0.5414984683517651,
          0.39157776590071136,
          0.06837882554390495,
          -0.5077098844815434,
          0.1841453508322061,
          0.35895281211481705,
          0.811399796705827,
          0.22648379793929202,
          -0.16863935526216312,
          0.533177206889052,
          -0.0023208483470045387,
          0.1681892385098186,
          -0.1727032666521461,
          -0.5455023160836182,
          1.9124675144284935,
          -0.08543765295719502,
          2.92032804607497,
          -0.5349868472299265,
          -0.6895743211771677,
          0.9336579276118642,
          0.6037469127951645,
          0.33474164580227744,
          1.6368282452363456,
          -0.48574226341843124,
          1.1809436612843438,
          0.3174733217280211,
          0.08377389890659953,
          -0.9540539746989286,
          0.30655931746618764,
          0.31890070236158624,
          0.8983999148522013,
          -0.0642783953775934,
          -0.1742441605928476,
          -0.531555110471733,
          0.20787592428081014,
          -0.8152473617047866,
          -1.0341123436149364,
          0.34317054854373436,
          1.4111622057237563,
          0.09602528612542624,
          1.1082631252188553,
          -0.3495620294530495,
          0.19788220324740352,
          -0.5271386190890488,
          0.656487229275569,
          0.11777561623529155,
          0.325598158694913,
          -0.07707905505517162,
          -1.5284575371023599,
          0.9586415923559212,
          -1.3651599964690015,
          -0.7330759517541865,
          1.895357641141102,
          -0.09327941234507961,
          1.0745227605980445,
          1.097747090709167,
          0.8436248427292701,
          0.20419933728465797,
          0.5974682824847044,
          0.20687082494826609,
          0.19590937337686265,
          1.1395476961419055,
          -1.9607784383290316,
          -0.04899038118549274,
          0.30878665237110403,
          0.18322998011681002,
          1.438961232143648,
          -0.9139861845841588,
          -1.5791225987455524,
          0.29852384828674805,
          -0.23809515258109556,
          -1.0589841833950973,
          0.4067344280521964,
          -0.08395768789323323,
          0.3038322238137741,
          -1.2948966347321342,
          0.2176841332264442,
          0.7445423565562576,
          -0.14416810027101856,
          -0.7746609876097953,
          1.2040573028463635,
          0.8034712641342414,
          -0.1921796024695616,
          -0.13781608344510263,
          0.3836453455259363,
          -1.6151388622335876,
          -0.5803191454813852,
          1.6013950694255767,
          0.230030087420762,
          0.99184290038609,
          0.038140076100907555,
          0.6887732056146413,
          0.6797736541344229,
          -1.3063628471350224,
          0.6677124212911142,
          2.27468172793916,
          0.9082499312803273,
          -0.6837628881714507,
          -1.1334445900698462,
          0.2541058314648574,
          1.0366069727925413,
          0.48758409899483335,
          0.15956975686154165,
          0.1490865834051645,
          2.0111945838916,
          -0.9114179101049702,
          0.6517379320951088,
          -1.2682990943956662,
          0.6791482373138374,
          -0.8839603379564297,
          0.7872166591920507,
          -1.7340402025237887,
          0.15136611509518622,
          -0.7319286758307959,
          0.2754026361243725,
          -0.03913040515627849,
          -0.4278465664243888,
          2.2112718760746595,
          2.424850387237713,
          -0.6698772438650057,
          -0.2411632780356636,
          -0.03740299404421511,
          0.5164949044555118,
          -1.973032978927919,
          2.1700643891400464,
          0.19804249478148656,
          -0.132949941950877,
          -0.4334144844529394,
          1.1465157278179572,
          -1.7497350360324728,
          -0.528725323732527,
          -0.4149005731265457,
          0.8307812958904964,
          -0.4005316998977989,
          -1.3156721856391103,
          0.8157428680525518,
          -1.539962828077268,
          0.6772776329421161,
          -0.7184744635031165,
          0.0505585648820067,
          1.0711993783162628,
          0.3217567615482536,
          0.9998957707559201,
          -0.1528202232097683,
          0.3901067563256807,
          0.6339625134321725,
          -0.5473959649573471,
          1.5624298383131974,
          0.7565090170813359,
          1.0229581376078332,
          0.7346940737782822,
          0.5186138979782774,
          -0.6218681999333088,
          0.7185339160225978,
          1.1454019407343652,
          -0.3003027618552581,
          -0.07903974277697468,
          -0.003603746099911283,
          1.1836812290763032,
          -0.24595821228908096,
          -2.1909991877135884,
          0.5515466079969776,
          0.5010624710173176,
          0.6401770352308628,
          0.10308292469687505,
          1.2656567726158316,
          0.38800879817004597,
          0.4268534769403336,
          1.5330810280980258,
          -0.5965346768046728,
          -0.6864093143410871,
          0.12595069943398984,
          1.6461978881930437,
          0.3219274769444912,
          0.6771352247536492,
          1.7143142615579645,
          -1.7386380326332036,
          1.955202541148162,
          -1.2499049247074612,
          -2.599873059660168,
          -0.33957367295581115,
          1.971703942209544,
          0.21971139267702927,
          -0.9805903163643899,
          -0.053110854523976944,
          -0.7881738309242611,
          -0.03498424685655823,
          0.02598477090089671,
          0.03677411851525709,
          -0.7168378966246407,
          0.15686662115852795,
          -1.6979680017059622,
          -0.4321740673414076,
          0.9110674142970914,
          -0.3490077636535395,
          0.43121031510400964,
          -2.0503754363825926,
          0.18345923225899732,
          0.14567620627989664,
          0.17876677640345384,
          -0.37141743170102753,
          -0.4569991841346662,
          1.430717555941987,
          1.0615965406358978,
          1.0714902144080798,
          0.9380931709672338,
          -0.5858024424189416,
          0.5851197547526891,
          1.4423341460418806,
          -1.2867078861189158,
          -0.14939515103616413,
          -0.18529519424488242,
          0.17112873518266425,
          0.7538640126993181,
          0.4137550872837049,
          0.3061607100930042,
          -0.4835585342675701,
          -0.6688611581137719,
          -0.5797393632133337,
          -1.12153439919063,
          0.6792947847908549,
          -1.0663452062932461,
          -0.3152518324125398,
          -0.5772140079731612,
          -1.1099502867740048,
          -0.7078341677843418,
          -1.4154739972893313,
          -0.82614911831694,
          0.815153157204152,
          -2.365519782147935,
          -0.19561424242986242,
          -0.3208277821665658,
          0.8541438231297983,
          -0.4020394620278635,
          -1.361928263304326,
          0.6055149169016744,
          0.19949171019499315,
          -1.0434735632190228,
          0.7346810418190083,
          1.237590633559928,
          -0.8949674960058147,
          -1.0058150690930212,
          0.7412641775676865,
          -0.8981582373981856,
          0.4418264242174171,
          -0.5524662944243085,
          -0.7149709770858599,
          0.6854414235011304,
          -0.9055923005841521,
          1.0551513399522918,
          -0.8396656054134068,
          -0.06421108047002418,
          -1.1330810485432676,
          1.3978362485315197,
          -1.477085618624271,
          0.036706001045487706,
          -1.3523965838306553,
          -0.7079638484457205,
          -0.17179129040219898,
          2.518803969199629,
          -1.504130523019702,
          1.1554062259195192,
          -0.1567366843645372,
          -0.3366492986715279,
          0.16108989265613108,
          0.4097577800868571,
          -0.8118148384548832,
          0.326336456987081,
          -2.2156885761571314,
          1.70872313428998,
          -0.21831058040944776,
          0.45369886484889704,
          0.4965683676776644,
          -0.08925892976156026,
          -1.0797498894614144,
          -0.9239446917331509,
          1.6819360709401157,
          0.8589522296206533,
          -0.5417097592193366,
          -0.783118268719786,
          -1.079666232319398,
          -0.06767657372435967,
          1.1295750799083475,
          0.8548492828507762,
          -0.5674695251825325,
          0.19035736455941024,
          0.16972073132531254,
          -0.6268566044643492,
          0.6977211855317152,
          -0.07242297219147616,
          1.375204667105674,
          0.25647293484398237,
          1.2272865501045245,
          2.4356321880305702,
          0.5685035871750366,
          1.619646960989775,
          -0.16536657530558532,
          -0.9342068325393748,
          -0.632058456425837,
          0.7211159626909686,
          0.8460990802014949,
          0.40579207836397413,
          2.0347311521856524,
          -0.13742358104366073,
          -0.053228493094646445,
          0.6606987721705279,
          -1.9414716296082175,
          0.008415270852922733,
          -2.600648101802977,
          -1.2419818412927255,
          0.836620899817847,
          -0.7981336178920208,
          -1.0710268048763052,
          0.28083704439841733,
          -0.23623610702965553,
          -0.3372922756773136,
          1.797886425445699,
          3.01074246622566,
          2.4055619133662383,
          0.15157471988829838,
          -0.6180686106110641,
          -0.4324172774939132,
          -0.3075586208159579,
          0.14784097828197618,
          0.30814724543010324,
          0.042380381254103705,
          -1.0321425237321913,
          1.0020891162356524,
          -0.06789857492833105,
          0.3817514573480674,
          -0.6998989160975231,
          0.4633592929084921,
          2.192762564890458,
          -1.026608091984696,
          -1.2854167495326019,
          -0.058111049265150115,
          -0.10940985728825346,
          -1.5353828140638734,
          -0.8867647679329542,
          0.3599023571817792,
          -0.03322053944743064,
          0.9053484942534231,
          -0.36535611451913935,
          0.5692951096277631,
          -0.9543305030252413,
          -0.22928216745256966,
          1.2198047250481379,
          0.7706167050400021,
          1.1776736050251788,
          2.013501287937665,
          -0.05476437260171731,
          -0.6487454999394123,
          -0.7333035843467317,
          0.5074957556645259,
          0.4539580519848389,
          -0.07108233707657409,
          0.07523114566807652,
          -0.7870286333254708,
          1.8627651049079672,
          -1.2432451899984314,
          -1.4328684026214475,
          -0.2044921694916366,
          0.15843929648564514,
          -0.21089857992829253,
          -0.9101041128546202,
          -0.8824831758459583,
          0.006706049424777161,
          0.6567836458244024,
          0.2072145438338124,
          0.8984397168474508,
          -0.7750662454586047,
          -0.340907569673333,
          -0.7359445701274674,
          -0.7131882197082505,
          0.12406938761566293,
          0.09901445203716476,
          -0.2130460799365205,
          -0.08431061038076451,
          0.8959939758695441,
          -1.233948388500097,
          0.9005913384459443,
          -0.7803813161378783,
          1.2954402363395954,
          0.21448516580913438,
          -0.5723871876121172,
          -0.1850933087342984,
          -0.47447578733216855,
          2.9111102325056133,
          0.872023834437339,
          -0.14939699405905263,
          1.558313843411965,
          0.6615008112154164,
          -0.14462242027231173,
          1.6734812146668803,
          1.727342616845477,
          -0.9690428712741654,
          0.9116721414652365,
          1.394620091110899,
          3.203928384251855,
          1.5543384014740274,
          -0.7649081602818828,
          0.22376773395936042,
          -0.3395107138484715,
          0.6513203157386624,
          0.06913587000222701,
          1.1474073255203432,
          0.5152795639975973,
          0.8431358481071995,
          -1.4364959366101584,
          -1.2695225733110047,
          0.8310260091992857,
          -0.28306757881656225,
          0.16935760833300392,
          -0.12847995005418014,
          -0.11711177304006629,
          0.5943713051606081,
          0.7605227202951671,
          0.33150273153873366,
          -1.5685541188414447,
          -0.15253320431918896,
          -0.12324910218829349,
          -0.8627869244769198,
          0.6593601254415763,
          1.2739590502523435,
          0.5558379068260542,
          1.8165845096935946,
          -0.18380087819528215,
          -1.3896387160345003,
          0.22789823934542755,
          -0.651226016777032,
          1.788165963817363,
          0.7780900604488518,
          0.9522529253601054,
          -0.4101487798317179,
          -0.35778689936643904,
          0.16532345484865674,
          0.8519241019669832,
          2.4574766552958542,
          -0.04902213803623024,
          -0.6459664259939016,
          -0.18544241891167954,
          0.5066646058356278,
          0.3633828486964324,
          -1.0213954410111052,
          0.009817929184340105,
          -0.04019293162267248,
          -0.9646830791823647,
          -1.2491611875801447,
          2.588353685586397,
          2.2562581740709176,
          -0.15738862920797694,
          -1.7499164078936078,
          0.8228619827554223,
          -0.4776395487985347,
          0.9560759067501369,
          0.3385524026070977,
          0.18115137347823154,
          -0.49165449989446824,
          -0.26673054823235504,
          0.383431349511002,
          0.541533579470201,
          -0.9553810937287138,
          -0.15503977082907688,
          -1.8379984909996807,
          0.11430129378742167,
          2.2580975361721896,
          -0.1639411754791158,
          0.32116093744031554,
          -0.14336031216833378,
          -0.8996618629064861,
          -1.4230210641031293,
          -0.5736885770469926,
          0.5994957740739963,
          -0.46739600066309084,
          2.107000301126436,
          -0.9242843657259303,
          -0.2357863509478285,
          0.8860015627861558,
          -0.5273214065674878,
          -1.3509466814885642,
          0.04781361612673776,
          0.47645204732306684,
          0.48753872274464344,
          -1.817121468947746,
          0.7136180141378694,
          0.4773910207093224,
          -0.9619056245010265,
          0.17019085760342428,
          -0.8995404296679638,
          0.18260688878430564,
          -0.17980654707790883,
          0.8561079376499193,
          2.5337199099105727,
          0.29118260277688446,
          1.785022315665103,
          -0.8290269344472457,
          0.4736797690647215,
          0.02391118589635818,
          1.1543437584600624,
          1.3664270685783764,
          0.8113180713567548,
          -1.1913927920537681,
          -0.08550564046815463,
          0.9510075961322764,
          1.0089943145586617,
          -0.9763671702246682,
          -0.4123690679251615,
          0.543352790401679,
          1.0369008998616271,
          -0.2353296432681184,
          -0.23755486890673352,
          -0.13858631446420314,
          0.6876081554701946,
          -0.27870104032183457,
          0.4455194690369478,
          -0.9962892611220522,
          -0.0691276487488282,
          0.5655454328998335,
          0.13076732049978945,
          -0.8082070502271617,
          -1.2403441882532622,
          -0.5836368430666119,
          0.9751635792994857,
          0.6049871913449143,
          0.5332788702310048,
          -0.5513383160438469,
          -0.5693675572520767,
          0.601966774994249,
          -0.6281838648611513,
          -1.090042677902676,
          0.29467439018469005,
          -0.27061751189800437,
          0.4875016300261232,
          0.5753807019808178,
          -0.23725575474268248,
          -0.18412965296401343,
          -0.7654836075515754,
          0.058165997119048775,
          -0.02280158624929689,
          -0.34539626983732347,
          0.11889409904542281,
          0.7238270864003258,
          0.6607910022087351,
          0.058654110292075456,
          -1.1955381508818488,
          -1.0049387187762109,
          -0.5153400675831894,
          -0.966200235842998,
          0.7534417353808939,
          1.640303011969463,
          0.6774541516967356,
          0.5242385564088351,
          -0.8074483870134327,
          -1.8340406759271568,
          0.4250327190273302,
          1.9098063594103907,
          3.5248503917046747,
          0.07906703067096678,
          0.2607768264330667,
          0.2513851413320421,
          -0.25526036472005476,
          -0.8596786579426812,
          0.7852751451434514,
          -0.5272274368330654,
          -1.0149779494955786,
          -0.17423504020665803,
          -1.5685063100574423,
          1.0790184182853013,
          1.2425888837577477,
          -0.42233188846255204,
          -0.23077745644602146,
          0.45045168859103857,
          1.352832893939118,
          0.3823836759068804,
          -0.2890790798356658,
          -0.4118792323341833,
          -0.8608714474611966,
          -2.342146782601241,
          0.07436726985272046,
          0.9927707789792578,
          0.6349911498863329,
          -0.3588170905376044,
          0.31288529557910005,
          -1.6730983974784994,
          -1.7923744037182283,
          -0.11284844555029684,
          -1.0352371442198576,
          -0.15311362691282315,
          -0.28120028568533645,
          -1.2816031080459,
          -0.7311959570212605,
          1.5317261560368336,
          -0.4281246055723616,
          -0.8703075594669561,
          -0.23345761396200662,
          0.18720420089101233,
          -1.1128971639221394,
          1.59855769327526,
          0.22471670132403906,
          1.5840396163679429,
          -0.10238224575018982,
          1.3374193694544716,
          -0.26896091542714806,
          -1.158533554041331,
          1.3768859650960634,
          0.06569897274901851,
          0.03370389233824753,
          1.4641440075633447,
          0.20680690696985682,
          0.8251867017796064,
          -0.16160490779923045,
          -0.31472144423046805,
          1.0125784428569746,
          -1.2730482797057538,
          0.5789885510128944,
          0.09362459947163868,
          -0.6880969306186886,
          1.5385898535131863,
          0.62696233775186,
          1.318642093278947,
          -1.4006837360123332,
          -0.28816572324791756,
          -0.7194573542557986,
          0.280946279473337,
          -0.904944953151156,
          -1.0411020172569763,
          0.6185704177965058,
          -2.0692106078616086,
          -0.3867895312940418,
          -0.5719055517144628,
          -0.3998665277510633,
          0.5292882901460434,
          0.18461598853222283,
          -0.42352113776959566,
          -1.275711049289475,
          -1.4479024354719834,
          -0.9188501077704537,
          -0.3186571198033013,
          -0.33380842326746507,
          0.050723876163275686,
          1.2784431903677331,
          -0.31262298543867445,
          1.4380584620839882,
          1.0662954027494582,
          -0.16978568728636248,
          -0.2527436073905331,
          0.28231103102782257,
          0.6235537453454998,
          -0.5378836145864063,
          1.1853443897720046,
          -0.24756368521417899,
          1.8204687895777254,
          0.6982073207883054,
          -2.586708173195811,
          1.7947665295187807,
          1.0404427562981582,
          -1.8756606548288373,
          -1.960305361442947,
          -0.6895492309182522,
          0.13175968031143923,
          -0.9014140795055096,
          -0.8422924533812849,
          0.9494803250525936,
          -1.366306754944159,
          -0.47908057245226815,
          0.02264732312145299,
          1.045096071571537,
          -0.09071452530305596,
          0.8701720088282995,
          0.15363515920680207,
          1.2288985218062174,
          -0.6791498712830953,
          2.113943768946971,
          0.8430551441754942,
          -0.1971739505506646,
          -0.8838082463246254,
          -1.2824876463062453,
          -0.384558175780416,
          0.48464995586450926,
          -0.2706539578288018,
          1.5110559496412506,
          1.3661609539670412,
          -1.0929107532881057,
          -0.5494116191627745,
          -1.1332838371045106,
          -1.7089555236052518,
          -2.153393965343042,
          -0.3514227334749926,
          2.033134732863617,
          -0.8979183163725422,
          -1.3165107220801116,
          -0.36199283574215735,
          0.9961304748402563,
          1.7422980954038738,
          1.9512778565884037,
          1.3263901535924527,
          0.34651949461564585,
          -0.8113507924534245,
          -1.035583180352434,
          -0.2173610859618711,
          -0.4298167291917897,
          0.5962255803337613,
          -0.4255602603664015,
          -1.810798727016133,
          -0.23566201050154711,
          0.638318327976956,
          -0.5234871211516345,
          -0.20721487729908203,
          -0.02409692089407164,
          0.03605858576322135,
          -0.2020614348051859,
          -0.16055634223312737,
          -0.4778116779212115
         ]
        },
        {
         "marker": {
          "color": "red",
          "size": 5
         },
         "mode": "markers",
         "opacity": 0.8,
         "type": "scatter",
         "x": [
          0.7822650028706619,
          -1.3262876055762856,
          0.509910215867029,
          -1.5219521998424357,
          -0.8052780975043395,
          1.4010168797290992,
          1.4134459035747455,
          0.038381741638087115,
          1.0606894279171082,
          -1.6380934626533308,
          -0.6265837188119202,
          0.9761206219481322,
          -1.8600631838298485,
          -0.5787096077802619,
          -0.6792382656245741,
          0.6235204443136618,
          -2.0297048527916632,
          0.33006679756009105,
          1.4451111557663197,
          0.6892686504602245,
          -1.8876038246431734,
          -1.7130466171008494,
          0.6635440927084899,
          0.2216408606124246,
          0.36101020127758027,
          -1.1555830289080604,
          0.11058587183801058,
          -0.5753368261984351,
          1.0997136960946734,
          -0.4298856179125874,
          1.2735722647261334,
          0.10536271404907478,
          -0.8268159780952596,
          0.29901321533780345,
          1.126076127495532,
          0.483332340210303,
          -1.964078049209661,
          -1.0860763725093296,
          -1.75307807320004,
          -0.797497719654029,
          0.40332965435951945,
          -0.818976262492222,
          -1.5806160308294546,
          -0.5364456500060509,
          -0.3901438602639172,
          -0.48091317438326336,
          0.6646636327098261,
          -1.0431834605604762,
          -0.9855141938770352,
          -0.6753306072617639,
          1.3915704045457347,
          1.6303067822764368,
          1.0809183503894328,
          1.2638612980988495,
          0.10515880651222147,
          0.25386769633124723,
          -0.14861724770559923,
          1.6261523558561006,
          -0.25205813463935683,
          1.1873281026965044,
          -0.25637249179744104,
          0.20511105754096945,
          -0.06716761572826388,
          1.9854359187497614,
          -0.5974831839465037,
          0.22963946016229395,
          1.230123854812675,
          0.7635397710475873,
          1.2145048975273258,
          0.9610007633760892,
          0.7000129332235357,
          0.3877774759954961,
          -1.2270448443073179,
          0.04877118899295382,
          1.5425603182022272,
          1.5398309122488365,
          0.6278944195504543,
          -0.6322642722251424,
          0.7809867029789762,
          -1.5725520590618387,
          0.2485295118388386,
          -1.5741948793733982,
          -0.76493838343497,
          -0.014647365200283516,
          -1.3937885811282273,
          1.4754377036178516,
          -0.9307299768046691,
          0.8561009511461246,
          -0.3733566080180642,
          -0.20932720018952036,
          0.4316779689701213,
          1.4556573068317882,
          1.65333045765609,
          0.3946370438177062,
          0.8778064732675183,
          1.4475174661326558,
          -0.14288215042050034,
          0.5818327720818144,
          1.0160920331606864,
          -0.04537452563521345,
          -1.2054165373375514,
          0.9773495977335248,
          0.7667358699007163,
          0.7820128444094541,
          -0.6784406064938724,
          1.128206421010281,
          0.7896039479417352,
          -0.4498243584584728,
          0.8697131817057008,
          0.6176874849111272,
          -1.036674393414548,
          -0.271894274025389,
          -0.8314777303322111,
          -0.4961608091910542,
          -1.3365836497510135,
          1.3084875893065422,
          0.03133432001819644,
          0.3726749560399944,
          0.48769016395298165,
          1.1693363352784183,
          -1.2752751184540734,
          -0.29428560707973406,
          -1.154928021463245,
          0.6085925151418179,
          -0.11304405811505,
          -0.4967922774972314,
          0.7182716458404507,
          -0.8948213028557533,
          0.13633768459114753,
          0.49319032542441865,
          -2.931241617693828,
          -1.4272036160153012,
          -0.09658665310208035,
          0.1284838420312507,
          -1.1167926832071686,
          0.3297696146370771,
          -1.0908483723992797,
          1.282486699132369,
          1.6920915702056076,
          -0.4476087756500327,
          0.6359173499994337,
          0.30726972040713807,
          1.224084858330145,
          -1.5480867072367714,
          -1.6865845237986705,
          -1.0696373185403814,
          -1.1196676366681304,
          -0.0803530795277114,
          0.08340598720462129,
          -0.9499808787364254,
          -0.3685923308936727,
          -0.5842299144073135,
          -0.3424465421650067,
          -0.2822443042113612,
          -0.7468215715947751,
          1.1954507383068673,
          -0.6339140275038095,
          0.5384591169641276,
          -0.6115582417311815,
          0.08613335975248083,
          0.3203916742828628,
          0.36075864946394515,
          0.002955844066602787,
          0.2984377591372452,
          1.1672408550445748,
          1.433255968213623,
          -1.4114750505013887,
          -1.0635749239687016,
          -1.031364428786452,
          0.07054562770982371,
          0.06136204257735377,
          -0.0365091524515716,
          0.2792713708927117,
          2.3982484201934304,
          -0.3239278709327247,
          0.005144283424791623,
          -0.1534732801493902,
          -0.6538720653815325,
          -0.32055562576193863,
          -0.048044616259854296,
          -0.0740798655328061,
          -0.052475463259845506,
          0.5295819030474516,
          -1.3058650971047063,
          0.7772956866996302,
          -0.6237538926044229,
          1.657747622629937,
          2.403997870064078,
          -0.11737743284157816,
          1.1638914885968008,
          0.5364909439435714,
          1.6623775605693618,
          0.8742719349964619,
          -1.103891032172329,
          -0.08299388208626468,
          -0.23029812136096467,
          0.32403004713924255,
          -1.4759474737521376,
          0.011340654756096507,
          -1.566579070609495,
          -0.8995906902105947,
          -1.5376392141623827,
          -0.30409496628909993,
          -1.772842545377705,
          1.24519374678671,
          -1.2473790577364567,
          -0.3361976871792572,
          1.2979729040411663,
          0.28380599294323566,
          0.3866026771004423,
          0.4150675687599609,
          -0.15272323811538954,
          -1.101965587979914,
          1.6796994604335713,
          0.12168698644197956,
          -0.5054771706247893,
          0.28415571074027546,
          -1.1345268366230752,
          1.3726253308430207,
          -0.27307348856555314,
          0.413409671465931,
          2.5435616609485794,
          0.5037978316278413,
          -1.1436166818510505,
          -0.7634744034745885,
          -0.2230047048327533,
          -0.4057878824609773,
          0.5419653658681048,
          -0.22134015543442126,
          1.4271382180248924,
          0.6208103434928812,
          2.182243500016391,
          0.12706263903941217,
          0.7366399683024875,
          0.6751778707160457,
          -0.22511744098958797,
          -0.4621090456134495,
          0.684235214755849,
          0.13314274057076486,
          0.269027682634397,
          -0.23755487066572156,
          -1.1034887155999806,
          0.40833718597691265,
          -0.19238880667779903,
          0.3585647644169138,
          1.430861907011316,
          -1.3412665812069435,
          1.01362824484552,
          0.4755927163669774,
          0.31249344754483743,
          0.5042945157664638,
          0.6646969924736778,
          -0.13482951207179925,
          -0.02824666250551307,
          -0.7337092251357475,
          0.3716669961799316,
          -0.09671122073631344,
          -1.1801753031251048,
          0.00970859927102302,
          -1.6976236613754025,
          0.7515315347609939,
          1.6091281192624587,
          0.3542919666851225,
          0.22064462365529625,
          0.9819596659192691,
          -0.5558151347370487,
          1.0095079880912368,
          1.370972901136384,
          -0.06000931581808588,
          0.37778104252490663,
          1.1013207846966178,
          -0.8431132366481151,
          1.6884841589179889,
          -0.43747780166558375,
          -1.0658884501164505,
          -0.3564147879688864,
          0.2004910383062657,
          -0.9118456107545618,
          -0.4088107758303749,
          -0.7384651017850796,
          1.2222497878972725,
          2.008017324133708,
          -0.959653585440423,
          -0.6280701748949885,
          0.5876647500378167,
          0.855106894475439,
          0.39553159840836327,
          -0.12767368884746866,
          0.03091275499894645,
          -0.5813533751939653,
          0.8081209199284711,
          -0.13797390948095664,
          0.6161487899212547,
          -0.43527329990493147,
          -0.0235516731173697,
          0.548683591546131,
          -1.7661228786942462,
          1.0421691780241626,
          -0.47059294451500616,
          -0.3634139790357151,
          -0.1839736258414049,
          -1.1581392039984675,
          1.415944104457445,
          -0.5828459059298549,
          -0.06388426956736178,
          2.387637706726043,
          -0.34735296807149857,
          -1.3214870109880057,
          0.972681034375431,
          -0.40092783772686674,
          1.2455280952135053,
          1.1528802081253169,
          0.15245993607515793,
          0.7060614586427538,
          -0.6156505200800986,
          -1.6981373050863782,
          -0.08865251534198329,
          -0.3614450527098396,
          -0.014519368732890876,
          -1.3650616884413858,
          1.260954106327446,
          -0.3116514773167808,
          0.6038867423802831,
          1.1511488330976218,
          -0.27770675795824357,
          -1.2823817994731792,
          -0.5331498466805128,
          -0.9827938927042633,
          -0.24577064028355464,
          0.7822817123924722,
          -0.18677074977076671,
          -0.27511555688288525,
          1.592243923565186,
          0.4831260893570649,
          -0.1966263420656586,
          0.9403962537383965,
          -1.3325879888451635,
          1.3842664935961102,
          -0.010839337559502173,
          -2.5157161443711957,
          -0.2667094962561974,
          0.019990260586004404,
          0.14659890081023416,
          0.09848081001771519,
          0.6316473418667301,
          -1.2379062516258612,
          -1.0917476555084051,
          -0.5034471572851144,
          -2.0199564231774314,
          0.6739880949603081,
          1.5075822160473666,
          0.12046342404590882,
          1.0633879075820152,
          -1.051990168463319,
          0.48506877757441835,
          1.4269406086300682,
          1.2465517782740583,
          0.7450123446016931,
          1.6157978401890685,
          -1.1061743575033616,
          0.6762580277446262,
          1.0144314304274735,
          0.09003236492899457,
          0.20350056893203444,
          -0.27258383259929275,
          -0.9763762451194395,
          -0.26728623192016326,
          -1.426795853867029,
          -0.07778657353737639,
          -0.5888767708417045,
          -0.03631093282659983,
          0.8841068924403788,
          1.7262305591192024,
          0.791492324726682,
          -0.45697816000256747,
          0.8820966436476275,
          -0.878027493745245,
          0.7249749349194835,
          2.093099106806741,
          0.6058821367219818,
          0.9794075311696332,
          0.3300872210079477,
          -2.604025315986433,
          -0.44249400660531013,
          -1.2083713945402905,
          0.7916815167479575,
          1.073719957814244,
          -1.4146315570134171,
          -1.5006037326541548,
          -0.798042997466915,
          0.549358980934581,
          -0.7109585048416085,
          0.3867379227455773,
          -0.6372769961483714,
          1.622070944257768,
          -1.9281263114052865,
          0.08274040412826765,
          0.8689953192380446,
          2.190811783690639,
          0.41954772328234796,
          0.9205429040919597,
          0.8229310683777071,
          -0.24556636749141575,
          0.8277551979159474,
          -0.13378034153927068,
          -1.685438924577043,
          0.3175046260490513,
          -0.7377542007996079,
          0.8151940164512168,
          -0.8112307697704816,
          0.27370490521072377,
          0.018483028816743716,
          0.1752247309061456,
          -0.19387874789750684,
          0.6612254622005267,
          -1.8580741352885422,
          1.2921377195305006,
          0.29130608943331726,
          -0.518552176337297,
          -0.8699938552606656,
          0.6753619616910355,
          2.346649396040275,
          -1.5593865225100896,
          1.816498402646128,
          -0.4939585072421723,
          -1.7116048773878894,
          0.6589510966619769,
          -1.1238906675065616,
          0.03535550477787437,
          -1.193540942420184,
          -0.15345006210390946,
          -0.10136635959074576,
          0.7788058829301141,
          0.9893801889169844,
          -0.44578860436112816,
          -1.7039944337751576,
          -0.8715733608966668,
          -1.0063560085469843,
          1.2446401140002687,
          0.6769944683656275,
          -0.38507611389098856,
          -1.7965145074719784,
          -0.26599700073068916,
          0.13858716706936516,
          0.8162648276681018,
          -0.18160390771404222,
          1.1589570648972047,
          -0.31596189838602395,
          -0.45184622335037833,
          0.7425572914594134,
          -1.066606325151873,
          -2.12108243716865,
          0.44715377631431596,
          -1.025463829994019,
          0.3678490943186298,
          -0.39757717161714873,
          1.4298497060428206,
          0.4324140785005818,
          -0.28828672818028367,
          -2.094711200531898,
          -0.2904855570043622,
          -0.41933820198184235,
          -1.6502043483235174,
          1.0232233997689222,
          -1.3137052465075836,
          1.315884378805093,
          1.5108836371879588,
          -0.25365924494822617,
          -2.2615242396246624,
          -0.06036631356722181,
          1.2162302521666035,
          -0.9597093675748971,
          1.6660150808219665,
          1.063877707244186,
          0.3655291260943603,
          0.3265789207842134,
          0.7279609088507926,
          -1.5054566209705407,
          0.6170552622254075,
          -0.23595229624347838,
          -0.5086526581506992,
          -0.4621480989153001,
          0.0031621709632735796,
          0.9542023228834488,
          0.362368707508517,
          -0.8032839202373938,
          -1.7691466459560303,
          -0.8817315411274254,
          0.9570566941086934,
          -1.5225831736671644,
          -1.8588056723890933,
          -0.9285408442473895,
          -0.4214975417507177,
          -0.1545142097923716,
          -0.5336546855671649,
          -0.6156337032140542,
          2.117917575888316,
          0.2756297215546005,
          -0.4015732835022225,
          0.3221653979360527,
          -2.1373443491373387,
          -1.009465287107361,
          -0.927599634280918,
          0.3174397904505967,
          -0.8981243800486055,
          1.5003319090417877,
          0.32520397941421864,
          -1.6631370521051323,
          0.29822436207336905,
          -1.2685812924765327,
          0.1863646736275028,
          0.9085239519532884,
          1.1874007100152055,
          -0.44969478505108446,
          -0.4450566681883133,
          -0.059612606759669236,
          0.9776815741372537,
          0.2292139129119724,
          0.45191704739766597,
          -0.3513072656584225,
          -1.087913910663353,
          0.7912635346744865,
          -0.9843293245282267,
          -0.0805301153567796,
          1.3853362103931588,
          -0.43199309441314415,
          -0.6169070440875958,
          0.2761544344508064,
          -0.1287560240670437,
          -1.1785978386509885,
          -0.31629222522561595,
          -0.4428346643658109,
          -0.5435146205501797,
          0.6790788505823647,
          0.19220705157404344,
          0.768533870948386,
          -0.7845313389977284,
          2.4743776807445275,
          0.49840287600634814,
          0.5822408316743427,
          -2.2285385671451055,
          1.1521265358713555,
          -1.3693178846687095,
          -0.28301963989102175,
          1.3056225827498404,
          -1.112268538477044,
          -1.6716590672213778,
          0.47001114904181895,
          -1.1599026062742528,
          0.33114078015322757,
          0.3773497792730817,
          -2.0795219564276994,
          1.2749930784555434,
          1.4268723680990607,
          -0.8538655063960398,
          1.4191621325634438,
          -0.3306245457310539,
          -0.808206966442208,
          -0.5686497712445857,
          0.04843463996208191,
          1.4822283372637055,
          0.1798812531027563,
          1.2334677847767965,
          -0.8068911124480725,
          -0.3760709948440613,
          0.8974949639455835,
          0.9663837154856185,
          -0.2007728881085692,
          0.3063813293967068,
          -2.0811679080825303,
          -0.297697586730195,
          0.3997898597125595,
          0.34232075242432414,
          -0.662955478790764,
          1.2176390088528495,
          -0.16548800150134366,
          -0.33534994920664696,
          -1.426304162789948,
          0.6463338834991823,
          -0.7732232141805107,
          -1.872857318164224,
          -0.5732730460631995,
          -0.7571865975857666,
          -1.0509866588794061,
          1.3242478543311385,
          -0.14758028336056717,
          0.21588813458604492,
          -1.213904283183733,
          -0.5892425966854646,
          -2.0536542931134676,
          0.037581767725042715,
          -0.6883327497024918,
          0.21215305729372125,
          0.43042464197437247,
          0.049073418154925934,
          1.1501285693491436,
          0.4491496746307862,
          0.12251200813304505,
          1.1577497163399608,
          0.5116831203252622,
          -0.2120190910019712,
          -1.6761895887446596,
          -2.2659806792733037,
          -0.5510652562217112,
          -0.9067079431102192,
          -1.2986749018214825,
          -0.6670260254146078,
          0.20707400445202317,
          0.8505756520595734,
          0.18728092889996792,
          0.3853293874506954,
          -1.0312657208046359,
          0.6262821890714809,
          0.9573634348136074,
          -1.7788923621544719,
          0.47676081568362993,
          -1.0797771504340459,
          0.4463155275412789,
          -0.8322524487467021,
          -2.5342385253746085,
          -0.14887597403503078,
          0.837941727434752,
          0.0654432491328322,
          -0.4297044682179556,
          1.7749626713484568,
          0.3148326546042335,
          -0.589204219941388,
          0.9945100666229877,
          0.22811355920835857,
          -0.06257555762815009,
          -0.3799389663337271,
          0.03368642711355746,
          -0.1608543107726275,
          -0.7292175682135303,
          -0.8872566188322255,
          -0.4566510883046232,
          0.10860447410637658,
          0.013743131364848818,
          0.20334895539274825,
          1.5863929800897834,
          -0.33384094181004703,
          0.26046970473729963,
          0.33511591040818195,
          1.579761858890103,
          -0.6189650502110451,
          -2.0435652206315917,
          1.1469369435862373,
          0.46504479210640604,
          -0.2138867280631254,
          0.7958433030511589,
          0.8294330449439159,
          0.2058656587648824,
          1.794151979277821,
          -0.19927791134329734,
          -0.6550271969826108,
          -1.6402844220804484,
          -1.6229121507130038,
          -0.2830589580990382,
          0.10900537973078009,
          0.3002260819357395,
          1.033303829956834,
          -0.8210834800827248,
          -0.017731269283784292,
          -0.1697219457908768,
          2.2844327549417014,
          -1.1187603555331533,
          1.9289175067507767,
          -1.7620703479896027,
          1.1121775847681556,
          -1.2187721885068266,
          -0.20946164322961244,
          -0.3646205060077908,
          1.077446546905131,
          0.07627701910569314,
          -1.058645586465694,
          -0.21509394635873266,
          0.6347226070351086,
          -0.8006085190682442,
          -1.6020001722041772,
          0.0022062107086541806,
          -0.20502192960771987,
          -1.2006166276804602,
          0.6267613998141488,
          -0.8438667049577334,
          -0.9946392965719155,
          -1.3474962688736998,
          -0.23389075358312011,
          2.1021725903924975,
          -0.5047351561784869,
          0.6622877683310946,
          -1.492628466430138,
          -1.6899622379309813,
          0.015533013572528717,
          0.2738276142761374,
          -1.2768291086081265,
          1.3090481411720336,
          -0.0018180433624556142,
          -1.208197586820293,
          -0.010064417588745784,
          -0.628679729416286,
          0.36001067464715025,
          0.029207653570193757,
          -0.36452270264108744,
          -0.4290924953633513,
          -0.9653094451002654,
          0.3476815017052816,
          -0.36073046682104487,
          1.7609996537765256,
          2.1207119555550498,
          -1.6556957898616622,
          -1.2777640241934818,
          0.6651105559723101,
          -0.7386112133287076,
          1.322075352124306,
          1.1883351734534986,
          -1.531089748007523,
          0.8574200488601161,
          -2.0656833454892887,
          0.5625831523066136,
          -0.5311528576673985,
          -0.9863282207110067,
          -0.7474656550875683,
          0.24434718264571703,
          -1.0966676586202353,
          -1.5168799723199582,
          0.5132582025166372,
          1.8770351259554598,
          0.5174181473843743,
          -1.2089981908070346,
          0.39928385872101607,
          1.3596666341017178,
          0.15791019557801717,
          -0.019253645560771644,
          -1.0845421142472562,
          -0.4729784090967769,
          -3.0449846208740925,
          -1.939937716128434,
          1.5029956439733634,
          1.612712263439488,
          -0.15012498194969096,
          0.6115833739245495,
          -1.7796635536935026,
          0.39443971101961445,
          -1.012941475606585,
          0.8573607624031512,
          -0.5338176062978588,
          -0.5649890957147244,
          -1.0445470617057382,
          -0.21899653725439505,
          0.4696110220636277,
          0.9904006093922623,
          -1.1596789509933243,
          -2.4210093164558146,
          -0.976063048692361,
          0.3596093783645294,
          -1.493511990405029,
          0.9093812043440894,
          1.18105874718167,
          0.5970423814734253,
          -0.32281427991331474,
          -0.16593505148349552,
          -1.5668265940225745,
          -0.10202517565146624,
          1.1923425075705354,
          -1.1724019097398277,
          0.6306702403762094,
          0.8158728437293138,
          0.15741392024093448,
          -0.7851035275684728,
          -0.8218442418938927,
          1.5793787986172514,
          -0.8662921064945069,
          0.2690692359514737,
          -0.26135450241817665,
          -0.32970002363642004,
          2.7835663593175535,
          -0.46455680970808066,
          -0.6307204898390489,
          0.10888190855541369,
          -1.2206190926567733,
          0.2786284225967108,
          -1.7775687205244237,
          1.2925664007833157,
          -1.409131974004457,
          1.0510885906768157,
          0.5287526502275746,
          -0.38284782167588965,
          -0.45567580708981564,
          2.3169310109206958,
          -0.0605916343039926,
          -0.7888157529612244,
          -0.4339440862904993,
          -0.6889598152703684,
          0.8201997439672329,
          0.44838503375066546,
          -0.7548723776638587,
          0.01189523844205022,
          1.3389851239736945,
          -0.5838898267851694,
          0.2234287030439964,
          1.396349966578292,
          0.41009068657009706,
          0.5438951251523658,
          0.12240211496786868,
          -0.7491616747256092,
          -1.722158688986751,
          0.9141471185822702,
          0.002089792338389069,
          0.26205552776530644,
          1.37395152062324,
          0.2309553347100816,
          -0.6544916691378261,
          0.5155353308573554,
          1.4511784838867723,
          -1.0671543887791926,
          -0.39596300331803946,
          1.8236700619523685,
          0.8416991361201326,
          -0.16928819026763672,
          -0.3055515322334943,
          -0.0463643261439116,
          0.2386523847554548,
          0.18699356065459646,
          0.12969109668465298,
          0.26845914992497444,
          0.7902710311066357,
          -0.9756197444778375,
          -0.6774311675638859,
          -0.38545918788650374,
          -0.7576037033881098,
          1.4164386957255408,
          -0.8616818689078597,
          2.357831232445402,
          -0.45758568810174566,
          0.018558038060311376,
          0.9017129040662796,
          -0.7163559175701145,
          -1.8002325570323676,
          -1.7765431564098983,
          -0.7727295971828946,
          0.10057964348782338,
          -2.015888339856568,
          -1.1264250413380832,
          -1.9952370984894063,
          0.06340472968254755,
          -0.2297806220673693,
          -0.36450683308535764,
          0.9596958993576944,
          0.39172105924985573,
          -1.1414993410174128,
          0.6073416932818979,
          0.061435621329303726,
          0.6479124596408488,
          1.5454331921452582,
          -0.2092649877172178,
          -0.703883548679221,
          1.1684127969447122,
          0.4672823136998249,
          -0.6224843587648937,
          -0.7106885870887282,
          -0.15053007207755237,
          -1.3658177736691925,
          -0.26387140690873573,
          0.4719870375324132,
          0.3299904514972537,
          0.6019307115257714,
          -0.9651909262709575,
          -0.6807076942599286,
          0.30819996142634093,
          1.1115373347318265,
          1.6148221566972343,
          0.7465461984846417,
          0.22334854489660136,
          -1.2415960792665452,
          0.5088602007306127,
          1.3668178531771367,
          -1.5418265863321228,
          0.4725236068749823,
          -1.63934397877917,
          -0.3937066616909387,
          -1.5027533265312047,
          0.692925777774076,
          -0.7276699131720445,
          0.6422106414325772,
          -0.29545502731919465,
          -0.7104412067955319,
          -0.8219040162689645,
          1.213625229836065,
          -1.4769694234958053,
          0.3713528579213989,
          1.9865266451376828,
          -0.42385946660861723,
          -1.44585950629257,
          -0.8054257906792964,
          0.15195072127821974,
          -0.37251334100477856,
          -1.0055118179404208,
          -0.39491707113779406,
          -0.16524053234423197,
          -1.3715163451069627,
          0.343279005640374,
          0.036129622509310635,
          -0.20140353398768374,
          0.6983074200067156,
          -1.359812881084631,
          0.5637668492052024,
          -1.2651921204234633,
          1.4050469255489504,
          1.1916170819495016,
          1.1494395295651982,
          0.008580784375362562,
          -1.217788101012567,
          1.3990673683334223,
          -0.10661739076131271,
          1.2602083159328088,
          1.3969263064842485,
          -1.401445168469318,
          -0.5484997973623104,
          0.04018809151599316,
          -0.30162526290368663,
          0.34675947920429323,
          0.9530162529419469,
          -0.12733439806267557,
          2.789721909697153,
          -0.7633431543557675,
          0.17804418453312187,
          -0.1549953919795142,
          -1.6626191932013308,
          0.8983420260495069,
          0.049605014430463994,
          -1.2628108587192775,
          0.8638436214755006,
          0.6958515015254538,
          -0.8694673508912572,
          0.4232034866428451,
          0.7258285562912716,
          -0.7740930053260049,
          -1.1151280869248732,
          -0.7180970945575943,
          -0.5248929122727053,
          1.0600005523901976,
          -3.1054197950123568,
          -1.4822136772444818,
          0.9550666164791596,
          1.0841987927387988,
          -0.3600311008737897,
          0.24164139046542574,
          -0.4427960103730427,
          -0.03057702641683688,
          -1.2114406945992673,
          1.063566495734,
          -0.42021246825673536,
          0.5913774070472027,
          1.341494849052581,
          -1.9058158512099004,
          -0.7272627333535782,
          0.726183203313959,
          0.13630521659921796,
          0.6417719153421109,
          -1.1290584232046745,
          0.30551840476389514,
          0.6076030048180757,
          -0.19622770863787167,
          0.5770343170493943,
          -0.6349905740824598,
          -0.9662767089133107,
          0.2922456291257556,
          -0.996657223613478,
          -0.014773748491166028,
          2.1801958292513715,
          0.06693367229250075,
          0.5229596210532056,
          1.336270455667381,
          1.5897567712186653,
          0.23816378008545788,
          -0.512240543777445,
          0.37189713073757474,
          1.3389970532955544,
          0.03583132360212251,
          -0.5316381779583577,
          -0.6442410717771176,
          -2.394961668451358,
          -0.5875132017342289,
          -0.8031452988755245,
          0.909430881416175,
          -0.2825466529272656,
          0.6421316187462714,
          2.12724695849451,
          -1.1079296569471464,
          0.963813019103335,
          1.0195038286426903,
          0.12928449889918137,
          -1.1242084618785624,
          1.06028398466594,
          -0.3196919806027757,
          0.6676022976683577,
          -1.4463102612038266,
          -0.5653713567119176,
          -0.6469344590001611,
          0.19925079905145404
         ],
         "y": [
          0.4784223042383615,
          -0.7828594893146592,
          1.6835574757944576,
          -0.41172846478520575,
          1.2131516712600787,
          -1.0971003584299797,
          -1.3904589181218066,
          -0.25449944301988275,
          -0.49728393562132933,
          -1.3170728660576225,
          0.548858536876346,
          -0.13673037869780755,
          -1.1211728432834986,
          -0.12076613216358267,
          0.5083435829252707,
          -0.8033103817140398,
          -1.8794139079013168,
          0.35349311137454265,
          -2.1602709912480846,
          0.47462620580124776,
          -0.6081842181356805,
          0.6960351547463698,
          -2.075027674553515,
          -0.5183008195160563,
          -1.8180400518960456,
          -0.8379221245917615,
          0.3438312910513801,
          -1.973912700347284,
          1.1038601941313493,
          -0.9652709572382184,
          -0.3447858311297262,
          -0.17280095744378485,
          -0.2747200088861646,
          0.7275699349923007,
          -1.5894807480358666,
          0.4505060970988787,
          -0.1484603897582346,
          -0.5552386518279556,
          -0.2816642964406931,
          0.3251896810352055,
          1.0828181434430344,
          0.8746031395028903,
          -0.6531076523878506,
          -1.1460398883027512,
          1.0313014374786968,
          -1.1401556642547355,
          -0.5919060813914573,
          -0.302755076558458,
          -2.1631262146005343,
          -0.8462653142485729,
          -0.07455767285694775,
          -1.0252444416102666,
          -0.9512526169300202,
          0.27069423417377925,
          1.4246818800543053,
          -0.5926448169209192,
          -0.8902591913832164,
          -0.9097932480225703,
          -0.8904906790857758,
          0.38875663854613585,
          0.15673726778849265,
          -0.8370367242278903,
          -1.7369551839721469,
          0.4954532026641665,
          -0.22554769660094887,
          -0.21680810374923162,
          0.7176751802375186,
          0.4827710397502153,
          0.33935436101602096,
          -0.7382872392703812,
          0.8884439625236742,
          -0.06265913498101303,
          -0.5237415783787974,
          -0.218733905481679,
          0.39868152173608085,
          0.1806898464946425,
          0.33704515165134513,
          0.6711224842452149,
          -1.4208380928783262,
          0.8284760878634942,
          -0.39323869479695045,
          1.70336086053504,
          -1.4434734318600053,
          -0.8143507123075923,
          -0.9603843658070926,
          -1.927988153409207,
          1.4836459831472801,
          1.6608798704266272,
          -0.2605700312446155,
          -0.026305072265525767,
          1.652929614112938,
          1.1482304749440146,
          -1.108930507215213,
          -0.49308358281118886,
          0.6793207513171374,
          1.899969183200292,
          1.282474728942141,
          -0.757861520194469,
          0.00825499988626093,
          1.0278977679132328,
          0.7899824427960014,
          1.1358042914428805,
          -0.6624589492979365,
          -0.9179487941704861,
          -0.04561845958677954,
          0.5856570199254906,
          0.20086992194198763,
          0.11303691920248657,
          0.25627638624078203,
          2.1706121554591657,
          0.5852391612001137,
          -1.5718111100639383,
          -0.6886656953078758,
          -2.116033633334004,
          0.19655126570825746,
          0.2877642676469379,
          -0.06005340980834785,
          -0.8589418987305053,
          0.5312338313516681,
          0.05726649673095744,
          1.1104373384809851,
          -0.6696334868087437,
          -1.416862412557437,
          0.2626714388262529,
          -1.1483517410687918,
          -1.6362298891429066,
          0.13483693479074912,
          1.0021786539969237,
          -0.5309441924563961,
          -0.6376278096364798,
          -0.6084074503567176,
          -0.1566407386758245,
          0.4148704912641041,
          1.006824042771744,
          -0.928376485690793,
          -0.04253297594920043,
          0.49496171194958016,
          -0.4873808598256578,
          -0.5809107024092132,
          -0.7397353540515976,
          1.0965412958698015,
          -1.5984755350705127,
          -0.9872235166258715,
          0.6231848771843778,
          -1.5776414557611338,
          -0.651706646582079,
          2.6394555192029037,
          0.9707380195403568,
          0.2065003699780676,
          1.2489755858209775,
          1.7854206494633178,
          -1.6840230860586316,
          0.17413327841866694,
          -0.2954040733379547,
          0.6077484130305327,
          0.09844389766086471,
          -0.5021354207718967,
          -1.174969124656744,
          0.9520713647064754,
          1.8917584731777273,
          0.11412392744137961,
          -1.4554761044135935,
          -1.5997022126263016,
          0.4025817610676155,
          -0.4410620943882333,
          -0.8334338107478106,
          -1.288497986209802,
          0.9889394802645006,
          -0.938542068047165,
          -2.3798090805329273,
          1.0887164219245467,
          -1.63112586359762,
          0.0815571382050391,
          -0.01199059987125268,
          0.07060808927885245,
          -1.510546866029909,
          0.37111022121948484,
          -0.34787584557703716,
          -1.002861564633415,
          -0.9091905298191643,
          -1.1129716680955501,
          0.6364407561360376,
          0.9095787622393757,
          0.15448145599809487,
          0.02324968215372008,
          -0.4889898548627943,
          -0.04432501077716209,
          1.0603266576047243,
          1.3292865441282242,
          2.334878087631238,
          0.27259959898718455,
          1.0148974389163754,
          -0.2171138430846833,
          -1.0595318675302268,
          0.3732302695317175,
          2.416206482974324,
          0.4219900256706821,
          -2.811916862834922,
          1.1197197572316109,
          1.0960218596692892,
          1.1177688855418118,
          0.35125188768560245,
          -0.6654708016355715,
          -0.1257446947492263,
          0.8004730260763433,
          0.26171788032037013,
          -1.1906795399612546,
          0.7297089091038865,
          0.7881462442271818,
          -0.37271681315697563,
          -1.5529850227486675,
          0.07172988697619172,
          -1.3602844482348604,
          0.8798917220258803,
          -0.5308558159468542,
          -0.32633800167018884,
          1.1014265592524026,
          0.9895084899738791,
          1.2462542787108741,
          0.41167177858334664,
          0.3944467026314939,
          1.1462283059487064,
          -0.8194257765525461,
          -1.192604896821709,
          -0.19147681934993227,
          1.2042654676656777,
          -1.5446669104800275,
          -0.6937155109312627,
          0.38260747305719106,
          -0.43789744341190096,
          -1.1850334671062102,
          -0.14881182281002686,
          -0.7830731964258864,
          -0.17591286052167035,
          0.17972056651135712,
          0.05955179259998106,
          -0.2170812194336625,
          -0.2803388749692062,
          -0.46567667511819905,
          0.26838007129177494,
          1.7560006849956835,
          0.0694656289493054,
          0.15548568171579732,
          -1.2372318024449542,
          1.123424148804236,
          -0.9279232911270497,
          2.2641719853690043,
          1.6146053710980295,
          -0.12025440702581601,
          -0.8907119801266022,
          0.2622851509113826,
          0.6175123389459978,
          -1.3182507128360064,
          0.4760478425727798,
          -0.5257186713606637,
          -1.3065194973104055,
          0.7173196509489378,
          -1.2216991054650885,
          -0.5440072671086463,
          -0.8653850671229824,
          -0.43284691006007414,
          -0.8189145143348276,
          -0.7167230137638158,
          1.9850158341699318,
          -1.2843866592809805,
          -0.42008956300214556,
          1.0485444658455263,
          -0.07290225474589974,
          0.46178348921959034,
          1.2570171167310236,
          1.4740979867532733,
          1.257202930278708,
          -0.43012396252836743,
          0.9255869081344187,
          1.3987463885715814,
          1.9863520526965988,
          -0.5086885356583402,
          -0.2780866519841098,
          -0.7010763154769465,
          -0.5257386507638927,
          -0.4105836381246698,
          -1.6666878221612322,
          -0.6833972382123202,
          -0.7068403028680257,
          -0.25316856930842135,
          -0.6207133314937126,
          0.6241407605921159,
          -1.629608248752186,
          0.9592040777040148,
          0.24158952328744807,
          -0.34335142372140437,
          0.40515500362633167,
          -0.08206031099501773,
          1.0843134967154895,
          -1.483906784761977,
          -0.10887260731127202,
          -0.0029486473503358094,
          -0.09147339040523107,
          -0.21228552896587677,
          -0.8431718748830658,
          1.0375837024949837,
          1.0007969317941723,
          0.6226881478014468,
          2.079793275493325,
          -1.5643231730959846,
          0.47716278577921817,
          -0.6190479307574079,
          -0.5382541461287017,
          1.184178472308291,
          0.37395027554534616,
          0.3278880438004917,
          0.3612889360941244,
          -0.2992563675956262,
          -0.0035969699590690193,
          -1.3665984467017516,
          -1.633181629877265,
          1.5927897867082685,
          -0.3341189105295529,
          -0.2989293613085058,
          -0.6370529843533709,
          0.06680245748632921,
          -0.12447463626660318,
          -0.8533066190817795,
          -0.3286452709471022,
          0.10221332235330526,
          0.2409098306177467,
          0.5223718523347823,
          -0.5532052475262633,
          -0.8749269812410115,
          2.042575822289192,
          -0.6133131954250923,
          0.528777534014114,
          1.480066391970844,
          1.5641129221095735,
          -0.33385198106644937,
          -1.1247655510593428,
          -0.009096517724930007,
          -0.11669649580992346,
          -0.09435598997629055,
          0.7162036628565819,
          -0.767364634783028,
          0.1881689035524194,
          0.20361142612478697,
          1.6814112069874934,
          1.0431806971302942,
          -1.2680494545085181,
          -0.7829271056753421,
          -0.44337148836055656,
          0.10679679656237782,
          -0.9669765239137359,
          1.3151772473530734,
          -0.33061305887191633,
          1.2328389800829485,
          1.5589609714024708,
          -0.09846892352262754,
          -0.681535259109845,
          0.5651830331860153,
          -0.11788792950901933,
          0.9602987043154213,
          0.2612209623932177,
          0.23445218519049651,
          0.4055570078052538,
          -1.6256835541840662,
          0.8656266850766328,
          -0.1481253625064255,
          -0.38112520232046027,
          0.2228405364779775,
          0.5321254854924539,
          -1.6118797369927687,
          0.44363712870325833,
          -0.6443934888675261,
          -0.21856145577973005,
          1.1474910352474044,
          -0.24164484100387942,
          1.1815392273203464,
          -0.9778704960991808,
          0.27145393618831004,
          0.1697738080644922,
          1.5542502028295255,
          0.9730121226103613,
          -0.06209166906665237,
          -0.37640827995782594,
          0.8834958314078352,
          -0.29787108651821975,
          -0.3671097484790228,
          0.8380813826123714,
          0.9580552948968903,
          -0.720159726504978,
          -0.9354213195680969,
          -1.5042117836550712,
          -0.14622077185686214,
          -0.3588653453824989,
          -0.7431931824333926,
          0.06360947930848351,
          -0.9357229220387782,
          -1.1389064865645888,
          -1.3252552744514536,
          1.3223882094424773,
          0.8096613537406515,
          0.18602073139194017,
          0.9130395801332721,
          -0.973784335771249,
          -0.4206642131606041,
          -0.0978451139725307,
          1.668061146774614,
          0.8011377615127613,
          -0.6548861142430278,
          -0.9627434631827877,
          -0.988658543929323,
          0.2398317940781537,
          -1.8480911249968561,
          1.7468133847534304,
          0.0021218573569859586,
          1.488894474313855,
          -0.7525090764248863,
          -0.0055402248879081305,
          0.6878158578947977,
          1.3725014039583054,
          0.7115999289921977,
          0.5908698984132725,
          -0.07281394141461332,
          1.0359740923288536,
          0.2894211840452687,
          -0.5336147154442069,
          0.1976481043654841,
          0.38499739997081095,
          0.17545014982518425,
          -0.6112464564034071,
          0.8516868009782733,
          -1.1071366035895103,
          -0.017072746619721538,
          0.9944202197846949,
          0.1697404480494399,
          0.17998675993485158,
          0.8716456991855094,
          0.0908812086019308,
          -0.09081525867717843,
          0.5470787097645561,
          1.1752648423707763,
          -1.7872180615550484,
          -0.563785836072933,
          -0.48381079226745793,
          -0.033734166600070364,
          -0.39405124772151323,
          0.7969201028804955,
          2.337576496411878,
          0.35185869788570484,
          -2.1285548705212705,
          1.16901168704009,
          0.6021534675629056,
          -0.5650877024877115,
          -2.7841136026809976,
          1.07963083770016,
          1.546840543581342,
          -0.1465532340023041,
          1.6906693502426169,
          -0.3664220604598587,
          -0.3600063841275503,
          0.6288725950247086,
          1.2183940809523757,
          -0.5363347280471692,
          -0.21064666398290766,
          0.8689813102691525,
          -0.73994564139011,
          0.8567299124836838,
          -0.39668099604426066,
          -1.0372131762881518,
          0.06471921227792041,
          1.8492522450700972,
          -0.9593291651744317,
          -1.6856447587012897,
          -1.0202221637741045,
          0.024680900726438464,
          1.2162260517728647,
          0.5662838334566249,
          0.5496870259742124,
          -0.5457904890684729,
          -0.26551769164225514,
          -1.0194249521721337,
          0.651582541308011,
          0.31743104756174295,
          -0.05223041729333748,
          1.2023718894296447,
          -0.7361704210040223,
          -0.7133732582484285,
          -0.9808428948606112,
          -1.1806234833712475,
          0.1177603493652424,
          0.015965319868094453,
          -0.5425862866099143,
          0.9600809036272205,
          0.5270907858938194,
          0.35138222213752085,
          1.1484411901201372,
          0.6227389006881789,
          0.1823464409818585,
          -2.120200157602904,
          -0.7542676942934148,
          -0.2556926358054185,
          0.7101711983873712,
          0.6499411590977848,
          1.470923354903223,
          0.3214091109458299,
          0.2469511035583831,
          -0.0744316173375831,
          0.6034481552585016,
          0.156514766125274,
          1.4766251067337295,
          -0.057411134430878134,
          -0.8000499043339923,
          -0.3861419892718359,
          -1.1431218628870399,
          0.4800375982383721,
          1.2413626688634116,
          -0.4451960775985527,
          0.011753262409727483,
          -0.14582251269767754,
          0.5611546512740491,
          0.026756960833306136,
          0.37194051701404207,
          -0.7958945010439733,
          -0.5036990263139552,
          0.6435982166940122,
          -0.2943284622412106,
          -0.35114751530632515,
          -0.7428361569221558,
          0.6150903371972837,
          -0.29826284653836027,
          -1.123057329610946,
          0.4813115620048803,
          -0.20852350281930376,
          -0.40224514645906445,
          -0.5552374245556736,
          0.20864104439507924,
          -0.12752728750743297,
          -0.10993805668611722,
          0.3662596122298736,
          0.5947111137300695,
          0.003509208626916682,
          1.830804982470192,
          -1.4762214615209435,
          0.9221590108253914,
          -2.2081121251166604,
          -0.6147777350560034,
          1.6246242081497402,
          -1.7697010557026822,
          2.0616125859827763,
          -0.5330181464826901,
          1.277575038824308,
          0.3103258021560384,
          0.5648253220882458,
          -0.5144196267250467,
          1.952183304886021,
          0.8427294066775031,
          0.9169763982781807,
          -1.56793140230226,
          0.9547992173684965,
          -0.7290379447864874,
          1.2538253463849964,
          0.8029093064879689,
          0.3628503341695126,
          -1.0554355897686656,
          0.1354578012779709,
          0.6971461299989586,
          0.2828682797857944,
          0.2690064442806533,
          0.05723858031941145,
          -1.7177154318452161,
          2.7070837761808666,
          -1.2480346601669292,
          -0.7045815033480436,
          -0.4057504150107088,
          2.145210956753159,
          -0.1457475889303553,
          -0.42167926586539173,
          2.210724837513928,
          -0.5174428635888573,
          1.812581325945292,
          1.7143672166416004,
          0.5306743350375758,
          0.623737085561575,
          0.15777069531412516,
          2.1513667135383985,
          -0.4086331802703791,
          -0.08460016252240221,
          0.5412952007263062,
          1.4406693964330592,
          0.019334482983664823,
          -1.1534275201470656,
          0.8526944320663182,
          -1.2674445598472286,
          -0.25687429186210436,
          0.6164288027581972,
          -0.5678401674190194,
          0.18133398411536272,
          -1.6108601227167088,
          -1.568069755090861,
          -0.42762918798546556,
          -0.5403822760205056,
          -0.7363333292418776,
          1.1780555151980803,
          -0.2363526394025514,
          -1.1524290687449945,
          -0.03104755524151416,
          2.6665006651928387,
          2.3788701963421652,
          -0.08810188730151043,
          -0.27393725343202513,
          0.5568912903631604,
          -0.5524592065770427,
          0.5446635634369313,
          -1.09281068385621,
          -2.022521346097133,
          -0.13676766608846486,
          -1.2189355332012153,
          -0.29492715767054234,
          -1.926075063207318,
          -1.0880986281107667,
          -1.2820465272765036,
          0.48245611117450665,
          -0.9513392701309499,
          0.24632777298580452,
          1.0357688834839496,
          0.6627229312709937,
          0.04132485230316736,
          1.269098537221755,
          0.45870534780659494,
          0.2779414317847927,
          1.2145403617014554,
          -2.537338782118702,
          0.545026603148057,
          -0.6478186119088136,
          -0.582760756261298,
          -0.7115936015919666,
          0.2209267907923516,
          1.540198340378107,
          2.4872090096627053,
          -0.8125463257723933,
          -0.08491385616670788,
          1.585102334834043,
          -0.2663960114251251,
          -0.07401951559227136,
          -0.9402145356391565,
          1.5132994786933405,
          -0.622666874138489,
          0.18218528159112385,
          -1.5468637006160602,
          -1.3494130394836976,
          -1.2297661414231065,
          1.4942719987861275,
          0.2185837791232806,
          -0.24746013561552727,
          0.7315214835842029,
          1.2162547564388575,
          -0.7508000680202856,
          -0.5845117096814508,
          -0.7982019885450032,
          -0.7162372381577505,
          0.40904708418087365,
          -0.6853073848315232,
          -0.671480858914863,
          -1.2629904063980455,
          -0.2792379216532493,
          -0.6363216430620582,
          0.2903418037119806,
          1.4685137653212967,
          -0.10402280883284344,
          -0.9192000130138435,
          -1.1348610109809423,
          1.0279312697930336,
          0.1740189456048857,
          -1.0493987474376751,
          -0.04577264203460789,
          -0.4563746637230818,
          0.6956248698725676,
          1.0725228729705911,
          -0.06107298667159308,
          1.984271119501937,
          -0.9704379381951027,
          1.2492852799999283,
          1.1940794094128153,
          0.34615105894629744,
          -0.6363611091397438,
          0.04812530233287089,
          1.4982809553233352,
          3.1930191971258988,
          0.654823660197834,
          0.3040295543821469,
          -0.19892775631391652,
          0.6401614582549858,
          0.12459331678138047,
          -0.5288129265874507,
          0.8581427894301822,
          0.21370165350437959,
          0.2292903789951737,
          -0.607866061119404,
          -0.13566213489218681,
          0.48712555322459256,
          -1.5850940998646053,
          -0.42672101382086336,
          -0.6109848305485158,
          -1.313010236505551,
          -0.008887394455052915,
          0.015601952737177915,
          -0.45716292283388593,
          -0.5985761385978038,
          -0.5036609107188056,
          1.0700416735966443,
          0.08471916009897454,
          -0.01972155309201025,
          0.18788740940978144,
          0.44727286386692394,
          -0.7491783219928324,
          -0.007612695099143367,
          0.8369314557111879,
          -1.311267663618004,
          -2.2241827712413387,
          0.4685720620069695,
          1.0040109341081704,
          -0.6467836159617391,
          -0.8341895086765229,
          -0.4468691084243235,
          0.23043659587516133,
          0.320320306795205,
          1.5561000895285215,
          0.06801807403798356,
          0.9649496639799793,
          -1.0120794185716753,
          2.5360610268117245,
          0.8795616624905339,
          0.973924921554519,
          -0.003148567629102408,
          -0.7222619888862979,
          -1.6430729575843699,
          -0.15858369594779625,
          0.6062266472240754,
          1.1787327750226626,
          0.5607884908559498,
          0.6177042893915736,
          -0.38816273540013957,
          1.3460593968604797,
          0.1862136217743101,
          0.5134735237131628,
          0.8547552976383129,
          -1.4347207796875905,
          0.7508476494765068,
          1.420370875434357,
          0.3475808656294771,
          -0.6265823220244755,
          -0.7750651526708291,
          0.4115248237888752,
          -0.4168001687960696,
          1.0444186519321699,
          -0.9700406759525135,
          2.364936890714378,
          -0.7780159372609,
          -0.872827870917767,
          -0.3585983567074889,
          0.997707461207656,
          1.181012095955141,
          -0.23024158961972507,
          0.04559960530523889,
          1.3069237176026736,
          0.7054870072883562,
          0.6186190498208234,
          1.1836234061642645,
          -0.5985869437621772,
          0.6406365157656853,
          -0.5118524414258238,
          0.8753766923092491,
          -1.2289824401504472,
          -0.9170495329834427,
          0.8032720971824359,
          0.9363105717995386,
          0.30733136305368564,
          -0.8013049914411892,
          -0.973382431311771,
          0.45550471383098234,
          1.709778002196257,
          0.4305778718406545,
          0.7760334090691924,
          0.20491588158767945,
          -0.3109485923602881,
          1.516155962955509,
          -1.0400286266561536,
          0.6408319742655229,
          0.6302282095588493,
          0.45735199709719726,
          -0.19729369854348433,
          -0.7860782465554664,
          -0.49184221257062055,
          0.06804130555298496,
          -0.7950832857153514,
          0.6923152772803693,
          -0.257710554191488,
          1.3614359232629072,
          0.5723378761988797,
          0.28977825712589095,
          1.34147764333456,
          0.793566422886525,
          0.8502176322339324,
          0.8656116927840921,
          -1.404557876736488,
          0.09417191521944401,
          0.08998022549314513,
          0.09639572536430252,
          0.2551130914289786,
          -0.44984348335207247,
          0.1388620280427241,
          2.0836444349812497,
          1.1714107326285972,
          0.7235595536311232,
          0.4000183878088354,
          -0.4136646083597577,
          -2.7039335961524102,
          0.8980306667513323,
          0.27329988169515496,
          0.18151912869364192,
          -0.9025607806826919,
          -0.3107507545607137,
          1.1457412982359194,
          0.0681126526646435,
          0.25338591117962206,
          0.08933675725164958,
          -0.669588759326898,
          -0.5634526882045653,
          -2.839660872526067,
          0.14896545640739445,
          1.401464913719126,
          0.9270535583648954,
          2.3735920031719675,
          -0.831487848783471,
          0.7736217096240097,
          0.22029867802654055,
          -1.165115628302671,
          1.3578605757853008,
          1.315828412714534,
          -0.05454704531772168,
          -0.497207685833278,
          -0.5234160383324796,
          -0.9111229443915493,
          0.5392112608172848,
          0.7017515178200101,
          1.6635858559033485,
          0.9976923867607814,
          1.1196787086426776,
          -0.09269875866941515,
          -0.30440591437153847,
          -0.24995498821377451,
          0.7909710344746741,
          0.8542491401325796,
          -1.6819868201888686,
          0.25723749418446595,
          -0.005471902606253838,
          1.445351028582291,
          -0.6751351048307956,
          -0.11393830293167855,
          0.7903345583745316,
          -0.9273658353232925,
          0.7809525753965573,
          -0.5224083893800348,
          -1.7209090889632594,
          -1.4666159233761253,
          -0.5373622237342146,
          -1.4999055255521747,
          0.1172904241010784,
          -0.642914112227795,
          0.19716907268811545,
          -0.18502294299194832,
          0.4715189244846606,
          0.10180618308570533,
          -0.7243866506622727,
          -0.5790842339652609,
          -0.9865269506713497,
          0.19487512753081138,
          -0.9066773719348086,
          -1.0753815509198346,
          1.0075065457906853,
          -0.40556255305333,
          0.8345891319513018,
          -0.3925199242692924,
          0.3876206015661816,
          -1.1888604208536624,
          -1.1825551506746856,
          0.013314708650696236,
          0.7049462349913249,
          1.940001333643818,
          1.4152465941734398,
          0.4306992661760501,
          1.693983253634462,
          0.6217756410290879,
          0.6208556829211275,
          -0.36208234457906147,
          -1.5942404877639031,
          0.5108509637634836,
          0.11210779114371094,
          0.1616507672790782,
          -0.5915073749655673,
          -0.009151699554578825,
          -0.43534206906966016,
          -2.362016152627987,
          0.26824234792907464,
          0.9037588414335337,
          -1.7319297350752036,
          0.8195589268143382,
          1.331084353281038,
          -1.3218210692441188,
          0.29427027431044184,
          1.5081628573272319,
          0.35100244759002075,
          0.7825909843282487,
          -2.7322877299287662,
          0.006245337216438387,
          1.6071531938228782,
          -1.0679009652343558,
          -0.26745049569978663,
          -0.8786140405603362,
          -0.2388048311823553,
          -0.30114406544339206,
          0.6894930569925273,
          0.013971091086155544,
          -0.4499519064803472,
          -1.261545227177763,
          0.8840215588097283,
          -1.1846717228153179,
          0.048789841460876025,
          1.4567015343218148,
          -0.360143365930455,
          -2.1017352236634093,
          1.0390679049401272,
          0.08717178299960789,
          0.8499862737586532,
          0.9511281399561216,
          -0.3132889815807319,
          -0.5618724028223598,
          -1.5587607813217053,
          0.13979651091974432,
          -0.7916694927594135,
          0.6357196803246553,
          1.2547006347934802,
          -1.2674898782396888,
          0.6812911172472481,
          -0.22443125193962468,
          -1.415094671665964,
          -2.2340406962989228,
          -2.1102715591590555,
          -0.4935967087681221,
          -1.346948882625786,
          0.5079666896194805,
          -0.2668760685228403,
          -0.7757969415068992,
          -0.20120186265489684,
          -1.2121269286949112,
          1.6001277170020705,
          -1.4630493255847807,
          0.2166227321601641,
          1.4385503220428715,
          1.8761788618352346,
          0.1353972669202441,
          0.2201909720693528,
          1.3807283899045932,
          0.8116044720116913,
          -1.8488385613083305,
          -0.05670287122298156,
          -0.3389856077037541,
          1.0054849694597856,
          -0.34994186425360724,
          0.8749038729856996,
          2.701314681719056,
          -0.28359026641843377,
          -0.1289369384409304,
          -0.026524522740635048,
          -0.820664421046573,
          0.466217756054753,
          -0.9315686791974078,
          2.7065155327133725,
          -0.6904428714057118,
          -0.6985345209275244,
          0.7109031230129154,
          2.2027596799652565,
          0.3075128666492733,
          -1.6425082413049843,
          -0.016303356084625915,
          0.3515474296357532,
          -0.21130274646201302,
          -0.5466852304917434,
          -0.09415094555042969,
          1.2617595768675018,
          -0.3009056598869334,
          0.8057815211251279,
          -0.5583651460213079,
          0.8752392151528007,
          0.4602626536123172,
          0.6695354202988505,
          -0.4272091678918835,
          -0.38155030221830016,
          0.9524019122436143,
          -0.38602036896426284,
          -0.34566807280039136,
          -1.043680391729762
         ]
        }
       ],
       "layout": {
        "height": 400,
        "margin": {
         "b": 30,
         "l": 50,
         "r": 20,
         "t": 50
        },
        "showlegend": false,
        "template": {
         "data": {
          "bar": [
           {
            "error_x": {
             "color": "#2a3f5f"
            },
            "error_y": {
             "color": "#2a3f5f"
            },
            "marker": {
             "line": {
              "color": "white",
              "width": 0.5
             },
             "pattern": {
              "fillmode": "overlay",
              "size": 10,
              "solidity": 0.2
             }
            },
            "type": "bar"
           }
          ],
          "barpolar": [
           {
            "marker": {
             "line": {
              "color": "white",
              "width": 0.5
             },
             "pattern": {
              "fillmode": "overlay",
              "size": 10,
              "solidity": 0.2
             }
            },
            "type": "barpolar"
           }
          ],
          "carpet": [
           {
            "aaxis": {
             "endlinecolor": "#2a3f5f",
             "gridcolor": "#C8D4E3",
             "linecolor": "#C8D4E3",
             "minorgridcolor": "#C8D4E3",
             "startlinecolor": "#2a3f5f"
            },
            "baxis": {
             "endlinecolor": "#2a3f5f",
             "gridcolor": "#C8D4E3",
             "linecolor": "#C8D4E3",
             "minorgridcolor": "#C8D4E3",
             "startlinecolor": "#2a3f5f"
            },
            "type": "carpet"
           }
          ],
          "choropleth": [
           {
            "colorbar": {
             "outlinewidth": 0,
             "ticks": ""
            },
            "type": "choropleth"
           }
          ],
          "contour": [
           {
            "colorbar": {
             "outlinewidth": 0,
             "ticks": ""
            },
            "colorscale": [
             [
              0,
              "#0d0887"
             ],
             [
              0.1111111111111111,
              "#46039f"
             ],
             [
              0.2222222222222222,
              "#7201a8"
             ],
             [
              0.3333333333333333,
              "#9c179e"
             ],
             [
              0.4444444444444444,
              "#bd3786"
             ],
             [
              0.5555555555555556,
              "#d8576b"
             ],
             [
              0.6666666666666666,
              "#ed7953"
             ],
             [
              0.7777777777777778,
              "#fb9f3a"
             ],
             [
              0.8888888888888888,
              "#fdca26"
             ],
             [
              1,
              "#f0f921"
             ]
            ],
            "type": "contour"
           }
          ],
          "contourcarpet": [
           {
            "colorbar": {
             "outlinewidth": 0,
             "ticks": ""
            },
            "type": "contourcarpet"
           }
          ],
          "heatmap": [
           {
            "colorbar": {
             "outlinewidth": 0,
             "ticks": ""
            },
            "colorscale": [
             [
              0,
              "#0d0887"
             ],
             [
              0.1111111111111111,
              "#46039f"
             ],
             [
              0.2222222222222222,
              "#7201a8"
             ],
             [
              0.3333333333333333,
              "#9c179e"
             ],
             [
              0.4444444444444444,
              "#bd3786"
             ],
             [
              0.5555555555555556,
              "#d8576b"
             ],
             [
              0.6666666666666666,
              "#ed7953"
             ],
             [
              0.7777777777777778,
              "#fb9f3a"
             ],
             [
              0.8888888888888888,
              "#fdca26"
             ],
             [
              1,
              "#f0f921"
             ]
            ],
            "type": "heatmap"
           }
          ],
          "heatmapgl": [
           {
            "colorbar": {
             "outlinewidth": 0,
             "ticks": ""
            },
            "colorscale": [
             [
              0,
              "#0d0887"
             ],
             [
              0.1111111111111111,
              "#46039f"
             ],
             [
              0.2222222222222222,
              "#7201a8"
             ],
             [
              0.3333333333333333,
              "#9c179e"
             ],
             [
              0.4444444444444444,
              "#bd3786"
             ],
             [
              0.5555555555555556,
              "#d8576b"
             ],
             [
              0.6666666666666666,
              "#ed7953"
             ],
             [
              0.7777777777777778,
              "#fb9f3a"
             ],
             [
              0.8888888888888888,
              "#fdca26"
             ],
             [
              1,
              "#f0f921"
             ]
            ],
            "type": "heatmapgl"
           }
          ],
          "histogram": [
           {
            "marker": {
             "pattern": {
              "fillmode": "overlay",
              "size": 10,
              "solidity": 0.2
             }
            },
            "type": "histogram"
           }
          ],
          "histogram2d": [
           {
            "colorbar": {
             "outlinewidth": 0,
             "ticks": ""
            },
            "colorscale": [
             [
              0,
              "#0d0887"
             ],
             [
              0.1111111111111111,
              "#46039f"
             ],
             [
              0.2222222222222222,
              "#7201a8"
             ],
             [
              0.3333333333333333,
              "#9c179e"
             ],
             [
              0.4444444444444444,
              "#bd3786"
             ],
             [
              0.5555555555555556,
              "#d8576b"
             ],
             [
              0.6666666666666666,
              "#ed7953"
             ],
             [
              0.7777777777777778,
              "#fb9f3a"
             ],
             [
              0.8888888888888888,
              "#fdca26"
             ],
             [
              1,
              "#f0f921"
             ]
            ],
            "type": "histogram2d"
           }
          ],
          "histogram2dcontour": [
           {
            "colorbar": {
             "outlinewidth": 0,
             "ticks": ""
            },
            "colorscale": [
             [
              0,
              "#0d0887"
             ],
             [
              0.1111111111111111,
              "#46039f"
             ],
             [
              0.2222222222222222,
              "#7201a8"
             ],
             [
              0.3333333333333333,
              "#9c179e"
             ],
             [
              0.4444444444444444,
              "#bd3786"
             ],
             [
              0.5555555555555556,
              "#d8576b"
             ],
             [
              0.6666666666666666,
              "#ed7953"
             ],
             [
              0.7777777777777778,
              "#fb9f3a"
             ],
             [
              0.8888888888888888,
              "#fdca26"
             ],
             [
              1,
              "#f0f921"
             ]
            ],
            "type": "histogram2dcontour"
           }
          ],
          "mesh3d": [
           {
            "colorbar": {
             "outlinewidth": 0,
             "ticks": ""
            },
            "type": "mesh3d"
           }
          ],
          "parcoords": [
           {
            "line": {
             "colorbar": {
              "outlinewidth": 0,
              "ticks": ""
             }
            },
            "type": "parcoords"
           }
          ],
          "pie": [
           {
            "automargin": true,
            "type": "pie"
           }
          ],
          "scatter": [
           {
            "marker": {
             "colorbar": {
              "outlinewidth": 0,
              "ticks": ""
             }
            },
            "type": "scatter"
           }
          ],
          "scatter3d": [
           {
            "line": {
             "colorbar": {
              "outlinewidth": 0,
              "ticks": ""
             }
            },
            "marker": {
             "colorbar": {
              "outlinewidth": 0,
              "ticks": ""
             }
            },
            "type": "scatter3d"
           }
          ],
          "scattercarpet": [
           {
            "marker": {
             "colorbar": {
              "outlinewidth": 0,
              "ticks": ""
             }
            },
            "type": "scattercarpet"
           }
          ],
          "scattergeo": [
           {
            "marker": {
             "colorbar": {
              "outlinewidth": 0,
              "ticks": ""
             }
            },
            "type": "scattergeo"
           }
          ],
          "scattergl": [
           {
            "marker": {
             "colorbar": {
              "outlinewidth": 0,
              "ticks": ""
             }
            },
            "type": "scattergl"
           }
          ],
          "scattermapbox": [
           {
            "marker": {
             "colorbar": {
              "outlinewidth": 0,
              "ticks": ""
             }
            },
            "type": "scattermapbox"
           }
          ],
          "scatterpolar": [
           {
            "marker": {
             "colorbar": {
              "outlinewidth": 0,
              "ticks": ""
             }
            },
            "type": "scatterpolar"
           }
          ],
          "scatterpolargl": [
           {
            "marker": {
             "colorbar": {
              "outlinewidth": 0,
              "ticks": ""
             }
            },
            "type": "scatterpolargl"
           }
          ],
          "scatterternary": [
           {
            "marker": {
             "colorbar": {
              "outlinewidth": 0,
              "ticks": ""
             }
            },
            "type": "scatterternary"
           }
          ],
          "surface": [
           {
            "colorbar": {
             "outlinewidth": 0,
             "ticks": ""
            },
            "colorscale": [
             [
              0,
              "#0d0887"
             ],
             [
              0.1111111111111111,
              "#46039f"
             ],
             [
              0.2222222222222222,
              "#7201a8"
             ],
             [
              0.3333333333333333,
              "#9c179e"
             ],
             [
              0.4444444444444444,
              "#bd3786"
             ],
             [
              0.5555555555555556,
              "#d8576b"
             ],
             [
              0.6666666666666666,
              "#ed7953"
             ],
             [
              0.7777777777777778,
              "#fb9f3a"
             ],
             [
              0.8888888888888888,
              "#fdca26"
             ],
             [
              1,
              "#f0f921"
             ]
            ],
            "type": "surface"
           }
          ],
          "table": [
           {
            "cells": {
             "fill": {
              "color": "#EBF0F8"
             },
             "line": {
              "color": "white"
             }
            },
            "header": {
             "fill": {
              "color": "#C8D4E3"
             },
             "line": {
              "color": "white"
             }
            },
            "type": "table"
           }
          ]
         },
         "layout": {
          "annotationdefaults": {
           "arrowcolor": "#2a3f5f",
           "arrowhead": 0,
           "arrowwidth": 1
          },
          "autotypenumbers": "strict",
          "coloraxis": {
           "colorbar": {
            "outlinewidth": 0,
            "ticks": ""
           }
          },
          "colorscale": {
           "diverging": [
            [
             0,
             "#8e0152"
            ],
            [
             0.1,
             "#c51b7d"
            ],
            [
             0.2,
             "#de77ae"
            ],
            [
             0.3,
             "#f1b6da"
            ],
            [
             0.4,
             "#fde0ef"
            ],
            [
             0.5,
             "#f7f7f7"
            ],
            [
             0.6,
             "#e6f5d0"
            ],
            [
             0.7,
             "#b8e186"
            ],
            [
             0.8,
             "#7fbc41"
            ],
            [
             0.9,
             "#4d9221"
            ],
            [
             1,
             "#276419"
            ]
           ],
           "sequential": [
            [
             0,
             "#0d0887"
            ],
            [
             0.1111111111111111,
             "#46039f"
            ],
            [
             0.2222222222222222,
             "#7201a8"
            ],
            [
             0.3333333333333333,
             "#9c179e"
            ],
            [
             0.4444444444444444,
             "#bd3786"
            ],
            [
             0.5555555555555556,
             "#d8576b"
            ],
            [
             0.6666666666666666,
             "#ed7953"
            ],
            [
             0.7777777777777778,
             "#fb9f3a"
            ],
            [
             0.8888888888888888,
             "#fdca26"
            ],
            [
             1,
             "#f0f921"
            ]
           ],
           "sequentialminus": [
            [
             0,
             "#0d0887"
            ],
            [
             0.1111111111111111,
             "#46039f"
            ],
            [
             0.2222222222222222,
             "#7201a8"
            ],
            [
             0.3333333333333333,
             "#9c179e"
            ],
            [
             0.4444444444444444,
             "#bd3786"
            ],
            [
             0.5555555555555556,
             "#d8576b"
            ],
            [
             0.6666666666666666,
             "#ed7953"
            ],
            [
             0.7777777777777778,
             "#fb9f3a"
            ],
            [
             0.8888888888888888,
             "#fdca26"
            ],
            [
             1,
             "#f0f921"
            ]
           ]
          },
          "colorway": [
           "#636efa",
           "#EF553B",
           "#00cc96",
           "#ab63fa",
           "#FFA15A",
           "#19d3f3",
           "#FF6692",
           "#B6E880",
           "#FF97FF",
           "#FECB52"
          ],
          "font": {
           "color": "#2a3f5f"
          },
          "geo": {
           "bgcolor": "white",
           "lakecolor": "white",
           "landcolor": "white",
           "showlakes": true,
           "showland": true,
           "subunitcolor": "#C8D4E3"
          },
          "hoverlabel": {
           "align": "left"
          },
          "hovermode": "closest",
          "mapbox": {
           "style": "light"
          },
          "paper_bgcolor": "white",
          "plot_bgcolor": "white",
          "polar": {
           "angularaxis": {
            "gridcolor": "#EBF0F8",
            "linecolor": "#EBF0F8",
            "ticks": ""
           },
           "bgcolor": "white",
           "radialaxis": {
            "gridcolor": "#EBF0F8",
            "linecolor": "#EBF0F8",
            "ticks": ""
           }
          },
          "scene": {
           "xaxis": {
            "backgroundcolor": "white",
            "gridcolor": "#DFE8F3",
            "gridwidth": 2,
            "linecolor": "#EBF0F8",
            "showbackground": true,
            "ticks": "",
            "zerolinecolor": "#EBF0F8"
           },
           "yaxis": {
            "backgroundcolor": "white",
            "gridcolor": "#DFE8F3",
            "gridwidth": 2,
            "linecolor": "#EBF0F8",
            "showbackground": true,
            "ticks": "",
            "zerolinecolor": "#EBF0F8"
           },
           "zaxis": {
            "backgroundcolor": "white",
            "gridcolor": "#DFE8F3",
            "gridwidth": 2,
            "linecolor": "#EBF0F8",
            "showbackground": true,
            "ticks": "",
            "zerolinecolor": "#EBF0F8"
           }
          },
          "shapedefaults": {
           "line": {
            "color": "#2a3f5f"
           }
          },
          "ternary": {
           "aaxis": {
            "gridcolor": "#DFE8F3",
            "linecolor": "#A2B1C6",
            "ticks": ""
           },
           "baxis": {
            "gridcolor": "#DFE8F3",
            "linecolor": "#A2B1C6",
            "ticks": ""
           },
           "bgcolor": "white",
           "caxis": {
            "gridcolor": "#DFE8F3",
            "linecolor": "#A2B1C6",
            "ticks": ""
           }
          },
          "title": {
           "x": 0.05
          },
          "xaxis": {
           "automargin": true,
           "gridcolor": "#EBF0F8",
           "linecolor": "#EBF0F8",
           "ticks": "",
           "title": {
            "standoff": 15
           },
           "zerolinecolor": "#EBF0F8",
           "zerolinewidth": 2
          },
          "yaxis": {
           "automargin": true,
           "gridcolor": "#EBF0F8",
           "linecolor": "#EBF0F8",
           "ticks": "",
           "title": {
            "standoff": 15
           },
           "zerolinecolor": "#EBF0F8",
           "zerolinewidth": 2
          }
         }
        },
        "title": {
         "font": {
          "size": 10
         },
         "text": "<b>Efficient Frontier </b> ",
         "xanchor": "left"
        },
        "width": 550
       }
      },
      "text/html": [
       "<div>                            <div id=\"5d6b4172-49ba-4717-8f29-ebe17ba872e6\" class=\"plotly-graph-div\" style=\"height:400px; width:550px;\"></div>            <script type=\"text/javascript\">                require([\"plotly\"], function(Plotly) {                    window.PLOTLYENV=window.PLOTLYENV || {};                                    if (document.getElementById(\"5d6b4172-49ba-4717-8f29-ebe17ba872e6\")) {                    Plotly.newPlot(                        \"5d6b4172-49ba-4717-8f29-ebe17ba872e6\",                        [{\"marker\":{\"color\":\"blue\",\"size\":2},\"mode\":\"markers\",\"opacity\":0.8,\"x\":[0.7822650028706619,-1.3262876055762856,0.509910215867029,-1.5219521998424357,-0.8052780975043395,1.4010168797290992,1.4134459035747455,0.038381741638087115,1.0606894279171082,-1.6380934626533308,-0.6265837188119202,0.9761206219481322,-1.8600631838298485,-0.5787096077802619,-0.6792382656245741,0.6235204443136618,-2.0297048527916632,0.33006679756009105,1.4451111557663197,0.6892686504602245,-1.8876038246431734,-1.7130466171008494,0.6635440927084899,0.2216408606124246,0.36101020127758027,-1.1555830289080604,0.11058587183801058,-0.5753368261984351,1.0997136960946734,-0.4298856179125874,1.2735722647261334,0.10536271404907478,-0.8268159780952596,0.29901321533780345,1.126076127495532,0.483332340210303,-1.964078049209661,-1.0860763725093296,-1.75307807320004,-0.797497719654029,0.40332965435951945,-0.818976262492222,-1.5806160308294546,-0.5364456500060509,-0.3901438602639172,-0.48091317438326336,0.6646636327098261,-1.0431834605604762,-0.9855141938770352,-0.6753306072617639,1.3915704045457347,1.6303067822764368,1.0809183503894328,1.2638612980988495,0.10515880651222147,0.25386769633124723,-0.14861724770559923,1.6261523558561006,-0.25205813463935683,1.1873281026965044,-0.25637249179744104,0.20511105754096945,-0.06716761572826388,1.9854359187497614,-0.5974831839465037,0.22963946016229395,1.230123854812675,0.7635397710475873,1.2145048975273258,0.9610007633760892,0.7000129332235357,0.3877774759954961,-1.2270448443073179,0.04877118899295382,1.5425603182022272,1.5398309122488365,0.6278944195504543,-0.6322642722251424,0.7809867029789762,-1.5725520590618387,0.2485295118388386,-1.5741948793733982,-0.76493838343497,-0.014647365200283516,-1.3937885811282273,1.4754377036178516,-0.9307299768046691,0.8561009511461246,-0.3733566080180642,-0.20932720018952036,0.4316779689701213,1.4556573068317882,1.65333045765609,0.3946370438177062,0.8778064732675183,1.4475174661326558,-0.14288215042050034,0.5818327720818144,1.0160920331606864,-0.04537452563521345,-1.2054165373375514,0.9773495977335248,0.7667358699007163,0.7820128444094541,-0.6784406064938724,1.128206421010281,0.7896039479417352,-0.4498243584584728,0.8697131817057008,0.6176874849111272,-1.036674393414548,-0.271894274025389,-0.8314777303322111,-0.4961608091910542,-1.3365836497510135,1.3084875893065422,0.03133432001819644,0.3726749560399944,0.48769016395298165,1.1693363352784183,-1.2752751184540734,-0.29428560707973406,-1.154928021463245,0.6085925151418179,-0.11304405811505,-0.4967922774972314,0.7182716458404507,-0.8948213028557533,0.13633768459114753,0.49319032542441865,-2.931241617693828,-1.4272036160153012,-0.09658665310208035,0.1284838420312507,-1.1167926832071686,0.3297696146370771,-1.0908483723992797,1.282486699132369,1.6920915702056076,-0.4476087756500327,0.6359173499994337,0.30726972040713807,1.224084858330145,-1.5480867072367714,-1.6865845237986705,-1.0696373185403814,-1.1196676366681304,-0.0803530795277114,0.08340598720462129,-0.9499808787364254,-0.3685923308936727,-0.5842299144073135,-0.3424465421650067,-0.2822443042113612,-0.7468215715947751,1.1954507383068673,-0.6339140275038095,0.5384591169641276,-0.6115582417311815,0.08613335975248083,0.3203916742828628,0.36075864946394515,0.002955844066602787,0.2984377591372452,1.1672408550445748,1.433255968213623,-1.4114750505013887,-1.0635749239687016,-1.031364428786452,0.07054562770982371,0.06136204257735377,-0.0365091524515716,0.2792713708927117,2.3982484201934304,-0.3239278709327247,0.005144283424791623,-0.1534732801493902,-0.6538720653815325,-0.32055562576193863,-0.048044616259854296,-0.0740798655328061,-0.052475463259845506,0.5295819030474516,-1.3058650971047063,0.7772956866996302,-0.6237538926044229,1.657747622629937,2.403997870064078,-0.11737743284157816,1.1638914885968008,0.5364909439435714,1.6623775605693618,0.8742719349964619,-1.103891032172329,-0.08299388208626468,-0.23029812136096467,0.32403004713924255,-1.4759474737521376,0.011340654756096507,-1.566579070609495,-0.8995906902105947,-1.5376392141623827,-0.30409496628909993,-1.772842545377705,1.24519374678671,-1.2473790577364567,-0.3361976871792572,1.2979729040411663,0.28380599294323566,0.3866026771004423,0.4150675687599609,-0.15272323811538954,-1.101965587979914,1.6796994604335713,0.12168698644197956,-0.5054771706247893,0.28415571074027546,-1.1345268366230752,1.3726253308430207,-0.27307348856555314,0.413409671465931,2.5435616609485794,0.5037978316278413,-1.1436166818510505,-0.7634744034745885,-0.2230047048327533,-0.4057878824609773,0.5419653658681048,-0.22134015543442126,1.4271382180248924,0.6208103434928812,2.182243500016391,0.12706263903941217,0.7366399683024875,0.6751778707160457,-0.22511744098958797,-0.4621090456134495,0.684235214755849,0.13314274057076486,0.269027682634397,-0.23755487066572156,-1.1034887155999806,0.40833718597691265,-0.19238880667779903,0.3585647644169138,1.430861907011316,-1.3412665812069435,1.01362824484552,0.4755927163669774,0.31249344754483743,0.5042945157664638,0.6646969924736778,-0.13482951207179925,-0.02824666250551307,-0.7337092251357475,0.3716669961799316,-0.09671122073631344,-1.1801753031251048,0.00970859927102302,-1.6976236613754025,0.7515315347609939,1.6091281192624587,0.3542919666851225,0.22064462365529625,0.9819596659192691,-0.5558151347370487,1.0095079880912368,1.370972901136384,-0.06000931581808588,0.37778104252490663,1.1013207846966178,-0.8431132366481151,1.6884841589179889,-0.43747780166558375,-1.0658884501164505,-0.3564147879688864,0.2004910383062657,-0.9118456107545618,-0.4088107758303749,-0.7384651017850796,1.2222497878972725,2.008017324133708,-0.959653585440423,-0.6280701748949885,0.5876647500378167,0.855106894475439,0.39553159840836327,-0.12767368884746866,0.03091275499894645,-0.5813533751939653,0.8081209199284711,-0.13797390948095664,0.6161487899212547,-0.43527329990493147,-0.0235516731173697,0.548683591546131,-1.7661228786942462,1.0421691780241626,-0.47059294451500616,-0.3634139790357151,-0.1839736258414049,-1.1581392039984675,1.415944104457445,-0.5828459059298549,-0.06388426956736178,2.387637706726043,-0.34735296807149857,-1.3214870109880057,0.972681034375431,-0.40092783772686674,1.2455280952135053,1.1528802081253169,0.15245993607515793,0.7060614586427538,-0.6156505200800986,-1.6981373050863782,-0.08865251534198329,-0.3614450527098396,-0.014519368732890876,-1.3650616884413858,1.260954106327446,-0.3116514773167808,0.6038867423802831,1.1511488330976218,-0.27770675795824357,-1.2823817994731792,-0.5331498466805128,-0.9827938927042633,-0.24577064028355464,0.7822817123924722,-0.18677074977076671,-0.27511555688288525,1.592243923565186,0.4831260893570649,-0.1966263420656586,0.9403962537383965,-1.3325879888451635,1.3842664935961102,-0.010839337559502173,-2.5157161443711957,-0.2667094962561974,0.019990260586004404,0.14659890081023416,0.09848081001771519,0.6316473418667301,-1.2379062516258612,-1.0917476555084051,-0.5034471572851144,-2.0199564231774314,0.6739880949603081,1.5075822160473666,0.12046342404590882,1.0633879075820152,-1.051990168463319,0.48506877757441835,1.4269406086300682,1.2465517782740583,0.7450123446016931,1.6157978401890685,-1.1061743575033616,0.6762580277446262,1.0144314304274735,0.09003236492899457,0.20350056893203444,-0.27258383259929275,-0.9763762451194395,-0.26728623192016326,-1.426795853867029,-0.07778657353737639,-0.5888767708417045,-0.03631093282659983,0.8841068924403788,1.7262305591192024,0.791492324726682,-0.45697816000256747,0.8820966436476275,-0.878027493745245,0.7249749349194835,2.093099106806741,0.6058821367219818,0.9794075311696332,0.3300872210079477,-2.604025315986433,-0.44249400660531013,-1.2083713945402905,0.7916815167479575,1.073719957814244,-1.4146315570134171,-1.5006037326541548,-0.798042997466915,0.549358980934581,-0.7109585048416085,0.3867379227455773,-0.6372769961483714,1.622070944257768,-1.9281263114052865,0.08274040412826765,0.8689953192380446,2.190811783690639,0.41954772328234796,0.9205429040919597,0.8229310683777071,-0.24556636749141575,0.8277551979159474,-0.13378034153927068,-1.685438924577043,0.3175046260490513,-0.7377542007996079,0.8151940164512168,-0.8112307697704816,0.27370490521072377,0.018483028816743716,0.1752247309061456,-0.19387874789750684,0.6612254622005267,-1.8580741352885422,1.2921377195305006,0.29130608943331726,-0.518552176337297,-0.8699938552606656,0.6753619616910355,2.346649396040275,-1.5593865225100896,1.816498402646128,-0.4939585072421723,-1.7116048773878894,0.6589510966619769,-1.1238906675065616,0.03535550477787437,-1.193540942420184,-0.15345006210390946,-0.10136635959074576,0.7788058829301141,0.9893801889169844,-0.44578860436112816,-1.7039944337751576,-0.8715733608966668,-1.0063560085469843,1.2446401140002687,0.6769944683656275,-0.38507611389098856,-1.7965145074719784,-0.26599700073068916,0.13858716706936516,0.8162648276681018,-0.18160390771404222,1.1589570648972047,-0.31596189838602395,-0.45184622335037833,0.7425572914594134,-1.066606325151873,-2.12108243716865,0.44715377631431596,-1.025463829994019,0.3678490943186298,-0.39757717161714873,1.4298497060428206,0.4324140785005818,-0.28828672818028367,-2.094711200531898,-0.2904855570043622,-0.41933820198184235,-1.6502043483235174,1.0232233997689222,-1.3137052465075836,1.315884378805093,1.5108836371879588,-0.25365924494822617,-2.2615242396246624,-0.06036631356722181,1.2162302521666035,-0.9597093675748971,1.6660150808219665,1.063877707244186,0.3655291260943603,0.3265789207842134,0.7279609088507926,-1.5054566209705407,0.6170552622254075,-0.23595229624347838,-0.5086526581506992,-0.4621480989153001,0.0031621709632735796,0.9542023228834488,0.362368707508517,-0.8032839202373938,-1.7691466459560303,-0.8817315411274254,0.9570566941086934,-1.5225831736671644,-1.8588056723890933,-0.9285408442473895,-0.4214975417507177,-0.1545142097923716,-0.5336546855671649,-0.6156337032140542,2.117917575888316,0.2756297215546005,-0.4015732835022225,0.3221653979360527,-2.1373443491373387,-1.009465287107361,-0.927599634280918,0.3174397904505967,-0.8981243800486055,1.5003319090417877,0.32520397941421864,-1.6631370521051323,0.29822436207336905,-1.2685812924765327,0.1863646736275028,0.9085239519532884,1.1874007100152055,-0.44969478505108446,-0.4450566681883133,-0.059612606759669236,0.9776815741372537,0.2292139129119724,0.45191704739766597,-0.3513072656584225,-1.087913910663353,0.7912635346744865,-0.9843293245282267,-0.0805301153567796,1.3853362103931588,-0.43199309441314415,-0.6169070440875958,0.2761544344508064,-0.1287560240670437,-1.1785978386509885,-0.31629222522561595,-0.4428346643658109,-0.5435146205501797,0.6790788505823647,0.19220705157404344,0.768533870948386,-0.7845313389977284,2.4743776807445275,0.49840287600634814,0.5822408316743427,-2.2285385671451055,1.1521265358713555,-1.3693178846687095,-0.28301963989102175,1.3056225827498404,-1.112268538477044,-1.6716590672213778,0.47001114904181895,-1.1599026062742528,0.33114078015322757,0.3773497792730817,-2.0795219564276994,1.2749930784555434,1.4268723680990607,-0.8538655063960398,1.4191621325634438,-0.3306245457310539,-0.808206966442208,-0.5686497712445857,0.04843463996208191,1.4822283372637055,0.1798812531027563,1.2334677847767965,-0.8068911124480725,-0.3760709948440613,0.8974949639455835,0.9663837154856185,-0.2007728881085692,0.3063813293967068,-2.0811679080825303,-0.297697586730195,0.3997898597125595,0.34232075242432414,-0.662955478790764,1.2176390088528495,-0.16548800150134366,-0.33534994920664696,-1.426304162789948,0.6463338834991823,-0.7732232141805107,-1.872857318164224,-0.5732730460631995,-0.7571865975857666,-1.0509866588794061,1.3242478543311385,-0.14758028336056717,0.21588813458604492,-1.213904283183733,-0.5892425966854646,-2.0536542931134676,0.037581767725042715,-0.6883327497024918,0.21215305729372125,0.43042464197437247,0.049073418154925934,1.1501285693491436,0.4491496746307862,0.12251200813304505,1.1577497163399608,0.5116831203252622,-0.2120190910019712,-1.6761895887446596,-2.2659806792733037,-0.5510652562217112,-0.9067079431102192,-1.2986749018214825,-0.6670260254146078,0.20707400445202317,0.8505756520595734,0.18728092889996792,0.3853293874506954,-1.0312657208046359,0.6262821890714809,0.9573634348136074,-1.7788923621544719,0.47676081568362993,-1.0797771504340459,0.4463155275412789,-0.8322524487467021,-2.5342385253746085,-0.14887597403503078,0.837941727434752,0.0654432491328322,-0.4297044682179556,1.7749626713484568,0.3148326546042335,-0.589204219941388,0.9945100666229877,0.22811355920835857,-0.06257555762815009,-0.3799389663337271,0.03368642711355746,-0.1608543107726275,-0.7292175682135303,-0.8872566188322255,-0.4566510883046232,0.10860447410637658,0.013743131364848818,0.20334895539274825,1.5863929800897834,-0.33384094181004703,0.26046970473729963,0.33511591040818195,1.579761858890103,-0.6189650502110451,-2.0435652206315917,1.1469369435862373,0.46504479210640604,-0.2138867280631254,0.7958433030511589,0.8294330449439159,0.2058656587648824,1.794151979277821,-0.19927791134329734,-0.6550271969826108,-1.6402844220804484,-1.6229121507130038,-0.2830589580990382,0.10900537973078009,0.3002260819357395,1.033303829956834,-0.8210834800827248,-0.017731269283784292,-0.1697219457908768,2.2844327549417014,-1.1187603555331533,1.9289175067507767,-1.7620703479896027,1.1121775847681556,-1.2187721885068266,-0.20946164322961244,-0.3646205060077908,1.077446546905131,0.07627701910569314,-1.058645586465694,-0.21509394635873266,0.6347226070351086,-0.8006085190682442,-1.6020001722041772,0.0022062107086541806,-0.20502192960771987,-1.2006166276804602,0.6267613998141488,-0.8438667049577334,-0.9946392965719155,-1.3474962688736998,-0.23389075358312011,2.1021725903924975,-0.5047351561784869,0.6622877683310946,-1.492628466430138,-1.6899622379309813,0.015533013572528717,0.2738276142761374,-1.2768291086081265,1.3090481411720336,-0.0018180433624556142,-1.208197586820293,-0.010064417588745784,-0.628679729416286,0.36001067464715025,0.029207653570193757,-0.36452270264108744,-0.4290924953633513,-0.9653094451002654,0.3476815017052816,-0.36073046682104487,1.7609996537765256,2.1207119555550498,-1.6556957898616622,-1.2777640241934818,0.6651105559723101,-0.7386112133287076,1.322075352124306,1.1883351734534986,-1.531089748007523,0.8574200488601161,-2.0656833454892887,0.5625831523066136,-0.5311528576673985,-0.9863282207110067,-0.7474656550875683,0.24434718264571703,-1.0966676586202353,-1.5168799723199582,0.5132582025166372,1.8770351259554598,0.5174181473843743,-1.2089981908070346,0.39928385872101607,1.3596666341017178,0.15791019557801717,-0.019253645560771644,-1.0845421142472562,-0.4729784090967769,-3.0449846208740925,-1.939937716128434,1.5029956439733634,1.612712263439488,-0.15012498194969096,0.6115833739245495,-1.7796635536935026,0.39443971101961445,-1.012941475606585,0.8573607624031512,-0.5338176062978588,-0.5649890957147244,-1.0445470617057382,-0.21899653725439505,0.4696110220636277,0.9904006093922623,-1.1596789509933243,-2.4210093164558146,-0.976063048692361,0.3596093783645294,-1.493511990405029,0.9093812043440894,1.18105874718167,0.5970423814734253,-0.32281427991331474,-0.16593505148349552,-1.5668265940225745,-0.10202517565146624,1.1923425075705354,-1.1724019097398277,0.6306702403762094,0.8158728437293138,0.15741392024093448,-0.7851035275684728,-0.8218442418938927,1.5793787986172514,-0.8662921064945069,0.2690692359514737,-0.26135450241817665,-0.32970002363642004,2.7835663593175535,-0.46455680970808066,-0.6307204898390489,0.10888190855541369,-1.2206190926567733,0.2786284225967108,-1.7775687205244237,1.2925664007833157,-1.409131974004457,1.0510885906768157,0.5287526502275746,-0.38284782167588965,-0.45567580708981564,2.3169310109206958,-0.0605916343039926,-0.7888157529612244,-0.4339440862904993,-0.6889598152703684,0.8201997439672329,0.44838503375066546,-0.7548723776638587,0.01189523844205022,1.3389851239736945,-0.5838898267851694,0.2234287030439964,1.396349966578292,0.41009068657009706,0.5438951251523658,0.12240211496786868,-0.7491616747256092,-1.722158688986751,0.9141471185822702,0.002089792338389069,0.26205552776530644,1.37395152062324,0.2309553347100816,-0.6544916691378261,0.5155353308573554,1.4511784838867723,-1.0671543887791926,-0.39596300331803946,1.8236700619523685,0.8416991361201326,-0.16928819026763672,-0.3055515322334943,-0.0463643261439116,0.2386523847554548,0.18699356065459646,0.12969109668465298,0.26845914992497444,0.7902710311066357,-0.9756197444778375,-0.6774311675638859,-0.38545918788650374,-0.7576037033881098,1.4164386957255408,-0.8616818689078597,2.357831232445402,-0.45758568810174566,0.018558038060311376,0.9017129040662796,-0.7163559175701145,-1.8002325570323676,-1.7765431564098983,-0.7727295971828946,0.10057964348782338,-2.015888339856568,-1.1264250413380832,-1.9952370984894063,0.06340472968254755,-0.2297806220673693,-0.36450683308535764,0.9596958993576944,0.39172105924985573,-1.1414993410174128,0.6073416932818979,0.061435621329303726,0.6479124596408488,1.5454331921452582,-0.2092649877172178,-0.703883548679221,1.1684127969447122,0.4672823136998249,-0.6224843587648937,-0.7106885870887282,-0.15053007207755237,-1.3658177736691925,-0.26387140690873573,0.4719870375324132,0.3299904514972537,0.6019307115257714,-0.9651909262709575,-0.6807076942599286,0.30819996142634093,1.1115373347318265,1.6148221566972343,0.7465461984846417,0.22334854489660136,-1.2415960792665452,0.5088602007306127,1.3668178531771367,-1.5418265863321228,0.4725236068749823,-1.63934397877917,-0.3937066616909387,-1.5027533265312047,0.692925777774076,-0.7276699131720445,0.6422106414325772,-0.29545502731919465,-0.7104412067955319,-0.8219040162689645,1.213625229836065,-1.4769694234958053,0.3713528579213989,1.9865266451376828,-0.42385946660861723,-1.44585950629257,-0.8054257906792964,0.15195072127821974,-0.37251334100477856,-1.0055118179404208,-0.39491707113779406,-0.16524053234423197,-1.3715163451069627,0.343279005640374,0.036129622509310635,-0.20140353398768374,0.6983074200067156,-1.359812881084631,0.5637668492052024,-1.2651921204234633,1.4050469255489504,1.1916170819495016,1.1494395295651982,0.008580784375362562,-1.217788101012567,1.3990673683334223,-0.10661739076131271,1.2602083159328088,1.3969263064842485,-1.401445168469318,-0.5484997973623104,0.04018809151599316,-0.30162526290368663,0.34675947920429323,0.9530162529419469,-0.12733439806267557,2.789721909697153,-0.7633431543557675,0.17804418453312187,-0.1549953919795142,-1.6626191932013308,0.8983420260495069,0.049605014430463994,-1.2628108587192775,0.8638436214755006,0.6958515015254538,-0.8694673508912572,0.4232034866428451,0.7258285562912716,-0.7740930053260049,-1.1151280869248732,-0.7180970945575943,-0.5248929122727053,1.0600005523901976,-3.1054197950123568,-1.4822136772444818,0.9550666164791596,1.0841987927387988,-0.3600311008737897,0.24164139046542574,-0.4427960103730427,-0.03057702641683688,-1.2114406945992673,1.063566495734,-0.42021246825673536,0.5913774070472027,1.341494849052581,-1.9058158512099004,-0.7272627333535782,0.726183203313959,0.13630521659921796,0.6417719153421109,-1.1290584232046745,0.30551840476389514,0.6076030048180757,-0.19622770863787167,0.5770343170493943,-0.6349905740824598,-0.9662767089133107,0.2922456291257556,-0.996657223613478,-0.014773748491166028,2.1801958292513715,0.06693367229250075,0.5229596210532056,1.336270455667381,1.5897567712186653,0.23816378008545788,-0.512240543777445,0.37189713073757474,1.3389970532955544,0.03583132360212251,-0.5316381779583577,-0.6442410717771176,-2.394961668451358,-0.5875132017342289,-0.8031452988755245,0.909430881416175,-0.2825466529272656,0.6421316187462714,2.12724695849451,-1.1079296569471464,0.963813019103335,1.0195038286426903,0.12928449889918137,-1.1242084618785624,1.06028398466594,-0.3196919806027757,0.6676022976683577,-1.4463102612038266,-0.5653713567119176,-0.6469344590001611,0.19925079905145404],\"y\":[-0.12055563466977685,-0.10331168925894549,0.14135117371596911,0.6933375628856325,2.8627933845110145,-1.4862878219311029,-0.1219906671397968,-0.3070936249590417,-0.6771955873440791,0.561831190546074,0.42802924486676835,-0.4448792113911854,0.8167680930238281,0.357949286382996,0.563311244989104,-1.3425349235423236,0.06309723263142586,-0.3516432073964671,-1.3321282651344506,-1.2785950593670108,2.0756763590515774,1.1125491372137875,-1.26024756643166,-0.7039638008833864,-1.612780161303565,1.0067312037340588,-1.169032810773705,-0.6190800398392328,-0.21762284274313626,0.3237916223117394,-0.8648352580362888,-1.3530027959590023,-0.20247432805068452,0.23404956381302508,-0.9845597442384373,0.41176271168919826,0.5314461413921713,0.3426108961080798,0.8931839287263776,0.4732153776531326,-1.193997763399677,2.355560245295832,0.0016185504339723622,-1.7297564106441148,0.5122685301692961,0.12287214426170473,-0.3569439618635621,0.4489274537699334,-0.217430797765316,0.9436979062259925,0.48403882195954767,-2.248507646136845,-0.5593049487286189,-1.2714987805287319,-0.06601299714943698,-0.7294591634811566,-0.5942930590631691,-1.2607346017511987,-0.10734165632190192,0.5838493367312312,-0.09900943323621945,-0.7848085950010253,-1.9041828865936612,-0.6259535772369571,0.6029877586545329,0.8149325527614003,-1.0652873173503794,-0.06457069997843305,-0.7509509889165664,-0.8834623575057708,-0.9147468209199939,-0.2652462195693302,-0.25999222312568276,-0.41809766702563056,-0.21273785706828366,0.0802620659442447,-0.05591740139961193,1.4378641352221597,-0.7350172634442461,2.0577739120918626,-0.40968206264734175,2.3213534653026104,-0.5859367705847283,-0.8646112307216947,0.363598739250463,-2.332764656566152,1.3594345157875913,0.5326672442583578,0.2510903521873179,-0.7074718787768784,2.4682463380850264,-1.2230123593487774,-1.6042499167804793,0.43903351313265243,-1.3024406163555757,0.1265959728664517,1.6081078770939405,-1.3615154510167928,-0.603241309100704,-0.05844253561126395,1.9213589728404674,0.8249356884096162,-1.5106703082204291,-1.5751979802271763,0.40012715655880454,-0.9028833365335811,0.0553500794230523,0.1651981700416173,-0.24047822612279063,1.4590351390220055,1.9237263277611614,-0.2667390116941484,0.8557186895648018,0.5932689466187229,0.31900479565689205,-0.788838035520178,-0.2738010626010714,-0.8726283714639848,0.027894206928741876,-0.8161754690455103,1.8691932003554776,0.33048920760641465,0.19283047240470613,0.1790969276958436,-1.6688252745181877,-0.38768942899554404,-0.40970837488870626,1.464764187715809,-0.9539179266202832,0.5458202072230505,1.6769658793745235,0.89255783607648,0.8149345141061564,0.30439434158965084,-0.23727963529475157,0.2750385693077601,1.3620616061594228,-1.9284919928267754,-1.3673031679109602,1.2034923401774897,-0.045805278107988616,-0.803301427985971,-1.6746158904284776,2.661713974056005,0.8594458803480659,0.8970234247612736,1.3139793518391156,0.7438455269256962,1.1303949721829967,0.5826728373631576,1.189265188135659,-0.0606019890959432,-0.24873937403147578,-0.283649313062882,1.072778050545576,0.4958488043971672,-0.06559649132161703,-1.7225086337316269,1.0970775715895147,1.4819850651485584,1.482500796026297,-1.9199214813445438,0.08755291140468276,0.20127832420811423,-2.107412350257738,-1.843366495671235,-0.7187884908367986,1.5718290203402765,0.8258695469058379,-0.9565209333637862,1.488219774621774,-1.5107166338960891,-0.4406565913164856,-3.037679805986301,0.46416237750440037,-0.2638627642806437,1.158664941380112,0.863297764369716,-0.4714048277153223,-0.33171306806359385,1.4187282224257125,0.33391417534881623,-0.9015455884578686,1.1901097975676238,0.058223666656065376,-0.6319559512168276,-0.46257951510864065,-2.0164896529312313,-0.3271852278208264,0.6911918835973483,0.10210088739689116,-0.9358168829141297,-1.4018394890039136,-0.9132665485388812,0.6942036182534999,1.4298825590081299,-0.5843806891903576,-0.16570255823133698,-0.4678929377897436,1.86102596450394,0.907134598924375,0.7985676129164835,-0.09087557896025947,1.7432875969269588,0.41107654766943114,0.818429828066321,-0.5075818663848058,-1.1985340620469778,-0.5494135006590145,-0.5234424577372159,-0.4935188984802437,0.6106429821443132,-0.38643372277981036,-2.0969472962993665,-1.411093249220934,-1.5505199690640086,0.44931223385062674,0.14440726323666989,-0.4274739917046587,0.30300815839109824,-0.6033058875065871,0.199616086775656,0.6882090758998739,0.355648539258363,1.6173415246839644,0.14743548008161575,-1.3558698284401276,-0.15100199798295683,0.8522258630306171,-0.10439788331051987,-0.40182329234657466,-1.1087260281179254,-1.0177478452227782,-1.8909978966052994,-0.2636752820508692,0.0812410383420903,-0.4267093311780073,-1.3986061929899207,-0.589622244873821,0.35825255346277146,1.4945687363205302,0.23447960251521205,-1.0301432454422037,-1.2816484408791038,1.7752003494035704,-1.390961250197619,1.9427441823278884,0.8006110530902544,-0.3638986243276143,0.5974124293946301,-0.14089389487213416,0.4969891836121818,-1.5900197043931084,-0.5266680328936408,0.6427118281771306,-0.9004018676925419,0.2552162282600462,0.5718868558972748,0.5139570995213849,0.8734586712945152,-0.19070919276370504,-0.9174735640582405,0.4438189586515096,1.5876518745257282,-0.7726273412064145,-0.21137937930363343,-0.10138870972246505,-1.0858213725113552,-0.7702028187736517,-0.2549665017249677,0.8277412992741118,2.1994318672666724,-0.4598647752307542,-0.6756271020516764,0.8303689203923873,1.4980319204199894,0.31228765522490964,0.45455245908221387,1.2957164214714478,0.5068430792251857,-1.1698236210633348,-1.2484000999875853,0.41358935253193807,-0.7277760850442503,-1.453152870697438,0.7893544954748009,0.49802085546064895,-0.5414984683517651,0.39157776590071136,0.06837882554390495,-0.5077098844815434,0.1841453508322061,0.35895281211481705,0.811399796705827,0.22648379793929202,-0.16863935526216312,0.533177206889052,-0.0023208483470045387,0.1681892385098186,-0.1727032666521461,-0.5455023160836182,1.9124675144284935,-0.08543765295719502,2.92032804607497,-0.5349868472299265,-0.6895743211771677,0.9336579276118642,0.6037469127951645,0.33474164580227744,1.6368282452363456,-0.48574226341843124,1.1809436612843438,0.3174733217280211,0.08377389890659953,-0.9540539746989286,0.30655931746618764,0.31890070236158624,0.8983999148522013,-0.0642783953775934,-0.1742441605928476,-0.531555110471733,0.20787592428081014,-0.8152473617047866,-1.0341123436149364,0.34317054854373436,1.4111622057237563,0.09602528612542624,1.1082631252188553,-0.3495620294530495,0.19788220324740352,-0.5271386190890488,0.656487229275569,0.11777561623529155,0.325598158694913,-0.07707905505517162,-1.5284575371023599,0.9586415923559212,-1.3651599964690015,-0.7330759517541865,1.895357641141102,-0.09327941234507961,1.0745227605980445,1.097747090709167,0.8436248427292701,0.20419933728465797,0.5974682824847044,0.20687082494826609,0.19590937337686265,1.1395476961419055,-1.9607784383290316,-0.04899038118549274,0.30878665237110403,0.18322998011681002,1.438961232143648,-0.9139861845841588,-1.5791225987455524,0.29852384828674805,-0.23809515258109556,-1.0589841833950973,0.4067344280521964,-0.08395768789323323,0.3038322238137741,-1.2948966347321342,0.2176841332264442,0.7445423565562576,-0.14416810027101856,-0.7746609876097953,1.2040573028463635,0.8034712641342414,-0.1921796024695616,-0.13781608344510263,0.3836453455259363,-1.6151388622335876,-0.5803191454813852,1.6013950694255767,0.230030087420762,0.99184290038609,0.038140076100907555,0.6887732056146413,0.6797736541344229,-1.3063628471350224,0.6677124212911142,2.27468172793916,0.9082499312803273,-0.6837628881714507,-1.1334445900698462,0.2541058314648574,1.0366069727925413,0.48758409899483335,0.15956975686154165,0.1490865834051645,2.0111945838916,-0.9114179101049702,0.6517379320951088,-1.2682990943956662,0.6791482373138374,-0.8839603379564297,0.7872166591920507,-1.7340402025237887,0.15136611509518622,-0.7319286758307959,0.2754026361243725,-0.03913040515627849,-0.4278465664243888,2.2112718760746595,2.424850387237713,-0.6698772438650057,-0.2411632780356636,-0.03740299404421511,0.5164949044555118,-1.973032978927919,2.1700643891400464,0.19804249478148656,-0.132949941950877,-0.4334144844529394,1.1465157278179572,-1.7497350360324728,-0.528725323732527,-0.4149005731265457,0.8307812958904964,-0.4005316998977989,-1.3156721856391103,0.8157428680525518,-1.539962828077268,0.6772776329421161,-0.7184744635031165,0.0505585648820067,1.0711993783162628,0.3217567615482536,0.9998957707559201,-0.1528202232097683,0.3901067563256807,0.6339625134321725,-0.5473959649573471,1.5624298383131974,0.7565090170813359,1.0229581376078332,0.7346940737782822,0.5186138979782774,-0.6218681999333088,0.7185339160225978,1.1454019407343652,-0.3003027618552581,-0.07903974277697468,-0.003603746099911283,1.1836812290763032,-0.24595821228908096,-2.1909991877135884,0.5515466079969776,0.5010624710173176,0.6401770352308628,0.10308292469687505,1.2656567726158316,0.38800879817004597,0.4268534769403336,1.5330810280980258,-0.5965346768046728,-0.6864093143410871,0.12595069943398984,1.6461978881930437,0.3219274769444912,0.6771352247536492,1.7143142615579645,-1.7386380326332036,1.955202541148162,-1.2499049247074612,-2.599873059660168,-0.33957367295581115,1.971703942209544,0.21971139267702927,-0.9805903163643899,-0.053110854523976944,-0.7881738309242611,-0.03498424685655823,0.02598477090089671,0.03677411851525709,-0.7168378966246407,0.15686662115852795,-1.6979680017059622,-0.4321740673414076,0.9110674142970914,-0.3490077636535395,0.43121031510400964,-2.0503754363825926,0.18345923225899732,0.14567620627989664,0.17876677640345384,-0.37141743170102753,-0.4569991841346662,1.430717555941987,1.0615965406358978,1.0714902144080798,0.9380931709672338,-0.5858024424189416,0.5851197547526891,1.4423341460418806,-1.2867078861189158,-0.14939515103616413,-0.18529519424488242,0.17112873518266425,0.7538640126993181,0.4137550872837049,0.3061607100930042,-0.4835585342675701,-0.6688611581137719,-0.5797393632133337,-1.12153439919063,0.6792947847908549,-1.0663452062932461,-0.3152518324125398,-0.5772140079731612,-1.1099502867740048,-0.7078341677843418,-1.4154739972893313,-0.82614911831694,0.815153157204152,-2.365519782147935,-0.19561424242986242,-0.3208277821665658,0.8541438231297983,-0.4020394620278635,-1.361928263304326,0.6055149169016744,0.19949171019499315,-1.0434735632190228,0.7346810418190083,1.237590633559928,-0.8949674960058147,-1.0058150690930212,0.7412641775676865,-0.8981582373981856,0.4418264242174171,-0.5524662944243085,-0.7149709770858599,0.6854414235011304,-0.9055923005841521,1.0551513399522918,-0.8396656054134068,-0.06421108047002418,-1.1330810485432676,1.3978362485315197,-1.477085618624271,0.036706001045487706,-1.3523965838306553,-0.7079638484457205,-0.17179129040219898,2.518803969199629,-1.504130523019702,1.1554062259195192,-0.1567366843645372,-0.3366492986715279,0.16108989265613108,0.4097577800868571,-0.8118148384548832,0.326336456987081,-2.2156885761571314,1.70872313428998,-0.21831058040944776,0.45369886484889704,0.4965683676776644,-0.08925892976156026,-1.0797498894614144,-0.9239446917331509,1.6819360709401157,0.8589522296206533,-0.5417097592193366,-0.783118268719786,-1.079666232319398,-0.06767657372435967,1.1295750799083475,0.8548492828507762,-0.5674695251825325,0.19035736455941024,0.16972073132531254,-0.6268566044643492,0.6977211855317152,-0.07242297219147616,1.375204667105674,0.25647293484398237,1.2272865501045245,2.4356321880305702,0.5685035871750366,1.619646960989775,-0.16536657530558532,-0.9342068325393748,-0.632058456425837,0.7211159626909686,0.8460990802014949,0.40579207836397413,2.0347311521856524,-0.13742358104366073,-0.053228493094646445,0.6606987721705279,-1.9414716296082175,0.008415270852922733,-2.600648101802977,-1.2419818412927255,0.836620899817847,-0.7981336178920208,-1.0710268048763052,0.28083704439841733,-0.23623610702965553,-0.3372922756773136,1.797886425445699,3.01074246622566,2.4055619133662383,0.15157471988829838,-0.6180686106110641,-0.4324172774939132,-0.3075586208159579,0.14784097828197618,0.30814724543010324,0.042380381254103705,-1.0321425237321913,1.0020891162356524,-0.06789857492833105,0.3817514573480674,-0.6998989160975231,0.4633592929084921,2.192762564890458,-1.026608091984696,-1.2854167495326019,-0.058111049265150115,-0.10940985728825346,-1.5353828140638734,-0.8867647679329542,0.3599023571817792,-0.03322053944743064,0.9053484942534231,-0.36535611451913935,0.5692951096277631,-0.9543305030252413,-0.22928216745256966,1.2198047250481379,0.7706167050400021,1.1776736050251788,2.013501287937665,-0.05476437260171731,-0.6487454999394123,-0.7333035843467317,0.5074957556645259,0.4539580519848389,-0.07108233707657409,0.07523114566807652,-0.7870286333254708,1.8627651049079672,-1.2432451899984314,-1.4328684026214475,-0.2044921694916366,0.15843929648564514,-0.21089857992829253,-0.9101041128546202,-0.8824831758459583,0.006706049424777161,0.6567836458244024,0.2072145438338124,0.8984397168474508,-0.7750662454586047,-0.340907569673333,-0.7359445701274674,-0.7131882197082505,0.12406938761566293,0.09901445203716476,-0.2130460799365205,-0.08431061038076451,0.8959939758695441,-1.233948388500097,0.9005913384459443,-0.7803813161378783,1.2954402363395954,0.21448516580913438,-0.5723871876121172,-0.1850933087342984,-0.47447578733216855,2.9111102325056133,0.872023834437339,-0.14939699405905263,1.558313843411965,0.6615008112154164,-0.14462242027231173,1.6734812146668803,1.727342616845477,-0.9690428712741654,0.9116721414652365,1.394620091110899,3.203928384251855,1.5543384014740274,-0.7649081602818828,0.22376773395936042,-0.3395107138484715,0.6513203157386624,0.06913587000222701,1.1474073255203432,0.5152795639975973,0.8431358481071995,-1.4364959366101584,-1.2695225733110047,0.8310260091992857,-0.28306757881656225,0.16935760833300392,-0.12847995005418014,-0.11711177304006629,0.5943713051606081,0.7605227202951671,0.33150273153873366,-1.5685541188414447,-0.15253320431918896,-0.12324910218829349,-0.8627869244769198,0.6593601254415763,1.2739590502523435,0.5558379068260542,1.8165845096935946,-0.18380087819528215,-1.3896387160345003,0.22789823934542755,-0.651226016777032,1.788165963817363,0.7780900604488518,0.9522529253601054,-0.4101487798317179,-0.35778689936643904,0.16532345484865674,0.8519241019669832,2.4574766552958542,-0.04902213803623024,-0.6459664259939016,-0.18544241891167954,0.5066646058356278,0.3633828486964324,-1.0213954410111052,0.009817929184340105,-0.04019293162267248,-0.9646830791823647,-1.2491611875801447,2.588353685586397,2.2562581740709176,-0.15738862920797694,-1.7499164078936078,0.8228619827554223,-0.4776395487985347,0.9560759067501369,0.3385524026070977,0.18115137347823154,-0.49165449989446824,-0.26673054823235504,0.383431349511002,0.541533579470201,-0.9553810937287138,-0.15503977082907688,-1.8379984909996807,0.11430129378742167,2.2580975361721896,-0.1639411754791158,0.32116093744031554,-0.14336031216833378,-0.8996618629064861,-1.4230210641031293,-0.5736885770469926,0.5994957740739963,-0.46739600066309084,2.107000301126436,-0.9242843657259303,-0.2357863509478285,0.8860015627861558,-0.5273214065674878,-1.3509466814885642,0.04781361612673776,0.47645204732306684,0.48753872274464344,-1.817121468947746,0.7136180141378694,0.4773910207093224,-0.9619056245010265,0.17019085760342428,-0.8995404296679638,0.18260688878430564,-0.17980654707790883,0.8561079376499193,2.5337199099105727,0.29118260277688446,1.785022315665103,-0.8290269344472457,0.4736797690647215,0.02391118589635818,1.1543437584600624,1.3664270685783764,0.8113180713567548,-1.1913927920537681,-0.08550564046815463,0.9510075961322764,1.0089943145586617,-0.9763671702246682,-0.4123690679251615,0.543352790401679,1.0369008998616271,-0.2353296432681184,-0.23755486890673352,-0.13858631446420314,0.6876081554701946,-0.27870104032183457,0.4455194690369478,-0.9962892611220522,-0.0691276487488282,0.5655454328998335,0.13076732049978945,-0.8082070502271617,-1.2403441882532622,-0.5836368430666119,0.9751635792994857,0.6049871913449143,0.5332788702310048,-0.5513383160438469,-0.5693675572520767,0.601966774994249,-0.6281838648611513,-1.090042677902676,0.29467439018469005,-0.27061751189800437,0.4875016300261232,0.5753807019808178,-0.23725575474268248,-0.18412965296401343,-0.7654836075515754,0.058165997119048775,-0.02280158624929689,-0.34539626983732347,0.11889409904542281,0.7238270864003258,0.6607910022087351,0.058654110292075456,-1.1955381508818488,-1.0049387187762109,-0.5153400675831894,-0.966200235842998,0.7534417353808939,1.640303011969463,0.6774541516967356,0.5242385564088351,-0.8074483870134327,-1.8340406759271568,0.4250327190273302,1.9098063594103907,3.5248503917046747,0.07906703067096678,0.2607768264330667,0.2513851413320421,-0.25526036472005476,-0.8596786579426812,0.7852751451434514,-0.5272274368330654,-1.0149779494955786,-0.17423504020665803,-1.5685063100574423,1.0790184182853013,1.2425888837577477,-0.42233188846255204,-0.23077745644602146,0.45045168859103857,1.352832893939118,0.3823836759068804,-0.2890790798356658,-0.4118792323341833,-0.8608714474611966,-2.342146782601241,0.07436726985272046,0.9927707789792578,0.6349911498863329,-0.3588170905376044,0.31288529557910005,-1.6730983974784994,-1.7923744037182283,-0.11284844555029684,-1.0352371442198576,-0.15311362691282315,-0.28120028568533645,-1.2816031080459,-0.7311959570212605,1.5317261560368336,-0.4281246055723616,-0.8703075594669561,-0.23345761396200662,0.18720420089101233,-1.1128971639221394,1.59855769327526,0.22471670132403906,1.5840396163679429,-0.10238224575018982,1.3374193694544716,-0.26896091542714806,-1.158533554041331,1.3768859650960634,0.06569897274901851,0.03370389233824753,1.4641440075633447,0.20680690696985682,0.8251867017796064,-0.16160490779923045,-0.31472144423046805,1.0125784428569746,-1.2730482797057538,0.5789885510128944,0.09362459947163868,-0.6880969306186886,1.5385898535131863,0.62696233775186,1.318642093278947,-1.4006837360123332,-0.28816572324791756,-0.7194573542557986,0.280946279473337,-0.904944953151156,-1.0411020172569763,0.6185704177965058,-2.0692106078616086,-0.3867895312940418,-0.5719055517144628,-0.3998665277510633,0.5292882901460434,0.18461598853222283,-0.42352113776959566,-1.275711049289475,-1.4479024354719834,-0.9188501077704537,-0.3186571198033013,-0.33380842326746507,0.050723876163275686,1.2784431903677331,-0.31262298543867445,1.4380584620839882,1.0662954027494582,-0.16978568728636248,-0.2527436073905331,0.28231103102782257,0.6235537453454998,-0.5378836145864063,1.1853443897720046,-0.24756368521417899,1.8204687895777254,0.6982073207883054,-2.586708173195811,1.7947665295187807,1.0404427562981582,-1.8756606548288373,-1.960305361442947,-0.6895492309182522,0.13175968031143923,-0.9014140795055096,-0.8422924533812849,0.9494803250525936,-1.366306754944159,-0.47908057245226815,0.02264732312145299,1.045096071571537,-0.09071452530305596,0.8701720088282995,0.15363515920680207,1.2288985218062174,-0.6791498712830953,2.113943768946971,0.8430551441754942,-0.1971739505506646,-0.8838082463246254,-1.2824876463062453,-0.384558175780416,0.48464995586450926,-0.2706539578288018,1.5110559496412506,1.3661609539670412,-1.0929107532881057,-0.5494116191627745,-1.1332838371045106,-1.7089555236052518,-2.153393965343042,-0.3514227334749926,2.033134732863617,-0.8979183163725422,-1.3165107220801116,-0.36199283574215735,0.9961304748402563,1.7422980954038738,1.9512778565884037,1.3263901535924527,0.34651949461564585,-0.8113507924534245,-1.035583180352434,-0.2173610859618711,-0.4298167291917897,0.5962255803337613,-0.4255602603664015,-1.810798727016133,-0.23566201050154711,0.638318327976956,-0.5234871211516345,-0.20721487729908203,-0.02409692089407164,0.03605858576322135,-0.2020614348051859,-0.16055634223312737,-0.4778116779212115],\"type\":\"scatter\"},{\"marker\":{\"color\":\"red\",\"size\":5},\"mode\":\"markers\",\"opacity\":0.8,\"x\":[0.7822650028706619,-1.3262876055762856,0.509910215867029,-1.5219521998424357,-0.8052780975043395,1.4010168797290992,1.4134459035747455,0.038381741638087115,1.0606894279171082,-1.6380934626533308,-0.6265837188119202,0.9761206219481322,-1.8600631838298485,-0.5787096077802619,-0.6792382656245741,0.6235204443136618,-2.0297048527916632,0.33006679756009105,1.4451111557663197,0.6892686504602245,-1.8876038246431734,-1.7130466171008494,0.6635440927084899,0.2216408606124246,0.36101020127758027,-1.1555830289080604,0.11058587183801058,-0.5753368261984351,1.0997136960946734,-0.4298856179125874,1.2735722647261334,0.10536271404907478,-0.8268159780952596,0.29901321533780345,1.126076127495532,0.483332340210303,-1.964078049209661,-1.0860763725093296,-1.75307807320004,-0.797497719654029,0.40332965435951945,-0.818976262492222,-1.5806160308294546,-0.5364456500060509,-0.3901438602639172,-0.48091317438326336,0.6646636327098261,-1.0431834605604762,-0.9855141938770352,-0.6753306072617639,1.3915704045457347,1.6303067822764368,1.0809183503894328,1.2638612980988495,0.10515880651222147,0.25386769633124723,-0.14861724770559923,1.6261523558561006,-0.25205813463935683,1.1873281026965044,-0.25637249179744104,0.20511105754096945,-0.06716761572826388,1.9854359187497614,-0.5974831839465037,0.22963946016229395,1.230123854812675,0.7635397710475873,1.2145048975273258,0.9610007633760892,0.7000129332235357,0.3877774759954961,-1.2270448443073179,0.04877118899295382,1.5425603182022272,1.5398309122488365,0.6278944195504543,-0.6322642722251424,0.7809867029789762,-1.5725520590618387,0.2485295118388386,-1.5741948793733982,-0.76493838343497,-0.014647365200283516,-1.3937885811282273,1.4754377036178516,-0.9307299768046691,0.8561009511461246,-0.3733566080180642,-0.20932720018952036,0.4316779689701213,1.4556573068317882,1.65333045765609,0.3946370438177062,0.8778064732675183,1.4475174661326558,-0.14288215042050034,0.5818327720818144,1.0160920331606864,-0.04537452563521345,-1.2054165373375514,0.9773495977335248,0.7667358699007163,0.7820128444094541,-0.6784406064938724,1.128206421010281,0.7896039479417352,-0.4498243584584728,0.8697131817057008,0.6176874849111272,-1.036674393414548,-0.271894274025389,-0.8314777303322111,-0.4961608091910542,-1.3365836497510135,1.3084875893065422,0.03133432001819644,0.3726749560399944,0.48769016395298165,1.1693363352784183,-1.2752751184540734,-0.29428560707973406,-1.154928021463245,0.6085925151418179,-0.11304405811505,-0.4967922774972314,0.7182716458404507,-0.8948213028557533,0.13633768459114753,0.49319032542441865,-2.931241617693828,-1.4272036160153012,-0.09658665310208035,0.1284838420312507,-1.1167926832071686,0.3297696146370771,-1.0908483723992797,1.282486699132369,1.6920915702056076,-0.4476087756500327,0.6359173499994337,0.30726972040713807,1.224084858330145,-1.5480867072367714,-1.6865845237986705,-1.0696373185403814,-1.1196676366681304,-0.0803530795277114,0.08340598720462129,-0.9499808787364254,-0.3685923308936727,-0.5842299144073135,-0.3424465421650067,-0.2822443042113612,-0.7468215715947751,1.1954507383068673,-0.6339140275038095,0.5384591169641276,-0.6115582417311815,0.08613335975248083,0.3203916742828628,0.36075864946394515,0.002955844066602787,0.2984377591372452,1.1672408550445748,1.433255968213623,-1.4114750505013887,-1.0635749239687016,-1.031364428786452,0.07054562770982371,0.06136204257735377,-0.0365091524515716,0.2792713708927117,2.3982484201934304,-0.3239278709327247,0.005144283424791623,-0.1534732801493902,-0.6538720653815325,-0.32055562576193863,-0.048044616259854296,-0.0740798655328061,-0.052475463259845506,0.5295819030474516,-1.3058650971047063,0.7772956866996302,-0.6237538926044229,1.657747622629937,2.403997870064078,-0.11737743284157816,1.1638914885968008,0.5364909439435714,1.6623775605693618,0.8742719349964619,-1.103891032172329,-0.08299388208626468,-0.23029812136096467,0.32403004713924255,-1.4759474737521376,0.011340654756096507,-1.566579070609495,-0.8995906902105947,-1.5376392141623827,-0.30409496628909993,-1.772842545377705,1.24519374678671,-1.2473790577364567,-0.3361976871792572,1.2979729040411663,0.28380599294323566,0.3866026771004423,0.4150675687599609,-0.15272323811538954,-1.101965587979914,1.6796994604335713,0.12168698644197956,-0.5054771706247893,0.28415571074027546,-1.1345268366230752,1.3726253308430207,-0.27307348856555314,0.413409671465931,2.5435616609485794,0.5037978316278413,-1.1436166818510505,-0.7634744034745885,-0.2230047048327533,-0.4057878824609773,0.5419653658681048,-0.22134015543442126,1.4271382180248924,0.6208103434928812,2.182243500016391,0.12706263903941217,0.7366399683024875,0.6751778707160457,-0.22511744098958797,-0.4621090456134495,0.684235214755849,0.13314274057076486,0.269027682634397,-0.23755487066572156,-1.1034887155999806,0.40833718597691265,-0.19238880667779903,0.3585647644169138,1.430861907011316,-1.3412665812069435,1.01362824484552,0.4755927163669774,0.31249344754483743,0.5042945157664638,0.6646969924736778,-0.13482951207179925,-0.02824666250551307,-0.7337092251357475,0.3716669961799316,-0.09671122073631344,-1.1801753031251048,0.00970859927102302,-1.6976236613754025,0.7515315347609939,1.6091281192624587,0.3542919666851225,0.22064462365529625,0.9819596659192691,-0.5558151347370487,1.0095079880912368,1.370972901136384,-0.06000931581808588,0.37778104252490663,1.1013207846966178,-0.8431132366481151,1.6884841589179889,-0.43747780166558375,-1.0658884501164505,-0.3564147879688864,0.2004910383062657,-0.9118456107545618,-0.4088107758303749,-0.7384651017850796,1.2222497878972725,2.008017324133708,-0.959653585440423,-0.6280701748949885,0.5876647500378167,0.855106894475439,0.39553159840836327,-0.12767368884746866,0.03091275499894645,-0.5813533751939653,0.8081209199284711,-0.13797390948095664,0.6161487899212547,-0.43527329990493147,-0.0235516731173697,0.548683591546131,-1.7661228786942462,1.0421691780241626,-0.47059294451500616,-0.3634139790357151,-0.1839736258414049,-1.1581392039984675,1.415944104457445,-0.5828459059298549,-0.06388426956736178,2.387637706726043,-0.34735296807149857,-1.3214870109880057,0.972681034375431,-0.40092783772686674,1.2455280952135053,1.1528802081253169,0.15245993607515793,0.7060614586427538,-0.6156505200800986,-1.6981373050863782,-0.08865251534198329,-0.3614450527098396,-0.014519368732890876,-1.3650616884413858,1.260954106327446,-0.3116514773167808,0.6038867423802831,1.1511488330976218,-0.27770675795824357,-1.2823817994731792,-0.5331498466805128,-0.9827938927042633,-0.24577064028355464,0.7822817123924722,-0.18677074977076671,-0.27511555688288525,1.592243923565186,0.4831260893570649,-0.1966263420656586,0.9403962537383965,-1.3325879888451635,1.3842664935961102,-0.010839337559502173,-2.5157161443711957,-0.2667094962561974,0.019990260586004404,0.14659890081023416,0.09848081001771519,0.6316473418667301,-1.2379062516258612,-1.0917476555084051,-0.5034471572851144,-2.0199564231774314,0.6739880949603081,1.5075822160473666,0.12046342404590882,1.0633879075820152,-1.051990168463319,0.48506877757441835,1.4269406086300682,1.2465517782740583,0.7450123446016931,1.6157978401890685,-1.1061743575033616,0.6762580277446262,1.0144314304274735,0.09003236492899457,0.20350056893203444,-0.27258383259929275,-0.9763762451194395,-0.26728623192016326,-1.426795853867029,-0.07778657353737639,-0.5888767708417045,-0.03631093282659983,0.8841068924403788,1.7262305591192024,0.791492324726682,-0.45697816000256747,0.8820966436476275,-0.878027493745245,0.7249749349194835,2.093099106806741,0.6058821367219818,0.9794075311696332,0.3300872210079477,-2.604025315986433,-0.44249400660531013,-1.2083713945402905,0.7916815167479575,1.073719957814244,-1.4146315570134171,-1.5006037326541548,-0.798042997466915,0.549358980934581,-0.7109585048416085,0.3867379227455773,-0.6372769961483714,1.622070944257768,-1.9281263114052865,0.08274040412826765,0.8689953192380446,2.190811783690639,0.41954772328234796,0.9205429040919597,0.8229310683777071,-0.24556636749141575,0.8277551979159474,-0.13378034153927068,-1.685438924577043,0.3175046260490513,-0.7377542007996079,0.8151940164512168,-0.8112307697704816,0.27370490521072377,0.018483028816743716,0.1752247309061456,-0.19387874789750684,0.6612254622005267,-1.8580741352885422,1.2921377195305006,0.29130608943331726,-0.518552176337297,-0.8699938552606656,0.6753619616910355,2.346649396040275,-1.5593865225100896,1.816498402646128,-0.4939585072421723,-1.7116048773878894,0.6589510966619769,-1.1238906675065616,0.03535550477787437,-1.193540942420184,-0.15345006210390946,-0.10136635959074576,0.7788058829301141,0.9893801889169844,-0.44578860436112816,-1.7039944337751576,-0.8715733608966668,-1.0063560085469843,1.2446401140002687,0.6769944683656275,-0.38507611389098856,-1.7965145074719784,-0.26599700073068916,0.13858716706936516,0.8162648276681018,-0.18160390771404222,1.1589570648972047,-0.31596189838602395,-0.45184622335037833,0.7425572914594134,-1.066606325151873,-2.12108243716865,0.44715377631431596,-1.025463829994019,0.3678490943186298,-0.39757717161714873,1.4298497060428206,0.4324140785005818,-0.28828672818028367,-2.094711200531898,-0.2904855570043622,-0.41933820198184235,-1.6502043483235174,1.0232233997689222,-1.3137052465075836,1.315884378805093,1.5108836371879588,-0.25365924494822617,-2.2615242396246624,-0.06036631356722181,1.2162302521666035,-0.9597093675748971,1.6660150808219665,1.063877707244186,0.3655291260943603,0.3265789207842134,0.7279609088507926,-1.5054566209705407,0.6170552622254075,-0.23595229624347838,-0.5086526581506992,-0.4621480989153001,0.0031621709632735796,0.9542023228834488,0.362368707508517,-0.8032839202373938,-1.7691466459560303,-0.8817315411274254,0.9570566941086934,-1.5225831736671644,-1.8588056723890933,-0.9285408442473895,-0.4214975417507177,-0.1545142097923716,-0.5336546855671649,-0.6156337032140542,2.117917575888316,0.2756297215546005,-0.4015732835022225,0.3221653979360527,-2.1373443491373387,-1.009465287107361,-0.927599634280918,0.3174397904505967,-0.8981243800486055,1.5003319090417877,0.32520397941421864,-1.6631370521051323,0.29822436207336905,-1.2685812924765327,0.1863646736275028,0.9085239519532884,1.1874007100152055,-0.44969478505108446,-0.4450566681883133,-0.059612606759669236,0.9776815741372537,0.2292139129119724,0.45191704739766597,-0.3513072656584225,-1.087913910663353,0.7912635346744865,-0.9843293245282267,-0.0805301153567796,1.3853362103931588,-0.43199309441314415,-0.6169070440875958,0.2761544344508064,-0.1287560240670437,-1.1785978386509885,-0.31629222522561595,-0.4428346643658109,-0.5435146205501797,0.6790788505823647,0.19220705157404344,0.768533870948386,-0.7845313389977284,2.4743776807445275,0.49840287600634814,0.5822408316743427,-2.2285385671451055,1.1521265358713555,-1.3693178846687095,-0.28301963989102175,1.3056225827498404,-1.112268538477044,-1.6716590672213778,0.47001114904181895,-1.1599026062742528,0.33114078015322757,0.3773497792730817,-2.0795219564276994,1.2749930784555434,1.4268723680990607,-0.8538655063960398,1.4191621325634438,-0.3306245457310539,-0.808206966442208,-0.5686497712445857,0.04843463996208191,1.4822283372637055,0.1798812531027563,1.2334677847767965,-0.8068911124480725,-0.3760709948440613,0.8974949639455835,0.9663837154856185,-0.2007728881085692,0.3063813293967068,-2.0811679080825303,-0.297697586730195,0.3997898597125595,0.34232075242432414,-0.662955478790764,1.2176390088528495,-0.16548800150134366,-0.33534994920664696,-1.426304162789948,0.6463338834991823,-0.7732232141805107,-1.872857318164224,-0.5732730460631995,-0.7571865975857666,-1.0509866588794061,1.3242478543311385,-0.14758028336056717,0.21588813458604492,-1.213904283183733,-0.5892425966854646,-2.0536542931134676,0.037581767725042715,-0.6883327497024918,0.21215305729372125,0.43042464197437247,0.049073418154925934,1.1501285693491436,0.4491496746307862,0.12251200813304505,1.1577497163399608,0.5116831203252622,-0.2120190910019712,-1.6761895887446596,-2.2659806792733037,-0.5510652562217112,-0.9067079431102192,-1.2986749018214825,-0.6670260254146078,0.20707400445202317,0.8505756520595734,0.18728092889996792,0.3853293874506954,-1.0312657208046359,0.6262821890714809,0.9573634348136074,-1.7788923621544719,0.47676081568362993,-1.0797771504340459,0.4463155275412789,-0.8322524487467021,-2.5342385253746085,-0.14887597403503078,0.837941727434752,0.0654432491328322,-0.4297044682179556,1.7749626713484568,0.3148326546042335,-0.589204219941388,0.9945100666229877,0.22811355920835857,-0.06257555762815009,-0.3799389663337271,0.03368642711355746,-0.1608543107726275,-0.7292175682135303,-0.8872566188322255,-0.4566510883046232,0.10860447410637658,0.013743131364848818,0.20334895539274825,1.5863929800897834,-0.33384094181004703,0.26046970473729963,0.33511591040818195,1.579761858890103,-0.6189650502110451,-2.0435652206315917,1.1469369435862373,0.46504479210640604,-0.2138867280631254,0.7958433030511589,0.8294330449439159,0.2058656587648824,1.794151979277821,-0.19927791134329734,-0.6550271969826108,-1.6402844220804484,-1.6229121507130038,-0.2830589580990382,0.10900537973078009,0.3002260819357395,1.033303829956834,-0.8210834800827248,-0.017731269283784292,-0.1697219457908768,2.2844327549417014,-1.1187603555331533,1.9289175067507767,-1.7620703479896027,1.1121775847681556,-1.2187721885068266,-0.20946164322961244,-0.3646205060077908,1.077446546905131,0.07627701910569314,-1.058645586465694,-0.21509394635873266,0.6347226070351086,-0.8006085190682442,-1.6020001722041772,0.0022062107086541806,-0.20502192960771987,-1.2006166276804602,0.6267613998141488,-0.8438667049577334,-0.9946392965719155,-1.3474962688736998,-0.23389075358312011,2.1021725903924975,-0.5047351561784869,0.6622877683310946,-1.492628466430138,-1.6899622379309813,0.015533013572528717,0.2738276142761374,-1.2768291086081265,1.3090481411720336,-0.0018180433624556142,-1.208197586820293,-0.010064417588745784,-0.628679729416286,0.36001067464715025,0.029207653570193757,-0.36452270264108744,-0.4290924953633513,-0.9653094451002654,0.3476815017052816,-0.36073046682104487,1.7609996537765256,2.1207119555550498,-1.6556957898616622,-1.2777640241934818,0.6651105559723101,-0.7386112133287076,1.322075352124306,1.1883351734534986,-1.531089748007523,0.8574200488601161,-2.0656833454892887,0.5625831523066136,-0.5311528576673985,-0.9863282207110067,-0.7474656550875683,0.24434718264571703,-1.0966676586202353,-1.5168799723199582,0.5132582025166372,1.8770351259554598,0.5174181473843743,-1.2089981908070346,0.39928385872101607,1.3596666341017178,0.15791019557801717,-0.019253645560771644,-1.0845421142472562,-0.4729784090967769,-3.0449846208740925,-1.939937716128434,1.5029956439733634,1.612712263439488,-0.15012498194969096,0.6115833739245495,-1.7796635536935026,0.39443971101961445,-1.012941475606585,0.8573607624031512,-0.5338176062978588,-0.5649890957147244,-1.0445470617057382,-0.21899653725439505,0.4696110220636277,0.9904006093922623,-1.1596789509933243,-2.4210093164558146,-0.976063048692361,0.3596093783645294,-1.493511990405029,0.9093812043440894,1.18105874718167,0.5970423814734253,-0.32281427991331474,-0.16593505148349552,-1.5668265940225745,-0.10202517565146624,1.1923425075705354,-1.1724019097398277,0.6306702403762094,0.8158728437293138,0.15741392024093448,-0.7851035275684728,-0.8218442418938927,1.5793787986172514,-0.8662921064945069,0.2690692359514737,-0.26135450241817665,-0.32970002363642004,2.7835663593175535,-0.46455680970808066,-0.6307204898390489,0.10888190855541369,-1.2206190926567733,0.2786284225967108,-1.7775687205244237,1.2925664007833157,-1.409131974004457,1.0510885906768157,0.5287526502275746,-0.38284782167588965,-0.45567580708981564,2.3169310109206958,-0.0605916343039926,-0.7888157529612244,-0.4339440862904993,-0.6889598152703684,0.8201997439672329,0.44838503375066546,-0.7548723776638587,0.01189523844205022,1.3389851239736945,-0.5838898267851694,0.2234287030439964,1.396349966578292,0.41009068657009706,0.5438951251523658,0.12240211496786868,-0.7491616747256092,-1.722158688986751,0.9141471185822702,0.002089792338389069,0.26205552776530644,1.37395152062324,0.2309553347100816,-0.6544916691378261,0.5155353308573554,1.4511784838867723,-1.0671543887791926,-0.39596300331803946,1.8236700619523685,0.8416991361201326,-0.16928819026763672,-0.3055515322334943,-0.0463643261439116,0.2386523847554548,0.18699356065459646,0.12969109668465298,0.26845914992497444,0.7902710311066357,-0.9756197444778375,-0.6774311675638859,-0.38545918788650374,-0.7576037033881098,1.4164386957255408,-0.8616818689078597,2.357831232445402,-0.45758568810174566,0.018558038060311376,0.9017129040662796,-0.7163559175701145,-1.8002325570323676,-1.7765431564098983,-0.7727295971828946,0.10057964348782338,-2.015888339856568,-1.1264250413380832,-1.9952370984894063,0.06340472968254755,-0.2297806220673693,-0.36450683308535764,0.9596958993576944,0.39172105924985573,-1.1414993410174128,0.6073416932818979,0.061435621329303726,0.6479124596408488,1.5454331921452582,-0.2092649877172178,-0.703883548679221,1.1684127969447122,0.4672823136998249,-0.6224843587648937,-0.7106885870887282,-0.15053007207755237,-1.3658177736691925,-0.26387140690873573,0.4719870375324132,0.3299904514972537,0.6019307115257714,-0.9651909262709575,-0.6807076942599286,0.30819996142634093,1.1115373347318265,1.6148221566972343,0.7465461984846417,0.22334854489660136,-1.2415960792665452,0.5088602007306127,1.3668178531771367,-1.5418265863321228,0.4725236068749823,-1.63934397877917,-0.3937066616909387,-1.5027533265312047,0.692925777774076,-0.7276699131720445,0.6422106414325772,-0.29545502731919465,-0.7104412067955319,-0.8219040162689645,1.213625229836065,-1.4769694234958053,0.3713528579213989,1.9865266451376828,-0.42385946660861723,-1.44585950629257,-0.8054257906792964,0.15195072127821974,-0.37251334100477856,-1.0055118179404208,-0.39491707113779406,-0.16524053234423197,-1.3715163451069627,0.343279005640374,0.036129622509310635,-0.20140353398768374,0.6983074200067156,-1.359812881084631,0.5637668492052024,-1.2651921204234633,1.4050469255489504,1.1916170819495016,1.1494395295651982,0.008580784375362562,-1.217788101012567,1.3990673683334223,-0.10661739076131271,1.2602083159328088,1.3969263064842485,-1.401445168469318,-0.5484997973623104,0.04018809151599316,-0.30162526290368663,0.34675947920429323,0.9530162529419469,-0.12733439806267557,2.789721909697153,-0.7633431543557675,0.17804418453312187,-0.1549953919795142,-1.6626191932013308,0.8983420260495069,0.049605014430463994,-1.2628108587192775,0.8638436214755006,0.6958515015254538,-0.8694673508912572,0.4232034866428451,0.7258285562912716,-0.7740930053260049,-1.1151280869248732,-0.7180970945575943,-0.5248929122727053,1.0600005523901976,-3.1054197950123568,-1.4822136772444818,0.9550666164791596,1.0841987927387988,-0.3600311008737897,0.24164139046542574,-0.4427960103730427,-0.03057702641683688,-1.2114406945992673,1.063566495734,-0.42021246825673536,0.5913774070472027,1.341494849052581,-1.9058158512099004,-0.7272627333535782,0.726183203313959,0.13630521659921796,0.6417719153421109,-1.1290584232046745,0.30551840476389514,0.6076030048180757,-0.19622770863787167,0.5770343170493943,-0.6349905740824598,-0.9662767089133107,0.2922456291257556,-0.996657223613478,-0.014773748491166028,2.1801958292513715,0.06693367229250075,0.5229596210532056,1.336270455667381,1.5897567712186653,0.23816378008545788,-0.512240543777445,0.37189713073757474,1.3389970532955544,0.03583132360212251,-0.5316381779583577,-0.6442410717771176,-2.394961668451358,-0.5875132017342289,-0.8031452988755245,0.909430881416175,-0.2825466529272656,0.6421316187462714,2.12724695849451,-1.1079296569471464,0.963813019103335,1.0195038286426903,0.12928449889918137,-1.1242084618785624,1.06028398466594,-0.3196919806027757,0.6676022976683577,-1.4463102612038266,-0.5653713567119176,-0.6469344590001611,0.19925079905145404],\"y\":[0.4784223042383615,-0.7828594893146592,1.6835574757944576,-0.41172846478520575,1.2131516712600787,-1.0971003584299797,-1.3904589181218066,-0.25449944301988275,-0.49728393562132933,-1.3170728660576225,0.548858536876346,-0.13673037869780755,-1.1211728432834986,-0.12076613216358267,0.5083435829252707,-0.8033103817140398,-1.8794139079013168,0.35349311137454265,-2.1602709912480846,0.47462620580124776,-0.6081842181356805,0.6960351547463698,-2.075027674553515,-0.5183008195160563,-1.8180400518960456,-0.8379221245917615,0.3438312910513801,-1.973912700347284,1.1038601941313493,-0.9652709572382184,-0.3447858311297262,-0.17280095744378485,-0.2747200088861646,0.7275699349923007,-1.5894807480358666,0.4505060970988787,-0.1484603897582346,-0.5552386518279556,-0.2816642964406931,0.3251896810352055,1.0828181434430344,0.8746031395028903,-0.6531076523878506,-1.1460398883027512,1.0313014374786968,-1.1401556642547355,-0.5919060813914573,-0.302755076558458,-2.1631262146005343,-0.8462653142485729,-0.07455767285694775,-1.0252444416102666,-0.9512526169300202,0.27069423417377925,1.4246818800543053,-0.5926448169209192,-0.8902591913832164,-0.9097932480225703,-0.8904906790857758,0.38875663854613585,0.15673726778849265,-0.8370367242278903,-1.7369551839721469,0.4954532026641665,-0.22554769660094887,-0.21680810374923162,0.7176751802375186,0.4827710397502153,0.33935436101602096,-0.7382872392703812,0.8884439625236742,-0.06265913498101303,-0.5237415783787974,-0.218733905481679,0.39868152173608085,0.1806898464946425,0.33704515165134513,0.6711224842452149,-1.4208380928783262,0.8284760878634942,-0.39323869479695045,1.70336086053504,-1.4434734318600053,-0.8143507123075923,-0.9603843658070926,-1.927988153409207,1.4836459831472801,1.6608798704266272,-0.2605700312446155,-0.026305072265525767,1.652929614112938,1.1482304749440146,-1.108930507215213,-0.49308358281118886,0.6793207513171374,1.899969183200292,1.282474728942141,-0.757861520194469,0.00825499988626093,1.0278977679132328,0.7899824427960014,1.1358042914428805,-0.6624589492979365,-0.9179487941704861,-0.04561845958677954,0.5856570199254906,0.20086992194198763,0.11303691920248657,0.25627638624078203,2.1706121554591657,0.5852391612001137,-1.5718111100639383,-0.6886656953078758,-2.116033633334004,0.19655126570825746,0.2877642676469379,-0.06005340980834785,-0.8589418987305053,0.5312338313516681,0.05726649673095744,1.1104373384809851,-0.6696334868087437,-1.416862412557437,0.2626714388262529,-1.1483517410687918,-1.6362298891429066,0.13483693479074912,1.0021786539969237,-0.5309441924563961,-0.6376278096364798,-0.6084074503567176,-0.1566407386758245,0.4148704912641041,1.006824042771744,-0.928376485690793,-0.04253297594920043,0.49496171194958016,-0.4873808598256578,-0.5809107024092132,-0.7397353540515976,1.0965412958698015,-1.5984755350705127,-0.9872235166258715,0.6231848771843778,-1.5776414557611338,-0.651706646582079,2.6394555192029037,0.9707380195403568,0.2065003699780676,1.2489755858209775,1.7854206494633178,-1.6840230860586316,0.17413327841866694,-0.2954040733379547,0.6077484130305327,0.09844389766086471,-0.5021354207718967,-1.174969124656744,0.9520713647064754,1.8917584731777273,0.11412392744137961,-1.4554761044135935,-1.5997022126263016,0.4025817610676155,-0.4410620943882333,-0.8334338107478106,-1.288497986209802,0.9889394802645006,-0.938542068047165,-2.3798090805329273,1.0887164219245467,-1.63112586359762,0.0815571382050391,-0.01199059987125268,0.07060808927885245,-1.510546866029909,0.37111022121948484,-0.34787584557703716,-1.002861564633415,-0.9091905298191643,-1.1129716680955501,0.6364407561360376,0.9095787622393757,0.15448145599809487,0.02324968215372008,-0.4889898548627943,-0.04432501077716209,1.0603266576047243,1.3292865441282242,2.334878087631238,0.27259959898718455,1.0148974389163754,-0.2171138430846833,-1.0595318675302268,0.3732302695317175,2.416206482974324,0.4219900256706821,-2.811916862834922,1.1197197572316109,1.0960218596692892,1.1177688855418118,0.35125188768560245,-0.6654708016355715,-0.1257446947492263,0.8004730260763433,0.26171788032037013,-1.1906795399612546,0.7297089091038865,0.7881462442271818,-0.37271681315697563,-1.5529850227486675,0.07172988697619172,-1.3602844482348604,0.8798917220258803,-0.5308558159468542,-0.32633800167018884,1.1014265592524026,0.9895084899738791,1.2462542787108741,0.41167177858334664,0.3944467026314939,1.1462283059487064,-0.8194257765525461,-1.192604896821709,-0.19147681934993227,1.2042654676656777,-1.5446669104800275,-0.6937155109312627,0.38260747305719106,-0.43789744341190096,-1.1850334671062102,-0.14881182281002686,-0.7830731964258864,-0.17591286052167035,0.17972056651135712,0.05955179259998106,-0.2170812194336625,-0.2803388749692062,-0.46567667511819905,0.26838007129177494,1.7560006849956835,0.0694656289493054,0.15548568171579732,-1.2372318024449542,1.123424148804236,-0.9279232911270497,2.2641719853690043,1.6146053710980295,-0.12025440702581601,-0.8907119801266022,0.2622851509113826,0.6175123389459978,-1.3182507128360064,0.4760478425727798,-0.5257186713606637,-1.3065194973104055,0.7173196509489378,-1.2216991054650885,-0.5440072671086463,-0.8653850671229824,-0.43284691006007414,-0.8189145143348276,-0.7167230137638158,1.9850158341699318,-1.2843866592809805,-0.42008956300214556,1.0485444658455263,-0.07290225474589974,0.46178348921959034,1.2570171167310236,1.4740979867532733,1.257202930278708,-0.43012396252836743,0.9255869081344187,1.3987463885715814,1.9863520526965988,-0.5086885356583402,-0.2780866519841098,-0.7010763154769465,-0.5257386507638927,-0.4105836381246698,-1.6666878221612322,-0.6833972382123202,-0.7068403028680257,-0.25316856930842135,-0.6207133314937126,0.6241407605921159,-1.629608248752186,0.9592040777040148,0.24158952328744807,-0.34335142372140437,0.40515500362633167,-0.08206031099501773,1.0843134967154895,-1.483906784761977,-0.10887260731127202,-0.0029486473503358094,-0.09147339040523107,-0.21228552896587677,-0.8431718748830658,1.0375837024949837,1.0007969317941723,0.6226881478014468,2.079793275493325,-1.5643231730959846,0.47716278577921817,-0.6190479307574079,-0.5382541461287017,1.184178472308291,0.37395027554534616,0.3278880438004917,0.3612889360941244,-0.2992563675956262,-0.0035969699590690193,-1.3665984467017516,-1.633181629877265,1.5927897867082685,-0.3341189105295529,-0.2989293613085058,-0.6370529843533709,0.06680245748632921,-0.12447463626660318,-0.8533066190817795,-0.3286452709471022,0.10221332235330526,0.2409098306177467,0.5223718523347823,-0.5532052475262633,-0.8749269812410115,2.042575822289192,-0.6133131954250923,0.528777534014114,1.480066391970844,1.5641129221095735,-0.33385198106644937,-1.1247655510593428,-0.009096517724930007,-0.11669649580992346,-0.09435598997629055,0.7162036628565819,-0.767364634783028,0.1881689035524194,0.20361142612478697,1.6814112069874934,1.0431806971302942,-1.2680494545085181,-0.7829271056753421,-0.44337148836055656,0.10679679656237782,-0.9669765239137359,1.3151772473530734,-0.33061305887191633,1.2328389800829485,1.5589609714024708,-0.09846892352262754,-0.681535259109845,0.5651830331860153,-0.11788792950901933,0.9602987043154213,0.2612209623932177,0.23445218519049651,0.4055570078052538,-1.6256835541840662,0.8656266850766328,-0.1481253625064255,-0.38112520232046027,0.2228405364779775,0.5321254854924539,-1.6118797369927687,0.44363712870325833,-0.6443934888675261,-0.21856145577973005,1.1474910352474044,-0.24164484100387942,1.1815392273203464,-0.9778704960991808,0.27145393618831004,0.1697738080644922,1.5542502028295255,0.9730121226103613,-0.06209166906665237,-0.37640827995782594,0.8834958314078352,-0.29787108651821975,-0.3671097484790228,0.8380813826123714,0.9580552948968903,-0.720159726504978,-0.9354213195680969,-1.5042117836550712,-0.14622077185686214,-0.3588653453824989,-0.7431931824333926,0.06360947930848351,-0.9357229220387782,-1.1389064865645888,-1.3252552744514536,1.3223882094424773,0.8096613537406515,0.18602073139194017,0.9130395801332721,-0.973784335771249,-0.4206642131606041,-0.0978451139725307,1.668061146774614,0.8011377615127613,-0.6548861142430278,-0.9627434631827877,-0.988658543929323,0.2398317940781537,-1.8480911249968561,1.7468133847534304,0.0021218573569859586,1.488894474313855,-0.7525090764248863,-0.0055402248879081305,0.6878158578947977,1.3725014039583054,0.7115999289921977,0.5908698984132725,-0.07281394141461332,1.0359740923288536,0.2894211840452687,-0.5336147154442069,0.1976481043654841,0.38499739997081095,0.17545014982518425,-0.6112464564034071,0.8516868009782733,-1.1071366035895103,-0.017072746619721538,0.9944202197846949,0.1697404480494399,0.17998675993485158,0.8716456991855094,0.0908812086019308,-0.09081525867717843,0.5470787097645561,1.1752648423707763,-1.7872180615550484,-0.563785836072933,-0.48381079226745793,-0.033734166600070364,-0.39405124772151323,0.7969201028804955,2.337576496411878,0.35185869788570484,-2.1285548705212705,1.16901168704009,0.6021534675629056,-0.5650877024877115,-2.7841136026809976,1.07963083770016,1.546840543581342,-0.1465532340023041,1.6906693502426169,-0.3664220604598587,-0.3600063841275503,0.6288725950247086,1.2183940809523757,-0.5363347280471692,-0.21064666398290766,0.8689813102691525,-0.73994564139011,0.8567299124836838,-0.39668099604426066,-1.0372131762881518,0.06471921227792041,1.8492522450700972,-0.9593291651744317,-1.6856447587012897,-1.0202221637741045,0.024680900726438464,1.2162260517728647,0.5662838334566249,0.5496870259742124,-0.5457904890684729,-0.26551769164225514,-1.0194249521721337,0.651582541308011,0.31743104756174295,-0.05223041729333748,1.2023718894296447,-0.7361704210040223,-0.7133732582484285,-0.9808428948606112,-1.1806234833712475,0.1177603493652424,0.015965319868094453,-0.5425862866099143,0.9600809036272205,0.5270907858938194,0.35138222213752085,1.1484411901201372,0.6227389006881789,0.1823464409818585,-2.120200157602904,-0.7542676942934148,-0.2556926358054185,0.7101711983873712,0.6499411590977848,1.470923354903223,0.3214091109458299,0.2469511035583831,-0.0744316173375831,0.6034481552585016,0.156514766125274,1.4766251067337295,-0.057411134430878134,-0.8000499043339923,-0.3861419892718359,-1.1431218628870399,0.4800375982383721,1.2413626688634116,-0.4451960775985527,0.011753262409727483,-0.14582251269767754,0.5611546512740491,0.026756960833306136,0.37194051701404207,-0.7958945010439733,-0.5036990263139552,0.6435982166940122,-0.2943284622412106,-0.35114751530632515,-0.7428361569221558,0.6150903371972837,-0.29826284653836027,-1.123057329610946,0.4813115620048803,-0.20852350281930376,-0.40224514645906445,-0.5552374245556736,0.20864104439507924,-0.12752728750743297,-0.10993805668611722,0.3662596122298736,0.5947111137300695,0.003509208626916682,1.830804982470192,-1.4762214615209435,0.9221590108253914,-2.2081121251166604,-0.6147777350560034,1.6246242081497402,-1.7697010557026822,2.0616125859827763,-0.5330181464826901,1.277575038824308,0.3103258021560384,0.5648253220882458,-0.5144196267250467,1.952183304886021,0.8427294066775031,0.9169763982781807,-1.56793140230226,0.9547992173684965,-0.7290379447864874,1.2538253463849964,0.8029093064879689,0.3628503341695126,-1.0554355897686656,0.1354578012779709,0.6971461299989586,0.2828682797857944,0.2690064442806533,0.05723858031941145,-1.7177154318452161,2.7070837761808666,-1.2480346601669292,-0.7045815033480436,-0.4057504150107088,2.145210956753159,-0.1457475889303553,-0.42167926586539173,2.210724837513928,-0.5174428635888573,1.812581325945292,1.7143672166416004,0.5306743350375758,0.623737085561575,0.15777069531412516,2.1513667135383985,-0.4086331802703791,-0.08460016252240221,0.5412952007263062,1.4406693964330592,0.019334482983664823,-1.1534275201470656,0.8526944320663182,-1.2674445598472286,-0.25687429186210436,0.6164288027581972,-0.5678401674190194,0.18133398411536272,-1.6108601227167088,-1.568069755090861,-0.42762918798546556,-0.5403822760205056,-0.7363333292418776,1.1780555151980803,-0.2363526394025514,-1.1524290687449945,-0.03104755524151416,2.6665006651928387,2.3788701963421652,-0.08810188730151043,-0.27393725343202513,0.5568912903631604,-0.5524592065770427,0.5446635634369313,-1.09281068385621,-2.022521346097133,-0.13676766608846486,-1.2189355332012153,-0.29492715767054234,-1.926075063207318,-1.0880986281107667,-1.2820465272765036,0.48245611117450665,-0.9513392701309499,0.24632777298580452,1.0357688834839496,0.6627229312709937,0.04132485230316736,1.269098537221755,0.45870534780659494,0.2779414317847927,1.2145403617014554,-2.537338782118702,0.545026603148057,-0.6478186119088136,-0.582760756261298,-0.7115936015919666,0.2209267907923516,1.540198340378107,2.4872090096627053,-0.8125463257723933,-0.08491385616670788,1.585102334834043,-0.2663960114251251,-0.07401951559227136,-0.9402145356391565,1.5132994786933405,-0.622666874138489,0.18218528159112385,-1.5468637006160602,-1.3494130394836976,-1.2297661414231065,1.4942719987861275,0.2185837791232806,-0.24746013561552727,0.7315214835842029,1.2162547564388575,-0.7508000680202856,-0.5845117096814508,-0.7982019885450032,-0.7162372381577505,0.40904708418087365,-0.6853073848315232,-0.671480858914863,-1.2629904063980455,-0.2792379216532493,-0.6363216430620582,0.2903418037119806,1.4685137653212967,-0.10402280883284344,-0.9192000130138435,-1.1348610109809423,1.0279312697930336,0.1740189456048857,-1.0493987474376751,-0.04577264203460789,-0.4563746637230818,0.6956248698725676,1.0725228729705911,-0.06107298667159308,1.984271119501937,-0.9704379381951027,1.2492852799999283,1.1940794094128153,0.34615105894629744,-0.6363611091397438,0.04812530233287089,1.4982809553233352,3.1930191971258988,0.654823660197834,0.3040295543821469,-0.19892775631391652,0.6401614582549858,0.12459331678138047,-0.5288129265874507,0.8581427894301822,0.21370165350437959,0.2292903789951737,-0.607866061119404,-0.13566213489218681,0.48712555322459256,-1.5850940998646053,-0.42672101382086336,-0.6109848305485158,-1.313010236505551,-0.008887394455052915,0.015601952737177915,-0.45716292283388593,-0.5985761385978038,-0.5036609107188056,1.0700416735966443,0.08471916009897454,-0.01972155309201025,0.18788740940978144,0.44727286386692394,-0.7491783219928324,-0.007612695099143367,0.8369314557111879,-1.311267663618004,-2.2241827712413387,0.4685720620069695,1.0040109341081704,-0.6467836159617391,-0.8341895086765229,-0.4468691084243235,0.23043659587516133,0.320320306795205,1.5561000895285215,0.06801807403798356,0.9649496639799793,-1.0120794185716753,2.5360610268117245,0.8795616624905339,0.973924921554519,-0.003148567629102408,-0.7222619888862979,-1.6430729575843699,-0.15858369594779625,0.6062266472240754,1.1787327750226626,0.5607884908559498,0.6177042893915736,-0.38816273540013957,1.3460593968604797,0.1862136217743101,0.5134735237131628,0.8547552976383129,-1.4347207796875905,0.7508476494765068,1.420370875434357,0.3475808656294771,-0.6265823220244755,-0.7750651526708291,0.4115248237888752,-0.4168001687960696,1.0444186519321699,-0.9700406759525135,2.364936890714378,-0.7780159372609,-0.872827870917767,-0.3585983567074889,0.997707461207656,1.181012095955141,-0.23024158961972507,0.04559960530523889,1.3069237176026736,0.7054870072883562,0.6186190498208234,1.1836234061642645,-0.5985869437621772,0.6406365157656853,-0.5118524414258238,0.8753766923092491,-1.2289824401504472,-0.9170495329834427,0.8032720971824359,0.9363105717995386,0.30733136305368564,-0.8013049914411892,-0.973382431311771,0.45550471383098234,1.709778002196257,0.4305778718406545,0.7760334090691924,0.20491588158767945,-0.3109485923602881,1.516155962955509,-1.0400286266561536,0.6408319742655229,0.6302282095588493,0.45735199709719726,-0.19729369854348433,-0.7860782465554664,-0.49184221257062055,0.06804130555298496,-0.7950832857153514,0.6923152772803693,-0.257710554191488,1.3614359232629072,0.5723378761988797,0.28977825712589095,1.34147764333456,0.793566422886525,0.8502176322339324,0.8656116927840921,-1.404557876736488,0.09417191521944401,0.08998022549314513,0.09639572536430252,0.2551130914289786,-0.44984348335207247,0.1388620280427241,2.0836444349812497,1.1714107326285972,0.7235595536311232,0.4000183878088354,-0.4136646083597577,-2.7039335961524102,0.8980306667513323,0.27329988169515496,0.18151912869364192,-0.9025607806826919,-0.3107507545607137,1.1457412982359194,0.0681126526646435,0.25338591117962206,0.08933675725164958,-0.669588759326898,-0.5634526882045653,-2.839660872526067,0.14896545640739445,1.401464913719126,0.9270535583648954,2.3735920031719675,-0.831487848783471,0.7736217096240097,0.22029867802654055,-1.165115628302671,1.3578605757853008,1.315828412714534,-0.05454704531772168,-0.497207685833278,-0.5234160383324796,-0.9111229443915493,0.5392112608172848,0.7017515178200101,1.6635858559033485,0.9976923867607814,1.1196787086426776,-0.09269875866941515,-0.30440591437153847,-0.24995498821377451,0.7909710344746741,0.8542491401325796,-1.6819868201888686,0.25723749418446595,-0.005471902606253838,1.445351028582291,-0.6751351048307956,-0.11393830293167855,0.7903345583745316,-0.9273658353232925,0.7809525753965573,-0.5224083893800348,-1.7209090889632594,-1.4666159233761253,-0.5373622237342146,-1.4999055255521747,0.1172904241010784,-0.642914112227795,0.19716907268811545,-0.18502294299194832,0.4715189244846606,0.10180618308570533,-0.7243866506622727,-0.5790842339652609,-0.9865269506713497,0.19487512753081138,-0.9066773719348086,-1.0753815509198346,1.0075065457906853,-0.40556255305333,0.8345891319513018,-0.3925199242692924,0.3876206015661816,-1.1888604208536624,-1.1825551506746856,0.013314708650696236,0.7049462349913249,1.940001333643818,1.4152465941734398,0.4306992661760501,1.693983253634462,0.6217756410290879,0.6208556829211275,-0.36208234457906147,-1.5942404877639031,0.5108509637634836,0.11210779114371094,0.1616507672790782,-0.5915073749655673,-0.009151699554578825,-0.43534206906966016,-2.362016152627987,0.26824234792907464,0.9037588414335337,-1.7319297350752036,0.8195589268143382,1.331084353281038,-1.3218210692441188,0.29427027431044184,1.5081628573272319,0.35100244759002075,0.7825909843282487,-2.7322877299287662,0.006245337216438387,1.6071531938228782,-1.0679009652343558,-0.26745049569978663,-0.8786140405603362,-0.2388048311823553,-0.30114406544339206,0.6894930569925273,0.013971091086155544,-0.4499519064803472,-1.261545227177763,0.8840215588097283,-1.1846717228153179,0.048789841460876025,1.4567015343218148,-0.360143365930455,-2.1017352236634093,1.0390679049401272,0.08717178299960789,0.8499862737586532,0.9511281399561216,-0.3132889815807319,-0.5618724028223598,-1.5587607813217053,0.13979651091974432,-0.7916694927594135,0.6357196803246553,1.2547006347934802,-1.2674898782396888,0.6812911172472481,-0.22443125193962468,-1.415094671665964,-2.2340406962989228,-2.1102715591590555,-0.4935967087681221,-1.346948882625786,0.5079666896194805,-0.2668760685228403,-0.7757969415068992,-0.20120186265489684,-1.2121269286949112,1.6001277170020705,-1.4630493255847807,0.2166227321601641,1.4385503220428715,1.8761788618352346,0.1353972669202441,0.2201909720693528,1.3807283899045932,0.8116044720116913,-1.8488385613083305,-0.05670287122298156,-0.3389856077037541,1.0054849694597856,-0.34994186425360724,0.8749038729856996,2.701314681719056,-0.28359026641843377,-0.1289369384409304,-0.026524522740635048,-0.820664421046573,0.466217756054753,-0.9315686791974078,2.7065155327133725,-0.6904428714057118,-0.6985345209275244,0.7109031230129154,2.2027596799652565,0.3075128666492733,-1.6425082413049843,-0.016303356084625915,0.3515474296357532,-0.21130274646201302,-0.5466852304917434,-0.09415094555042969,1.2617595768675018,-0.3009056598869334,0.8057815211251279,-0.5583651460213079,0.8752392151528007,0.4602626536123172,0.6695354202988505,-0.4272091678918835,-0.38155030221830016,0.9524019122436143,-0.38602036896426284,-0.34566807280039136,-1.043680391729762],\"type\":\"scatter\"}],                        {\"height\":400,\"margin\":{\"b\":30,\"l\":50,\"r\":20,\"t\":50},\"showlegend\":false,\"template\":{\"data\":{\"barpolar\":[{\"marker\":{\"line\":{\"color\":\"white\",\"width\":0.5},\"pattern\":{\"fillmode\":\"overlay\",\"size\":10,\"solidity\":0.2}},\"type\":\"barpolar\"}],\"bar\":[{\"error_x\":{\"color\":\"#2a3f5f\"},\"error_y\":{\"color\":\"#2a3f5f\"},\"marker\":{\"line\":{\"color\":\"white\",\"width\":0.5},\"pattern\":{\"fillmode\":\"overlay\",\"size\":10,\"solidity\":0.2}},\"type\":\"bar\"}],\"carpet\":[{\"aaxis\":{\"endlinecolor\":\"#2a3f5f\",\"gridcolor\":\"#C8D4E3\",\"linecolor\":\"#C8D4E3\",\"minorgridcolor\":\"#C8D4E3\",\"startlinecolor\":\"#2a3f5f\"},\"baxis\":{\"endlinecolor\":\"#2a3f5f\",\"gridcolor\":\"#C8D4E3\",\"linecolor\":\"#C8D4E3\",\"minorgridcolor\":\"#C8D4E3\",\"startlinecolor\":\"#2a3f5f\"},\"type\":\"carpet\"}],\"choropleth\":[{\"colorbar\":{\"outlinewidth\":0,\"ticks\":\"\"},\"type\":\"choropleth\"}],\"contourcarpet\":[{\"colorbar\":{\"outlinewidth\":0,\"ticks\":\"\"},\"type\":\"contourcarpet\"}],\"contour\":[{\"colorbar\":{\"outlinewidth\":0,\"ticks\":\"\"},\"colorscale\":[[0.0,\"#0d0887\"],[0.1111111111111111,\"#46039f\"],[0.2222222222222222,\"#7201a8\"],[0.3333333333333333,\"#9c179e\"],[0.4444444444444444,\"#bd3786\"],[0.5555555555555556,\"#d8576b\"],[0.6666666666666666,\"#ed7953\"],[0.7777777777777778,\"#fb9f3a\"],[0.8888888888888888,\"#fdca26\"],[1.0,\"#f0f921\"]],\"type\":\"contour\"}],\"heatmapgl\":[{\"colorbar\":{\"outlinewidth\":0,\"ticks\":\"\"},\"colorscale\":[[0.0,\"#0d0887\"],[0.1111111111111111,\"#46039f\"],[0.2222222222222222,\"#7201a8\"],[0.3333333333333333,\"#9c179e\"],[0.4444444444444444,\"#bd3786\"],[0.5555555555555556,\"#d8576b\"],[0.6666666666666666,\"#ed7953\"],[0.7777777777777778,\"#fb9f3a\"],[0.8888888888888888,\"#fdca26\"],[1.0,\"#f0f921\"]],\"type\":\"heatmapgl\"}],\"heatmap\":[{\"colorbar\":{\"outlinewidth\":0,\"ticks\":\"\"},\"colorscale\":[[0.0,\"#0d0887\"],[0.1111111111111111,\"#46039f\"],[0.2222222222222222,\"#7201a8\"],[0.3333333333333333,\"#9c179e\"],[0.4444444444444444,\"#bd3786\"],[0.5555555555555556,\"#d8576b\"],[0.6666666666666666,\"#ed7953\"],[0.7777777777777778,\"#fb9f3a\"],[0.8888888888888888,\"#fdca26\"],[1.0,\"#f0f921\"]],\"type\":\"heatmap\"}],\"histogram2dcontour\":[{\"colorbar\":{\"outlinewidth\":0,\"ticks\":\"\"},\"colorscale\":[[0.0,\"#0d0887\"],[0.1111111111111111,\"#46039f\"],[0.2222222222222222,\"#7201a8\"],[0.3333333333333333,\"#9c179e\"],[0.4444444444444444,\"#bd3786\"],[0.5555555555555556,\"#d8576b\"],[0.6666666666666666,\"#ed7953\"],[0.7777777777777778,\"#fb9f3a\"],[0.8888888888888888,\"#fdca26\"],[1.0,\"#f0f921\"]],\"type\":\"histogram2dcontour\"}],\"histogram2d\":[{\"colorbar\":{\"outlinewidth\":0,\"ticks\":\"\"},\"colorscale\":[[0.0,\"#0d0887\"],[0.1111111111111111,\"#46039f\"],[0.2222222222222222,\"#7201a8\"],[0.3333333333333333,\"#9c179e\"],[0.4444444444444444,\"#bd3786\"],[0.5555555555555556,\"#d8576b\"],[0.6666666666666666,\"#ed7953\"],[0.7777777777777778,\"#fb9f3a\"],[0.8888888888888888,\"#fdca26\"],[1.0,\"#f0f921\"]],\"type\":\"histogram2d\"}],\"histogram\":[{\"marker\":{\"pattern\":{\"fillmode\":\"overlay\",\"size\":10,\"solidity\":0.2}},\"type\":\"histogram\"}],\"mesh3d\":[{\"colorbar\":{\"outlinewidth\":0,\"ticks\":\"\"},\"type\":\"mesh3d\"}],\"parcoords\":[{\"line\":{\"colorbar\":{\"outlinewidth\":0,\"ticks\":\"\"}},\"type\":\"parcoords\"}],\"pie\":[{\"automargin\":true,\"type\":\"pie\"}],\"scatter3d\":[{\"line\":{\"colorbar\":{\"outlinewidth\":0,\"ticks\":\"\"}},\"marker\":{\"colorbar\":{\"outlinewidth\":0,\"ticks\":\"\"}},\"type\":\"scatter3d\"}],\"scattercarpet\":[{\"marker\":{\"colorbar\":{\"outlinewidth\":0,\"ticks\":\"\"}},\"type\":\"scattercarpet\"}],\"scattergeo\":[{\"marker\":{\"colorbar\":{\"outlinewidth\":0,\"ticks\":\"\"}},\"type\":\"scattergeo\"}],\"scattergl\":[{\"marker\":{\"colorbar\":{\"outlinewidth\":0,\"ticks\":\"\"}},\"type\":\"scattergl\"}],\"scattermapbox\":[{\"marker\":{\"colorbar\":{\"outlinewidth\":0,\"ticks\":\"\"}},\"type\":\"scattermapbox\"}],\"scatterpolargl\":[{\"marker\":{\"colorbar\":{\"outlinewidth\":0,\"ticks\":\"\"}},\"type\":\"scatterpolargl\"}],\"scatterpolar\":[{\"marker\":{\"colorbar\":{\"outlinewidth\":0,\"ticks\":\"\"}},\"type\":\"scatterpolar\"}],\"scatter\":[{\"marker\":{\"colorbar\":{\"outlinewidth\":0,\"ticks\":\"\"}},\"type\":\"scatter\"}],\"scatterternary\":[{\"marker\":{\"colorbar\":{\"outlinewidth\":0,\"ticks\":\"\"}},\"type\":\"scatterternary\"}],\"surface\":[{\"colorbar\":{\"outlinewidth\":0,\"ticks\":\"\"},\"colorscale\":[[0.0,\"#0d0887\"],[0.1111111111111111,\"#46039f\"],[0.2222222222222222,\"#7201a8\"],[0.3333333333333333,\"#9c179e\"],[0.4444444444444444,\"#bd3786\"],[0.5555555555555556,\"#d8576b\"],[0.6666666666666666,\"#ed7953\"],[0.7777777777777778,\"#fb9f3a\"],[0.8888888888888888,\"#fdca26\"],[1.0,\"#f0f921\"]],\"type\":\"surface\"}],\"table\":[{\"cells\":{\"fill\":{\"color\":\"#EBF0F8\"},\"line\":{\"color\":\"white\"}},\"header\":{\"fill\":{\"color\":\"#C8D4E3\"},\"line\":{\"color\":\"white\"}},\"type\":\"table\"}]},\"layout\":{\"annotationdefaults\":{\"arrowcolor\":\"#2a3f5f\",\"arrowhead\":0,\"arrowwidth\":1},\"autotypenumbers\":\"strict\",\"coloraxis\":{\"colorbar\":{\"outlinewidth\":0,\"ticks\":\"\"}},\"colorscale\":{\"diverging\":[[0,\"#8e0152\"],[0.1,\"#c51b7d\"],[0.2,\"#de77ae\"],[0.3,\"#f1b6da\"],[0.4,\"#fde0ef\"],[0.5,\"#f7f7f7\"],[0.6,\"#e6f5d0\"],[0.7,\"#b8e186\"],[0.8,\"#7fbc41\"],[0.9,\"#4d9221\"],[1,\"#276419\"]],\"sequential\":[[0.0,\"#0d0887\"],[0.1111111111111111,\"#46039f\"],[0.2222222222222222,\"#7201a8\"],[0.3333333333333333,\"#9c179e\"],[0.4444444444444444,\"#bd3786\"],[0.5555555555555556,\"#d8576b\"],[0.6666666666666666,\"#ed7953\"],[0.7777777777777778,\"#fb9f3a\"],[0.8888888888888888,\"#fdca26\"],[1.0,\"#f0f921\"]],\"sequentialminus\":[[0.0,\"#0d0887\"],[0.1111111111111111,\"#46039f\"],[0.2222222222222222,\"#7201a8\"],[0.3333333333333333,\"#9c179e\"],[0.4444444444444444,\"#bd3786\"],[0.5555555555555556,\"#d8576b\"],[0.6666666666666666,\"#ed7953\"],[0.7777777777777778,\"#fb9f3a\"],[0.8888888888888888,\"#fdca26\"],[1.0,\"#f0f921\"]]},\"colorway\":[\"#636efa\",\"#EF553B\",\"#00cc96\",\"#ab63fa\",\"#FFA15A\",\"#19d3f3\",\"#FF6692\",\"#B6E880\",\"#FF97FF\",\"#FECB52\"],\"font\":{\"color\":\"#2a3f5f\"},\"geo\":{\"bgcolor\":\"white\",\"lakecolor\":\"white\",\"landcolor\":\"white\",\"showlakes\":true,\"showland\":true,\"subunitcolor\":\"#C8D4E3\"},\"hoverlabel\":{\"align\":\"left\"},\"hovermode\":\"closest\",\"mapbox\":{\"style\":\"light\"},\"paper_bgcolor\":\"white\",\"plot_bgcolor\":\"white\",\"polar\":{\"angularaxis\":{\"gridcolor\":\"#EBF0F8\",\"linecolor\":\"#EBF0F8\",\"ticks\":\"\"},\"bgcolor\":\"white\",\"radialaxis\":{\"gridcolor\":\"#EBF0F8\",\"linecolor\":\"#EBF0F8\",\"ticks\":\"\"}},\"scene\":{\"xaxis\":{\"backgroundcolor\":\"white\",\"gridcolor\":\"#DFE8F3\",\"gridwidth\":2,\"linecolor\":\"#EBF0F8\",\"showbackground\":true,\"ticks\":\"\",\"zerolinecolor\":\"#EBF0F8\"},\"yaxis\":{\"backgroundcolor\":\"white\",\"gridcolor\":\"#DFE8F3\",\"gridwidth\":2,\"linecolor\":\"#EBF0F8\",\"showbackground\":true,\"ticks\":\"\",\"zerolinecolor\":\"#EBF0F8\"},\"zaxis\":{\"backgroundcolor\":\"white\",\"gridcolor\":\"#DFE8F3\",\"gridwidth\":2,\"linecolor\":\"#EBF0F8\",\"showbackground\":true,\"ticks\":\"\",\"zerolinecolor\":\"#EBF0F8\"}},\"shapedefaults\":{\"line\":{\"color\":\"#2a3f5f\"}},\"ternary\":{\"aaxis\":{\"gridcolor\":\"#DFE8F3\",\"linecolor\":\"#A2B1C6\",\"ticks\":\"\"},\"baxis\":{\"gridcolor\":\"#DFE8F3\",\"linecolor\":\"#A2B1C6\",\"ticks\":\"\"},\"bgcolor\":\"white\",\"caxis\":{\"gridcolor\":\"#DFE8F3\",\"linecolor\":\"#A2B1C6\",\"ticks\":\"\"}},\"title\":{\"x\":0.05},\"xaxis\":{\"automargin\":true,\"gridcolor\":\"#EBF0F8\",\"linecolor\":\"#EBF0F8\",\"ticks\":\"\",\"title\":{\"standoff\":15},\"zerolinecolor\":\"#EBF0F8\",\"zerolinewidth\":2},\"yaxis\":{\"automargin\":true,\"gridcolor\":\"#EBF0F8\",\"linecolor\":\"#EBF0F8\",\"ticks\":\"\",\"title\":{\"standoff\":15},\"zerolinecolor\":\"#EBF0F8\",\"zerolinewidth\":2}}},\"title\":{\"font\":{\"size\":10},\"text\":\"<b>Efficient Frontier </b> \",\"xanchor\":\"left\"},\"width\":550},                        {\"responsive\": true}                    ).then(function(){\n",
       "                            \n",
       "var gd = document.getElementById('5d6b4172-49ba-4717-8f29-ebe17ba872e6');\n",
       "var x = new MutationObserver(function (mutations, observer) {{\n",
       "        var display = window.getComputedStyle(gd).display;\n",
       "        if (!display || display === 'none') {{\n",
       "            console.log([gd, 'removed!']);\n",
       "            Plotly.purge(gd);\n",
       "            observer.disconnect();\n",
       "        }}\n",
       "}});\n",
       "\n",
       "// Listen for the removal of the full notebook cells\n",
       "var notebookContainer = gd.closest('#notebook-container');\n",
       "if (notebookContainer) {{\n",
       "    x.observe(notebookContainer, {childList: true});\n",
       "}}\n",
       "\n",
       "// Listen for the clearing of the current output cell\n",
       "var outputEl = gd.closest('.output');\n",
       "if (outputEl) {{\n",
       "    x.observe(outputEl, {childList: true});\n",
       "}}\n",
       "\n",
       "                        })                };                });            </script>        </div>"
      ]
     },
     "metadata": {},
     "output_type": "display_data"
    }
   ],
   "source": [
    "traces=[]\n",
    "traces.append(go.Scatter(x=Zc[:,0],y=Zc[:,3],mode='markers',marker={'color':'blue','size':2},opacity=0.8))\n",
    "traces.append(go.Scatter(x=Zu[0,:],y=Zu[3,:],mode='markers',marker={'color':'red','size':5},opacity=0.8))\n",
    "print(corr)\n",
    "scat(traces)"
   ]
  },
  {
   "cell_type": "code",
   "execution_count": 4,
   "id": "5e065ade",
   "metadata": {},
   "outputs": [
    {
     "data": {
      "text/plain": [
       "<function matplotlib.pyplot.show(close=None, block=None)>"
      ]
     },
     "execution_count": 4,
     "metadata": {},
     "output_type": "execute_result"
    },
    {
     "data": {
      "image/png": "[encoded data removed]",
      "text/plain": [
       "<Figure size 640x480 with 1 Axes>"
      ]
     },
     "metadata": {},
     "output_type": "display_data"
    }
   ],
   "source": [
    "import math\n",
    "import matplotlib.pyplot as plt\n",
    "def birthday(k):\n",
    "    return 1- math.factorial(365)/((365**k)*math.factorial(365-k))\n",
    "    \n",
    "x = [birthday(i) for i in range(1,365)]\n",
    "plt.plot(x)\n",
    "plt.show"
   ]
  }
 ],
 "metadata": {
  "interpreter": {
   "hash": "ae495d51253963d5bfe07d5bb9852f25adcde5dd8b593184b0fe829f5db136e6"
  },
  "kernelspec": {
   "display_name": "env1",
   "language": "python",
   "name": "python3"
  },
  "language_info": {
   "codemirror_mode": {
    "name": "ipython",
    "version": 3
   },
   "file_extension": ".py",
   "mimetype": "text/x-python",
   "name": "python",
   "nbconvert_exporter": "python",
   "pygments_lexer": "ipython3",
   "version": "3.11.7"
  }
 },
 "nbformat": 4,
 "nbformat_minor": 5
}
