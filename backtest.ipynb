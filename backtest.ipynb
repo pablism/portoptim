{
 "cells": [
  {
   "cell_type": "code",
   "execution_count": 234,
   "metadata": {},
   "outputs": [],
   "source": [
    "import pandas as pd\n",
    "import numpy as np\n",
    "from mystuff import bdp,bdh\n",
    "import datetime\n",
    "import funciones_optim\n",
    "from importlib import reload\n",
    "reload(funciones_optim)\n",
    "from funciones_optim import backt"
   ]
  },
  {
   "cell_type": "code",
   "execution_count": 235,
   "metadata": {},
   "outputs": [],
   "source": [
    "# carga precios de bloomberg \n",
    "p = backt.loadprices(20171231)"
   ]
  },
  {
   "cell_type": "code",
   "execution_count": 236,
   "metadata": {},
   "outputs": [],
   "source": [
    "#calculo de retornos para cada asset class\n",
    "r = p.apply(backt.rt,args=[p],axis=0).drop(['USCASH'],axis=1)\n",
    "r = r.loc[:,['SPX','EEM','XAU','USTTEN','COCASH','USDCOP']]"
   ]
  },
  {
   "cell_type": "code",
   "execution_count": 237,
   "metadata": {},
   "outputs": [],
   "source": [
    "#rango de fechas donde se va a hacer el backtesting\n",
    "sdate = datetime.datetime(2019,1,31)\n",
    "fdate = datetime.datetime(2023,12,31)\n",
    "\n",
    "#Ejemplo de un portafolio equally weighted que rebalancea mensualmente y vuelve siempre al vector inicial\n",
    "w = np.ones(6)*0.20\n",
    "rdates =pd.date_range(sdate,fdate)\n",
    "rbw = pd.DataFrame(np.tile(w,(len(rdates),1)),index=rdates).resample('M').last()\n",
    "wp,rp = backt.portr(r,sdate,fdate,w,rebal=False)"
   ]
  },
  {
   "cell_type": "code",
   "execution_count": 238,
   "metadata": {},
   "outputs": [],
   "source": [
    "# ejemplo de 5 portafolios con rebalanceos mensuales a recomendaciones ( en este caso los w son generados aleateoriamente como proxy de un modelo)\n",
    "# wi es el vector inicial del modelo\n",
    "# rbw contiene los vectores recomendacion mensuales\n",
    "ports=[]\n",
    "for p in range(5):\n",
    "    wx = pd.DataFrame(np.random.rand(6,len(rbw)))\n",
    "    wx = wx/wx.iloc[:-1,:].sum()\n",
    "    wx = wx.transpose()\n",
    "    wx.index = rbw.index\n",
    "    wi = np.random.rand(6)\n",
    "    wi = wi/sum(wi[:-1])\n",
    "    w_,r_ = backt.portr(r,sdate,fdate,wi,rebal=True,rbw=wx)\n",
    "    ports.append(r_)\n",
    "ports = pd.concat(ports,axis=1)\n",
    "ports.columns = [f'port {c}' for c in ports.columns]\n"
   ]
  },
  {
   "cell_type": "code",
   "execution_count": 239,
   "metadata": {},
   "outputs": [],
   "source": [
    "# devuelve un dataframe como metricas de desempeño y riesgo de los portafolios.\n",
    "df = backt.pmetrics(ports,r.COCASH,bench=0)"
   ]
  },
  {
   "cell_type": "code",
   "execution_count": 240,
   "metadata": {},
   "outputs": [
    {
     "data": {
      "text/html": [
       "<div>\n",
       "<style scoped>\n",
       "    .dataframe tbody tr th:only-of-type {\n",
       "        vertical-align: middle;\n",
       "    }\n",
       "\n",
       "    .dataframe tbody tr th {\n",
       "        vertical-align: top;\n",
       "    }\n",
       "\n",
       "    .dataframe thead th {\n",
       "        text-align: right;\n",
       "    }\n",
       "</style>\n",
       "<table border=\"1\" class=\"dataframe\">\n",
       "  <thead>\n",
       "    <tr style=\"text-align: right;\">\n",
       "      <th></th>\n",
       "      <th>port 0</th>\n",
       "      <th>port 1</th>\n",
       "      <th>port 2</th>\n",
       "      <th>port 3</th>\n",
       "      <th>port 4</th>\n",
       "    </tr>\n",
       "  </thead>\n",
       "  <tbody>\n",
       "    <tr>\n",
       "      <th>ret</th>\n",
       "      <td>30.040</td>\n",
       "      <td>35.097</td>\n",
       "      <td>40.909</td>\n",
       "      <td>24.390</td>\n",
       "      <td>51.623</td>\n",
       "    </tr>\n",
       "    <tr>\n",
       "      <th>retm</th>\n",
       "      <td>0.464</td>\n",
       "      <td>0.535</td>\n",
       "      <td>0.602</td>\n",
       "      <td>0.391</td>\n",
       "      <td>0.730</td>\n",
       "    </tr>\n",
       "    <tr>\n",
       "      <th>volm</th>\n",
       "      <td>2.176</td>\n",
       "      <td>2.758</td>\n",
       "      <td>2.466</td>\n",
       "      <td>2.336</td>\n",
       "      <td>2.365</td>\n",
       "    </tr>\n",
       "    <tr>\n",
       "      <th>sharpe</th>\n",
       "      <td>-0.021</td>\n",
       "      <td>0.009</td>\n",
       "      <td>0.037</td>\n",
       "      <td>-0.051</td>\n",
       "      <td>0.093</td>\n",
       "    </tr>\n",
       "    <tr>\n",
       "      <th>mdd</th>\n",
       "      <td>-16.963</td>\n",
       "      <td>-17.153</td>\n",
       "      <td>-15.062</td>\n",
       "      <td>-14.068</td>\n",
       "      <td>-16.102</td>\n",
       "    </tr>\n",
       "    <tr>\n",
       "      <th>etg/etl</th>\n",
       "      <td>1.253</td>\n",
       "      <td>1.105</td>\n",
       "      <td>1.472</td>\n",
       "      <td>1.502</td>\n",
       "      <td>1.527</td>\n",
       "    </tr>\n",
       "    <tr>\n",
       "      <th>downdev</th>\n",
       "      <td>2.032</td>\n",
       "      <td>2.557</td>\n",
       "      <td>2.032</td>\n",
       "      <td>1.942</td>\n",
       "      <td>2.346</td>\n",
       "    </tr>\n",
       "    <tr>\n",
       "      <th>sortino</th>\n",
       "      <td>0.228</td>\n",
       "      <td>0.209</td>\n",
       "      <td>0.296</td>\n",
       "      <td>0.202</td>\n",
       "      <td>0.311</td>\n",
       "    </tr>\n",
       "  </tbody>\n",
       "</table>\n",
       "</div>"
      ],
      "text/plain": [
       "         port 0  port 1  port 2  port 3  port 4\n",
       "ret      30.040  35.097  40.909  24.390  51.623\n",
       "retm      0.464   0.535   0.602   0.391   0.730\n",
       "volm      2.176   2.758   2.466   2.336   2.365\n",
       "sharpe   -0.021   0.009   0.037  -0.051   0.093\n",
       "mdd     -16.963 -17.153 -15.062 -14.068 -16.102\n",
       "etg/etl   1.253   1.105   1.472   1.502   1.527\n",
       "downdev   2.032   2.557   2.032   1.942   2.346\n",
       "sortino   0.228   0.209   0.296   0.202   0.311"
      ]
     },
     "execution_count": 240,
     "metadata": {},
     "output_type": "execute_result"
    }
   ],
   "source": [
    "#un ejemplo de dataframe comparativo en metricas de portafolio. \n",
    "df.round(3)"
   ]
  }
 ],
 "metadata": {
  "kernelspec": {
   "display_name": "Python 3",
   "language": "python",
   "name": "python3"
  },
  "language_info": {
   "codemirror_mode": {
    "name": "ipython",
    "version": 3
   },
   "file_extension": ".py",
   "mimetype": "text/x-python",
   "name": "python",
   "nbconvert_exporter": "python",
   "pygments_lexer": "ipython3",
   "version": "3.11.7"
  }
 },
 "nbformat": 4,
 "nbformat_minor": 2
}
