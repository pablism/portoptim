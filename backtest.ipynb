{
 "cells": [
  {
   "cell_type": "code",
   "execution_count": 19,
   "metadata": {},
   "outputs": [],
   "source": [
    "import pandas as pd\n",
    "import numpy as np\n",
    "from mystuff import bdp,bdh\n",
    "import datetime\n",
    "import funciones_optim\n",
    "from importlib import reload\n",
    "reload(funciones_optim)\n",
    "from funciones_optim import backt"
   ]
  },
  {
   "cell_type": "code",
   "execution_count": 32,
   "metadata": {},
   "outputs": [],
   "source": [
    "# carga precios de bloomberg \n",
    "p = backt.loadprices(20171231)"
   ]
  },
  {
   "cell_type": "code",
   "execution_count": 33,
   "metadata": {},
   "outputs": [],
   "source": [
    "#calculo de retornos para cada asset class\n",
    "rt = p.apply(backt.rt,args=[p],axis=0).drop(['USCASH'],axis=1)\n",
    "rt = rt.loc[:,['SPX','EEM','XAU','USTTEN','COCASH','USDCOP']]\n",
    "r = rt.drop(['COCASH'],axis=1)"
   ]
  },
  {
   "cell_type": "code",
   "execution_count": 34,
   "metadata": {},
   "outputs": [],
   "source": [
    "#rango de fechas donde se va a hacer el backtesting\n",
    "sdate = datetime.datetime(2019,1,31)\n",
    "fdate = datetime.datetime(2023,12,31)\n",
    "\n",
    "#Ejemplo de un portafolio equally weighted que rebalancea mensualmente y vuelve siempre al vector inicial\n",
    "w = np.ones(5)*0.20\n",
    "rdates =pd.date_range(sdate,fdate)\n",
    "rbw = pd.DataFrame(np.tile(w,(len(rdates),1)),index=rdates).resample('M').last()\n",
    "wp,rp = backt.portr(r,sdate,fdate,w,rebal=False)"
   ]
  },
  {
   "cell_type": "code",
   "execution_count": 35,
   "metadata": {},
   "outputs": [],
   "source": [
    "# ejemplo de 5 portafolios con rebalanceos mensuales a recomendaciones ( en este caso los w son generados aleateoriamente como proxy de un modelo)\n",
    "# wi es el vector inicial del modelo\n",
    "# rbw contiene los vectores recomendacion mensuales\n",
    "ports=[]\n",
    "for _ in range(5):\n",
    "    wx = pd.DataFrame(np.random.rand(5,len(rbw)))\n",
    "    wx = wx/wx.iloc[:-1,:].sum()\n",
    "    wx = wx.transpose()\n",
    "    wx.index = rbw.index\n",
    "    wi = np.random.rand(5)\n",
    "    wi = wi/sum(wi[:-1])\n",
    "    w_,r_ = backt.portr(r,sdate,fdate,wi,rebal=True,rbw=wx)\n",
    "    ports.append(r_)\n",
    "ports = pd.concat(ports,axis=1)\n",
    "ports.columns = [f'port {c}' for c in ports.columns]\n"
   ]
  },
  {
   "cell_type": "code",
   "execution_count": 36,
   "metadata": {},
   "outputs": [],
   "source": [
    "# devuelve un dataframe como metricas de desempeño y riesgo de los portafolios.\n",
    "df = backt.pmetrics(ports,rt.COCASH,bench=0)"
   ]
  },
  {
   "cell_type": "code",
   "execution_count": 43,
   "metadata": {},
   "outputs": [
    {
     "data": {
      "text/html": [
       "<div>\n",
       "<style scoped>\n",
       "    .dataframe tbody tr th:only-of-type {\n",
       "        vertical-align: middle;\n",
       "    }\n",
       "\n",
       "    .dataframe tbody tr th {\n",
       "        vertical-align: top;\n",
       "    }\n",
       "\n",
       "    .dataframe thead th {\n",
       "        text-align: right;\n",
       "    }\n",
       "</style>\n",
       "<table border=\"1\" class=\"dataframe\">\n",
       "  <thead>\n",
       "    <tr style=\"text-align: right;\">\n",
       "      <th></th>\n",
       "      <th>port 0</th>\n",
       "      <th>port 1</th>\n",
       "      <th>port 2</th>\n",
       "      <th>port 3</th>\n",
       "      <th>port 4</th>\n",
       "    </tr>\n",
       "  </thead>\n",
       "  <tbody>\n",
       "    <tr>\n",
       "      <th>ret</th>\n",
       "      <td>33.518</td>\n",
       "      <td>44.048</td>\n",
       "      <td>37.925</td>\n",
       "      <td>51.838</td>\n",
       "      <td>37.444</td>\n",
       "    </tr>\n",
       "    <tr>\n",
       "      <th>retm</th>\n",
       "      <td>0.532</td>\n",
       "      <td>0.651</td>\n",
       "      <td>0.580</td>\n",
       "      <td>0.742</td>\n",
       "      <td>0.577</td>\n",
       "    </tr>\n",
       "    <tr>\n",
       "      <th>volm</th>\n",
       "      <td>11.029</td>\n",
       "      <td>9.970</td>\n",
       "      <td>10.250</td>\n",
       "      <td>10.374</td>\n",
       "      <td>10.607</td>\n",
       "    </tr>\n",
       "    <tr>\n",
       "      <th>sharpe</th>\n",
       "      <td>0.002</td>\n",
       "      <td>0.014</td>\n",
       "      <td>0.007</td>\n",
       "      <td>0.022</td>\n",
       "      <td>0.006</td>\n",
       "    </tr>\n",
       "    <tr>\n",
       "      <th>mdd</th>\n",
       "      <td>-18.432</td>\n",
       "      <td>-19.123</td>\n",
       "      <td>-19.786</td>\n",
       "      <td>-14.212</td>\n",
       "      <td>-21.250</td>\n",
       "    </tr>\n",
       "    <tr>\n",
       "      <th>etg/etl</th>\n",
       "      <td>1.408</td>\n",
       "      <td>1.217</td>\n",
       "      <td>1.401</td>\n",
       "      <td>1.355</td>\n",
       "      <td>1.164</td>\n",
       "    </tr>\n",
       "    <tr>\n",
       "      <th>downdev</th>\n",
       "      <td>2.810</td>\n",
       "      <td>2.565</td>\n",
       "      <td>2.619</td>\n",
       "      <td>2.620</td>\n",
       "      <td>2.457</td>\n",
       "    </tr>\n",
       "    <tr>\n",
       "      <th>sortino</th>\n",
       "      <td>0.189</td>\n",
       "      <td>0.254</td>\n",
       "      <td>0.221</td>\n",
       "      <td>0.283</td>\n",
       "      <td>0.235</td>\n",
       "    </tr>\n",
       "  </tbody>\n",
       "</table>\n",
       "</div>"
      ],
      "text/plain": [
       "         port 0  port 1  port 2  port 3  port 4\n",
       "ret      33.518  44.048  37.925  51.838  37.444\n",
       "retm      0.532   0.651   0.580   0.742   0.577\n",
       "volm     11.029   9.970  10.250  10.374  10.607\n",
       "sharpe    0.002   0.014   0.007   0.022   0.006\n",
       "mdd     -18.432 -19.123 -19.786 -14.212 -21.250\n",
       "etg/etl   1.408   1.217   1.401   1.355   1.164\n",
       "downdev   2.810   2.565   2.619   2.620   2.457\n",
       "sortino   0.189   0.254   0.221   0.283   0.235"
      ]
     },
     "execution_count": 43,
     "metadata": {},
     "output_type": "execute_result"
    }
   ],
   "source": [
    "#un ejemplo de dataframe comparativo en metricas de portafolio. \n",
    "df.round(3)\n",
    "#ports.add(1).apply(np.log).cumsum().apply(np.exp).mul(100).plot()"
   ]
  }
 ],
 "metadata": {
  "kernelspec": {
   "display_name": "Python 3",
   "language": "python",
   "name": "python3"
  },
  "language_info": {
   "codemirror_mode": {
    "name": "ipython",
    "version": 3
   },
   "file_extension": ".py",
   "mimetype": "text/x-python",
   "name": "python",
   "nbconvert_exporter": "python",
   "pygments_lexer": "ipython3",
   "version": "3.11.7"
  }
 },
 "nbformat": 4,
 "nbformat_minor": 2
}
